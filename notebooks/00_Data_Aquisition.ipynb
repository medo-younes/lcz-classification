{
 "cells": [
  {
   "cell_type": "markdown",
   "id": "feb6af3f",
   "metadata": {},
   "source": [
    "# **Data Aquistion**\n",
    "\n",
    "\n",
    "This notebook downloads the required data for state-of-the-art LCZ Classification:\n",
    "\n",
    "1. Setup the project by defining the city of interest\n",
    "2. City boundary polygon download from OpenStreetMap \n",
    "3. Sentinel-2 imagery download using AWS S3\n",
    "4. ALOS DSM 30m download from Google Earth Engine\n",
    "5. Impervious Surface Area download from Google Earth Engine \n",
    "6. Tree Canopy Height download from Google Earth Engine\n",
    "7. Building Height download from NRCan"
   ]
  },
  {
   "cell_type": "markdown",
   "id": "4ee37c72",
   "metadata": {},
   "source": [
    "## **1. Project Setup**\n",
    "\n",
    "\n",
    "This code block imports the necessery Python libraries"
   ]
  },
  {
   "cell_type": "markdown",
   "id": "57ed3d2b",
   "metadata": {},
   "source": [
    "### 1.1. Import Libraries"
   ]
  },
  {
   "cell_type": "code",
   "execution_count": 2,
   "id": "ad0df9e2",
   "metadata": {},
   "outputs": [
    {
     "data": {
      "text/html": [
       "\n",
       "            <style>\n",
       "                .geemap-dark {\n",
       "                    --jp-widgets-color: white;\n",
       "                    --jp-widgets-label-color: white;\n",
       "                    --jp-ui-font-color1: white;\n",
       "                    --jp-layout-color2: #454545;\n",
       "                    background-color: #383838;\n",
       "                }\n",
       "\n",
       "                .geemap-dark .jupyter-button {\n",
       "                    --jp-layout-color3: #383838;\n",
       "                }\n",
       "\n",
       "                .geemap-colab {\n",
       "                    background-color: var(--colab-primary-surface-color, white);\n",
       "                }\n",
       "\n",
       "                .geemap-colab .jupyter-button {\n",
       "                    --jp-layout-color3: var(--colab-primary-surface-color, white);\n",
       "                }\n",
       "            </style>\n",
       "            "
      ],
      "text/plain": [
       "<IPython.core.display.HTML object>"
      ]
     },
     "metadata": {},
     "output_type": "display_data"
    },
    {
     "name": "stdout",
     "output_type": "stream",
     "text": [
      "The autoreload extension is already loaded. To reload it, use:\n",
      "  %reload_ext autoreload\n"
     ]
    }
   ],
   "source": [
    "%load_ext autoreload\n",
    "%autoreload \n",
    "\n",
    "import sys\n",
    "import os\n",
    "\n",
    "# Add the module's parent directory to sys.path\n",
    "module_path = os.path.abspath(os.path.join('..'))\n",
    "if module_path not in sys.path:\n",
    "    sys.path.append(module_path)\n",
    "\n",
    "from lcz_classification.config import  *\n",
    "from lcz_classification.dataset import get_matching_scenes, download_tiles, ee_download, fetch_metadata\n",
    "from lcz_classification.util import tiles_from_bbox\n",
    "import geopandas as gpd\n",
    "import matplotlib.pyplot as plt\n",
    "import ee\n",
    "import numpy as np\n",
    "import pandas as pd\n"
   ]
  },
  {
   "cell_type": "markdown",
   "id": "26058b10",
   "metadata": {},
   "source": [
    "#### 1.2. Setup Directories"
   ]
  },
  {
   "cell_type": "code",
   "execution_count": 141,
   "id": "a75bd37b",
   "metadata": {},
   "outputs": [
    {
     "data": {
      "text/html": [
       "\n",
       "            <style>\n",
       "                .geemap-dark {\n",
       "                    --jp-widgets-color: white;\n",
       "                    --jp-widgets-label-color: white;\n",
       "                    --jp-ui-font-color1: white;\n",
       "                    --jp-layout-color2: #454545;\n",
       "                    background-color: #383838;\n",
       "                }\n",
       "\n",
       "                .geemap-dark .jupyter-button {\n",
       "                    --jp-layout-color3: #383838;\n",
       "                }\n",
       "\n",
       "                .geemap-colab {\n",
       "                    background-color: var(--colab-primary-surface-color, white);\n",
       "                }\n",
       "\n",
       "                .geemap-colab .jupyter-button {\n",
       "                    --jp-layout-color3: var(--colab-primary-surface-color, white);\n",
       "                }\n",
       "            </style>\n",
       "            "
      ],
      "text/plain": [
       "<IPython.core.display.HTML object>"
      ]
     },
     "metadata": {},
     "output_type": "display_data"
    }
   ],
   "source": [
    "\n",
    "study_area=fetch_metadata('STUDY_AREA')\n",
    "bounds=list(study_area.total_bounds)\n",
    "\n",
    "s2_tiles=fetch_metadata('S2_TILES')\n",
    "\n",
    "tiles_gdf=tiles_from_bbox(bounds, tile_dims=(2,2)).sort_values('tile_id')"
   ]
  },
  {
   "cell_type": "markdown",
   "id": "d1385148",
   "metadata": {},
   "source": [
    "# 2.1. Get Study Area"
   ]
  },
  {
   "cell_type": "code",
   "execution_count": null,
   "id": "a59fd93b",
   "metadata": {},
   "outputs": [],
   "source": [
    "study_area.explore(\n",
    "                style=dict(\n",
    "                    fill = False,\n",
    "                    color='red'\n",
    "                ),\n",
    ")"
   ]
  },
  {
   "cell_type": "markdown",
   "id": "7047651f",
   "metadata": {},
   "source": [
    "### 1.3 Authenticate Google Earth Engine"
   ]
  },
  {
   "cell_type": "code",
   "execution_count": 8,
   "id": "5e1fff05",
   "metadata": {},
   "outputs": [
    {
     "data": {
      "text/html": [
       "\n",
       "            <style>\n",
       "                .geemap-dark {\n",
       "                    --jp-widgets-color: white;\n",
       "                    --jp-widgets-label-color: white;\n",
       "                    --jp-ui-font-color1: white;\n",
       "                    --jp-layout-color2: #454545;\n",
       "                    background-color: #383838;\n",
       "                }\n",
       "\n",
       "                .geemap-dark .jupyter-button {\n",
       "                    --jp-layout-color3: #383838;\n",
       "                }\n",
       "\n",
       "                .geemap-colab {\n",
       "                    background-color: var(--colab-primary-surface-color, white);\n",
       "                }\n",
       "\n",
       "                .geemap-colab .jupyter-button {\n",
       "                    --jp-layout-color3: var(--colab-primary-surface-color, white);\n",
       "                }\n",
       "            </style>\n",
       "            "
      ],
      "text/plain": [
       "<IPython.core.display.HTML object>"
      ]
     },
     "metadata": {},
     "output_type": "display_data"
    }
   ],
   "source": [
    "if ee.Authenticate() == True:\n",
    "    ee.Initialize(project=EE_PROJECT_NAME)    \n",
    "else:\n",
    "    ee.Authenticate(force = True)\n",
    "    ee.Initialize(project=EE_PROJECT_NAME)    "
   ]
  },
  {
   "cell_type": "markdown",
   "id": "df87a91e",
   "metadata": {},
   "source": [
    "# **3. Sentinel-2 Download**\n",
    "\n",
    "Using download_tiles function, Sentinel-2 data is downloaded from the AWS S3 Bucket using boto3. The city boundary polygon and data range are used to derive matching scenes withiin the sentinel-2 database.\n",
    "\n",
    "https://registry.opendata.aws/sentinel-2/\n"
   ]
  },
  {
   "cell_type": "code",
   "execution_count": null,
   "id": "5f914e7d",
   "metadata": {},
   "outputs": [
    {
     "data": {
      "text/html": [
       "\n",
       "            <style>\n",
       "                .geemap-dark {\n",
       "                    --jp-widgets-color: white;\n",
       "                    --jp-widgets-label-color: white;\n",
       "                    --jp-ui-font-color1: white;\n",
       "                    --jp-layout-color2: #454545;\n",
       "                    background-color: #383838;\n",
       "                }\n",
       "\n",
       "                .geemap-dark .jupyter-button {\n",
       "                    --jp-layout-color3: #383838;\n",
       "                }\n",
       "\n",
       "                .geemap-colab {\n",
       "                    background-color: var(--colab-primary-surface-color, white);\n",
       "                }\n",
       "\n",
       "                .geemap-colab .jupyter-button {\n",
       "                    --jp-layout-color3: var(--colab-primary-surface-color, white);\n",
       "                }\n",
       "            </style>\n",
       "            "
      ],
      "text/plain": [
       "<IPython.core.display.HTML object>"
      ]
     },
     "metadata": {},
     "output_type": "display_data"
    }
   ],
   "source": [
    "def mask_s2_clouds(image):\n",
    "  \"\"\"Masks clouds in a Sentinel-2 image using the QA band.\n",
    "\n",
    "  Args:\n",
    "      image (ee.Image): A Sentinel-2 image.\n",
    "\n",
    "  Returns:\n",
    "      ee.Image: A cloud-masked Sentinel-2 image.\n",
    "  \"\"\"\n",
    "  qa = image.select('QA60')\n",
    "\n",
    "  # Bits 10 and 11 are clouds and cirrus, respectively.\n",
    "  cloud_bit_mask = 1 << 10\n",
    "  cirrus_bit_mask = 1 << 11\n",
    "\n",
    "  # Both flags should be set to zero, indicating clear conditions.\n",
    "  mask = (\n",
    "      qa.bitwiseAnd(cloud_bit_mask)\n",
    "      .eq(0)\n",
    "      .And(qa.bitwiseAnd(cirrus_bit_mask).eq(0))\n",
    "  )\n",
    "\n",
    "  return image.updateMask(mask).divide(10000)\n",
    "\n",
    "\n",
    "# Function to get least-cloudy image for one tile\n",
    "# Function to get least-cloudy image for one tile\n",
    "def get_least_cloudy(col,tile_id):\n",
    "    filtered = (\n",
    "        col\n",
    "        .filter(ee.Filter.eq('MGRS_TILE', tile_id))\n",
    "        .sort('CLOUDY_PIXEL_PERCENTAGE')  # least cloudy first\n",
    "    )\n",
    "    return ee.Image(filtered.first())\n",
    "    \n"
   ]
  },
  {
   "cell_type": "code",
   "execution_count": null,
   "id": "4992cd59",
   "metadata": {},
   "outputs": [
    {
     "data": {
      "text/html": [
       "\n",
       "            <style>\n",
       "                .geemap-dark {\n",
       "                    --jp-widgets-color: white;\n",
       "                    --jp-widgets-label-color: white;\n",
       "                    --jp-ui-font-color1: white;\n",
       "                    --jp-layout-color2: #454545;\n",
       "                    background-color: #383838;\n",
       "                }\n",
       "\n",
       "                .geemap-dark .jupyter-button {\n",
       "                    --jp-layout-color3: #383838;\n",
       "                }\n",
       "\n",
       "                .geemap-colab {\n",
       "                    background-color: var(--colab-primary-surface-color, white);\n",
       "                }\n",
       "\n",
       "                .geemap-colab .jupyter-button {\n",
       "                    --jp-layout-color3: var(--colab-primary-surface-color, white);\n",
       "                }\n",
       "            </style>\n",
       "            "
      ],
      "text/plain": [
       "<IPython.core.display.HTML object>"
      ]
     },
     "metadata": {},
     "output_type": "display_data"
    },
    {
     "name": "stdout",
     "output_type": "stream",
     "text": [
      "Retrieving ImageCollection for Tile A2\n",
      "===================================================\n",
      "- Number of Features: 30\n",
      "- Lowest Cloud Percentage in Image 20210824T160829_20210824T161729_T17TNH : 16.3%\n",
      "- Lowest Cloud Percentage in Image 20210824T160829_20210824T161729_T17TNJ : 28.9%\n",
      "- Lowest Cloud Percentage in Image 20210824T160829_20210824T161729_T17TPH : 162.2%\n",
      "- Lowest Cloud Percentage in Image 20210824T160829_20210824T161729_T17TPJ : 29.5%\n",
      "Downloading Images for Tile: A2\n",
      "- GeoTIFF for Tile A2 Band B02 already downloaded\n",
      "- GeoTIFF for Tile A2 Band B03 already downloaded\n",
      "- GeoTIFF for Tile A2 Band B04 already downloaded\n",
      "- GeoTIFF for Tile A2 Band B05 already downloaded\n",
      "- GeoTIFF for Tile A2 Band B06 already downloaded\n",
      "- GeoTIFF for Tile A2 Band B07 already downloaded\n",
      "- Downloading ee.Image for tile A2 and Band B8A\n",
      "Generating URL ...\n",
      "Downloading data from https://earthengine.googleapis.com/v1/projects/ee-geoai-medo/thumbnails/534bef60d1ce66ad88003e195227d8da-ff74ee00bcd6a89a28693c643d2c5f6a:getPixels\n",
      "Please wait ...\n",
      "Data downloaded to d:\\GeoAI\\projects\\LCZ_Classification\\data\\toronto\\raw\\sentinel2\\TA2\\B8A.tif\n",
      "- Downloading ee.Image for tile A2 and Band B11\n",
      "Generating URL ...\n",
      "Downloading data from https://earthengine.googleapis.com/v1/projects/ee-geoai-medo/thumbnails/2a4f41dfb5dee6ee59fd71794f1a8c32-3cc73b70bea65b95c3d50ce8ce24b8f4:getPixels\n",
      "Please wait ...\n",
      "Data downloaded to d:\\GeoAI\\projects\\LCZ_Classification\\data\\toronto\\raw\\sentinel2\\TA2\\B11.tif\n",
      "- Downloading ee.Image for tile A2 and Band B12\n",
      "Generating URL ...\n",
      "Downloading data from https://earthengine.googleapis.com/v1/projects/ee-geoai-medo/thumbnails/97f3cbe04d07ecb9419d597ac0f08ebd-03e63fd098133cbed46901f7f9cc3b88:getPixels\n",
      "Please wait ...\n",
      "Data downloaded to d:\\GeoAI\\projects\\LCZ_Classification\\data\\toronto\\raw\\sentinel2\\TA2\\B12.tif\n",
      "===================================================\n"
     ]
    }
   ],
   "source": [
    "import geemap\n",
    "\n",
    "def ee_least_cloudy(col, bbox_geom):\n",
    "        least_cloudy_images=list()\n",
    "        ee_tile_ids=sorted(col.aggregate_array('MGRS_TILE').distinct().getInfo())\n",
    "        least_cloudy_images=list()\n",
    "\n",
    "        for ee_tile in ee_tile_ids:\n",
    "            \n",
    "            tile_filter=ee.Filter.eq('MGRS_TILE',ee_tile)\n",
    "            tile_cloud_percentages=col.filter(tile_filter).aggregate_array('CLOUDY_PIXEL_PERCENTAGE').getInfo()\n",
    "            least_cloudy_val = min(tile_cloud_percentages)\n",
    "            least_cloudy_image=col.filter(tile_filter).filter(ee.Filter.eq('CLOUDY_PIXEL_PERCENTAGE', least_cloudy_val)).first().clip(bbox_geom)\n",
    "            image_id = least_cloudy_image.getInfo()['id']\n",
    "            print(f\"- Lowest Cloud Percentage in Image {image_id.split('/')[-1]} : {round(least_cloudy_val * 100, 1)}%\")\n",
    "\n",
    "            least_cloudy_images.append(least_cloudy_image)\n",
    "\n",
    "\n",
    "        return ee.ImageCollection(ee.List(least_cloudy_images))\n",
    "\n",
    "\n",
    "# iterate throught tile geometries generated with tiles_from_bbox()\n",
    "for idx, tile in tiles_gdf.iloc.iterrows():\n",
    "\n",
    "     tile_id = tile.tile_id\n",
    "     print(f\"Retrieving ImageCollection for Tile {tile_id}\")\n",
    "     print(f\"===================================================\")\n",
    "     ee_geom= ee.Geometry.Rectangle(tile.geometry.bounds)\n",
    "     START_DATE , END_DATE= ('2021-08-01' , '2021-08-30')\n",
    "\n",
    "     # Get ImageCollection filtered by date range, cloud percentage and first tile\n",
    "     col=(ee.ImageCollection('COPERNICUS/S2_SR_HARMONIZED')\n",
    "          .filterBounds(ee_geom)\n",
    "          .filterDate(START_DATE, END_DATE)\n",
    "          )\n",
    "     \n",
    "     features = col.getInfo()['features']\n",
    "     print(f\"- Number of Features: {len(features)}\")\n",
    "     # Retrieve Least Cloudy Images from the Collection\n",
    "     least_cloudy_col = ee_least_cloudy(col, ee_geom)\n",
    "\n",
    "     # Mosaic Images of Least Cloudy Collection and Clip to Bounds     \n",
    "     image=ee.Image(least_cloudy_col.mosaic())\n",
    "     # image = mask_s2_clouds(image)\n",
    "     \n",
    "     # Get Matching Tile IDs\n",
    "     # break\n",
    "     print(f'Downloading Images for Tile: {tile_id}')\n",
    "     # Iterate through target S2 bands and export\n",
    "     for band in S2_TARGET_BANDS:\n",
    "          out_dir = f\"{S2_RAW}/T{tile_id}\"\n",
    "          filename=f\"{out_dir}/{band}.tif\"\n",
    "          if os.path.exists(out_dir) == False:\n",
    "               os.mkdir(out_dir)\n",
    "               \n",
    "          if os.path.exists(filename) == False:\n",
    "               print(f\"- Downloading ee.Image for tile {tile_id} and Band {band}\")\n",
    "               ee_band=band.replace('0','')\n",
    "               # Export Image using geemap\n",
    "               geemap.ee_export_image(\n",
    "                         image.select(ee_band),\n",
    "                         filename=filename,\n",
    "                         scale=CELL_RESOLUTION,\n",
    "                         file_per_band=False,\n",
    "                         crs='EPSG:4326', \n",
    "                         region = ee_geom\n",
    "                    )\n",
    "          else:\n",
    "               print(f\"- GeoTIFF for Tile {tile_id} Band {band} already downloaded\")\n",
    "\n",
    "     print(f\"===================================================\")\n",
    "     "
   ]
  },
  {
   "cell_type": "code",
   "execution_count": 273,
   "id": "1f751920",
   "metadata": {},
   "outputs": [
    {
     "data": {
      "text/html": [
       "\n",
       "            <style>\n",
       "                .geemap-dark {\n",
       "                    --jp-widgets-color: white;\n",
       "                    --jp-widgets-label-color: white;\n",
       "                    --jp-ui-font-color1: white;\n",
       "                    --jp-layout-color2: #454545;\n",
       "                    background-color: #383838;\n",
       "                }\n",
       "\n",
       "                .geemap-dark .jupyter-button {\n",
       "                    --jp-layout-color3: #383838;\n",
       "                }\n",
       "\n",
       "                .geemap-colab {\n",
       "                    background-color: var(--colab-primary-surface-color, white);\n",
       "                }\n",
       "\n",
       "                .geemap-colab .jupyter-button {\n",
       "                    --jp-layout-color3: var(--colab-primary-surface-color, white);\n",
       "                }\n",
       "            </style>\n",
       "            "
      ],
      "text/plain": [
       "<IPython.core.display.HTML object>"
      ]
     },
     "metadata": {},
     "output_type": "display_data"
    },
    {
     "data": {
      "application/vnd.jupyter.widget-view+json": {
       "model_id": "16a848dedba34264a0a24c76293f5733",
       "version_major": 2,
       "version_minor": 0
      },
      "text/plain": [
       "Map(center=[43.54101885777565, -79.79510090012732], controls=(WidgetControl(options=['position', 'transparent_…"
      ]
     },
     "execution_count": 273,
     "metadata": {},
     "output_type": "execute_result"
    }
   ],
   "source": [
    "\n",
    "# Select bands for visualization (e.g., RGB)\n",
    "vis_params = {\n",
    "    'min': 0,\n",
    "    'max': 3000,\n",
    "    'bands': ['B4', 'B3', 'B2'],  # RGB\n",
    "}\n",
    "\n",
    "# Create an interactive map\n",
    "x,y = ee_geom.centroid().getInfo()['coordinates']\n",
    "Map = geemap.Map(center=(y,x), zoom=10)\n",
    "Map.addLayer(image, vis_params, 'Sentinel-2 RGB')\n",
    "Map.addLayer(ee_geom, {}, 'AOI')\n",
    "Map"
   ]
  },
  {
   "cell_type": "markdown",
   "id": "050fd55c",
   "metadata": {},
   "source": [
    "## **4. DSM from ALOS 30m**"
   ]
  },
  {
   "cell_type": "code",
   "execution_count": null,
   "id": "56be7a41",
   "metadata": {},
   "outputs": [
    {
     "data": {
      "text/html": [
       "\n",
       "            <style>\n",
       "                .geemap-dark {\n",
       "                    --jp-widgets-color: white;\n",
       "                    --jp-widgets-label-color: white;\n",
       "                    --jp-ui-font-color1: white;\n",
       "                    --jp-layout-color2: #454545;\n",
       "                    background-color: #383838;\n",
       "                }\n",
       "\n",
       "                .geemap-dark .jupyter-button {\n",
       "                    --jp-layout-color3: #383838;\n",
       "                }\n",
       "\n",
       "                .geemap-colab {\n",
       "                    background-color: var(--colab-primary-surface-color, white);\n",
       "                }\n",
       "\n",
       "                .geemap-colab .jupyter-button {\n",
       "                    --jp-layout-color3: var(--colab-primary-surface-color, white);\n",
       "                }\n",
       "            </style>\n",
       "            "
      ],
      "text/plain": [
       "<IPython.core.display.HTML object>"
      ]
     },
     "metadata": {},
     "output_type": "display_data"
    },
    {
     "name": "stdout",
     "output_type": "stream",
     "text": [
      "The autoreload extension is already loaded. To reload it, use:\n",
      "  %reload_ext autoreload\n",
      "IMAGE_COLLECTION\n",
      "Downloading N043W079 tile A1\n",
      "Generating URL ...\n",
      "Downloading data from https://earthengine.googleapis.com/v1/projects/21883930632/thumbnails/4622a92094707fda499f363bad4c39b0-32c1ff5ae10acd60e5ac2bf4ce4a78e5:getPixels\n",
      "Please wait ...\n",
      "Data downloaded to d:\\GeoAI\\projects\\LCZ_Classification\\data\\toronto\\raw\\alos_dsm_30m\\N043W079_DSM_A1.tif\n",
      "Downloading N043W079 tile B1\n",
      "Generating URL ...\n",
      "Downloading data from https://earthengine.googleapis.com/v1/projects/21883930632/thumbnails/8cd2736fc5369baf19c48dca1132d32b-15b70f6b32f7f2a6bcc06c07a2b61351:getPixels\n",
      "Please wait ...\n",
      "Data downloaded to d:\\GeoAI\\projects\\LCZ_Classification\\data\\toronto\\raw\\alos_dsm_30m\\N043W079_DSM_B1.tif\n",
      "Downloading N043W080 tile A1\n",
      "Generating URL ...\n",
      "Downloading data from https://earthengine.googleapis.com/v1/projects/21883930632/thumbnails/ee51f95d4d4f6e309d2308ce4763f37c-b18ddc5139f82096a748f5a518ada511:getPixels\n",
      "Please wait ...\n",
      "Data downloaded to d:\\GeoAI\\projects\\LCZ_Classification\\data\\toronto\\raw\\alos_dsm_30m\\N043W080_DSM_A1.tif\n",
      "Downloading N043W080 tile B1\n",
      "Generating URL ...\n",
      "Downloading data from https://earthengine.googleapis.com/v1/projects/21883930632/thumbnails/49533450a870f07af0aca64bb248aefa-d59a0d3bffe5a19fd2e4d6aaa93fea9c:getPixels\n",
      "Please wait ...\n",
      "Data downloaded to d:\\GeoAI\\projects\\LCZ_Classification\\data\\toronto\\raw\\alos_dsm_30m\\N043W080_DSM_B1.tif\n",
      "Downloading N043W081 tile A1\n",
      "Generating URL ...\n",
      "Downloading data from https://earthengine.googleapis.com/v1/projects/21883930632/thumbnails/bc292b4bb7fb650f3d62bb9d476dae0f-da1d6b3ad4ade808e69acaf91c03fd3e:getPixels\n",
      "Please wait ...\n",
      "Data downloaded to d:\\GeoAI\\projects\\LCZ_Classification\\data\\toronto\\raw\\alos_dsm_30m\\N043W081_DSM_A1.tif\n",
      "Downloading N043W081 tile B1\n",
      "Generating URL ...\n",
      "Downloading data from https://earthengine.googleapis.com/v1/projects/21883930632/thumbnails/380b69131eb318dca4bf0152a0ce1317-52f44e3453155dd33d984a2b4090edba:getPixels\n",
      "Please wait ...\n",
      "Data downloaded to d:\\GeoAI\\projects\\LCZ_Classification\\data\\toronto\\raw\\alos_dsm_30m\\N043W081_DSM_B1.tif\n",
      "Downloading N044W079 tile A1\n",
      "Generating URL ...\n",
      "Downloading data from https://earthengine.googleapis.com/v1/projects/21883930632/thumbnails/0e37484bc76768c3d31cb73282681d45-4cebe627e383f5890590e4dbb0843bc7:getPixels\n",
      "Please wait ...\n",
      "Data downloaded to d:\\GeoAI\\projects\\LCZ_Classification\\data\\toronto\\raw\\alos_dsm_30m\\N044W079_DSM_A1.tif\n",
      "Downloading N044W079 tile B1\n",
      "Generating URL ...\n",
      "Downloading data from https://earthengine.googleapis.com/v1/projects/21883930632/thumbnails/0407e940dd63812c1c0bc32557ff1bc9-99d91a65d555fe0137fcb7bc1fe4fa60:getPixels\n",
      "Please wait ...\n",
      "Data downloaded to d:\\GeoAI\\projects\\LCZ_Classification\\data\\toronto\\raw\\alos_dsm_30m\\N044W079_DSM_B1.tif\n",
      "Downloading N044W080 tile A1\n",
      "Generating URL ...\n",
      "Downloading data from https://earthengine.googleapis.com/v1/projects/21883930632/thumbnails/e0f7f68f11d77b5b99c30aa5eef02e7e-d5d22b74e0efabb4ad99116546859dd0:getPixels\n",
      "Please wait ...\n",
      "Data downloaded to d:\\GeoAI\\projects\\LCZ_Classification\\data\\toronto\\raw\\alos_dsm_30m\\N044W080_DSM_A1.tif\n",
      "Downloading N044W080 tile B1\n",
      "Generating URL ...\n",
      "Downloading data from https://earthengine.googleapis.com/v1/projects/21883930632/thumbnails/98540ac384b459990d9ac1dda0e5b2bb-f7e8c965196b49f56c678bed7f3fe6db:getPixels\n",
      "Please wait ...\n",
      "Data downloaded to d:\\GeoAI\\projects\\LCZ_Classification\\data\\toronto\\raw\\alos_dsm_30m\\N044W080_DSM_B1.tif\n",
      "Downloading N044W081 tile A1\n",
      "Generating URL ...\n",
      "Downloading data from https://earthengine.googleapis.com/v1/projects/21883930632/thumbnails/095035df0b4018077c42c95af1f6e927-31bec431c0bd857c5b656afd05ab48b0:getPixels\n",
      "Please wait ...\n",
      "Data downloaded to d:\\GeoAI\\projects\\LCZ_Classification\\data\\toronto\\raw\\alos_dsm_30m\\N044W081_DSM_A1.tif\n",
      "Downloading N044W081 tile B1\n",
      "Generating URL ...\n",
      "Downloading data from https://earthengine.googleapis.com/v1/projects/21883930632/thumbnails/b924cc57827e258a79bc232842f65979-a92f3a5bfcff3ff96bdd0fb7829a0580:getPixels\n",
      "Please wait ...\n",
      "Data downloaded to d:\\GeoAI\\projects\\LCZ_Classification\\data\\toronto\\raw\\alos_dsm_30m\\N044W081_DSM_B1.tif\n",
      "EE DOWNLOAD COMPLETE\n"
     ]
    }
   ],
   "source": [
    "# Download ALOS DSM Data from Google Earth Engine\n",
    "\n",
    "ee_download(\n",
    "            asset_id=\"JAXA/ALOS/AW3D30/V3_2\",\n",
    "            bands=[\"DSM\"],\n",
    "            bbox = bounds, \n",
    "            output_dir=DSM_RAW,\n",
    "            scale=CELL_RESOLUTION,\n",
    "            tile_dims=(2,1)\n",
    "            )\n",
    "\n"
   ]
  },
  {
   "cell_type": "markdown",
   "id": "5e99a26c",
   "metadata": {},
   "source": [
    "## **5. Impervious Surface Area**"
   ]
  },
  {
   "cell_type": "code",
   "execution_count": 21,
   "id": "9c6254ff",
   "metadata": {},
   "outputs": [
    {
     "data": {
      "text/html": [
       "\n",
       "            <style>\n",
       "                .geemap-dark {\n",
       "                    --jp-widgets-color: white;\n",
       "                    --jp-widgets-label-color: white;\n",
       "                    --jp-ui-font-color1: white;\n",
       "                    --jp-layout-color2: #454545;\n",
       "                    background-color: #383838;\n",
       "                }\n",
       "\n",
       "                .geemap-dark .jupyter-button {\n",
       "                    --jp-layout-color3: #383838;\n",
       "                }\n",
       "\n",
       "                .geemap-colab {\n",
       "                    background-color: var(--colab-primary-surface-color, white);\n",
       "                }\n",
       "\n",
       "                .geemap-colab .jupyter-button {\n",
       "                    --jp-layout-color3: var(--colab-primary-surface-color, white);\n",
       "                }\n",
       "            </style>\n",
       "            "
      ],
      "text/plain": [
       "<IPython.core.display.HTML object>"
      ]
     },
     "metadata": {},
     "output_type": "display_data"
    },
    {
     "name": "stdout",
     "output_type": "stream",
     "text": [
      "IMAGE\n",
      "Downloading b1 from projects/sat-io/open-datasets/GISD30_1985_2020\n",
      "Generating URL ...\n",
      "An error occurred while downloading.\n",
      "Total request size (74553936 bytes) must be less than or equal to 50331648 bytes.\n"
     ]
    }
   ],
   "source": [
    "# # Download Impervious Surface Area from Google Earth Engine\n",
    "\n",
    "# ee_download(\n",
    "#             asset_id=\"projects/sat-io/open-datasets/GISD30_1985_2020\",\n",
    "#             bands=[\"b1\"],\n",
    "#             bbox =bounds, \n",
    "#             output_dir=IS_RAW,\n",
    "#             scale=CELL_RESOLUTION,\n",
    "#             tile_dims=tile_dims\n",
    "#             )"
   ]
  },
  {
   "cell_type": "markdown",
   "id": "948a20da",
   "metadata": {},
   "source": [
    "## **6. Tree Canopy Height**"
   ]
  },
  {
   "cell_type": "code",
   "execution_count": 26,
   "id": "a0084ab8",
   "metadata": {},
   "outputs": [
    {
     "data": {
      "text/html": [
       "\n",
       "            <style>\n",
       "                .geemap-dark {\n",
       "                    --jp-widgets-color: white;\n",
       "                    --jp-widgets-label-color: white;\n",
       "                    --jp-ui-font-color1: white;\n",
       "                    --jp-layout-color2: #454545;\n",
       "                    background-color: #383838;\n",
       "                }\n",
       "\n",
       "                .geemap-dark .jupyter-button {\n",
       "                    --jp-layout-color3: #383838;\n",
       "                }\n",
       "\n",
       "                .geemap-colab {\n",
       "                    background-color: var(--colab-primary-surface-color, white);\n",
       "                }\n",
       "\n",
       "                .geemap-colab .jupyter-button {\n",
       "                    --jp-layout-color3: var(--colab-primary-surface-color, white);\n",
       "                }\n",
       "            </style>\n",
       "            "
      ],
      "text/plain": [
       "<IPython.core.display.HTML object>"
      ]
     },
     "metadata": {},
     "output_type": "display_data"
    },
    {
     "name": "stdout",
     "output_type": "stream",
     "text": [
      "IMAGE\n",
      "Downloading b1 from users/nlang/ETH_GlobalCanopyHeight_2020_10m_v1\n",
      "Generating URL ...\n",
      "Downloading data from https://earthengine.googleapis.com/v1/projects/21883930632/thumbnails/b588ca1119bb178c8804651c8675ffb6-673df6990c779df706b5cd7143dfae95:getPixels\n",
      "Please wait ...\n",
      "Data downloaded to d:\\GeoAI\\projects\\LCZ_Classification\\data\\toronto\\raw\\canopy_height\\ETH_GlobalCanopyHeight_2020_10m_v1_b1_A4.tif\n",
      "Downloading b1 from users/nlang/ETH_GlobalCanopyHeight_2020_10m_v1\n",
      "Generating URL ...\n",
      "Downloading data from https://earthengine.googleapis.com/v1/projects/21883930632/thumbnails/1f158fa8f18023a8894eeb275dc8fb42-8d215b2be79fb1708f7f89747eff4b88:getPixels\n",
      "Please wait ...\n",
      "Data downloaded to d:\\GeoAI\\projects\\LCZ_Classification\\data\\toronto\\raw\\canopy_height\\ETH_GlobalCanopyHeight_2020_10m_v1_b1_A3.tif\n",
      "Downloading b1 from users/nlang/ETH_GlobalCanopyHeight_2020_10m_v1\n",
      "Generating URL ...\n",
      "Downloading data from https://earthengine.googleapis.com/v1/projects/21883930632/thumbnails/7770e679beb4ff57e241c1f05c6c83a0-ec25300b2f2bb5370edb3dc5d5f22856:getPixels\n",
      "Please wait ...\n",
      "Data downloaded to d:\\GeoAI\\projects\\LCZ_Classification\\data\\toronto\\raw\\canopy_height\\ETH_GlobalCanopyHeight_2020_10m_v1_b1_A2.tif\n",
      "Downloading b1 from users/nlang/ETH_GlobalCanopyHeight_2020_10m_v1\n",
      "Generating URL ...\n",
      "Downloading data from https://earthengine.googleapis.com/v1/projects/21883930632/thumbnails/3471e609d5b62dedc873d987d98f08b5-2e21641d9efd9cef318bbba4e46fe07d:getPixels\n",
      "Please wait ...\n",
      "Data downloaded to d:\\GeoAI\\projects\\LCZ_Classification\\data\\toronto\\raw\\canopy_height\\ETH_GlobalCanopyHeight_2020_10m_v1_b1_A1.tif\n",
      "Downloading b1 from users/nlang/ETH_GlobalCanopyHeight_2020_10m_v1\n",
      "Generating URL ...\n",
      "Downloading data from https://earthengine.googleapis.com/v1/projects/21883930632/thumbnails/23ddc277f5dd80a2d80ee6be60752d22-eeff70a200e6a01927f8879dc5bf5775:getPixels\n",
      "Please wait ...\n",
      "Data downloaded to d:\\GeoAI\\projects\\LCZ_Classification\\data\\toronto\\raw\\canopy_height\\ETH_GlobalCanopyHeight_2020_10m_v1_b1_B4.tif\n",
      "Downloading b1 from users/nlang/ETH_GlobalCanopyHeight_2020_10m_v1\n",
      "Generating URL ...\n",
      "Downloading data from https://earthengine.googleapis.com/v1/projects/21883930632/thumbnails/5e3f85c4b388d5552abe73c850b7edab-6ee4ec940859f8c6368080e91761866b:getPixels\n",
      "Please wait ...\n",
      "Data downloaded to d:\\GeoAI\\projects\\LCZ_Classification\\data\\toronto\\raw\\canopy_height\\ETH_GlobalCanopyHeight_2020_10m_v1_b1_B3.tif\n",
      "Downloading b1 from users/nlang/ETH_GlobalCanopyHeight_2020_10m_v1\n",
      "Generating URL ...\n",
      "Downloading data from https://earthengine.googleapis.com/v1/projects/21883930632/thumbnails/4c06e87fc87c265a8f02b1d5eb1e1577-3aa431b63195d08d373c9bdb6b56c5ad:getPixels\n",
      "Please wait ...\n",
      "Data downloaded to d:\\GeoAI\\projects\\LCZ_Classification\\data\\toronto\\raw\\canopy_height\\ETH_GlobalCanopyHeight_2020_10m_v1_b1_B2.tif\n",
      "Downloading b1 from users/nlang/ETH_GlobalCanopyHeight_2020_10m_v1\n",
      "Generating URL ...\n",
      "Downloading data from https://earthengine.googleapis.com/v1/projects/21883930632/thumbnails/5d1fc296d45f66e3f82b39718cad85ca-849081efda84fbdd26782cb9620255e7:getPixels\n",
      "Please wait ...\n",
      "Data downloaded to d:\\GeoAI\\projects\\LCZ_Classification\\data\\toronto\\raw\\canopy_height\\ETH_GlobalCanopyHeight_2020_10m_v1_b1_B1.tif\n",
      "Downloading b1 from users/nlang/ETH_GlobalCanopyHeight_2020_10m_v1\n",
      "Generating URL ...\n",
      "Downloading data from https://earthengine.googleapis.com/v1/projects/21883930632/thumbnails/43f6f071012e7b3fd63591ddebfbba5f-5ab7f789653146c472f8d9c7f314ac7d:getPixels\n",
      "Please wait ...\n",
      "Data downloaded to d:\\GeoAI\\projects\\LCZ_Classification\\data\\toronto\\raw\\canopy_height\\ETH_GlobalCanopyHeight_2020_10m_v1_b1_C4.tif\n",
      "Downloading b1 from users/nlang/ETH_GlobalCanopyHeight_2020_10m_v1\n",
      "Generating URL ...\n",
      "Downloading data from https://earthengine.googleapis.com/v1/projects/21883930632/thumbnails/f68af44cc22ab801696911e1b98bb33e-d8a30b28925ecb0bbca4133a68c1c936:getPixels\n",
      "Please wait ...\n",
      "Data downloaded to d:\\GeoAI\\projects\\LCZ_Classification\\data\\toronto\\raw\\canopy_height\\ETH_GlobalCanopyHeight_2020_10m_v1_b1_C3.tif\n",
      "Downloading b1 from users/nlang/ETH_GlobalCanopyHeight_2020_10m_v1\n",
      "Generating URL ...\n",
      "Downloading data from https://earthengine.googleapis.com/v1/projects/21883930632/thumbnails/b1bd6ca6cfc2c793c4533f6b854a4ae4-6e1b5a032a7cdc9d4455f9ec6b603032:getPixels\n",
      "Please wait ...\n",
      "Data downloaded to d:\\GeoAI\\projects\\LCZ_Classification\\data\\toronto\\raw\\canopy_height\\ETH_GlobalCanopyHeight_2020_10m_v1_b1_C2.tif\n",
      "Downloading b1 from users/nlang/ETH_GlobalCanopyHeight_2020_10m_v1\n",
      "Generating URL ...\n",
      "Downloading data from https://earthengine.googleapis.com/v1/projects/21883930632/thumbnails/78fe6e69ac797aefbd68aa3e6d956748-edfd17969099eac196c761620822c036:getPixels\n",
      "Please wait ...\n",
      "Data downloaded to d:\\GeoAI\\projects\\LCZ_Classification\\data\\toronto\\raw\\canopy_height\\ETH_GlobalCanopyHeight_2020_10m_v1_b1_C1.tif\n",
      "Downloading b1 from users/nlang/ETH_GlobalCanopyHeight_2020_10m_v1\n",
      "Generating URL ...\n",
      "Downloading data from https://earthengine.googleapis.com/v1/projects/21883930632/thumbnails/79d5c7fa18906bcf89ea044d1878b5df-c2c40739b0592c388a4137f4c187e99f:getPixels\n",
      "Please wait ...\n",
      "Data downloaded to d:\\GeoAI\\projects\\LCZ_Classification\\data\\toronto\\raw\\canopy_height\\ETH_GlobalCanopyHeight_2020_10m_v1_b1_D4.tif\n",
      "Downloading b1 from users/nlang/ETH_GlobalCanopyHeight_2020_10m_v1\n",
      "Generating URL ...\n",
      "Downloading data from https://earthengine.googleapis.com/v1/projects/21883930632/thumbnails/34e505a33e1ebba93445e588fb8e1fc1-4589c58f97623b363aab876caf2db427:getPixels\n",
      "Please wait ...\n",
      "Data downloaded to d:\\GeoAI\\projects\\LCZ_Classification\\data\\toronto\\raw\\canopy_height\\ETH_GlobalCanopyHeight_2020_10m_v1_b1_D3.tif\n",
      "Downloading b1 from users/nlang/ETH_GlobalCanopyHeight_2020_10m_v1\n",
      "Generating URL ...\n",
      "Downloading data from https://earthengine.googleapis.com/v1/projects/21883930632/thumbnails/a96a91ecb904b217f0add97605070dcd-f44062e69f7d2102e783c40fb67dee95:getPixels\n",
      "Please wait ...\n",
      "Data downloaded to d:\\GeoAI\\projects\\LCZ_Classification\\data\\toronto\\raw\\canopy_height\\ETH_GlobalCanopyHeight_2020_10m_v1_b1_D2.tif\n",
      "Downloading b1 from users/nlang/ETH_GlobalCanopyHeight_2020_10m_v1\n",
      "Generating URL ...\n",
      "Downloading data from https://earthengine.googleapis.com/v1/projects/21883930632/thumbnails/661803253760f0e965be1af45b6075f2-dbaeadcf441c3966d5b6d4fc14bc3089:getPixels\n",
      "Please wait ...\n",
      "Data downloaded to d:\\GeoAI\\projects\\LCZ_Classification\\data\\toronto\\raw\\canopy_height\\ETH_GlobalCanopyHeight_2020_10m_v1_b1_D1.tif\n"
     ]
    }
   ],
   "source": [
    "# Download Canopy Height from Google Earth Engine\n",
    "\n",
    "\n",
    "ee_download(\n",
    "            asset_id=\"users/nlang/ETH_GlobalCanopyHeight_2020_10m_v1\",\n",
    "            bands=[\"b1\"],\n",
    "            bbox = bounds, \n",
    "            output_dir=CH_RAW,\n",
    "            scale=10,\n",
    "            tile_dims=(4,4)\n",
    "            )"
   ]
  },
  {
   "cell_type": "markdown",
   "id": "e84e8f58",
   "metadata": {},
   "source": [
    "## **7. Building Height Data**\n",
    "\n",
    "Download building height data for British Columbia from the NRCan Website- https://ftp.maps.canada.ca/pub/nrcan_rncan/extraction/auto_building/fgdb/"
   ]
  },
  {
   "cell_type": "code",
   "execution_count": 28,
   "id": "b30116c7",
   "metadata": {},
   "outputs": [
    {
     "data": {
      "text/html": [
       "\n",
       "            <style>\n",
       "                .geemap-dark {\n",
       "                    --jp-widgets-color: white;\n",
       "                    --jp-widgets-label-color: white;\n",
       "                    --jp-ui-font-color1: white;\n",
       "                    --jp-layout-color2: #454545;\n",
       "                    background-color: #383838;\n",
       "                }\n",
       "\n",
       "                .geemap-dark .jupyter-button {\n",
       "                    --jp-layout-color3: #383838;\n",
       "                }\n",
       "\n",
       "                .geemap-colab {\n",
       "                    background-color: var(--colab-primary-surface-color, white);\n",
       "                }\n",
       "\n",
       "                .geemap-colab .jupyter-button {\n",
       "                    --jp-layout-color3: var(--colab-primary-surface-color, white);\n",
       "                }\n",
       "            </style>\n",
       "            "
      ],
      "text/plain": [
       "<IPython.core.display.HTML object>"
      ]
     },
     "metadata": {},
     "output_type": "display_data"
    },
    {
     "name": "stdout",
     "output_type": "stream",
     "text": [
      "Fetching links from https://ftp.maps.canada.ca/pub/nrcan_rncan/extraction/auto_building/fgdb/\n",
      "Found 29 ON-related files.\n",
      "Downloading: https://ftp.maps.canada.ca/pub/nrcan_rncan/extraction/auto_building/fgdb/Autobuilding_ON_2016-17-Peterborough_fgdb.zip\n"
     ]
    },
    {
     "name": "stderr",
     "output_type": "stream",
     "text": [
      "../data/toronto/raw/building_height\\Autobuilding_ON_2016-17-Peterborough_fgdb.zip: 100%|██████████| 33.9M/33.9M [00:17<00:00, 2.01MB/s]\n"
     ]
    },
    {
     "name": "stdout",
     "output_type": "stream",
     "text": [
      "Saved to ../data/toronto/raw/building_height\\Autobuilding_ON_2016-17-Peterborough_fgdb.zip\n",
      "Downloading: https://ftp.maps.canada.ca/pub/nrcan_rncan/extraction/auto_building/fgdb/Autobuilding_ON_2017-LakeErie_fgdb.zip\n"
     ]
    },
    {
     "name": "stderr",
     "output_type": "stream",
     "text": [
      "../data/toronto/raw/building_height\\Autobuilding_ON_2017-LakeErie_fgdb.zip: 100%|██████████| 94.5M/94.5M [00:21<00:00, 4.70MB/s]\n"
     ]
    },
    {
     "name": "stdout",
     "output_type": "stream",
     "text": [
      "Saved to ../data/toronto/raw/building_height\\Autobuilding_ON_2017-LakeErie_fgdb.zip\n",
      "Downloading: https://ftp.maps.canada.ca/pub/nrcan_rncan/extraction/auto_building/fgdb/Autobuilding_ON_BRAMPTON_fgdb.zip\n"
     ]
    },
    {
     "name": "stderr",
     "output_type": "stream",
     "text": [
      "../data/toronto/raw/building_height\\Autobuilding_ON_BRAMPTON_fgdb.zip: 100%|██████████| 6.39M/6.39M [00:07<00:00, 944kB/s] \n"
     ]
    },
    {
     "name": "stdout",
     "output_type": "stream",
     "text": [
      "Saved to ../data/toronto/raw/building_height\\Autobuilding_ON_BRAMPTON_fgdb.zip\n",
      "Downloading: https://ftp.maps.canada.ca/pub/nrcan_rncan/extraction/auto_building/fgdb/Autobuilding_ON_Eastern_Ontario_2022_fgdb.zip\n"
     ]
    },
    {
     "name": "stderr",
     "output_type": "stream",
     "text": [
      "../data/toronto/raw/building_height\\Autobuilding_ON_Eastern_Ontario_2022_fgdb.zip: 100%|██████████| 35.5M/35.5M [00:20<00:00, 1.82MB/s]\n"
     ]
    },
    {
     "name": "stdout",
     "output_type": "stream",
     "text": [
      "Saved to ../data/toronto/raw/building_height\\Autobuilding_ON_Eastern_Ontario_2022_fgdb.zip\n",
      "Downloading: https://ftp.maps.canada.ca/pub/nrcan_rncan/extraction/auto_building/fgdb/Autobuilding_ON_Eastern_Ontario_Part1_2021_fgdb.zip\n"
     ]
    },
    {
     "name": "stderr",
     "output_type": "stream",
     "text": [
      "../data/toronto/raw/building_height\\Autobuilding_ON_Eastern_Ontario_Part1_2021_fgdb.zip: 100%|██████████| 13.2M/13.2M [00:03<00:00, 4.45MB/s]\n"
     ]
    },
    {
     "name": "stdout",
     "output_type": "stream",
     "text": [
      "Saved to ../data/toronto/raw/building_height\\Autobuilding_ON_Eastern_Ontario_Part1_2021_fgdb.zip\n",
      "Downloading: https://ftp.maps.canada.ca/pub/nrcan_rncan/extraction/auto_building/fgdb/Autobuilding_ON_Eastern_Ontario_Part2_2021_fgdb.zip\n"
     ]
    },
    {
     "name": "stderr",
     "output_type": "stream",
     "text": [
      "../data/toronto/raw/building_height\\Autobuilding_ON_Eastern_Ontario_Part2_2021_fgdb.zip: 100%|██████████| 12.3M/12.3M [00:02<00:00, 4.98MB/s]\n"
     ]
    },
    {
     "name": "stdout",
     "output_type": "stream",
     "text": [
      "Saved to ../data/toronto/raw/building_height\\Autobuilding_ON_Eastern_Ontario_Part2_2021_fgdb.zip\n",
      "Downloading: https://ftp.maps.canada.ca/pub/nrcan_rncan/extraction/auto_building/fgdb/Autobuilding_ON_FHIMP_PICAI_Quinte_Belleville_UTM18_2022_fgdb.zip\n"
     ]
    },
    {
     "name": "stderr",
     "output_type": "stream",
     "text": [
      "../data/toronto/raw/building_height\\Autobuilding_ON_FHIMP_PICAI_Quinte_Belleville_UTM18_2022_fgdb.zip: 100%|██████████| 25.8M/25.8M [00:06<00:00, 4.39MB/s]\n"
     ]
    },
    {
     "name": "stdout",
     "output_type": "stream",
     "text": [
      "Saved to ../data/toronto/raw/building_height\\Autobuilding_ON_FHIMP_PICAI_Quinte_Belleville_UTM18_2022_fgdb.zip\n",
      "Downloading: https://ftp.maps.canada.ca/pub/nrcan_rncan/extraction/auto_building/fgdb/Autobuilding_ON_GTA_2023_fgdb.zip\n"
     ]
    },
    {
     "name": "stderr",
     "output_type": "stream",
     "text": [
      "../data/toronto/raw/building_height\\Autobuilding_ON_GTA_2023_fgdb.zip: 100%|██████████| 190M/190M [00:45<00:00, 4.36MB/s] \n"
     ]
    },
    {
     "name": "stdout",
     "output_type": "stream",
     "text": [
      "Saved to ../data/toronto/raw/building_height\\Autobuilding_ON_GTA_2023_fgdb.zip\n",
      "Downloading: https://ftp.maps.canada.ca/pub/nrcan_rncan/extraction/auto_building/fgdb/Autobuilding_ON_Georgian_Bay_2022_fgdb.zip\n"
     ]
    },
    {
     "name": "stderr",
     "output_type": "stream",
     "text": [
      "../data/toronto/raw/building_height\\Autobuilding_ON_Georgian_Bay_2022_fgdb.zip: 100%|██████████| 27.6M/27.6M [00:05<00:00, 5.69MB/s]\n"
     ]
    },
    {
     "name": "stdout",
     "output_type": "stream",
     "text": [
      "Saved to ../data/toronto/raw/building_height\\Autobuilding_ON_Georgian_Bay_2022_fgdb.zip\n",
      "Downloading: https://ftp.maps.canada.ca/pub/nrcan_rncan/extraction/auto_building/fgdb/Autobuilding_ON_HALTON_fgdb.zip\n"
     ]
    },
    {
     "name": "stderr",
     "output_type": "stream",
     "text": [
      "../data/toronto/raw/building_height\\Autobuilding_ON_HALTON_fgdb.zip: 100%|██████████| 25.4M/25.4M [00:04<00:00, 5.65MB/s]\n"
     ]
    },
    {
     "name": "stdout",
     "output_type": "stream",
     "text": [
      "Saved to ../data/toronto/raw/building_height\\Autobuilding_ON_HALTON_fgdb.zip\n",
      "Downloading: https://ftp.maps.canada.ca/pub/nrcan_rncan/extraction/auto_building/fgdb/Autobuilding_ON_Hamilton_Niagara_2021_2_fgdb.zip\n"
     ]
    },
    {
     "name": "stderr",
     "output_type": "stream",
     "text": [
      "../data/toronto/raw/building_height\\Autobuilding_ON_Hamilton_Niagara_2021_2_fgdb.zip: 100%|██████████| 51.6M/51.6M [00:06<00:00, 8.27MB/s]\n"
     ]
    },
    {
     "name": "stdout",
     "output_type": "stream",
     "text": [
      "Saved to ../data/toronto/raw/building_height\\Autobuilding_ON_Hamilton_Niagara_2021_2_fgdb.zip\n",
      "Downloading: https://ftp.maps.canada.ca/pub/nrcan_rncan/extraction/auto_building/fgdb/Autobuilding_ON_Huron_GeorgianBay_spring_2023_fgdb.zip\n"
     ]
    },
    {
     "name": "stderr",
     "output_type": "stream",
     "text": [
      "../data/toronto/raw/building_height\\Autobuilding_ON_Huron_GeorgianBay_spring_2023_fgdb.zip: 100%|██████████| 10.2M/10.2M [00:01<00:00, 6.47MB/s]\n"
     ]
    },
    {
     "name": "stdout",
     "output_type": "stream",
     "text": [
      "Saved to ../data/toronto/raw/building_height\\Autobuilding_ON_Huron_GeorgianBay_spring_2023_fgdb.zip\n",
      "Downloading: https://ftp.maps.canada.ca/pub/nrcan_rncan/extraction/auto_building/fgdb/Autobuilding_ON_KawarthaLakes_spring_2023_fgdb.zip\n"
     ]
    },
    {
     "name": "stderr",
     "output_type": "stream",
     "text": [
      "../data/toronto/raw/building_height\\Autobuilding_ON_KawarthaLakes_spring_2023_fgdb.zip: 100%|██████████| 13.9M/13.9M [00:04<00:00, 2.99MB/s]\n"
     ]
    },
    {
     "name": "stdout",
     "output_type": "stream",
     "text": [
      "Saved to ../data/toronto/raw/building_height\\Autobuilding_ON_KawarthaLakes_spring_2023_fgdb.zip\n",
      "Downloading: https://ftp.maps.canada.ca/pub/nrcan_rncan/extraction/auto_building/fgdb/Autobuilding_ON_Lake_Erie_2018_fgdb.zip\n"
     ]
    },
    {
     "name": "stderr",
     "output_type": "stream",
     "text": [
      "../data/toronto/raw/building_height\\Autobuilding_ON_Lake_Erie_2018_fgdb.zip: 100%|██████████| 36.6M/36.6M [00:06<00:00, 5.97MB/s]\n"
     ]
    },
    {
     "name": "stdout",
     "output_type": "stream",
     "text": [
      "Saved to ../data/toronto/raw/building_height\\Autobuilding_ON_Lake_Erie_2018_fgdb.zip\n",
      "Downloading: https://ftp.maps.canada.ca/pub/nrcan_rncan/extraction/auto_building/fgdb/Autobuilding_ON_Lake_Erie_Fall_2017_fgdb.zip\n"
     ]
    },
    {
     "name": "stderr",
     "output_type": "stream",
     "text": [
      "../data/toronto/raw/building_height\\Autobuilding_ON_Lake_Erie_Fall_2017_fgdb.zip: 100%|██████████| 42.2M/42.2M [00:07<00:00, 5.76MB/s]\n"
     ]
    },
    {
     "name": "stdout",
     "output_type": "stream",
     "text": [
      "Saved to ../data/toronto/raw/building_height\\Autobuilding_ON_Lake_Erie_Fall_2017_fgdb.zip\n",
      "Downloading: https://ftp.maps.canada.ca/pub/nrcan_rncan/extraction/auto_building/fgdb/Autobuilding_ON_Lake_Huron_2022_fgdb.zip\n"
     ]
    },
    {
     "name": "stderr",
     "output_type": "stream",
     "text": [
      "../data/toronto/raw/building_height\\Autobuilding_ON_Lake_Huron_2022_fgdb.zip: 100%|██████████| 35.7M/35.7M [00:07<00:00, 5.07MB/s]\n"
     ]
    },
    {
     "name": "stdout",
     "output_type": "stream",
     "text": [
      "Saved to ../data/toronto/raw/building_height\\Autobuilding_ON_Lake_Huron_2022_fgdb.zip\n",
      "Downloading: https://ftp.maps.canada.ca/pub/nrcan_rncan/extraction/auto_building/fgdb/Autobuilding_ON_Lake_Nipissing_2020_2_fgdb.zip\n"
     ]
    },
    {
     "name": "stderr",
     "output_type": "stream",
     "text": [
      "../data/toronto/raw/building_height\\Autobuilding_ON_Lake_Nipissing_2020_2_fgdb.zip: 100%|██████████| 8.58M/8.58M [00:01<00:00, 5.11MB/s]\n"
     ]
    },
    {
     "name": "stdout",
     "output_type": "stream",
     "text": [
      "Saved to ../data/toronto/raw/building_height\\Autobuilding_ON_Lake_Nipissing_2020_2_fgdb.zip\n",
      "Downloading: https://ftp.maps.canada.ca/pub/nrcan_rncan/extraction/auto_building/fgdb/Autobuilding_ON_Lake_Simcoe_2019_fgdb.zip\n"
     ]
    },
    {
     "name": "stderr",
     "output_type": "stream",
     "text": [
      "../data/toronto/raw/building_height\\Autobuilding_ON_Lake_Simcoe_2019_fgdb.zip: 100%|██████████| 15.3M/15.3M [00:03<00:00, 4.95MB/s]\n"
     ]
    },
    {
     "name": "stdout",
     "output_type": "stream",
     "text": [
      "Saved to ../data/toronto/raw/building_height\\Autobuilding_ON_Lake_Simcoe_2019_fgdb.zip\n",
      "Downloading: https://ftp.maps.canada.ca/pub/nrcan_rncan/extraction/auto_building/fgdb/Autobuilding_ON_Lake_Simcoe_OMAFRA_2022_fgdb.zip\n"
     ]
    },
    {
     "name": "stderr",
     "output_type": "stream",
     "text": [
      "../data/toronto/raw/building_height\\Autobuilding_ON_Lake_Simcoe_OMAFRA_2022_fgdb.zip: 100%|██████████| 20.9M/20.9M [00:03<00:00, 5.91MB/s]\n"
     ]
    },
    {
     "name": "stdout",
     "output_type": "stream",
     "text": [
      "Saved to ../data/toronto/raw/building_height\\Autobuilding_ON_Lake_Simcoe_OMAFRA_2022_fgdb.zip\n",
      "Downloading: https://ftp.maps.canada.ca/pub/nrcan_rncan/extraction/auto_building/fgdb/Autobuilding_ON_ON_Sudbury_UTM17_2023_fgdb.zip\n"
     ]
    },
    {
     "name": "stderr",
     "output_type": "stream",
     "text": [
      "../data/toronto/raw/building_height\\Autobuilding_ON_ON_Sudbury_UTM17_2023_fgdb.zip: 100%|██████████| 17.0M/17.0M [00:02<00:00, 7.27MB/s]\n"
     ]
    },
    {
     "name": "stdout",
     "output_type": "stream",
     "text": [
      "Saved to ../data/toronto/raw/building_height\\Autobuilding_ON_ON_Sudbury_UTM17_2023_fgdb.zip\n",
      "Downloading: https://ftp.maps.canada.ca/pub/nrcan_rncan/extraction/auto_building/fgdb/Autobuilding_ON_Ottawa_Gatineau_2020_fgdb.zip\n"
     ]
    },
    {
     "name": "stderr",
     "output_type": "stream",
     "text": [
      "../data/toronto/raw/building_height\\Autobuilding_ON_Ottawa_Gatineau_2020_fgdb.zip: 100%|██████████| 55.4M/55.4M [00:10<00:00, 5.48MB/s]\n"
     ]
    },
    {
     "name": "stdout",
     "output_type": "stream",
     "text": [
      "Saved to ../data/toronto/raw/building_height\\Autobuilding_ON_Ottawa_Gatineau_2020_fgdb.zip\n",
      "Downloading: https://ftp.maps.canada.ca/pub/nrcan_rncan/extraction/auto_building/fgdb/Autobuilding_ON_PEEL_fgdb.zip\n"
     ]
    },
    {
     "name": "stderr",
     "output_type": "stream",
     "text": [
      "../data/toronto/raw/building_height\\Autobuilding_ON_PEEL_fgdb.zip: 100%|██████████| 5.76M/5.76M [00:00<00:00, 6.48MB/s]\n"
     ]
    },
    {
     "name": "stdout",
     "output_type": "stream",
     "text": [
      "Saved to ../data/toronto/raw/building_height\\Autobuilding_ON_PEEL_fgdb.zip\n",
      "Downloading: https://ftp.maps.canada.ca/pub/nrcan_rncan/extraction/auto_building/fgdb/Autobuilding_ON_QC_Riviere_Outaouais_2020_fgdb.zip\n"
     ]
    },
    {
     "name": "stderr",
     "output_type": "stream",
     "text": [
      "../data/toronto/raw/building_height\\Autobuilding_ON_QC_Riviere_Outaouais_2020_fgdb.zip: 100%|██████████| 6.99M/6.99M [00:01<00:00, 6.39MB/s]\n"
     ]
    },
    {
     "name": "stdout",
     "output_type": "stream",
     "text": [
      "Saved to ../data/toronto/raw/building_height\\Autobuilding_ON_QC_Riviere_Outaouais_2020_fgdb.zip\n",
      "Downloading: https://ftp.maps.canada.ca/pub/nrcan_rncan/extraction/auto_building/fgdb/Autobuilding_ON_SPL_ON_Hearst_UTM17_2019_fgdb.zip\n"
     ]
    },
    {
     "name": "stderr",
     "output_type": "stream",
     "text": [
      "../data/toronto/raw/building_height\\Autobuilding_ON_SPL_ON_Hearst_UTM17_2019_fgdb.zip: 100%|██████████| 915k/915k [00:00<00:00, 4.55MB/s]\n"
     ]
    },
    {
     "name": "stdout",
     "output_type": "stream",
     "text": [
      "Saved to ../data/toronto/raw/building_height\\Autobuilding_ON_SPL_ON_Hearst_UTM17_2019_fgdb.zip\n",
      "Downloading: https://ftp.maps.canada.ca/pub/nrcan_rncan/extraction/auto_building/fgdb/Autobuilding_ON_Sarnia_Lake_Huron_OMAFRA_2022_fgdb.zip\n"
     ]
    },
    {
     "name": "stderr",
     "output_type": "stream",
     "text": [
      "../data/toronto/raw/building_height\\Autobuilding_ON_Sarnia_Lake_Huron_OMAFRA_2022_fgdb.zip: 100%|██████████| 20.0M/20.0M [00:04<00:00, 5.06MB/s]\n"
     ]
    },
    {
     "name": "stdout",
     "output_type": "stream",
     "text": [
      "Saved to ../data/toronto/raw/building_height\\Autobuilding_ON_Sarnia_Lake_Huron_OMAFRA_2022_fgdb.zip\n",
      "Downloading: https://ftp.maps.canada.ca/pub/nrcan_rncan/extraction/auto_building/fgdb/Autobuilding_ON_South_Central_Durham_fgdb.zip\n"
     ]
    },
    {
     "name": "stderr",
     "output_type": "stream",
     "text": [
      "../data/toronto/raw/building_height\\Autobuilding_ON_South_Central_Durham_fgdb.zip: 100%|██████████| 15.9M/15.9M [00:02<00:00, 5.75MB/s]\n"
     ]
    },
    {
     "name": "stdout",
     "output_type": "stream",
     "text": [
      "Saved to ../data/toronto/raw/building_height\\Autobuilding_ON_South_Central_Durham_fgdb.zip\n",
      "Downloading: https://ftp.maps.canada.ca/pub/nrcan_rncan/extraction/auto_building/fgdb/Autobuilding_QC_2009_701-09-PONTIAC_MTM09_fgdb.zip\n"
     ]
    },
    {
     "name": "stderr",
     "output_type": "stream",
     "text": [
      "../data/toronto/raw/building_height\\Autobuilding_QC_2009_701-09-PONTIAC_MTM09_fgdb.zip: 100%|██████████| 190k/190k [00:00<00:00, 20.0MB/s]\n"
     ]
    },
    {
     "name": "stdout",
     "output_type": "stream",
     "text": [
      "Saved to ../data/toronto/raw/building_height\\Autobuilding_QC_2009_701-09-PONTIAC_MTM09_fgdb.zip\n",
      "Downloading: https://ftp.maps.canada.ca/pub/nrcan_rncan/extraction/auto_building/fgdb/Autobuilding_QC_2014_600014-35-PONTIAC_MTM09_fgdb.zip\n"
     ]
    },
    {
     "name": "stderr",
     "output_type": "stream",
     "text": [
      "../data/toronto/raw/building_height\\Autobuilding_QC_2014_600014-35-PONTIAC_MTM09_fgdb.zip: 100%|██████████| 1.86M/1.86M [00:00<00:00, 3.28MB/s]\n"
     ]
    },
    {
     "name": "stdout",
     "output_type": "stream",
     "text": [
      "Saved to ../data/toronto/raw/building_height\\Autobuilding_QC_2014_600014-35-PONTIAC_MTM09_fgdb.zip\n",
      "Downloading: https://ftp.maps.canada.ca/pub/nrcan_rncan/extraction/auto_building/fgdb/Autobuilding_QC_VILLE_MONTREAL_fgdb.zip\n"
     ]
    },
    {
     "name": "stderr",
     "output_type": "stream",
     "text": [
      "../data/toronto/raw/building_height\\Autobuilding_QC_VILLE_MONTREAL_fgdb.zip: 100%|██████████| 29.7M/29.7M [00:05<00:00, 6.10MB/s]"
     ]
    },
    {
     "name": "stdout",
     "output_type": "stream",
     "text": [
      "Saved to ../data/toronto/raw/building_height\\Autobuilding_QC_VILLE_MONTREAL_fgdb.zip\n"
     ]
    },
    {
     "name": "stderr",
     "output_type": "stream",
     "text": [
      "\n"
     ]
    }
   ],
   "source": [
    "import requests\n",
    "from bs4 import BeautifulSoup\n",
    "import os\n",
    "from tqdm import tqdm\n",
    "\n",
    "# Base URL of the directory\n",
    "BASE_URL = \"https://ftp.maps.canada.ca/pub/nrcan_rncan/extraction/auto_building/fgdb/\"\n",
    "PROVINCE = \"ON\"\n",
    "# Create a session\n",
    "session = requests.Session()\n",
    "\n",
    "def get_links(url, province):\n",
    "    print(f\"Fetching links from {url}\")\n",
    "    response = session.get(url)\n",
    "    response.raise_for_status()\n",
    "\n",
    "    soup = BeautifulSoup(response.text, 'html.parser')\n",
    "    links = []\n",
    "    for link in soup.find_all('a'):\n",
    "        href = link.get('href')\n",
    "        if href and province in href and href.endswith('.zip'):\n",
    "            full_url = url + href\n",
    "            links.append(full_url)\n",
    "    return links\n",
    "\n",
    "def download_file(url, dest_folder=\".\"):\n",
    "    local_filename = os.path.join(dest_folder, url.split(\"/\")[-1])\n",
    "    print(f\"Downloading: {url}\")\n",
    "    with session.get(url, stream=True) as r:\n",
    "        r.raise_for_status()\n",
    "        total = int(r.headers.get('content-length', 0))\n",
    "        with open(local_filename, 'wb') as f, tqdm(\n",
    "            desc=local_filename,\n",
    "            total=total,\n",
    "            unit='B',\n",
    "            unit_scale=True,\n",
    "            unit_divisor=1024,\n",
    "        ) as bar:\n",
    "            for chunk in r.iter_content(chunk_size=8192):\n",
    "                if chunk:\n",
    "                    f.write(chunk)\n",
    "                    bar.update(len(chunk))\n",
    "    print(f\"Saved to {local_filename}\")\n",
    "\n",
    "if __name__ == \"__main__\":\n",
    "    links = get_links(BASE_URL, PROVINCE)\n",
    "    print(f\"Found {len(links)} {PROVINCE}-related files.\")\n",
    "    for link in links:\n",
    "        download_file(link, dest_folder=BH_RAW)\n"
   ]
  }
 ],
 "metadata": {
  "kernelspec": {
   "display_name": "lcz_classification",
   "language": "python",
   "name": "python3"
  },
  "language_info": {
   "codemirror_mode": {
    "name": "ipython",
    "version": 3
   },
   "file_extension": ".py",
   "mimetype": "text/x-python",
   "name": "python",
   "nbconvert_exporter": "python",
   "pygments_lexer": "ipython3",
   "version": "3.11.11"
  }
 },
 "nbformat": 4,
 "nbformat_minor": 5
}
