{
 "cells": [
  {
   "cell_type": "markdown",
   "id": "feb6af3f",
   "metadata": {},
   "source": [
    "# **Data Aquistion**\n",
    "\n",
    "\n",
    "This notebook downloads the required data for state-of-the-art LCZ Classification:\n",
    "\n",
    "1. Setup the project by defining the city of interest\n",
    "2. City boundary polygon download from OpenStreetMap \n",
    "3. Sentinel-2 imagery download using AWS S3\n",
    "4. ALOS DSM 30m download from Google Earth Engine\n",
    "5. Impervious Surface Area download from Google Earth Engine \n",
    "6. Tree Canopy Height download from Google Earth Engine\n",
    "7. Building Height download from NRCan"
   ]
  },
  {
   "cell_type": "markdown",
   "id": "4ee37c72",
   "metadata": {},
   "source": [
    "## **1. Project Setup**\n",
    "\n",
    "\n",
    "This code block imports the necessery Python libraries"
   ]
  },
  {
   "cell_type": "markdown",
   "id": "57ed3d2b",
   "metadata": {},
   "source": [
    "### 1.1. Import Libraries"
   ]
  },
  {
   "cell_type": "code",
   "execution_count": 1,
   "id": "ad0df9e2",
   "metadata": {},
   "outputs": [],
   "source": [
    "%load_ext autoreload\n",
    "%autoreload \n",
    "\n",
    "import sys\n",
    "import os\n",
    "\n",
    "# Add the module's parent directory to sys.path\n",
    "module_path = os.path.abspath(os.path.join('..'))\n",
    "if module_path not in sys.path:\n",
    "    sys.path.append(module_path)\n",
    "\n",
    "from lcz_classification.dataset import get_matching_scenes, download_tiles, ee_download\n",
    "from lcz_classification.util import tiles_from_bbox\n",
    "import osmnx as ox\n",
    "import boto3\n",
    "from botocore import UNSIGNED\n",
    "from botocore.client import Config\n",
    "import geopandas as gpd\n",
    "import arrow\n",
    "import rasterio as rio\n",
    "import matplotlib.pyplot as plt\n",
    "import ee\n",
    "import geemap\n",
    "import numpy as np\n",
    "from shapely.geometry import box\n",
    "import pandas as pd\n"
   ]
  },
  {
   "cell_type": "markdown",
   "id": "35867b45",
   "metadata": {},
   "source": [
    "### 1.2. Setup Project Parameters"
   ]
  },
  {
   "cell_type": "code",
   "execution_count": 2,
   "id": "50132047",
   "metadata": {},
   "outputs": [
    {
     "data": {
      "text/html": [
       "\n",
       "            <style>\n",
       "                .geemap-dark {\n",
       "                    --jp-widgets-color: white;\n",
       "                    --jp-widgets-label-color: white;\n",
       "                    --jp-ui-font-color1: white;\n",
       "                    --jp-layout-color2: #454545;\n",
       "                    background-color: #383838;\n",
       "                }\n",
       "\n",
       "                .geemap-dark .jupyter-button {\n",
       "                    --jp-layout-color3: #383838;\n",
       "                }\n",
       "\n",
       "                .geemap-colab {\n",
       "                    background-color: var(--colab-primary-surface-color, white);\n",
       "                }\n",
       "\n",
       "                .geemap-colab .jupyter-button {\n",
       "                    --jp-layout-color3: var(--colab-primary-surface-color, white);\n",
       "                }\n",
       "            </style>\n",
       "            "
      ],
      "text/plain": [
       "<IPython.core.display.HTML object>"
      ]
     },
     "metadata": {},
     "output_type": "display_data"
    }
   ],
   "source": [
    "from lcz_classification.config import  *\n",
    "\n",
    "## USER INPUT ##\n",
    "# ===============================================================================================================================================================\n",
    "# Set up Geographic Bounds\n",
    "CITY=\"Greater Vancouver\" # Select City Name\n",
    "COUNTRY=\"Canada\" # Select Country Name\n",
    "# Setup Date Range\n",
    "START_DATE = '2021-07-14' # Start date in YYYY-MM-DD\n",
    "END_DATE ='2021-07-16' # End date in YYYY-MM-DD\n",
    "CITY_BOUNDARY_PATH=f\"{STUDY_AREA}/study_area.geojson\"\n",
    "\n",
    "SENT2_BANDS=[\"B02\", \"B03\", \"B04\", \"B05\", \"B06\", \"B07\", \"B8A\", \"B11\", \"B12\"] #Sentinel-2, bands from B02 to B07, B8A, B11, and B12 (provided at 20 m spatial resolution by Copernicus) are exploited.\n",
    "\n",
    "# ===============================================================================================================================================================\n",
    "\n",
    "\n",
    "DATE_RANGE=[arrow.get(START_DATE, 'YYYY-MM-DD'), arrow.get(END_DATE, 'YYYY-MM-DD')] \n",
    "SENT2_TILES_FP = f\"{EXTERNAL}/sentinel2/sentinel_2_tiles.geojson\" # \n",
    "\n"
   ]
  },
  {
   "cell_type": "markdown",
   "id": "7047651f",
   "metadata": {},
   "source": [
    "### 1.3 Authenticate Google Earth Engine"
   ]
  },
  {
   "cell_type": "code",
   "execution_count": 3,
   "id": "5e1fff05",
   "metadata": {},
   "outputs": [
    {
     "data": {
      "text/html": [
       "\n",
       "            <style>\n",
       "                .geemap-dark {\n",
       "                    --jp-widgets-color: white;\n",
       "                    --jp-widgets-label-color: white;\n",
       "                    --jp-ui-font-color1: white;\n",
       "                    --jp-layout-color2: #454545;\n",
       "                    background-color: #383838;\n",
       "                }\n",
       "\n",
       "                .geemap-dark .jupyter-button {\n",
       "                    --jp-layout-color3: #383838;\n",
       "                }\n",
       "\n",
       "                .geemap-colab {\n",
       "                    background-color: var(--colab-primary-surface-color, white);\n",
       "                }\n",
       "\n",
       "                .geemap-colab .jupyter-button {\n",
       "                    --jp-layout-color3: var(--colab-primary-surface-color, white);\n",
       "                }\n",
       "            </style>\n",
       "            "
      ],
      "text/plain": [
       "<IPython.core.display.HTML object>"
      ]
     },
     "metadata": {},
     "output_type": "display_data"
    }
   ],
   "source": [
    "if ee.Authenticate() == True:\n",
    "    ee.Initialize(project=EE_PROJECT_NAME)    \n",
    "else:\n",
    "    ee.Authenticate(force = True)\n",
    "    ee.Initialize(project=EE_PROJECT_NAME)    "
   ]
  },
  {
   "cell_type": "markdown",
   "id": "07164518",
   "metadata": {},
   "source": [
    "## **2. Get City Boundary Polygon**\n",
    "\n",
    "To manage your area of interest for the analysis, we need to retrieve a polygon dilineating the outer bounds of the city. In this case, I will use OSMNX to retrieve the boundary polygon for Vancouver, British Columbia, Canada"
   ]
  },
  {
   "cell_type": "code",
   "execution_count": 4,
   "id": "84818a82",
   "metadata": {},
   "outputs": [
    {
     "data": {
      "text/html": [
       "\n",
       "            <style>\n",
       "                .geemap-dark {\n",
       "                    --jp-widgets-color: white;\n",
       "                    --jp-widgets-label-color: white;\n",
       "                    --jp-ui-font-color1: white;\n",
       "                    --jp-layout-color2: #454545;\n",
       "                    background-color: #383838;\n",
       "                }\n",
       "\n",
       "                .geemap-dark .jupyter-button {\n",
       "                    --jp-layout-color3: #383838;\n",
       "                }\n",
       "\n",
       "                .geemap-colab {\n",
       "                    background-color: var(--colab-primary-surface-color, white);\n",
       "                }\n",
       "\n",
       "                .geemap-colab .jupyter-button {\n",
       "                    --jp-layout-color3: var(--colab-primary-surface-color, white);\n",
       "                }\n",
       "            </style>\n",
       "            "
      ],
      "text/plain": [
       "<IPython.core.display.HTML object>"
      ]
     },
     "metadata": {},
     "output_type": "display_data"
    }
   ],
   "source": [
    "\n",
    "# Get city boundary polygon\n",
    "city_boundary = ox.geocode_to_gdf(f\"{CITY}, {COUNTRY}\")\n",
    "city_boundary.to_crs(city_boundary.estimate_utm_crs(), inplace=True)\n",
    "\n",
    "\n",
    "# Save as GeoJSON\n",
    "\n",
    "# city_boundary.to_file(CITY_BOUNDARY_PATH, driver=\"GeoJSON\")\n",
    "# gpd.GeoDataFrame(geometry=[box(*city_boundary.to_crs(4326).total_bounds)], crs=\"EPSG:4326\").to_file(\"../data/external/study_area/bbox.shp\")\n",
    "\n",
    "# # Plot the boundary\n",
    "# city_boundary.explore(style={\n",
    "#                 \"fill\": False,\n",
    "#                 \"color\": \"red\"\n",
    "# })"
   ]
  },
  {
   "cell_type": "markdown",
   "id": "df87a91e",
   "metadata": {},
   "source": [
    "# **3. Sentinel-2 Download**\n",
    "\n",
    "Using download_tiles function, Sentinel-2 data is downloaded from the AWS S3 Bucket using boto3. The city boundary polygon and data range are used to derive matching scenes withiin the sentinel-2 database.\n",
    "\n",
    "https://registry.opendata.aws/sentinel-2/\n"
   ]
  },
  {
   "cell_type": "code",
   "execution_count": 18,
   "id": "645f5003",
   "metadata": {},
   "outputs": [
    {
     "data": {
      "text/html": [
       "\n",
       "            <style>\n",
       "                .geemap-dark {\n",
       "                    --jp-widgets-color: white;\n",
       "                    --jp-widgets-label-color: white;\n",
       "                    --jp-ui-font-color1: white;\n",
       "                    --jp-layout-color2: #454545;\n",
       "                    background-color: #383838;\n",
       "                }\n",
       "\n",
       "                .geemap-dark .jupyter-button {\n",
       "                    --jp-layout-color3: #383838;\n",
       "                }\n",
       "\n",
       "                .geemap-colab {\n",
       "                    background-color: var(--colab-primary-surface-color, white);\n",
       "                }\n",
       "\n",
       "                .geemap-colab .jupyter-button {\n",
       "                    --jp-layout-color3: var(--colab-primary-surface-color, white);\n",
       "                }\n",
       "            </style>\n",
       "            "
      ],
      "text/plain": [
       "<IPython.core.display.HTML object>"
      ]
     },
     "metadata": {},
     "output_type": "display_data"
    },
    {
     "name": "stdout",
     "output_type": "stream",
     "text": [
      "- Sentinel-2 -- Downloading Bands B02, B03, B04, B05, B06, B07, B8A, B11, B12 from Scene S2A_10UDA_20210714_0_L2A\n",
      "../data/external/sentinel2/S2A_10UDA_20210714_0_L2A/B02.tif\n",
      "../data/external/sentinel2/S2A_10UDA_20210714_0_L2A/B03.tif\n",
      "../data/external/sentinel2/S2A_10UDA_20210714_0_L2A/B04.tif\n",
      "../data/external/sentinel2/S2A_10UDA_20210714_0_L2A/B05.tif\n",
      "../data/external/sentinel2/S2A_10UDA_20210714_0_L2A/B06.tif\n",
      "../data/external/sentinel2/S2A_10UDA_20210714_0_L2A/B07.tif\n",
      "../data/external/sentinel2/S2A_10UDA_20210714_0_L2A/B8A.tif\n",
      "../data/external/sentinel2/S2A_10UDA_20210714_0_L2A/B11.tif\n",
      "../data/external/sentinel2/S2A_10UDA_20210714_0_L2A/B12.tif\n",
      "- Sentinel-2 -- Downloading Bands B02, B03, B04, B05, B06, B07, B8A, B11, B12 from Scene S2A_10UDA_20210714_1_L2A\n",
      "../data/external/sentinel2/S2A_10UDA_20210714_1_L2A/B02.tif\n",
      "../data/external/sentinel2/S2A_10UDA_20210714_1_L2A/B03.tif\n",
      "../data/external/sentinel2/S2A_10UDA_20210714_1_L2A/B04.tif\n",
      "../data/external/sentinel2/S2A_10UDA_20210714_1_L2A/B05.tif\n",
      "../data/external/sentinel2/S2A_10UDA_20210714_1_L2A/B06.tif\n",
      "../data/external/sentinel2/S2A_10UDA_20210714_1_L2A/B07.tif\n",
      "../data/external/sentinel2/S2A_10UDA_20210714_1_L2A/B8A.tif\n",
      "../data/external/sentinel2/S2A_10UDA_20210714_1_L2A/B11.tif\n",
      "../data/external/sentinel2/S2A_10UDA_20210714_1_L2A/B12.tif\n",
      "- Sentinel-2 -- Downloading Bands B02, B03, B04, B05, B06, B07, B8A, B11, B12 from Scene S2A_10UDV_20210714_0_L2A\n",
      "../data/external/sentinel2/S2A_10UDV_20210714_0_L2A/B02.tif\n",
      "../data/external/sentinel2/S2A_10UDV_20210714_0_L2A/B03.tif\n",
      "../data/external/sentinel2/S2A_10UDV_20210714_0_L2A/B04.tif\n",
      "../data/external/sentinel2/S2A_10UDV_20210714_0_L2A/B05.tif\n",
      "../data/external/sentinel2/S2A_10UDV_20210714_0_L2A/B06.tif\n",
      "../data/external/sentinel2/S2A_10UDV_20210714_0_L2A/B07.tif\n",
      "../data/external/sentinel2/S2A_10UDV_20210714_0_L2A/B8A.tif\n",
      "../data/external/sentinel2/S2A_10UDV_20210714_0_L2A/B11.tif\n",
      "../data/external/sentinel2/S2A_10UDV_20210714_0_L2A/B12.tif\n",
      "- Sentinel-2 -- Downloading Bands B02, B03, B04, B05, B06, B07, B8A, B11, B12 from Scene S2A_10UDV_20210714_1_L2A\n",
      "../data/external/sentinel2/S2A_10UDV_20210714_1_L2A/B02.tif\n",
      "../data/external/sentinel2/S2A_10UDV_20210714_1_L2A/B03.tif\n",
      "../data/external/sentinel2/S2A_10UDV_20210714_1_L2A/B04.tif\n",
      "../data/external/sentinel2/S2A_10UDV_20210714_1_L2A/B05.tif\n",
      "../data/external/sentinel2/S2A_10UDV_20210714_1_L2A/B06.tif\n",
      "../data/external/sentinel2/S2A_10UDV_20210714_1_L2A/B07.tif\n",
      "../data/external/sentinel2/S2A_10UDV_20210714_1_L2A/B8A.tif\n",
      "../data/external/sentinel2/S2A_10UDV_20210714_1_L2A/B11.tif\n",
      "../data/external/sentinel2/S2A_10UDV_20210714_1_L2A/B12.tif\n",
      "- Sentinel-2 -- Downloading Bands B02, B03, B04, B05, B06, B07, B8A, B11, B12 from Scene S2A_10UEA_20210714_0_L2A\n",
      "../data/external/sentinel2/S2A_10UEA_20210714_0_L2A/B02.tif\n",
      "../data/external/sentinel2/S2A_10UEA_20210714_0_L2A/B03.tif\n",
      "../data/external/sentinel2/S2A_10UEA_20210714_0_L2A/B04.tif\n",
      "../data/external/sentinel2/S2A_10UEA_20210714_0_L2A/B05.tif\n",
      "../data/external/sentinel2/S2A_10UEA_20210714_0_L2A/B06.tif\n",
      "../data/external/sentinel2/S2A_10UEA_20210714_0_L2A/B07.tif\n",
      "../data/external/sentinel2/S2A_10UEA_20210714_0_L2A/B8A.tif\n",
      "../data/external/sentinel2/S2A_10UEA_20210714_0_L2A/B11.tif\n",
      "../data/external/sentinel2/S2A_10UEA_20210714_0_L2A/B12.tif\n",
      "- Sentinel-2 -- Downloading Bands B02, B03, B04, B05, B06, B07, B8A, B11, B12 from Scene S2A_10UEA_20210714_1_L2A\n",
      "../data/external/sentinel2/S2A_10UEA_20210714_1_L2A/B02.tif\n",
      "../data/external/sentinel2/S2A_10UEA_20210714_1_L2A/B03.tif\n",
      "../data/external/sentinel2/S2A_10UEA_20210714_1_L2A/B04.tif\n",
      "../data/external/sentinel2/S2A_10UEA_20210714_1_L2A/B05.tif\n",
      "../data/external/sentinel2/S2A_10UEA_20210714_1_L2A/B06.tif\n",
      "../data/external/sentinel2/S2A_10UEA_20210714_1_L2A/B07.tif\n",
      "../data/external/sentinel2/S2A_10UEA_20210714_1_L2A/B8A.tif\n",
      "../data/external/sentinel2/S2A_10UEA_20210714_1_L2A/B11.tif\n",
      "../data/external/sentinel2/S2A_10UEA_20210714_1_L2A/B12.tif\n",
      "- Sentinel-2 -- Downloading Bands B02, B03, B04, B05, B06, B07, B8A, B11, B12 from Scene S2A_10UEV_20210714_0_L2A\n",
      "../data/external/sentinel2/S2A_10UEV_20210714_0_L2A/B02.tif\n",
      "../data/external/sentinel2/S2A_10UEV_20210714_0_L2A/B03.tif\n",
      "../data/external/sentinel2/S2A_10UEV_20210714_0_L2A/B04.tif\n",
      "../data/external/sentinel2/S2A_10UEV_20210714_0_L2A/B05.tif\n",
      "../data/external/sentinel2/S2A_10UEV_20210714_0_L2A/B06.tif\n",
      "../data/external/sentinel2/S2A_10UEV_20210714_0_L2A/B07.tif\n",
      "../data/external/sentinel2/S2A_10UEV_20210714_0_L2A/B8A.tif\n",
      "../data/external/sentinel2/S2A_10UEV_20210714_0_L2A/B11.tif\n",
      "../data/external/sentinel2/S2A_10UEV_20210714_0_L2A/B12.tif\n",
      "- Sentinel-2 -- Downloading Bands B02, B03, B04, B05, B06, B07, B8A, B11, B12 from Scene S2A_10UEV_20210714_1_L2A\n",
      "../data/external/sentinel2/S2A_10UEV_20210714_1_L2A/B02.tif\n",
      "../data/external/sentinel2/S2A_10UEV_20210714_1_L2A/B03.tif\n",
      "../data/external/sentinel2/S2A_10UEV_20210714_1_L2A/B04.tif\n",
      "../data/external/sentinel2/S2A_10UEV_20210714_1_L2A/B05.tif\n",
      "../data/external/sentinel2/S2A_10UEV_20210714_1_L2A/B06.tif\n",
      "../data/external/sentinel2/S2A_10UEV_20210714_1_L2A/B07.tif\n",
      "../data/external/sentinel2/S2A_10UEV_20210714_1_L2A/B8A.tif\n",
      "../data/external/sentinel2/S2A_10UEV_20210714_1_L2A/B11.tif\n",
      "../data/external/sentinel2/S2A_10UEV_20210714_1_L2A/B12.tif\n"
     ]
    }
   ],
   "source": [
    "\n",
    "s2_tiles=gpd.read_file(SENT2_TILES_FP) # Read GeoJSON of Sentinel-2 tile names and bounds\n",
    "s2_tiles_clipped=s2_tiles.clip(city_boundary) # Clip sentinel-2 tiles to the extent of the city boundaries\\\n",
    "tiles = s2_tiles_clipped.Name.to_list() # Get Sentinel-2 tile names within clipped boundary as list\n",
    "\n",
    "\n",
    "# Retrieve scene IDs that match the requested tile names and date range\n",
    "matching_scenes=get_matching_scenes( \n",
    "    bucket='sentinel-cogs',\n",
    "    tiles=tiles,\n",
    "    date_range=DATE_RANGE,\n",
    "    prefix=\"sentinel-s2-l2a-cogs\")\n",
    "\n",
    "\n",
    "\n",
    "# Construct a pandas DataFrame from the matching scenes, used for effective filtering of scenes for downloading\n",
    "scene_df=pd.DataFrame(\n",
    "    data=dict(\n",
    "        scene_id = matching_scenes,\n",
    "        date = [scene_id.split(\"_\")[2] for scene_id in matching_scenes],\n",
    "        tile_id=[scene_id.split(\"_\")[1] for scene_id in matching_scenes],\n",
    "        tile_no = [scene_id.split(\"_\")[3]for scene_id in matching_scenes],\n",
    "\n",
    "    )\n",
    ")\n",
    "\n",
    "# Drop scenes with duplicate tile_ids\n",
    "# Retrieve scenes first date only  \n",
    "scene_df = scene_df.sort_values([\"date\", \"tile_id\"]).drop_duplicates([\"tile_id\",\"tile_no\"], keep=\"first\")\n",
    "date=scene_df.date.iloc[0]\n",
    "scene_df=scene_df[scene_df.date == date]\n",
    "download_scenes = scene_df.scene_id.to_list()\n",
    "\n",
    "# Download Sentinel-2 scenes from AWS S3 Bucket\n",
    "download_tiles(download_scenes,\n",
    "               SENT2_BANDS, \n",
    "               \"sentinel-s2-l2a-cogs\",\n",
    "               out_dir=f\"{EXTERNAL}/sentinel2\")\n",
    "\n",
    "\n"
   ]
  },
  {
   "cell_type": "markdown",
   "id": "050fd55c",
   "metadata": {},
   "source": [
    "## **4. DSM from ALOS 30m**"
   ]
  },
  {
   "cell_type": "code",
   "execution_count": null,
   "id": "56be7a41",
   "metadata": {},
   "outputs": [],
   "source": [
    "# Download ALOS DSM Data from Google Earth Engine\n",
    "\n",
    "ee_download(\n",
    "            asset_id=\"JAXA/ALOS/AW3D30/V3_2\",\n",
    "            bands=[\"DSM\"],\n",
    "            bbox = list(city_boundary.total_bounds), \n",
    "            output_dir=f\"{EXTERNAL}/alos_dsm_30m\",\n",
    "            scale=30\n",
    "            )\n",
    "\n"
   ]
  },
  {
   "cell_type": "markdown",
   "id": "5e99a26c",
   "metadata": {},
   "source": [
    "## **5. Impervious Surface Area**"
   ]
  },
  {
   "cell_type": "code",
   "execution_count": null,
   "id": "9c6254ff",
   "metadata": {},
   "outputs": [
    {
     "data": {
      "text/html": [
       "\n",
       "            <style>\n",
       "                .geemap-dark {\n",
       "                    --jp-widgets-color: white;\n",
       "                    --jp-widgets-label-color: white;\n",
       "                    --jp-ui-font-color1: white;\n",
       "                    --jp-layout-color2: #454545;\n",
       "                    background-color: #383838;\n",
       "                }\n",
       "\n",
       "                .geemap-dark .jupyter-button {\n",
       "                    --jp-layout-color3: #383838;\n",
       "                }\n",
       "\n",
       "                .geemap-colab {\n",
       "                    background-color: var(--colab-primary-surface-color, white);\n",
       "                }\n",
       "\n",
       "                .geemap-colab .jupyter-button {\n",
       "                    --jp-layout-color3: var(--colab-primary-surface-color, white);\n",
       "                }\n",
       "            </style>\n",
       "            "
      ],
      "text/plain": [
       "<IPython.core.display.HTML object>"
      ]
     },
     "metadata": {},
     "output_type": "display_data"
    },
    {
     "name": "stdout",
     "output_type": "stream",
     "text": [
      "IMAGE\n",
      "Downloading b1 from projects/sat-io/open-datasets/GISD30_1985_2020\n",
      "Generating URL ...\n",
      "Downloading data from https://earthengine.googleapis.com/v1/projects/21883930632/thumbnails/c4ea089287536d302fae0888db2ea659-0f60e88454714d1de38b069dce89e546:getPixels\n",
      "Please wait ...\n",
      "Data downloaded to d:\\GeoAI\\projects\\LCZ_Classification\\data\\external\\impervious_area\\GISD30_1985_2020_b1.tif\n"
     ]
    }
   ],
   "source": [
    "# Download Impervious Surface Area from Google Earth Engine\n",
    "\n",
    "ee_download(\n",
    "            asset_id=\"projects/sat-io/open-datasets/GISD30_1985_2020\",\n",
    "            bands=[\"b1\"],\n",
    "            bbox = list(city_boundary.total_bounds), \n",
    "            output_dir=f\"{EXTERNAL}/impervious_area\",\n",
    "            scale=30,\n",
    "            )"
   ]
  },
  {
   "cell_type": "markdown",
   "id": "948a20da",
   "metadata": {},
   "source": [
    "## **6. Tree Canopy Height**"
   ]
  },
  {
   "cell_type": "code",
   "execution_count": null,
   "id": "a0084ab8",
   "metadata": {},
   "outputs": [],
   "source": [
    "# Download Canopy Height from Google Earth Engine\n",
    "\n",
    "\n",
    "ee_download(\n",
    "            asset_id=\"users/nlang/ETH_GlobalCanopyHeight_2020_10m_v1\",\n",
    "            bands=[\"b1\"],\n",
    "            bbox = list(city_boundary.to_crs(4326).total_bounds), \n",
    "            output_dir=f\"{EXTERNAL}/canopy_height\",\n",
    "            scale=10,\n",
    "            tile_dims=(2,2)\n",
    "            )"
   ]
  },
  {
   "cell_type": "markdown",
   "id": "e84e8f58",
   "metadata": {},
   "source": [
    "## **7. Building Height Data**\n",
    "\n",
    "Download building height data for British Columbia from the NRCan Website- https://ftp.maps.canada.ca/pub/nrcan_rncan/extraction/auto_building/fgdb/"
   ]
  },
  {
   "cell_type": "code",
   "execution_count": null,
   "id": "b30116c7",
   "metadata": {},
   "outputs": [],
   "source": [
    "import requests\n",
    "from bs4 import BeautifulSoup\n",
    "import os\n",
    "from tqdm import tqdm\n",
    "\n",
    "# Base URL of the directory\n",
    "BASE_URL = \"https://ftp.maps.canada.ca/pub/nrcan_rncan/extraction/auto_building/fgdb/\"\n",
    "\n",
    "# Create a session\n",
    "session = requests.Session()\n",
    "\n",
    "def get_bc_links(url):\n",
    "    print(f\"Fetching links from {url}\")\n",
    "    response = session.get(url)\n",
    "    response.raise_for_status()\n",
    "\n",
    "    soup = BeautifulSoup(response.text, 'html.parser')\n",
    "    links = []\n",
    "    for link in soup.find_all('a'):\n",
    "        href = link.get('href')\n",
    "        if href and \"BC\" in href and href.endswith('.zip'):\n",
    "            full_url = url + href\n",
    "            links.append(full_url)\n",
    "    return links\n",
    "\n",
    "def download_file(url, dest_folder=\".\"):\n",
    "    local_filename = os.path.join(dest_folder, url.split(\"/\")[-1])\n",
    "    print(f\"Downloading: {url}\")\n",
    "    with session.get(url, stream=True) as r:\n",
    "        r.raise_for_status()\n",
    "        total = int(r.headers.get('content-length', 0))\n",
    "        with open(local_filename, 'wb') as f, tqdm(\n",
    "            desc=local_filename,\n",
    "            total=total,\n",
    "            unit='B',\n",
    "            unit_scale=True,\n",
    "            unit_divisor=1024,\n",
    "        ) as bar:\n",
    "            for chunk in r.iter_content(chunk_size=8192):\n",
    "                if chunk:\n",
    "                    f.write(chunk)\n",
    "                    bar.update(len(chunk))\n",
    "    print(f\"Saved to {local_filename}\")\n",
    "\n",
    "if __name__ == \"__main__\":\n",
    "    bc_links = get_bc_links(BASE_URL)\n",
    "    print(f\"Found {len(bc_links)} BC-related files.\")\n",
    "    for link in bc_links:\n",
    "        download_file(link, dest_folder=\"../data/external/building_height\")\n"
   ]
  }
 ],
 "metadata": {
  "kernelspec": {
   "display_name": "lcz_classification",
   "language": "python",
   "name": "python3"
  },
  "language_info": {
   "codemirror_mode": {
    "name": "ipython",
    "version": 3
   },
   "file_extension": ".py",
   "mimetype": "text/x-python",
   "name": "python",
   "nbconvert_exporter": "python",
   "pygments_lexer": "ipython3",
   "version": "3.11.11"
  }
 },
 "nbformat": 4,
 "nbformat_minor": 5
}
