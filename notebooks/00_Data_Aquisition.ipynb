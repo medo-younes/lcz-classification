{
 "cells": [
  {
   "cell_type": "markdown",
   "id": "feb6af3f",
   "metadata": {},
   "source": [
    "# **Data Aquistion**\n",
    "\n",
    "\n",
    "This notebook downloads the required data for state-of-the-art LCZ Classification:\n",
    "\n",
    "1. Setup the project by defining the city of interest\n",
    "2. City boundary polygon download from OpenStreetMap \n",
    "3. Sentinel-2 imagery download using AWS S3\n",
    "4. ALOS DSM 30m download from Google Earth Engine\n",
    "5. Impervious Surface Area download from Google Earth Engine \n",
    "6. Tree Canopy Height download from Google Earth Engine\n",
    "7. Building Height download from NRCan"
   ]
  },
  {
   "cell_type": "markdown",
   "id": "4ee37c72",
   "metadata": {},
   "source": [
    "## **1. Project Setup**\n",
    "\n",
    "\n",
    "This code block imports the necessery Python libraries"
   ]
  },
  {
   "cell_type": "markdown",
   "id": "57ed3d2b",
   "metadata": {},
   "source": [
    "### 1.1. Import Libraries"
   ]
  },
  {
   "cell_type": "code",
   "execution_count": 1,
   "id": "ad0df9e2",
   "metadata": {},
   "outputs": [
    {
     "name": "stdout",
     "output_type": "stream",
     "text": [
      "- Parent directory for Toronto already exists, retrievine folder paths...\n",
      "- Folder paths for Toronto retrieved.\n"
     ]
    }
   ],
   "source": [
    "%load_ext autoreload\n",
    "%autoreload \n",
    "\n",
    "import sys\n",
    "import os\n",
    "\n",
    "# Add the module's parent directory to sys.path\n",
    "module_path = os.path.abspath(os.path.join('..'))\n",
    "if module_path not in sys.path:\n",
    "    sys.path.append(module_path)\n",
    "\n",
    "from lcz_classification.config import  *\n",
    "from lcz_classification.dataset import get_matching_scenes, download_tiles, ee_download, fetch_metadata\n",
    "from lcz_classification.util import tiles_from_bbox\n",
    "import geopandas as gpd\n",
    "import matplotlib.pyplot as plt\n",
    "import ee\n",
    "import numpy as np\n",
    "import pandas as pd\n"
   ]
  },
  {
   "cell_type": "markdown",
   "id": "26058b10",
   "metadata": {},
   "source": [
    "#### 1.2. Setup Directories"
   ]
  },
  {
   "cell_type": "code",
   "execution_count": 2,
   "id": "a75bd37b",
   "metadata": {},
   "outputs": [
    {
     "data": {
      "text/html": [
       "\n",
       "            <style>\n",
       "                .geemap-dark {\n",
       "                    --jp-widgets-color: white;\n",
       "                    --jp-widgets-label-color: white;\n",
       "                    --jp-ui-font-color1: white;\n",
       "                    --jp-layout-color2: #454545;\n",
       "                    background-color: #383838;\n",
       "                }\n",
       "\n",
       "                .geemap-dark .jupyter-button {\n",
       "                    --jp-layout-color3: #383838;\n",
       "                }\n",
       "\n",
       "                .geemap-colab {\n",
       "                    background-color: var(--colab-primary-surface-color, white);\n",
       "                }\n",
       "\n",
       "                .geemap-colab .jupyter-button {\n",
       "                    --jp-layout-color3: var(--colab-primary-surface-color, white);\n",
       "                }\n",
       "            </style>\n",
       "            "
      ],
      "text/plain": [
       "<IPython.core.display.HTML object>"
      ]
     },
     "metadata": {},
     "output_type": "display_data"
    }
   ],
   "source": [
    "\n",
    "study_area=fetch_metadata('STUDY_AREA')\n",
    "bounds=list(study_area.total_bounds)\n",
    "\n",
    "s2_tiles=fetch_metadata('S2_TILES')\n",
    "\n",
    "tiles_gdf=tiles_from_bbox(bounds, tile_dims=(2,2)).sort_values('tile_id')"
   ]
  },
  {
   "cell_type": "code",
   "execution_count": 6,
   "id": "4faa2322",
   "metadata": {},
   "outputs": [
    {
     "data": {
      "text/html": [
       "\n",
       "            <style>\n",
       "                .geemap-dark {\n",
       "                    --jp-widgets-color: white;\n",
       "                    --jp-widgets-label-color: white;\n",
       "                    --jp-ui-font-color1: white;\n",
       "                    --jp-layout-color2: #454545;\n",
       "                    background-color: #383838;\n",
       "                }\n",
       "\n",
       "                .geemap-dark .jupyter-button {\n",
       "                    --jp-layout-color3: #383838;\n",
       "                }\n",
       "\n",
       "                .geemap-colab {\n",
       "                    background-color: var(--colab-primary-surface-color, white);\n",
       "                }\n",
       "\n",
       "                .geemap-colab .jupyter-button {\n",
       "                    --jp-layout-color3: var(--colab-primary-surface-color, white);\n",
       "                }\n",
       "            </style>\n",
       "            "
      ],
      "text/plain": [
       "<IPython.core.display.HTML object>"
      ]
     },
     "metadata": {},
     "output_type": "display_data"
    },
    {
     "data": {
      "text/plain": [
       "[-80.2792928382672, 43.1923463333928, -78.3425250857055, 44.5856333390622]"
      ]
     },
     "execution_count": 6,
     "metadata": {},
     "output_type": "execute_result"
    }
   ],
   "source": [
    "[float(x) for x in bounds]"
   ]
  },
  {
   "cell_type": "markdown",
   "id": "d1385148",
   "metadata": {},
   "source": [
    "# 2.1. Get Study Area"
   ]
  },
  {
   "cell_type": "code",
   "execution_count": 344,
   "id": "a59fd93b",
   "metadata": {},
   "outputs": [
    {
     "data": {
      "text/html": [
       "\n",
       "            <style>\n",
       "                .geemap-dark {\n",
       "                    --jp-widgets-color: white;\n",
       "                    --jp-widgets-label-color: white;\n",
       "                    --jp-ui-font-color1: white;\n",
       "                    --jp-layout-color2: #454545;\n",
       "                    background-color: #383838;\n",
       "                }\n",
       "\n",
       "                .geemap-dark .jupyter-button {\n",
       "                    --jp-layout-color3: #383838;\n",
       "                }\n",
       "\n",
       "                .geemap-colab {\n",
       "                    background-color: var(--colab-primary-surface-color, white);\n",
       "                }\n",
       "\n",
       "                .geemap-colab .jupyter-button {\n",
       "                    --jp-layout-color3: var(--colab-primary-surface-color, white);\n",
       "                }\n",
       "            </style>\n",
       "            "
      ],
      "text/plain": [
       "<IPython.core.display.HTML object>"
      ]
     },
     "metadata": {},
     "output_type": "display_data"
    },
    {
     "data": {
      "text/html": [
       "<div style=\"width:100%;\"><div style=\"position:relative;width:100%;height:0;padding-bottom:60%;\"><span style=\"color:#565656\">Make this Notebook Trusted to load map: File -> Trust Notebook</span><iframe srcdoc=\"&lt;!DOCTYPE html&gt;\n",
       "&lt;html&gt;\n",
       "&lt;head&gt;\n",
       "    \n",
       "    &lt;meta http-equiv=&quot;content-type&quot; content=&quot;text/html; charset=UTF-8&quot; /&gt;\n",
       "    \n",
       "        &lt;script&gt;\n",
       "            L_NO_TOUCH = false;\n",
       "            L_DISABLE_3D = false;\n",
       "        &lt;/script&gt;\n",
       "    \n",
       "    &lt;style&gt;html, body {width: 100%;height: 100%;margin: 0;padding: 0;}&lt;/style&gt;\n",
       "    &lt;style&gt;#map {position:absolute;top:0;bottom:0;right:0;left:0;}&lt;/style&gt;\n",
       "    &lt;script src=&quot;https://cdn.jsdelivr.net/npm/leaflet@1.9.3/dist/leaflet.js&quot;&gt;&lt;/script&gt;\n",
       "    &lt;script src=&quot;https://code.jquery.com/jquery-3.7.1.min.js&quot;&gt;&lt;/script&gt;\n",
       "    &lt;script src=&quot;https://cdn.jsdelivr.net/npm/bootstrap@5.2.2/dist/js/bootstrap.bundle.min.js&quot;&gt;&lt;/script&gt;\n",
       "    &lt;script src=&quot;https://cdnjs.cloudflare.com/ajax/libs/Leaflet.awesome-markers/2.0.2/leaflet.awesome-markers.js&quot;&gt;&lt;/script&gt;\n",
       "    &lt;link rel=&quot;stylesheet&quot; href=&quot;https://cdn.jsdelivr.net/npm/leaflet@1.9.3/dist/leaflet.css&quot;/&gt;\n",
       "    &lt;link rel=&quot;stylesheet&quot; href=&quot;https://cdn.jsdelivr.net/npm/bootstrap@5.2.2/dist/css/bootstrap.min.css&quot;/&gt;\n",
       "    &lt;link rel=&quot;stylesheet&quot; href=&quot;https://netdna.bootstrapcdn.com/bootstrap/3.0.0/css/bootstrap-glyphicons.css&quot;/&gt;\n",
       "    &lt;link rel=&quot;stylesheet&quot; href=&quot;https://cdn.jsdelivr.net/npm/@fortawesome/fontawesome-free@6.2.0/css/all.min.css&quot;/&gt;\n",
       "    &lt;link rel=&quot;stylesheet&quot; href=&quot;https://cdnjs.cloudflare.com/ajax/libs/Leaflet.awesome-markers/2.0.2/leaflet.awesome-markers.css&quot;/&gt;\n",
       "    &lt;link rel=&quot;stylesheet&quot; href=&quot;https://cdn.jsdelivr.net/gh/python-visualization/folium/folium/templates/leaflet.awesome.rotate.min.css&quot;/&gt;\n",
       "    \n",
       "            &lt;meta name=&quot;viewport&quot; content=&quot;width=device-width,\n",
       "                initial-scale=1.0, maximum-scale=1.0, user-scalable=no&quot; /&gt;\n",
       "            &lt;style&gt;\n",
       "                #map_d60b8f878add8e869c08ca93a1227d78 {\n",
       "                    position: relative;\n",
       "                    width: 100.0%;\n",
       "                    height: 100.0%;\n",
       "                    left: 0.0%;\n",
       "                    top: 0.0%;\n",
       "                }\n",
       "                .leaflet-container { font-size: 1rem; }\n",
       "            &lt;/style&gt;\n",
       "        \n",
       "    \n",
       "                    &lt;style&gt;\n",
       "                        .foliumtooltip {\n",
       "                            \n",
       "                        }\n",
       "                       .foliumtooltip table{\n",
       "                            margin: auto;\n",
       "                        }\n",
       "                        .foliumtooltip tr{\n",
       "                            text-align: left;\n",
       "                        }\n",
       "                        .foliumtooltip th{\n",
       "                            padding: 2px; padding-right: 8px;\n",
       "                        }\n",
       "                    &lt;/style&gt;\n",
       "            \n",
       "&lt;/head&gt;\n",
       "&lt;body&gt;\n",
       "    \n",
       "    \n",
       "            &lt;div class=&quot;folium-map&quot; id=&quot;map_d60b8f878add8e869c08ca93a1227d78&quot; &gt;&lt;/div&gt;\n",
       "        \n",
       "&lt;/body&gt;\n",
       "&lt;script&gt;\n",
       "    \n",
       "    \n",
       "            var map_d60b8f878add8e869c08ca93a1227d78 = L.map(\n",
       "                &quot;map_d60b8f878add8e869c08ca93a1227d78&quot;,\n",
       "                {\n",
       "                    center: [43.888989836227495, -79.31090896198634],\n",
       "                    crs: L.CRS.EPSG3857,\n",
       "                    ...{\n",
       "  &quot;zoom&quot;: 10,\n",
       "  &quot;zoomControl&quot;: true,\n",
       "  &quot;preferCanvas&quot;: false,\n",
       "}\n",
       "\n",
       "                }\n",
       "            );\n",
       "            L.control.scale().addTo(map_d60b8f878add8e869c08ca93a1227d78);\n",
       "\n",
       "            \n",
       "\n",
       "        \n",
       "    \n",
       "            var tile_layer_43c4928e8407105b1f3935843e816483 = L.tileLayer(\n",
       "                &quot;https://tile.openstreetmap.org/{z}/{x}/{y}.png&quot;,\n",
       "                {\n",
       "  &quot;minZoom&quot;: 0,\n",
       "  &quot;maxZoom&quot;: 19,\n",
       "  &quot;maxNativeZoom&quot;: 19,\n",
       "  &quot;noWrap&quot;: false,\n",
       "  &quot;attribution&quot;: &quot;\\u0026copy; \\u003ca href=\\&quot;https://www.openstreetmap.org/copyright\\&quot;\\u003eOpenStreetMap\\u003c/a\\u003e contributors&quot;,\n",
       "  &quot;subdomains&quot;: &quot;abc&quot;,\n",
       "  &quot;detectRetina&quot;: false,\n",
       "  &quot;tms&quot;: false,\n",
       "  &quot;opacity&quot;: 1,\n",
       "}\n",
       "\n",
       "            );\n",
       "        \n",
       "    \n",
       "            tile_layer_43c4928e8407105b1f3935843e816483.addTo(map_d60b8f878add8e869c08ca93a1227d78);\n",
       "        \n",
       "    \n",
       "            map_d60b8f878add8e869c08ca93a1227d78.fitBounds(\n",
       "                [[43.1923463333928, -80.2792928382672], [44.5856333390622, -78.3425250857055]],\n",
       "                {}\n",
       "            );\n",
       "        \n",
       "    \n",
       "        function geo_json_7a9d6ab815895e1d7b7e764b983867a9_styler(feature) {\n",
       "            switch(feature.id) {\n",
       "                default:\n",
       "                    return {&quot;fillOpacity&quot;: 0.5, &quot;weight&quot;: 2};\n",
       "            }\n",
       "        }\n",
       "        function geo_json_7a9d6ab815895e1d7b7e764b983867a9_highlighter(feature) {\n",
       "            switch(feature.id) {\n",
       "                default:\n",
       "                    return {&quot;fillOpacity&quot;: 0.75};\n",
       "            }\n",
       "        }\n",
       "        function geo_json_7a9d6ab815895e1d7b7e764b983867a9_pointToLayer(feature, latlng) {\n",
       "            var opts = {&quot;bubblingMouseEvents&quot;: true, &quot;color&quot;: &quot;#3388ff&quot;, &quot;dashArray&quot;: null, &quot;dashOffset&quot;: null, &quot;fill&quot;: true, &quot;fillColor&quot;: &quot;#3388ff&quot;, &quot;fillOpacity&quot;: 0.2, &quot;fillRule&quot;: &quot;evenodd&quot;, &quot;lineCap&quot;: &quot;round&quot;, &quot;lineJoin&quot;: &quot;round&quot;, &quot;opacity&quot;: 1.0, &quot;radius&quot;: 2, &quot;stroke&quot;: true, &quot;weight&quot;: 3};\n",
       "            \n",
       "            let style = geo_json_7a9d6ab815895e1d7b7e764b983867a9_styler(feature)\n",
       "            Object.assign(opts, style)\n",
       "            \n",
       "            return new L.CircleMarker(latlng, opts)\n",
       "        }\n",
       "\n",
       "        function geo_json_7a9d6ab815895e1d7b7e764b983867a9_onEachFeature(feature, layer) {\n",
       "            layer.on({\n",
       "                mouseout: function(e) {\n",
       "                    if(typeof e.target.setStyle === &quot;function&quot;){\n",
       "                            geo_json_7a9d6ab815895e1d7b7e764b983867a9.resetStyle(e.target);\n",
       "                    }\n",
       "                },\n",
       "                mouseover: function(e) {\n",
       "                    if(typeof e.target.setStyle === &quot;function&quot;){\n",
       "                        const highlightStyle = geo_json_7a9d6ab815895e1d7b7e764b983867a9_highlighter(e.target.feature)\n",
       "                        e.target.setStyle(highlightStyle);\n",
       "                    }\n",
       "                },\n",
       "            });\n",
       "        };\n",
       "        var geo_json_7a9d6ab815895e1d7b7e764b983867a9 = L.geoJson(null, {\n",
       "                onEachFeature: geo_json_7a9d6ab815895e1d7b7e764b983867a9_onEachFeature,\n",
       "            \n",
       "                style: geo_json_7a9d6ab815895e1d7b7e764b983867a9_styler,\n",
       "                pointToLayer: geo_json_7a9d6ab815895e1d7b7e764b983867a9_pointToLayer,\n",
       "            ...{\n",
       "  &quot;style&quot;: {\n",
       "  &quot;fill&quot;: false,\n",
       "  &quot;color&quot;: &quot;red&quot;,\n",
       "},\n",
       "}\n",
       "        });\n",
       "\n",
       "        function geo_json_7a9d6ab815895e1d7b7e764b983867a9_add (data) {\n",
       "            geo_json_7a9d6ab815895e1d7b7e764b983867a9\n",
       "                .addData(data);\n",
       "        }\n",
       "            geo_json_7a9d6ab815895e1d7b7e764b983867a9_add({&quot;bbox&quot;: [-80.2792928382672, 43.1923463333928, -78.3425250857055, 44.5856333390622], &quot;features&quot;: [{&quot;bbox&quot;: [-80.2792928382672, 43.1923463333928, -78.3425250857055, 44.5856333390622], &quot;geometry&quot;: {&quot;coordinates&quot;: [[[-78.3425250857055, 44.5856333390622, 0.0], [-78.3425250857055, 43.1923463333928, 0.0], [-80.2792928382672, 43.1923463333928, 0.0], [-80.2792928382672, 44.5856333390622, 0.0], [-78.3425250857055, 44.5856333390622, 0.0]]], &quot;type&quot;: &quot;Polygon&quot;}, &quot;id&quot;: &quot;0&quot;, &quot;properties&quot;: {&quot;Name&quot;: &quot;7976099d71531998af88ba33d9ccf91b74abeca9&quot;, &quot;altitudeMode&quot;: null, &quot;begin&quot;: null, &quot;description&quot;: null, &quot;drawOrder&quot;: null, &quot;end&quot;: null, &quot;extrude&quot;: null, &quot;icon&quot;: &quot;7976099d71531998af88ba33d9ccf91b74abeca9.png&quot;, &quot;tessellate&quot;: null, &quot;timestamp&quot;: null, &quot;visibility&quot;: -1}, &quot;type&quot;: &quot;Feature&quot;}], &quot;type&quot;: &quot;FeatureCollection&quot;});\n",
       "\n",
       "        \n",
       "    \n",
       "    geo_json_7a9d6ab815895e1d7b7e764b983867a9.bindTooltip(\n",
       "    function(layer){\n",
       "    let div = L.DomUtil.create(&#x27;div&#x27;);\n",
       "    \n",
       "    let handleObject = feature=&gt;typeof(feature)==&#x27;object&#x27; ? JSON.stringify(feature) : feature;\n",
       "    let fields = [&quot;Name&quot;, &quot;description&quot;, &quot;timestamp&quot;, &quot;begin&quot;, &quot;end&quot;, &quot;altitudeMode&quot;, &quot;tessellate&quot;, &quot;extrude&quot;, &quot;visibility&quot;, &quot;drawOrder&quot;, &quot;icon&quot;];\n",
       "    let aliases = [&quot;Name&quot;, &quot;description&quot;, &quot;timestamp&quot;, &quot;begin&quot;, &quot;end&quot;, &quot;altitudeMode&quot;, &quot;tessellate&quot;, &quot;extrude&quot;, &quot;visibility&quot;, &quot;drawOrder&quot;, &quot;icon&quot;];\n",
       "    let table = &#x27;&lt;table&gt;&#x27; +\n",
       "        String(\n",
       "        fields.map(\n",
       "        (v,i)=&gt;\n",
       "        `&lt;tr&gt;\n",
       "            &lt;th&gt;${aliases[i]}&lt;/th&gt;\n",
       "            \n",
       "            &lt;td&gt;${handleObject(layer.feature.properties[v])}&lt;/td&gt;\n",
       "        &lt;/tr&gt;`).join(&#x27;&#x27;))\n",
       "    +&#x27;&lt;/table&gt;&#x27;;\n",
       "    div.innerHTML=table;\n",
       "    \n",
       "    return div\n",
       "    }\n",
       "    ,{\n",
       "  &quot;sticky&quot;: true,\n",
       "  &quot;className&quot;: &quot;foliumtooltip&quot;,\n",
       "});\n",
       "                     \n",
       "    \n",
       "            geo_json_7a9d6ab815895e1d7b7e764b983867a9.addTo(map_d60b8f878add8e869c08ca93a1227d78);\n",
       "        \n",
       "&lt;/script&gt;\n",
       "&lt;/html&gt;\" style=\"position:absolute;width:100%;height:100%;left:0;top:0;border:none !important;\" allowfullscreen webkitallowfullscreen mozallowfullscreen></iframe></div></div>"
      ],
      "text/plain": [
       "<folium.folium.Map at 0x20fbf251ed0>"
      ]
     },
     "execution_count": 344,
     "metadata": {},
     "output_type": "execute_result"
    }
   ],
   "source": [
    "study_area.explore(\n",
    "                style=dict(\n",
    "                    fill = False,\n",
    "                    color='red'\n",
    "                ),\n",
    ")"
   ]
  },
  {
   "cell_type": "markdown",
   "id": "7047651f",
   "metadata": {},
   "source": [
    "### 1.3 Authenticate Google Earth Engine"
   ]
  },
  {
   "cell_type": "code",
   "execution_count": 346,
   "id": "5e1fff05",
   "metadata": {},
   "outputs": [
    {
     "data": {
      "text/html": [
       "\n",
       "            <style>\n",
       "                .geemap-dark {\n",
       "                    --jp-widgets-color: white;\n",
       "                    --jp-widgets-label-color: white;\n",
       "                    --jp-ui-font-color1: white;\n",
       "                    --jp-layout-color2: #454545;\n",
       "                    background-color: #383838;\n",
       "                }\n",
       "\n",
       "                .geemap-dark .jupyter-button {\n",
       "                    --jp-layout-color3: #383838;\n",
       "                }\n",
       "\n",
       "                .geemap-colab {\n",
       "                    background-color: var(--colab-primary-surface-color, white);\n",
       "                }\n",
       "\n",
       "                .geemap-colab .jupyter-button {\n",
       "                    --jp-layout-color3: var(--colab-primary-surface-color, white);\n",
       "                }\n",
       "            </style>\n",
       "            "
      ],
      "text/plain": [
       "<IPython.core.display.HTML object>"
      ]
     },
     "metadata": {},
     "output_type": "display_data"
    }
   ],
   "source": [
    "if ee.Authenticate() == True:\n",
    "    ee.Initialize(project=EE_PROJECT_NAME)    \n",
    "else:\n",
    "    ee.Authenticate(force = True)\n",
    "    ee.Initialize(project=EE_PROJECT_NAME)    "
   ]
  },
  {
   "cell_type": "markdown",
   "id": "df87a91e",
   "metadata": {},
   "source": [
    "# **3. Sentinel-2 Download**\n",
    "\n",
    "Using download_tiles function, Sentinel-2 data is downloaded from the AWS S3 Bucket using boto3. The city boundary polygon and data range are used to derive matching scenes withiin the sentinel-2 database.\n",
    "\n",
    "https://registry.opendata.aws/sentinel-2/\n"
   ]
  },
  {
   "cell_type": "code",
   "execution_count": 347,
   "id": "5f914e7d",
   "metadata": {},
   "outputs": [
    {
     "data": {
      "text/html": [
       "\n",
       "            <style>\n",
       "                .geemap-dark {\n",
       "                    --jp-widgets-color: white;\n",
       "                    --jp-widgets-label-color: white;\n",
       "                    --jp-ui-font-color1: white;\n",
       "                    --jp-layout-color2: #454545;\n",
       "                    background-color: #383838;\n",
       "                }\n",
       "\n",
       "                .geemap-dark .jupyter-button {\n",
       "                    --jp-layout-color3: #383838;\n",
       "                }\n",
       "\n",
       "                .geemap-colab {\n",
       "                    background-color: var(--colab-primary-surface-color, white);\n",
       "                }\n",
       "\n",
       "                .geemap-colab .jupyter-button {\n",
       "                    --jp-layout-color3: var(--colab-primary-surface-color, white);\n",
       "                }\n",
       "            </style>\n",
       "            "
      ],
      "text/plain": [
       "<IPython.core.display.HTML object>"
      ]
     },
     "metadata": {},
     "output_type": "display_data"
    }
   ],
   "source": [
    "\n",
    "\n",
    "\n",
    "# Function to get least-cloudy image for one tile\n",
    "# Function to get least-cloudy image for one tile\n",
    "def get_least_cloudy(col,tile_id):\n",
    "    filtered = (\n",
    "        col\n",
    "        .filter(ee.Filter.eq('MGRS_TILE', tile_id))\n",
    "        .sort('CLOUDY_PIXEL_PERCENTAGE')  # least cloudy first\n",
    "    )\n",
    "    return ee.Image(filtered.first())\n",
    "    \n",
    "\n",
    "def normalize(image):\n",
    "    bands = ['B2', 'B3', 'B4', 'B8']  # Blue, Green, Red, NIR\n",
    "    stats = image.select(bands).reduceRegion(\n",
    "        reducer=ee.Reducer.percentile([2, 98]),\n",
    "        geometry=image.geometry(),\n",
    "        scale=20,\n",
    "        maxPixels=1e9\n",
    "    )\n",
    "    min_dict = ee.Dictionary({\n",
    "        band: stats.get(f'{band}_p2') for band in bands\n",
    "    })\n",
    "    max_dict = ee.Dictionary({\n",
    "        band: stats.get(f'{band}_p98') for band in bands\n",
    "    })\n",
    "    \n",
    "    # Stretch each band\n",
    "    stretched = image.select(bands).clamp(min_dict, max_dict).unitScale(min_dict, max_dict)\n",
    "    return image.addBands(stretched, overwrite=True)\n"
   ]
  },
  {
   "cell_type": "code",
   "execution_count": null,
   "id": "d120b7ad",
   "metadata": {},
   "outputs": [
    {
     "data": {
      "text/html": [
       "\n",
       "            <style>\n",
       "                .geemap-dark {\n",
       "                    --jp-widgets-color: white;\n",
       "                    --jp-widgets-label-color: white;\n",
       "                    --jp-ui-font-color1: white;\n",
       "                    --jp-layout-color2: #454545;\n",
       "                    background-color: #383838;\n",
       "                }\n",
       "\n",
       "                .geemap-dark .jupyter-button {\n",
       "                    --jp-layout-color3: #383838;\n",
       "                }\n",
       "\n",
       "                .geemap-colab {\n",
       "                    background-color: var(--colab-primary-surface-color, white);\n",
       "                }\n",
       "\n",
       "                .geemap-colab .jupyter-button {\n",
       "                    --jp-layout-color3: var(--colab-primary-surface-color, white);\n",
       "                }\n",
       "            </style>\n",
       "            "
      ],
      "text/plain": [
       "<IPython.core.display.HTML object>"
      ]
     },
     "metadata": {},
     "output_type": "display_data"
    }
   ],
   "source": [
    "def mask_s2_clouds(image):\n",
    "  \"\"\"Masks clouds in a Sentinel-2 image using the QA band.\n",
    "\n",
    "  Args:\n",
    "      image (ee.Image): A Sentinel-2 image.\n",
    "\n",
    "  Returns:\n",
    "      ee.Image: A cloud-masked Sentinel-2 image.\n",
    "  \"\"\"\n",
    "  qa = image.select('QA60')\n",
    "\n",
    "  # Bits 10 and 11 are clouds and cirrus, respectively.\n",
    "  cloud_bit_mask = 1 << 10\n",
    "  cirrus_bit_mask = 1 << 11\n",
    "\n",
    "  # Both flags should be set to zero, indicating clear conditions.\n",
    "  mask = (\n",
    "      qa.bitwiseAnd(cloud_bit_mask)\n",
    "      .eq(0)\n",
    "      .And(qa.bitwiseAnd(cirrus_bit_mask).eq(0))\n",
    "  )\n",
    "\n",
    "  return image.updateMask(mask).divide(10000)\n",
    "\n",
    "# 1. Define a function to calculate footprint area and add it as a property\n",
    "def add_area(image):\n",
    "    area = image.geometry().area().divide(1e6)  # Area in km²\n",
    "    return image.set('footprint_area', area)\n",
    "\n"
   ]
  },
  {
   "cell_type": "code",
   "execution_count": null,
   "id": "4992cd59",
   "metadata": {},
   "outputs": [
    {
     "data": {
      "text/html": [
       "\n",
       "            <style>\n",
       "                .geemap-dark {\n",
       "                    --jp-widgets-color: white;\n",
       "                    --jp-widgets-label-color: white;\n",
       "                    --jp-ui-font-color1: white;\n",
       "                    --jp-layout-color2: #454545;\n",
       "                    background-color: #383838;\n",
       "                }\n",
       "\n",
       "                .geemap-dark .jupyter-button {\n",
       "                    --jp-layout-color3: #383838;\n",
       "                }\n",
       "\n",
       "                .geemap-colab {\n",
       "                    background-color: var(--colab-primary-surface-color, white);\n",
       "                }\n",
       "\n",
       "                .geemap-colab .jupyter-button {\n",
       "                    --jp-layout-color3: var(--colab-primary-surface-color, white);\n",
       "                }\n",
       "            </style>\n",
       "            "
      ],
      "text/plain": [
       "<IPython.core.display.HTML object>"
      ]
     },
     "metadata": {},
     "output_type": "display_data"
    },
    {
     "name": "stdout",
     "output_type": "stream",
     "text": [
      "Retrieving ImageCollection for Tile A1\n",
      "===================================================\n",
      "- Number of Features: 534\n",
      "- Lowest Cloud Percentage in Image 20180611T160829_20180611T160958_T17TNJ : 0.1%\n",
      "- Lowest Cloud Percentage in Image 20200605T160911_20200605T161838_T17TNK : 1009.4%\n",
      "- Lowest Cloud Percentage in Image 20180611T160829_20180611T160958_T17TPJ : 0.2%\n",
      "- Lowest Cloud Percentage in Image 20180611T160829_20180611T160958_T17TPK : 20.9%\n",
      "- Number of Features after Filtering: 4\n",
      "Downloading Images for Tile: A1\n",
      "===================================================\n",
      "Retrieving ImageCollection for Tile A2\n",
      "===================================================\n",
      "- Number of Features: 446\n",
      "- Lowest Cloud Percentage in Image 20180611T160829_20180611T160958_T17TNH : 0.3%\n",
      "- Lowest Cloud Percentage in Image 20180611T160829_20180611T160958_T17TNJ : 0.1%\n",
      "- Lowest Cloud Percentage in Image 20180611T160829_20180611T160958_T17TPH : 0.2%\n",
      "- Lowest Cloud Percentage in Image 20180611T160829_20180611T160958_T17TPJ : 0.2%\n",
      "- Number of Features after Filtering: 4\n",
      "Downloading Images for Tile: A2\n",
      "===================================================\n",
      "Retrieving ImageCollection for Tile B1\n",
      "===================================================\n",
      "- Number of Features: 713\n",
      "- Lowest Cloud Percentage in Image 20180611T160829_20180611T160958_T17TPJ : 0.2%\n",
      "- Lowest Cloud Percentage in Image 20180611T160829_20180611T160958_T17TPK : 20.9%\n",
      "- Lowest Cloud Percentage in Image 20180608T155859_20180608T160942_T17TQJ : 624.6%\n",
      "- Lowest Cloud Percentage in Image 20180718T160009_20180718T160729_T17TQK : 873.5%\n",
      "- Number of Features after Filtering: 4\n",
      "Downloading Images for Tile: B1\n",
      "===================================================\n",
      "Retrieving ImageCollection for Tile B2\n",
      "===================================================\n",
      "- Number of Features: 713\n",
      "- Lowest Cloud Percentage in Image 20180611T160829_20180611T160958_T17TPH : 0.2%\n",
      "- Lowest Cloud Percentage in Image 20180611T160829_20180611T160958_T17TPJ : 0.2%\n",
      "- Lowest Cloud Percentage in Image 20180812T155901_20180812T160003_T17TQH : 1107.4%\n",
      "- Lowest Cloud Percentage in Image 20180608T155859_20180608T160942_T17TQJ : 624.6%\n",
      "- Number of Features after Filtering: 4\n",
      "Downloading Images for Tile: B2\n",
      "===================================================\n"
     ]
    }
   ],
   "source": [
    "import geemap\n",
    "\n",
    "\n",
    "START_DATE , END_DATE= ('2020-06-01' ,'2020-06-30')\n",
    "\n",
    "month_filter = ee.Filter.calendarRange(6, 9, 'month')\n",
    "\n",
    "def invertCloudProbabilityBand(img):\n",
    "  cldProb = img.select('AOT')\n",
    "  cldProbInv = cldProb.multiply(-1).rename('quality')\n",
    "  return img.addBands(cldProbInv)\n",
    "\n",
    "\n",
    "\n",
    "def ee_least_cloudy(col, bbox_geom):\n",
    "        least_cloudy_images=list()\n",
    "        ee_tile_ids=sorted(col.aggregate_array('MGRS_TILE').distinct().getInfo())\n",
    "        least_cloudy_images=list()\n",
    "        aerosol_filter=ee.Filter.lt('MEAN_AOT', 0.5)\n",
    "        for ee_tile in ee_tile_ids:\n",
    "            \n",
    "            tile_filter=ee.Filter.eq('MGRS_TILE',ee_tile)\n",
    "            cloud_filter=ee.Filter.lt('CLOUDY_PIXEL_PERCENTAGE',5)\n",
    "\n",
    "            clearest_image=(col\n",
    "                            .filter(tile_filter)\n",
    "                            .filter(cloud_filter)\n",
    "                            .map(add_area)\n",
    "                            .sort('footprint_area', False)\n",
    "                            .first()\n",
    "                            ) \n",
    "            \n",
    "            least_cloudy_val=clearest_image.get('CLOUDY_PIXEL_PERCENTAGE').getInfo()\n",
    "            image_id = clearest_image.getInfo()['properties']['system:index']\n",
    "            print(f\"- Lowest Cloud Percentage in Image {image_id.split('/')[-1]} : {round(least_cloudy_val * 100, 1)}%\")\n",
    "\n",
    "            least_cloudy_images.append(clearest_image)\n",
    "\n",
    "\n",
    "        return ee.ImageCollection(ee.List(least_cloudy_images))\n",
    "        # return clearest_image\n",
    "\n",
    "images=list()\n",
    "# iterate throught tile geometries generated with tiles_from_bbox()\n",
    "for idx, tile in tiles_gdf.iterrows():\n",
    "\n",
    "     tile_id = tile.tile_id\n",
    "     print(f\"Retrieving ImageCollection for Tile {tile_id}\")\n",
    "     print(f\"===================================================\")\n",
    "     ee_geom= ee.Geometry.Rectangle(tile.geometry.bounds)\n",
    "     \n",
    "\n",
    "     # Get ImageCollection filtered by date range, cloud percentage and first tile\n",
    "     col=(ee.ImageCollection('COPERNICUS/S2_SR_HARMONIZED')\n",
    "          .filterBounds(ee_geom)\n",
    "          .filterDate(START_DATE, END_DATE)\n",
    "          .filter(ee.Filter.lt('CLOUDY_PIXEL_PERCENTAGE',5))\n",
    "          .map(invertCloudProbabilityBand)\n",
    "          .map(mask_s2_clouds)\n",
    "          )\n",
    "     \n",
    "     features = col.getInfo()['features']\n",
    "     print(f\"- Number of Features: {len(features)}\")\n",
    "     # Retrieve Least Cloudy Images from the Collection\n",
    "     # least_cloudy_col = ee_least_cloudy(col, ee_geom)\n",
    "     print(f\"- Number of Features after Filtering: {len(least_cloudy_col.getInfo()['features'])}\")\n",
    "     # Mosaic Images of Least Cloudy Collection and Clip to Bounds \n",
    "     image=col.mean()\n",
    "     \n",
    "     images.append(image)\n",
    "     # image = mask_s2_clouds(image)\n",
    "     \n",
    "     # Get Matching Tile IDs\n",
    "     # break\n",
    "     print(f'Downloading Images for Tile: {tile_id}')\n",
    "     # Iterate through target S2 bands and export\n",
    "     # for band in S2_TARGET_BANDS:\n",
    "     #      out_dir = f\"{S2_RAW}/T{tile_id}\"\n",
    "     #      filename=f\"{out_dir}/{band}.tif\"\n",
    "     #      if os.path.exists(out_dir) == False:\n",
    "     #           os.mkdir(out_dir)\n",
    "               \n",
    "     #      if os.path.exists(filename) == False:\n",
    "     #           print(f\"- Downloading ee.Image for tile {tile_id} and Band {band}\")\n",
    "     #           ee_band=band.replace('0','')\n",
    "     #           # Export Image using geemap\n",
    "     #           geemap.ee_export_image(\n",
    "     #                     image.select(ee_band),\n",
    "     #                     filename=filename,\n",
    "     #                     scale=CELL_RESOLUTION,\n",
    "     #                     file_per_band=False,\n",
    "     #                     crs='EPSG:4326', \n",
    "     #                     region = ee_geom\n",
    "     #                )\n",
    "     #      else:\n",
    "     #           print(f\"- GeoTIFF for Tile {tile_id} Band {band} already downloaded\")\n",
    "\n",
    "     print(f\"===================================================\")\n",
    "\n"
   ]
  },
  {
   "cell_type": "code",
   "execution_count": 351,
   "id": "ad29f6b2",
   "metadata": {},
   "outputs": [
    {
     "data": {
      "text/html": [
       "\n",
       "            <style>\n",
       "                .geemap-dark {\n",
       "                    --jp-widgets-color: white;\n",
       "                    --jp-widgets-label-color: white;\n",
       "                    --jp-ui-font-color1: white;\n",
       "                    --jp-layout-color2: #454545;\n",
       "                    background-color: #383838;\n",
       "                }\n",
       "\n",
       "                .geemap-dark .jupyter-button {\n",
       "                    --jp-layout-color3: #383838;\n",
       "                }\n",
       "\n",
       "                .geemap-colab {\n",
       "                    background-color: var(--colab-primary-surface-color, white);\n",
       "                }\n",
       "\n",
       "                .geemap-colab .jupyter-button {\n",
       "                    --jp-layout-color3: var(--colab-primary-surface-color, white);\n",
       "                }\n",
       "            </style>\n",
       "            "
      ],
      "text/plain": [
       "<IPython.core.display.HTML object>"
      ]
     },
     "metadata": {},
     "output_type": "display_data"
    },
    {
     "name": "stdout",
     "output_type": "stream",
     "text": [
      "- GeoTIFF for Tile A1 Band B02 already downloaded\n",
      "- GeoTIFF for Tile A1 Band B03 already downloaded\n",
      "- GeoTIFF for Tile A1 Band B04 already downloaded\n",
      "- GeoTIFF for Tile A1 Band B05 already downloaded\n",
      "- GeoTIFF for Tile A1 Band B06 already downloaded\n",
      "- GeoTIFF for Tile A1 Band B07 already downloaded\n",
      "- GeoTIFF for Tile A1 Band B8A already downloaded\n",
      "- GeoTIFF for Tile A1 Band B11 already downloaded\n",
      "- GeoTIFF for Tile A1 Band B12 already downloaded\n",
      "- GeoTIFF for Tile A2 Band B02 already downloaded\n",
      "- GeoTIFF for Tile A2 Band B03 already downloaded\n",
      "- GeoTIFF for Tile A2 Band B04 already downloaded\n",
      "- GeoTIFF for Tile A2 Band B05 already downloaded\n",
      "- GeoTIFF for Tile A2 Band B06 already downloaded\n",
      "- GeoTIFF for Tile A2 Band B07 already downloaded\n",
      "- GeoTIFF for Tile A2 Band B8A already downloaded\n",
      "- Downloading ee.Image for tile A2 and Band B11\n",
      "Generating URL ...\n",
      "Downloading data from https://earthengine.googleapis.com/v1/projects/ee-geoai-medo/thumbnails/c9624f0b5a74edc44fa5e0cb8438d3e1-5039980da05463f3b2c97fbf03afd0a7:getPixels\n",
      "Please wait ...\n",
      "Data downloaded to d:\\GeoAI\\projects\\LCZ_Classification\\data\\toronto\\raw\\sentinel2\\TA2\\B11.tif\n",
      "- Downloading ee.Image for tile A2 and Band B12\n",
      "Generating URL ...\n",
      "Downloading data from https://earthengine.googleapis.com/v1/projects/ee-geoai-medo/thumbnails/9e931a2fef5e7282b57c1c2cfa87a20e-f1bf088a3b45da24ae228c051caac280:getPixels\n",
      "Please wait ...\n",
      "Data downloaded to d:\\GeoAI\\projects\\LCZ_Classification\\data\\toronto\\raw\\sentinel2\\TA2\\B12.tif\n",
      "- GeoTIFF for Tile B1 Band B02 already downloaded\n",
      "- GeoTIFF for Tile B1 Band B03 already downloaded\n",
      "- GeoTIFF for Tile B1 Band B04 already downloaded\n",
      "- GeoTIFF for Tile B1 Band B05 already downloaded\n",
      "- GeoTIFF for Tile B1 Band B06 already downloaded\n",
      "- GeoTIFF for Tile B1 Band B07 already downloaded\n",
      "- GeoTIFF for Tile B1 Band B8A already downloaded\n",
      "- GeoTIFF for Tile B1 Band B11 already downloaded\n",
      "- GeoTIFF for Tile B1 Band B12 already downloaded\n",
      "- GeoTIFF for Tile B2 Band B02 already downloaded\n",
      "- GeoTIFF for Tile B2 Band B03 already downloaded\n",
      "- GeoTIFF for Tile B2 Band B04 already downloaded\n",
      "- GeoTIFF for Tile B2 Band B05 already downloaded\n",
      "- GeoTIFF for Tile B2 Band B06 already downloaded\n",
      "- GeoTIFF for Tile B2 Band B07 already downloaded\n",
      "- Downloading ee.Image for tile B2 and Band B8A\n",
      "Generating URL ...\n",
      "Downloading data from https://earthengine.googleapis.com/v1/projects/ee-geoai-medo/thumbnails/eb1b8923e2d86cbc06c63fc38d69efc0-44310f1d1f5276c351b260989e4806ee:getPixels\n",
      "Please wait ...\n",
      "Data downloaded to d:\\GeoAI\\projects\\LCZ_Classification\\data\\toronto\\raw\\sentinel2\\TB2\\B8A.tif\n",
      "- Downloading ee.Image for tile B2 and Band B11\n",
      "Generating URL ...\n",
      "Downloading data from https://earthengine.googleapis.com/v1/projects/ee-geoai-medo/thumbnails/2404e2cdd87b221cf0e4e2e135090f46-2ad8d427538a88f04ba3050e515805f3:getPixels\n",
      "Please wait ...\n",
      "Data downloaded to d:\\GeoAI\\projects\\LCZ_Classification\\data\\toronto\\raw\\sentinel2\\TB2\\B11.tif\n",
      "- GeoTIFF for Tile B2 Band B12 already downloaded\n"
     ]
    }
   ],
   "source": [
    "geom= ee.Geometry.Rectangle(bounds)\n",
    "full_mosaic=ee.ImageCollection(ee.List(images)).qualityMosaic('quality').clip(geom)\n",
    "\n",
    "for idx, tile in tiles_gdf.iterrows():\n",
    "\n",
    "    tile_id = tile.tile_id\n",
    "    ee_geom= ee.Geometry.Rectangle(tile.geometry.bounds)\n",
    "    for band in S2_TARGET_BANDS:\n",
    "        out_dir = f\"{S2_RAW}/T{tile_id}\"\n",
    "        filename=f\"{out_dir}/{band}.tif\"\n",
    "        if os.path.exists(out_dir) == False:\n",
    "            os.mkdir(out_dir)\n",
    "            \n",
    "        if os.path.exists(filename) == False:\n",
    "            print(f\"- Downloading ee.Image for tile {tile_id} and Band {band}\")\n",
    "            ee_band=band.replace('0','')\n",
    "            # Export Image using geemap\n",
    "            geemap.ee_export_image(\n",
    "                        full_mosaic.select(ee_band),\n",
    "                        filename=filename,\n",
    "                        scale=CELL_RESOLUTION,\n",
    "                        file_per_band=False,\n",
    "                        crs='EPSG:4326', \n",
    "                        region = ee_geom\n",
    "                )\n",
    "        else:\n",
    "            print(f\"- GeoTIFF for Tile {tile_id} Band {band} already downloaded\")"
   ]
  },
  {
   "cell_type": "code",
   "execution_count": 341,
   "id": "1f751920",
   "metadata": {},
   "outputs": [
    {
     "data": {
      "text/html": [
       "\n",
       "            <style>\n",
       "                .geemap-dark {\n",
       "                    --jp-widgets-color: white;\n",
       "                    --jp-widgets-label-color: white;\n",
       "                    --jp-ui-font-color1: white;\n",
       "                    --jp-layout-color2: #454545;\n",
       "                    background-color: #383838;\n",
       "                }\n",
       "\n",
       "                .geemap-dark .jupyter-button {\n",
       "                    --jp-layout-color3: #383838;\n",
       "                }\n",
       "\n",
       "                .geemap-colab {\n",
       "                    background-color: var(--colab-primary-surface-color, white);\n",
       "                }\n",
       "\n",
       "                .geemap-colab .jupyter-button {\n",
       "                    --jp-layout-color3: var(--colab-primary-surface-color, white);\n",
       "                }\n",
       "            </style>\n",
       "            "
      ],
      "text/plain": [
       "<IPython.core.display.HTML object>"
      ]
     },
     "metadata": {},
     "output_type": "display_data"
    },
    {
     "ename": "KeyboardInterrupt",
     "evalue": "",
     "output_type": "error",
     "traceback": [
      "\u001b[1;31m---------------------------------------------------------------------------\u001b[0m",
      "\u001b[1;31mKeyboardInterrupt\u001b[0m                         Traceback (most recent call last)",
      "Cell \u001b[1;32mIn[341], line 18\u001b[0m\n\u001b[0;32m     15\u001b[0m \u001b[38;5;66;03m# Create an interactive map\u001b[39;00m\n\u001b[0;32m     17\u001b[0m img\u001b[38;5;241m=\u001b[39mimages[\u001b[38;5;241m2\u001b[39m]\n\u001b[1;32m---> 18\u001b[0m x,y \u001b[38;5;241m=\u001b[39m \u001b[43mee\u001b[49m\u001b[38;5;241;43m.\u001b[39;49m\u001b[43mGeometry\u001b[49m\u001b[38;5;241;43m.\u001b[39;49m\u001b[43mRectangle\u001b[49m\u001b[43m(\u001b[49m\u001b[43mbounds\u001b[49m\u001b[43m)\u001b[49m\u001b[38;5;241;43m.\u001b[39;49m\u001b[43mcentroid\u001b[49m\u001b[43m(\u001b[49m\u001b[43m)\u001b[49m\u001b[38;5;241;43m.\u001b[39;49m\u001b[43mgetInfo\u001b[49m\u001b[43m(\u001b[49m\u001b[43m)\u001b[49m[\u001b[38;5;124m'\u001b[39m\u001b[38;5;124mcoordinates\u001b[39m\u001b[38;5;124m'\u001b[39m]\n\u001b[0;32m     19\u001b[0m Map \u001b[38;5;241m=\u001b[39m geemap\u001b[38;5;241m.\u001b[39mMap(center\u001b[38;5;241m=\u001b[39m(y,x), zoom\u001b[38;5;241m=\u001b[39m\u001b[38;5;241m10\u001b[39m)\n\u001b[0;32m     21\u001b[0m \u001b[38;5;66;03m# img=ee.Image(least_cloudy_col.toList(least_cloudy_col.size()).get(1))\u001b[39;00m\n\u001b[0;32m     22\u001b[0m \u001b[38;5;66;03m# Map.addLayer(first_image, vis_params, 'Sentinel-2 RGB 1')\u001b[39;00m\n",
      "File \u001b[1;32mc:\\Users\\medo_\\miniconda3\\envs\\lcz_classification\\Lib\\site-packages\\ee\\computedobject.py:107\u001b[0m, in \u001b[0;36mComputedObject.getInfo\u001b[1;34m(self)\u001b[0m\n\u001b[0;32m    101\u001b[0m \u001b[38;5;28;01mdef\u001b[39;00m \u001b[38;5;21mgetInfo\u001b[39m(\u001b[38;5;28mself\u001b[39m) \u001b[38;5;241m-\u001b[39m\u001b[38;5;241m>\u001b[39m Optional[Any]:\n\u001b[0;32m    102\u001b[0m \u001b[38;5;250m  \u001b[39m\u001b[38;5;124;03m\"\"\"Fetch and return information about this object.\u001b[39;00m\n\u001b[0;32m    103\u001b[0m \n\u001b[0;32m    104\u001b[0m \u001b[38;5;124;03m  Returns:\u001b[39;00m\n\u001b[0;32m    105\u001b[0m \u001b[38;5;124;03m    The object can evaluate to anything.\u001b[39;00m\n\u001b[0;32m    106\u001b[0m \u001b[38;5;124;03m  \"\"\"\u001b[39;00m\n\u001b[1;32m--> 107\u001b[0m   \u001b[38;5;28;01mreturn\u001b[39;00m \u001b[43mdata\u001b[49m\u001b[38;5;241;43m.\u001b[39;49m\u001b[43mcomputeValue\u001b[49m\u001b[43m(\u001b[49m\u001b[38;5;28;43mself\u001b[39;49m\u001b[43m)\u001b[49m\n",
      "File \u001b[1;32mc:\\Users\\medo_\\miniconda3\\envs\\lcz_classification\\Lib\\site-packages\\ee\\data.py:1128\u001b[0m, in \u001b[0;36mcomputeValue\u001b[1;34m(obj)\u001b[0m\n\u001b[0;32m   1125\u001b[0m body \u001b[38;5;241m=\u001b[39m {\u001b[38;5;124m'\u001b[39m\u001b[38;5;124mexpression\u001b[39m\u001b[38;5;124m'\u001b[39m: serializer\u001b[38;5;241m.\u001b[39mencode(obj, for_cloud_api\u001b[38;5;241m=\u001b[39m\u001b[38;5;28;01mTrue\u001b[39;00m)}\n\u001b[0;32m   1126\u001b[0m _maybe_populate_workload_tag(body)\n\u001b[1;32m-> 1128\u001b[0m \u001b[38;5;28;01mreturn\u001b[39;00m \u001b[43m_execute_cloud_call\u001b[49m\u001b[43m(\u001b[49m\n\u001b[0;32m   1129\u001b[0m \u001b[43m    \u001b[49m\u001b[43m_get_cloud_projects\u001b[49m\u001b[43m(\u001b[49m\u001b[43m)\u001b[49m\n\u001b[0;32m   1130\u001b[0m \u001b[43m    \u001b[49m\u001b[38;5;241;43m.\u001b[39;49m\u001b[43mvalue\u001b[49m\u001b[43m(\u001b[49m\u001b[43m)\u001b[49m\n\u001b[0;32m   1131\u001b[0m \u001b[43m    \u001b[49m\u001b[38;5;241;43m.\u001b[39;49m\u001b[43mcompute\u001b[49m\u001b[43m(\u001b[49m\u001b[43mbody\u001b[49m\u001b[38;5;241;43m=\u001b[39;49m\u001b[43mbody\u001b[49m\u001b[43m,\u001b[49m\u001b[43m \u001b[49m\u001b[43mproject\u001b[49m\u001b[38;5;241;43m=\u001b[39;49m\u001b[43m_get_projects_path\u001b[49m\u001b[43m(\u001b[49m\u001b[43m)\u001b[49m\u001b[43m,\u001b[49m\u001b[43m \u001b[49m\u001b[43mprettyPrint\u001b[49m\u001b[38;5;241;43m=\u001b[39;49m\u001b[38;5;28;43;01mFalse\u001b[39;49;00m\u001b[43m)\u001b[49m\n\u001b[0;32m   1132\u001b[0m \u001b[43m\u001b[49m\u001b[43m)\u001b[49m[\u001b[38;5;124m'\u001b[39m\u001b[38;5;124mresult\u001b[39m\u001b[38;5;124m'\u001b[39m]\n",
      "File \u001b[1;32mc:\\Users\\medo_\\miniconda3\\envs\\lcz_classification\\Lib\\site-packages\\ee\\data.py:408\u001b[0m, in \u001b[0;36m_execute_cloud_call\u001b[1;34m(call, num_retries)\u001b[0m\n\u001b[0;32m    406\u001b[0m num_retries \u001b[38;5;241m=\u001b[39m _max_retries \u001b[38;5;28;01mif\u001b[39;00m num_retries \u001b[38;5;129;01mis\u001b[39;00m \u001b[38;5;28;01mNone\u001b[39;00m \u001b[38;5;28;01melse\u001b[39;00m num_retries\n\u001b[0;32m    407\u001b[0m \u001b[38;5;28;01mtry\u001b[39;00m:\n\u001b[1;32m--> 408\u001b[0m   \u001b[38;5;28;01mreturn\u001b[39;00m \u001b[43mcall\u001b[49m\u001b[38;5;241;43m.\u001b[39;49m\u001b[43mexecute\u001b[49m\u001b[43m(\u001b[49m\u001b[43mnum_retries\u001b[49m\u001b[38;5;241;43m=\u001b[39;49m\u001b[43mnum_retries\u001b[49m\u001b[43m)\u001b[49m\n\u001b[0;32m    409\u001b[0m \u001b[38;5;28;01mexcept\u001b[39;00m googleapiclient\u001b[38;5;241m.\u001b[39merrors\u001b[38;5;241m.\u001b[39mHttpError \u001b[38;5;28;01mas\u001b[39;00m e:\n\u001b[0;32m    410\u001b[0m   \u001b[38;5;28;01mraise\u001b[39;00m _translate_cloud_exception(e)\n",
      "File \u001b[1;32mc:\\Users\\medo_\\miniconda3\\envs\\lcz_classification\\Lib\\site-packages\\googleapiclient\\_helpers.py:130\u001b[0m, in \u001b[0;36mpositional.<locals>.positional_decorator.<locals>.positional_wrapper\u001b[1;34m(*args, **kwargs)\u001b[0m\n\u001b[0;32m    128\u001b[0m     \u001b[38;5;28;01melif\u001b[39;00m positional_parameters_enforcement \u001b[38;5;241m==\u001b[39m POSITIONAL_WARNING:\n\u001b[0;32m    129\u001b[0m         logger\u001b[38;5;241m.\u001b[39mwarning(message)\n\u001b[1;32m--> 130\u001b[0m \u001b[38;5;28;01mreturn\u001b[39;00m \u001b[43mwrapped\u001b[49m\u001b[43m(\u001b[49m\u001b[38;5;241;43m*\u001b[39;49m\u001b[43margs\u001b[49m\u001b[43m,\u001b[49m\u001b[43m \u001b[49m\u001b[38;5;241;43m*\u001b[39;49m\u001b[38;5;241;43m*\u001b[39;49m\u001b[43mkwargs\u001b[49m\u001b[43m)\u001b[49m\n",
      "File \u001b[1;32mc:\\Users\\medo_\\miniconda3\\envs\\lcz_classification\\Lib\\site-packages\\googleapiclient\\http.py:923\u001b[0m, in \u001b[0;36mHttpRequest.execute\u001b[1;34m(self, http, num_retries)\u001b[0m\n\u001b[0;32m    920\u001b[0m     \u001b[38;5;28mself\u001b[39m\u001b[38;5;241m.\u001b[39mheaders[\u001b[38;5;124m\"\u001b[39m\u001b[38;5;124mcontent-length\u001b[39m\u001b[38;5;124m\"\u001b[39m] \u001b[38;5;241m=\u001b[39m \u001b[38;5;28mstr\u001b[39m(\u001b[38;5;28mlen\u001b[39m(\u001b[38;5;28mself\u001b[39m\u001b[38;5;241m.\u001b[39mbody))\n\u001b[0;32m    922\u001b[0m \u001b[38;5;66;03m# Handle retries for server-side errors.\u001b[39;00m\n\u001b[1;32m--> 923\u001b[0m resp, content \u001b[38;5;241m=\u001b[39m \u001b[43m_retry_request\u001b[49m\u001b[43m(\u001b[49m\n\u001b[0;32m    924\u001b[0m \u001b[43m    \u001b[49m\u001b[43mhttp\u001b[49m\u001b[43m,\u001b[49m\n\u001b[0;32m    925\u001b[0m \u001b[43m    \u001b[49m\u001b[43mnum_retries\u001b[49m\u001b[43m,\u001b[49m\n\u001b[0;32m    926\u001b[0m \u001b[43m    \u001b[49m\u001b[38;5;124;43m\"\u001b[39;49m\u001b[38;5;124;43mrequest\u001b[39;49m\u001b[38;5;124;43m\"\u001b[39;49m\u001b[43m,\u001b[49m\n\u001b[0;32m    927\u001b[0m \u001b[43m    \u001b[49m\u001b[38;5;28;43mself\u001b[39;49m\u001b[38;5;241;43m.\u001b[39;49m\u001b[43m_sleep\u001b[49m\u001b[43m,\u001b[49m\n\u001b[0;32m    928\u001b[0m \u001b[43m    \u001b[49m\u001b[38;5;28;43mself\u001b[39;49m\u001b[38;5;241;43m.\u001b[39;49m\u001b[43m_rand\u001b[49m\u001b[43m,\u001b[49m\n\u001b[0;32m    929\u001b[0m \u001b[43m    \u001b[49m\u001b[38;5;28;43mstr\u001b[39;49m\u001b[43m(\u001b[49m\u001b[38;5;28;43mself\u001b[39;49m\u001b[38;5;241;43m.\u001b[39;49m\u001b[43muri\u001b[49m\u001b[43m)\u001b[49m\u001b[43m,\u001b[49m\n\u001b[0;32m    930\u001b[0m \u001b[43m    \u001b[49m\u001b[43mmethod\u001b[49m\u001b[38;5;241;43m=\u001b[39;49m\u001b[38;5;28;43mstr\u001b[39;49m\u001b[43m(\u001b[49m\u001b[38;5;28;43mself\u001b[39;49m\u001b[38;5;241;43m.\u001b[39;49m\u001b[43mmethod\u001b[49m\u001b[43m)\u001b[49m\u001b[43m,\u001b[49m\n\u001b[0;32m    931\u001b[0m \u001b[43m    \u001b[49m\u001b[43mbody\u001b[49m\u001b[38;5;241;43m=\u001b[39;49m\u001b[38;5;28;43mself\u001b[39;49m\u001b[38;5;241;43m.\u001b[39;49m\u001b[43mbody\u001b[49m\u001b[43m,\u001b[49m\n\u001b[0;32m    932\u001b[0m \u001b[43m    \u001b[49m\u001b[43mheaders\u001b[49m\u001b[38;5;241;43m=\u001b[39;49m\u001b[38;5;28;43mself\u001b[39;49m\u001b[38;5;241;43m.\u001b[39;49m\u001b[43mheaders\u001b[49m\u001b[43m,\u001b[49m\n\u001b[0;32m    933\u001b[0m \u001b[43m\u001b[49m\u001b[43m)\u001b[49m\n\u001b[0;32m    935\u001b[0m \u001b[38;5;28;01mfor\u001b[39;00m callback \u001b[38;5;129;01min\u001b[39;00m \u001b[38;5;28mself\u001b[39m\u001b[38;5;241m.\u001b[39mresponse_callbacks:\n\u001b[0;32m    936\u001b[0m     callback(resp)\n",
      "File \u001b[1;32mc:\\Users\\medo_\\miniconda3\\envs\\lcz_classification\\Lib\\site-packages\\googleapiclient\\http.py:187\u001b[0m, in \u001b[0;36m_retry_request\u001b[1;34m(http, num_retries, req_type, sleep, rand, uri, method, *args, **kwargs)\u001b[0m\n\u001b[0;32m    176\u001b[0m     sleep_time \u001b[38;5;241m=\u001b[39m rand() \u001b[38;5;241m*\u001b[39m \u001b[38;5;241m2\u001b[39m\u001b[38;5;241m*\u001b[39m\u001b[38;5;241m*\u001b[39mretry_num\n\u001b[0;32m    177\u001b[0m     LOGGER\u001b[38;5;241m.\u001b[39mwarning(\n\u001b[0;32m    178\u001b[0m         \u001b[38;5;124m\"\u001b[39m\u001b[38;5;124mSleeping \u001b[39m\u001b[38;5;132;01m%.2f\u001b[39;00m\u001b[38;5;124m seconds before retry \u001b[39m\u001b[38;5;132;01m%d\u001b[39;00m\u001b[38;5;124m of \u001b[39m\u001b[38;5;132;01m%d\u001b[39;00m\u001b[38;5;124m for \u001b[39m\u001b[38;5;132;01m%s\u001b[39;00m\u001b[38;5;124m: \u001b[39m\u001b[38;5;132;01m%s\u001b[39;00m\u001b[38;5;124m \u001b[39m\u001b[38;5;132;01m%s\u001b[39;00m\u001b[38;5;124m, after \u001b[39m\u001b[38;5;132;01m%s\u001b[39;00m\u001b[38;5;124m\"\u001b[39m,\n\u001b[0;32m    179\u001b[0m         sleep_time,\n\u001b[1;32m   (...)\u001b[0m\n\u001b[0;32m    185\u001b[0m         resp\u001b[38;5;241m.\u001b[39mstatus \u001b[38;5;28;01mif\u001b[39;00m resp \u001b[38;5;28;01melse\u001b[39;00m exception,\n\u001b[0;32m    186\u001b[0m     )\n\u001b[1;32m--> 187\u001b[0m     sleep(sleep_time)\n\u001b[0;32m    189\u001b[0m \u001b[38;5;28;01mtry\u001b[39;00m:\n\u001b[0;32m    190\u001b[0m     exception \u001b[38;5;241m=\u001b[39m \u001b[38;5;28;01mNone\u001b[39;00m\n",
      "\u001b[1;31mKeyboardInterrupt\u001b[0m: "
     ]
    }
   ],
   "source": [
    "\n",
    "# Select bands for visualization (e.g., RGB)\n",
    "# vis_params = {\n",
    "#     'min': 0,\n",
    "#     'max': 3000,\n",
    "#     'bands': ['B4', 'B3', 'B2'],  # RGB\n",
    "# }\n",
    "\n",
    "vis_params = {\n",
    "    'min': 0,\n",
    "    'max': 3000,\n",
    "    'bands': ['B4', 'B3', 'B8A'],  # RGB\n",
    "}\n",
    "\n",
    "\n",
    "# Create an interactive map\n",
    "\n",
    "img=images[2]\n",
    "x,y = ee.Geometry.Rectangle(bounds).centroid().getInfo()['coordinates']\n",
    "Map = geemap.Map(center=(y,x), zoom=10)\n",
    "\n",
    "# img=ee.Image(least_cloudy_col.toList(least_cloudy_col.size()).get(1))\n",
    "# Map.addLayer(first_image, vis_params, 'Sentinel-2 RGB 1')\n",
    "Map.addLayer(full_mosaic, vis_params, 'Sentinel-2 RGB 2')\n",
    "# Map.addLayer(images[2], vis_params, 'Sentinel-2 RGB 3')\n",
    "# Map.addLayer(images[3], vis_params, 'Sentinel-2 RGB 4')\n",
    "Map.addLayer(ee.Geometry.Rectangle(bounds), {'fill': None}, 'AOI')\n",
    "Map"
   ]
  },
  {
   "cell_type": "markdown",
   "id": "050fd55c",
   "metadata": {},
   "source": [
    "## **4. DSM from ALOS 30m**"
   ]
  },
  {
   "cell_type": "code",
   "execution_count": null,
   "id": "56be7a41",
   "metadata": {},
   "outputs": [
    {
     "data": {
      "text/html": [
       "\n",
       "            <style>\n",
       "                .geemap-dark {\n",
       "                    --jp-widgets-color: white;\n",
       "                    --jp-widgets-label-color: white;\n",
       "                    --jp-ui-font-color1: white;\n",
       "                    --jp-layout-color2: #454545;\n",
       "                    background-color: #383838;\n",
       "                }\n",
       "\n",
       "                .geemap-dark .jupyter-button {\n",
       "                    --jp-layout-color3: #383838;\n",
       "                }\n",
       "\n",
       "                .geemap-colab {\n",
       "                    background-color: var(--colab-primary-surface-color, white);\n",
       "                }\n",
       "\n",
       "                .geemap-colab .jupyter-button {\n",
       "                    --jp-layout-color3: var(--colab-primary-surface-color, white);\n",
       "                }\n",
       "            </style>\n",
       "            "
      ],
      "text/plain": [
       "<IPython.core.display.HTML object>"
      ]
     },
     "metadata": {},
     "output_type": "display_data"
    },
    {
     "name": "stdout",
     "output_type": "stream",
     "text": [
      "The autoreload extension is already loaded. To reload it, use:\n",
      "  %reload_ext autoreload\n",
      "IMAGE_COLLECTION\n",
      "Downloading N043W079 tile A1\n",
      "Generating URL ...\n",
      "Downloading data from https://earthengine.googleapis.com/v1/projects/21883930632/thumbnails/4622a92094707fda499f363bad4c39b0-32c1ff5ae10acd60e5ac2bf4ce4a78e5:getPixels\n",
      "Please wait ...\n",
      "Data downloaded to d:\\GeoAI\\projects\\LCZ_Classification\\data\\toronto\\raw\\alos_dsm_30m\\N043W079_DSM_A1.tif\n",
      "Downloading N043W079 tile B1\n",
      "Generating URL ...\n",
      "Downloading data from https://earthengine.googleapis.com/v1/projects/21883930632/thumbnails/8cd2736fc5369baf19c48dca1132d32b-15b70f6b32f7f2a6bcc06c07a2b61351:getPixels\n",
      "Please wait ...\n",
      "Data downloaded to d:\\GeoAI\\projects\\LCZ_Classification\\data\\toronto\\raw\\alos_dsm_30m\\N043W079_DSM_B1.tif\n",
      "Downloading N043W080 tile A1\n",
      "Generating URL ...\n",
      "Downloading data from https://earthengine.googleapis.com/v1/projects/21883930632/thumbnails/ee51f95d4d4f6e309d2308ce4763f37c-b18ddc5139f82096a748f5a518ada511:getPixels\n",
      "Please wait ...\n",
      "Data downloaded to d:\\GeoAI\\projects\\LCZ_Classification\\data\\toronto\\raw\\alos_dsm_30m\\N043W080_DSM_A1.tif\n",
      "Downloading N043W080 tile B1\n",
      "Generating URL ...\n",
      "Downloading data from https://earthengine.googleapis.com/v1/projects/21883930632/thumbnails/49533450a870f07af0aca64bb248aefa-d59a0d3bffe5a19fd2e4d6aaa93fea9c:getPixels\n",
      "Please wait ...\n",
      "Data downloaded to d:\\GeoAI\\projects\\LCZ_Classification\\data\\toronto\\raw\\alos_dsm_30m\\N043W080_DSM_B1.tif\n",
      "Downloading N043W081 tile A1\n",
      "Generating URL ...\n",
      "Downloading data from https://earthengine.googleapis.com/v1/projects/21883930632/thumbnails/bc292b4bb7fb650f3d62bb9d476dae0f-da1d6b3ad4ade808e69acaf91c03fd3e:getPixels\n",
      "Please wait ...\n",
      "Data downloaded to d:\\GeoAI\\projects\\LCZ_Classification\\data\\toronto\\raw\\alos_dsm_30m\\N043W081_DSM_A1.tif\n",
      "Downloading N043W081 tile B1\n",
      "Generating URL ...\n",
      "Downloading data from https://earthengine.googleapis.com/v1/projects/21883930632/thumbnails/380b69131eb318dca4bf0152a0ce1317-52f44e3453155dd33d984a2b4090edba:getPixels\n",
      "Please wait ...\n",
      "Data downloaded to d:\\GeoAI\\projects\\LCZ_Classification\\data\\toronto\\raw\\alos_dsm_30m\\N043W081_DSM_B1.tif\n",
      "Downloading N044W079 tile A1\n",
      "Generating URL ...\n",
      "Downloading data from https://earthengine.googleapis.com/v1/projects/21883930632/thumbnails/0e37484bc76768c3d31cb73282681d45-4cebe627e383f5890590e4dbb0843bc7:getPixels\n",
      "Please wait ...\n",
      "Data downloaded to d:\\GeoAI\\projects\\LCZ_Classification\\data\\toronto\\raw\\alos_dsm_30m\\N044W079_DSM_A1.tif\n",
      "Downloading N044W079 tile B1\n",
      "Generating URL ...\n",
      "Downloading data from https://earthengine.googleapis.com/v1/projects/21883930632/thumbnails/0407e940dd63812c1c0bc32557ff1bc9-99d91a65d555fe0137fcb7bc1fe4fa60:getPixels\n",
      "Please wait ...\n",
      "Data downloaded to d:\\GeoAI\\projects\\LCZ_Classification\\data\\toronto\\raw\\alos_dsm_30m\\N044W079_DSM_B1.tif\n",
      "Downloading N044W080 tile A1\n",
      "Generating URL ...\n",
      "Downloading data from https://earthengine.googleapis.com/v1/projects/21883930632/thumbnails/e0f7f68f11d77b5b99c30aa5eef02e7e-d5d22b74e0efabb4ad99116546859dd0:getPixels\n",
      "Please wait ...\n",
      "Data downloaded to d:\\GeoAI\\projects\\LCZ_Classification\\data\\toronto\\raw\\alos_dsm_30m\\N044W080_DSM_A1.tif\n",
      "Downloading N044W080 tile B1\n",
      "Generating URL ...\n",
      "Downloading data from https://earthengine.googleapis.com/v1/projects/21883930632/thumbnails/98540ac384b459990d9ac1dda0e5b2bb-f7e8c965196b49f56c678bed7f3fe6db:getPixels\n",
      "Please wait ...\n",
      "Data downloaded to d:\\GeoAI\\projects\\LCZ_Classification\\data\\toronto\\raw\\alos_dsm_30m\\N044W080_DSM_B1.tif\n",
      "Downloading N044W081 tile A1\n",
      "Generating URL ...\n",
      "Downloading data from https://earthengine.googleapis.com/v1/projects/21883930632/thumbnails/095035df0b4018077c42c95af1f6e927-31bec431c0bd857c5b656afd05ab48b0:getPixels\n",
      "Please wait ...\n",
      "Data downloaded to d:\\GeoAI\\projects\\LCZ_Classification\\data\\toronto\\raw\\alos_dsm_30m\\N044W081_DSM_A1.tif\n",
      "Downloading N044W081 tile B1\n",
      "Generating URL ...\n",
      "Downloading data from https://earthengine.googleapis.com/v1/projects/21883930632/thumbnails/b924cc57827e258a79bc232842f65979-a92f3a5bfcff3ff96bdd0fb7829a0580:getPixels\n",
      "Please wait ...\n",
      "Data downloaded to d:\\GeoAI\\projects\\LCZ_Classification\\data\\toronto\\raw\\alos_dsm_30m\\N044W081_DSM_B1.tif\n",
      "EE DOWNLOAD COMPLETE\n"
     ]
    }
   ],
   "source": [
    "# Download ALOS DSM Data from Google Earth Engine\n",
    "\n",
    "ee_download(\n",
    "            asset_id=\"JAXA/ALOS/AW3D30/V3_2\",\n",
    "            bands=[\"DSM\"],\n",
    "            bbox = bounds, \n",
    "            output_dir=DSM_RAW,\n",
    "            scale=CELL_RESOLUTION,\n",
    "            tile_dims=(2,1)\n",
    "            )\n",
    "\n"
   ]
  },
  {
   "cell_type": "markdown",
   "id": "5e99a26c",
   "metadata": {},
   "source": [
    "## **5. Impervious Surface Area**"
   ]
  },
  {
   "cell_type": "code",
   "execution_count": 21,
   "id": "9c6254ff",
   "metadata": {},
   "outputs": [
    {
     "data": {
      "text/html": [
       "\n",
       "            <style>\n",
       "                .geemap-dark {\n",
       "                    --jp-widgets-color: white;\n",
       "                    --jp-widgets-label-color: white;\n",
       "                    --jp-ui-font-color1: white;\n",
       "                    --jp-layout-color2: #454545;\n",
       "                    background-color: #383838;\n",
       "                }\n",
       "\n",
       "                .geemap-dark .jupyter-button {\n",
       "                    --jp-layout-color3: #383838;\n",
       "                }\n",
       "\n",
       "                .geemap-colab {\n",
       "                    background-color: var(--colab-primary-surface-color, white);\n",
       "                }\n",
       "\n",
       "                .geemap-colab .jupyter-button {\n",
       "                    --jp-layout-color3: var(--colab-primary-surface-color, white);\n",
       "                }\n",
       "            </style>\n",
       "            "
      ],
      "text/plain": [
       "<IPython.core.display.HTML object>"
      ]
     },
     "metadata": {},
     "output_type": "display_data"
    },
    {
     "name": "stdout",
     "output_type": "stream",
     "text": [
      "IMAGE\n",
      "Downloading b1 from projects/sat-io/open-datasets/GISD30_1985_2020\n",
      "Generating URL ...\n",
      "An error occurred while downloading.\n",
      "Total request size (74553936 bytes) must be less than or equal to 50331648 bytes.\n"
     ]
    }
   ],
   "source": [
    "# # Download Impervious Surface Area from Google Earth Engine\n",
    "\n",
    "# ee_download(\n",
    "#             asset_id=\"projects/sat-io/open-datasets/GISD30_1985_2020\",\n",
    "#             bands=[\"b1\"],\n",
    "#             bbox =bounds, \n",
    "#             output_dir=IS_RAW,\n",
    "#             scale=CELL_RESOLUTION,\n",
    "#             tile_dims=tile_dims\n",
    "#             )"
   ]
  },
  {
   "cell_type": "markdown",
   "id": "948a20da",
   "metadata": {},
   "source": [
    "## **6. Tree Canopy Height**"
   ]
  },
  {
   "cell_type": "code",
   "execution_count": 26,
   "id": "a0084ab8",
   "metadata": {},
   "outputs": [
    {
     "data": {
      "text/html": [
       "\n",
       "            <style>\n",
       "                .geemap-dark {\n",
       "                    --jp-widgets-color: white;\n",
       "                    --jp-widgets-label-color: white;\n",
       "                    --jp-ui-font-color1: white;\n",
       "                    --jp-layout-color2: #454545;\n",
       "                    background-color: #383838;\n",
       "                }\n",
       "\n",
       "                .geemap-dark .jupyter-button {\n",
       "                    --jp-layout-color3: #383838;\n",
       "                }\n",
       "\n",
       "                .geemap-colab {\n",
       "                    background-color: var(--colab-primary-surface-color, white);\n",
       "                }\n",
       "\n",
       "                .geemap-colab .jupyter-button {\n",
       "                    --jp-layout-color3: var(--colab-primary-surface-color, white);\n",
       "                }\n",
       "            </style>\n",
       "            "
      ],
      "text/plain": [
       "<IPython.core.display.HTML object>"
      ]
     },
     "metadata": {},
     "output_type": "display_data"
    },
    {
     "name": "stdout",
     "output_type": "stream",
     "text": [
      "IMAGE\n",
      "Downloading b1 from users/nlang/ETH_GlobalCanopyHeight_2020_10m_v1\n",
      "Generating URL ...\n",
      "Downloading data from https://earthengine.googleapis.com/v1/projects/21883930632/thumbnails/b588ca1119bb178c8804651c8675ffb6-673df6990c779df706b5cd7143dfae95:getPixels\n",
      "Please wait ...\n",
      "Data downloaded to d:\\GeoAI\\projects\\LCZ_Classification\\data\\toronto\\raw\\canopy_height\\ETH_GlobalCanopyHeight_2020_10m_v1_b1_A4.tif\n",
      "Downloading b1 from users/nlang/ETH_GlobalCanopyHeight_2020_10m_v1\n",
      "Generating URL ...\n",
      "Downloading data from https://earthengine.googleapis.com/v1/projects/21883930632/thumbnails/1f158fa8f18023a8894eeb275dc8fb42-8d215b2be79fb1708f7f89747eff4b88:getPixels\n",
      "Please wait ...\n",
      "Data downloaded to d:\\GeoAI\\projects\\LCZ_Classification\\data\\toronto\\raw\\canopy_height\\ETH_GlobalCanopyHeight_2020_10m_v1_b1_A3.tif\n",
      "Downloading b1 from users/nlang/ETH_GlobalCanopyHeight_2020_10m_v1\n",
      "Generating URL ...\n",
      "Downloading data from https://earthengine.googleapis.com/v1/projects/21883930632/thumbnails/7770e679beb4ff57e241c1f05c6c83a0-ec25300b2f2bb5370edb3dc5d5f22856:getPixels\n",
      "Please wait ...\n",
      "Data downloaded to d:\\GeoAI\\projects\\LCZ_Classification\\data\\toronto\\raw\\canopy_height\\ETH_GlobalCanopyHeight_2020_10m_v1_b1_A2.tif\n",
      "Downloading b1 from users/nlang/ETH_GlobalCanopyHeight_2020_10m_v1\n",
      "Generating URL ...\n",
      "Downloading data from https://earthengine.googleapis.com/v1/projects/21883930632/thumbnails/3471e609d5b62dedc873d987d98f08b5-2e21641d9efd9cef318bbba4e46fe07d:getPixels\n",
      "Please wait ...\n",
      "Data downloaded to d:\\GeoAI\\projects\\LCZ_Classification\\data\\toronto\\raw\\canopy_height\\ETH_GlobalCanopyHeight_2020_10m_v1_b1_A1.tif\n",
      "Downloading b1 from users/nlang/ETH_GlobalCanopyHeight_2020_10m_v1\n",
      "Generating URL ...\n",
      "Downloading data from https://earthengine.googleapis.com/v1/projects/21883930632/thumbnails/23ddc277f5dd80a2d80ee6be60752d22-eeff70a200e6a01927f8879dc5bf5775:getPixels\n",
      "Please wait ...\n",
      "Data downloaded to d:\\GeoAI\\projects\\LCZ_Classification\\data\\toronto\\raw\\canopy_height\\ETH_GlobalCanopyHeight_2020_10m_v1_b1_B4.tif\n",
      "Downloading b1 from users/nlang/ETH_GlobalCanopyHeight_2020_10m_v1\n",
      "Generating URL ...\n",
      "Downloading data from https://earthengine.googleapis.com/v1/projects/21883930632/thumbnails/5e3f85c4b388d5552abe73c850b7edab-6ee4ec940859f8c6368080e91761866b:getPixels\n",
      "Please wait ...\n",
      "Data downloaded to d:\\GeoAI\\projects\\LCZ_Classification\\data\\toronto\\raw\\canopy_height\\ETH_GlobalCanopyHeight_2020_10m_v1_b1_B3.tif\n",
      "Downloading b1 from users/nlang/ETH_GlobalCanopyHeight_2020_10m_v1\n",
      "Generating URL ...\n",
      "Downloading data from https://earthengine.googleapis.com/v1/projects/21883930632/thumbnails/4c06e87fc87c265a8f02b1d5eb1e1577-3aa431b63195d08d373c9bdb6b56c5ad:getPixels\n",
      "Please wait ...\n",
      "Data downloaded to d:\\GeoAI\\projects\\LCZ_Classification\\data\\toronto\\raw\\canopy_height\\ETH_GlobalCanopyHeight_2020_10m_v1_b1_B2.tif\n",
      "Downloading b1 from users/nlang/ETH_GlobalCanopyHeight_2020_10m_v1\n",
      "Generating URL ...\n",
      "Downloading data from https://earthengine.googleapis.com/v1/projects/21883930632/thumbnails/5d1fc296d45f66e3f82b39718cad85ca-849081efda84fbdd26782cb9620255e7:getPixels\n",
      "Please wait ...\n",
      "Data downloaded to d:\\GeoAI\\projects\\LCZ_Classification\\data\\toronto\\raw\\canopy_height\\ETH_GlobalCanopyHeight_2020_10m_v1_b1_B1.tif\n",
      "Downloading b1 from users/nlang/ETH_GlobalCanopyHeight_2020_10m_v1\n",
      "Generating URL ...\n",
      "Downloading data from https://earthengine.googleapis.com/v1/projects/21883930632/thumbnails/43f6f071012e7b3fd63591ddebfbba5f-5ab7f789653146c472f8d9c7f314ac7d:getPixels\n",
      "Please wait ...\n",
      "Data downloaded to d:\\GeoAI\\projects\\LCZ_Classification\\data\\toronto\\raw\\canopy_height\\ETH_GlobalCanopyHeight_2020_10m_v1_b1_C4.tif\n",
      "Downloading b1 from users/nlang/ETH_GlobalCanopyHeight_2020_10m_v1\n",
      "Generating URL ...\n",
      "Downloading data from https://earthengine.googleapis.com/v1/projects/21883930632/thumbnails/f68af44cc22ab801696911e1b98bb33e-d8a30b28925ecb0bbca4133a68c1c936:getPixels\n",
      "Please wait ...\n",
      "Data downloaded to d:\\GeoAI\\projects\\LCZ_Classification\\data\\toronto\\raw\\canopy_height\\ETH_GlobalCanopyHeight_2020_10m_v1_b1_C3.tif\n",
      "Downloading b1 from users/nlang/ETH_GlobalCanopyHeight_2020_10m_v1\n",
      "Generating URL ...\n",
      "Downloading data from https://earthengine.googleapis.com/v1/projects/21883930632/thumbnails/b1bd6ca6cfc2c793c4533f6b854a4ae4-6e1b5a032a7cdc9d4455f9ec6b603032:getPixels\n",
      "Please wait ...\n",
      "Data downloaded to d:\\GeoAI\\projects\\LCZ_Classification\\data\\toronto\\raw\\canopy_height\\ETH_GlobalCanopyHeight_2020_10m_v1_b1_C2.tif\n",
      "Downloading b1 from users/nlang/ETH_GlobalCanopyHeight_2020_10m_v1\n",
      "Generating URL ...\n",
      "Downloading data from https://earthengine.googleapis.com/v1/projects/21883930632/thumbnails/78fe6e69ac797aefbd68aa3e6d956748-edfd17969099eac196c761620822c036:getPixels\n",
      "Please wait ...\n",
      "Data downloaded to d:\\GeoAI\\projects\\LCZ_Classification\\data\\toronto\\raw\\canopy_height\\ETH_GlobalCanopyHeight_2020_10m_v1_b1_C1.tif\n",
      "Downloading b1 from users/nlang/ETH_GlobalCanopyHeight_2020_10m_v1\n",
      "Generating URL ...\n",
      "Downloading data from https://earthengine.googleapis.com/v1/projects/21883930632/thumbnails/79d5c7fa18906bcf89ea044d1878b5df-c2c40739b0592c388a4137f4c187e99f:getPixels\n",
      "Please wait ...\n",
      "Data downloaded to d:\\GeoAI\\projects\\LCZ_Classification\\data\\toronto\\raw\\canopy_height\\ETH_GlobalCanopyHeight_2020_10m_v1_b1_D4.tif\n",
      "Downloading b1 from users/nlang/ETH_GlobalCanopyHeight_2020_10m_v1\n",
      "Generating URL ...\n",
      "Downloading data from https://earthengine.googleapis.com/v1/projects/21883930632/thumbnails/34e505a33e1ebba93445e588fb8e1fc1-4589c58f97623b363aab876caf2db427:getPixels\n",
      "Please wait ...\n",
      "Data downloaded to d:\\GeoAI\\projects\\LCZ_Classification\\data\\toronto\\raw\\canopy_height\\ETH_GlobalCanopyHeight_2020_10m_v1_b1_D3.tif\n",
      "Downloading b1 from users/nlang/ETH_GlobalCanopyHeight_2020_10m_v1\n",
      "Generating URL ...\n",
      "Downloading data from https://earthengine.googleapis.com/v1/projects/21883930632/thumbnails/a96a91ecb904b217f0add97605070dcd-f44062e69f7d2102e783c40fb67dee95:getPixels\n",
      "Please wait ...\n",
      "Data downloaded to d:\\GeoAI\\projects\\LCZ_Classification\\data\\toronto\\raw\\canopy_height\\ETH_GlobalCanopyHeight_2020_10m_v1_b1_D2.tif\n",
      "Downloading b1 from users/nlang/ETH_GlobalCanopyHeight_2020_10m_v1\n",
      "Generating URL ...\n",
      "Downloading data from https://earthengine.googleapis.com/v1/projects/21883930632/thumbnails/661803253760f0e965be1af45b6075f2-dbaeadcf441c3966d5b6d4fc14bc3089:getPixels\n",
      "Please wait ...\n",
      "Data downloaded to d:\\GeoAI\\projects\\LCZ_Classification\\data\\toronto\\raw\\canopy_height\\ETH_GlobalCanopyHeight_2020_10m_v1_b1_D1.tif\n"
     ]
    }
   ],
   "source": [
    "# Download Canopy Height from Google Earth Engine\n",
    "\n",
    "\n",
    "ee_download(\n",
    "            asset_id=\"users/nlang/ETH_GlobalCanopyHeight_2020_10m_v1\",\n",
    "            bands=[\"b1\"],\n",
    "            bbox = bounds, \n",
    "            output_dir=CH_RAW,\n",
    "            scale=10,\n",
    "            tile_dims=(4,4)\n",
    "            )"
   ]
  },
  {
   "cell_type": "markdown",
   "id": "e84e8f58",
   "metadata": {},
   "source": [
    "## **7. Building Height Data**\n",
    "\n",
    "Download building height data for British Columbia from the NRCan Website- https://ftp.maps.canada.ca/pub/nrcan_rncan/extraction/auto_building/fgdb/"
   ]
  },
  {
   "cell_type": "code",
   "execution_count": 28,
   "id": "b30116c7",
   "metadata": {},
   "outputs": [
    {
     "data": {
      "text/html": [
       "\n",
       "            <style>\n",
       "                .geemap-dark {\n",
       "                    --jp-widgets-color: white;\n",
       "                    --jp-widgets-label-color: white;\n",
       "                    --jp-ui-font-color1: white;\n",
       "                    --jp-layout-color2: #454545;\n",
       "                    background-color: #383838;\n",
       "                }\n",
       "\n",
       "                .geemap-dark .jupyter-button {\n",
       "                    --jp-layout-color3: #383838;\n",
       "                }\n",
       "\n",
       "                .geemap-colab {\n",
       "                    background-color: var(--colab-primary-surface-color, white);\n",
       "                }\n",
       "\n",
       "                .geemap-colab .jupyter-button {\n",
       "                    --jp-layout-color3: var(--colab-primary-surface-color, white);\n",
       "                }\n",
       "            </style>\n",
       "            "
      ],
      "text/plain": [
       "<IPython.core.display.HTML object>"
      ]
     },
     "metadata": {},
     "output_type": "display_data"
    },
    {
     "name": "stdout",
     "output_type": "stream",
     "text": [
      "Fetching links from https://ftp.maps.canada.ca/pub/nrcan_rncan/extraction/auto_building/fgdb/\n",
      "Found 29 ON-related files.\n",
      "Downloading: https://ftp.maps.canada.ca/pub/nrcan_rncan/extraction/auto_building/fgdb/Autobuilding_ON_2016-17-Peterborough_fgdb.zip\n"
     ]
    },
    {
     "name": "stderr",
     "output_type": "stream",
     "text": [
      "../data/toronto/raw/building_height\\Autobuilding_ON_2016-17-Peterborough_fgdb.zip: 100%|██████████| 33.9M/33.9M [00:17<00:00, 2.01MB/s]\n"
     ]
    },
    {
     "name": "stdout",
     "output_type": "stream",
     "text": [
      "Saved to ../data/toronto/raw/building_height\\Autobuilding_ON_2016-17-Peterborough_fgdb.zip\n",
      "Downloading: https://ftp.maps.canada.ca/pub/nrcan_rncan/extraction/auto_building/fgdb/Autobuilding_ON_2017-LakeErie_fgdb.zip\n"
     ]
    },
    {
     "name": "stderr",
     "output_type": "stream",
     "text": [
      "../data/toronto/raw/building_height\\Autobuilding_ON_2017-LakeErie_fgdb.zip: 100%|██████████| 94.5M/94.5M [00:21<00:00, 4.70MB/s]\n"
     ]
    },
    {
     "name": "stdout",
     "output_type": "stream",
     "text": [
      "Saved to ../data/toronto/raw/building_height\\Autobuilding_ON_2017-LakeErie_fgdb.zip\n",
      "Downloading: https://ftp.maps.canada.ca/pub/nrcan_rncan/extraction/auto_building/fgdb/Autobuilding_ON_BRAMPTON_fgdb.zip\n"
     ]
    },
    {
     "name": "stderr",
     "output_type": "stream",
     "text": [
      "../data/toronto/raw/building_height\\Autobuilding_ON_BRAMPTON_fgdb.zip: 100%|██████████| 6.39M/6.39M [00:07<00:00, 944kB/s] \n"
     ]
    },
    {
     "name": "stdout",
     "output_type": "stream",
     "text": [
      "Saved to ../data/toronto/raw/building_height\\Autobuilding_ON_BRAMPTON_fgdb.zip\n",
      "Downloading: https://ftp.maps.canada.ca/pub/nrcan_rncan/extraction/auto_building/fgdb/Autobuilding_ON_Eastern_Ontario_2022_fgdb.zip\n"
     ]
    },
    {
     "name": "stderr",
     "output_type": "stream",
     "text": [
      "../data/toronto/raw/building_height\\Autobuilding_ON_Eastern_Ontario_2022_fgdb.zip: 100%|██████████| 35.5M/35.5M [00:20<00:00, 1.82MB/s]\n"
     ]
    },
    {
     "name": "stdout",
     "output_type": "stream",
     "text": [
      "Saved to ../data/toronto/raw/building_height\\Autobuilding_ON_Eastern_Ontario_2022_fgdb.zip\n",
      "Downloading: https://ftp.maps.canada.ca/pub/nrcan_rncan/extraction/auto_building/fgdb/Autobuilding_ON_Eastern_Ontario_Part1_2021_fgdb.zip\n"
     ]
    },
    {
     "name": "stderr",
     "output_type": "stream",
     "text": [
      "../data/toronto/raw/building_height\\Autobuilding_ON_Eastern_Ontario_Part1_2021_fgdb.zip: 100%|██████████| 13.2M/13.2M [00:03<00:00, 4.45MB/s]\n"
     ]
    },
    {
     "name": "stdout",
     "output_type": "stream",
     "text": [
      "Saved to ../data/toronto/raw/building_height\\Autobuilding_ON_Eastern_Ontario_Part1_2021_fgdb.zip\n",
      "Downloading: https://ftp.maps.canada.ca/pub/nrcan_rncan/extraction/auto_building/fgdb/Autobuilding_ON_Eastern_Ontario_Part2_2021_fgdb.zip\n"
     ]
    },
    {
     "name": "stderr",
     "output_type": "stream",
     "text": [
      "../data/toronto/raw/building_height\\Autobuilding_ON_Eastern_Ontario_Part2_2021_fgdb.zip: 100%|██████████| 12.3M/12.3M [00:02<00:00, 4.98MB/s]\n"
     ]
    },
    {
     "name": "stdout",
     "output_type": "stream",
     "text": [
      "Saved to ../data/toronto/raw/building_height\\Autobuilding_ON_Eastern_Ontario_Part2_2021_fgdb.zip\n",
      "Downloading: https://ftp.maps.canada.ca/pub/nrcan_rncan/extraction/auto_building/fgdb/Autobuilding_ON_FHIMP_PICAI_Quinte_Belleville_UTM18_2022_fgdb.zip\n"
     ]
    },
    {
     "name": "stderr",
     "output_type": "stream",
     "text": [
      "../data/toronto/raw/building_height\\Autobuilding_ON_FHIMP_PICAI_Quinte_Belleville_UTM18_2022_fgdb.zip: 100%|██████████| 25.8M/25.8M [00:06<00:00, 4.39MB/s]\n"
     ]
    },
    {
     "name": "stdout",
     "output_type": "stream",
     "text": [
      "Saved to ../data/toronto/raw/building_height\\Autobuilding_ON_FHIMP_PICAI_Quinte_Belleville_UTM18_2022_fgdb.zip\n",
      "Downloading: https://ftp.maps.canada.ca/pub/nrcan_rncan/extraction/auto_building/fgdb/Autobuilding_ON_GTA_2023_fgdb.zip\n"
     ]
    },
    {
     "name": "stderr",
     "output_type": "stream",
     "text": [
      "../data/toronto/raw/building_height\\Autobuilding_ON_GTA_2023_fgdb.zip: 100%|██████████| 190M/190M [00:45<00:00, 4.36MB/s] \n"
     ]
    },
    {
     "name": "stdout",
     "output_type": "stream",
     "text": [
      "Saved to ../data/toronto/raw/building_height\\Autobuilding_ON_GTA_2023_fgdb.zip\n",
      "Downloading: https://ftp.maps.canada.ca/pub/nrcan_rncan/extraction/auto_building/fgdb/Autobuilding_ON_Georgian_Bay_2022_fgdb.zip\n"
     ]
    },
    {
     "name": "stderr",
     "output_type": "stream",
     "text": [
      "../data/toronto/raw/building_height\\Autobuilding_ON_Georgian_Bay_2022_fgdb.zip: 100%|██████████| 27.6M/27.6M [00:05<00:00, 5.69MB/s]\n"
     ]
    },
    {
     "name": "stdout",
     "output_type": "stream",
     "text": [
      "Saved to ../data/toronto/raw/building_height\\Autobuilding_ON_Georgian_Bay_2022_fgdb.zip\n",
      "Downloading: https://ftp.maps.canada.ca/pub/nrcan_rncan/extraction/auto_building/fgdb/Autobuilding_ON_HALTON_fgdb.zip\n"
     ]
    },
    {
     "name": "stderr",
     "output_type": "stream",
     "text": [
      "../data/toronto/raw/building_height\\Autobuilding_ON_HALTON_fgdb.zip: 100%|██████████| 25.4M/25.4M [00:04<00:00, 5.65MB/s]\n"
     ]
    },
    {
     "name": "stdout",
     "output_type": "stream",
     "text": [
      "Saved to ../data/toronto/raw/building_height\\Autobuilding_ON_HALTON_fgdb.zip\n",
      "Downloading: https://ftp.maps.canada.ca/pub/nrcan_rncan/extraction/auto_building/fgdb/Autobuilding_ON_Hamilton_Niagara_2021_2_fgdb.zip\n"
     ]
    },
    {
     "name": "stderr",
     "output_type": "stream",
     "text": [
      "../data/toronto/raw/building_height\\Autobuilding_ON_Hamilton_Niagara_2021_2_fgdb.zip: 100%|██████████| 51.6M/51.6M [00:06<00:00, 8.27MB/s]\n"
     ]
    },
    {
     "name": "stdout",
     "output_type": "stream",
     "text": [
      "Saved to ../data/toronto/raw/building_height\\Autobuilding_ON_Hamilton_Niagara_2021_2_fgdb.zip\n",
      "Downloading: https://ftp.maps.canada.ca/pub/nrcan_rncan/extraction/auto_building/fgdb/Autobuilding_ON_Huron_GeorgianBay_spring_2023_fgdb.zip\n"
     ]
    },
    {
     "name": "stderr",
     "output_type": "stream",
     "text": [
      "../data/toronto/raw/building_height\\Autobuilding_ON_Huron_GeorgianBay_spring_2023_fgdb.zip: 100%|██████████| 10.2M/10.2M [00:01<00:00, 6.47MB/s]\n"
     ]
    },
    {
     "name": "stdout",
     "output_type": "stream",
     "text": [
      "Saved to ../data/toronto/raw/building_height\\Autobuilding_ON_Huron_GeorgianBay_spring_2023_fgdb.zip\n",
      "Downloading: https://ftp.maps.canada.ca/pub/nrcan_rncan/extraction/auto_building/fgdb/Autobuilding_ON_KawarthaLakes_spring_2023_fgdb.zip\n"
     ]
    },
    {
     "name": "stderr",
     "output_type": "stream",
     "text": [
      "../data/toronto/raw/building_height\\Autobuilding_ON_KawarthaLakes_spring_2023_fgdb.zip: 100%|██████████| 13.9M/13.9M [00:04<00:00, 2.99MB/s]\n"
     ]
    },
    {
     "name": "stdout",
     "output_type": "stream",
     "text": [
      "Saved to ../data/toronto/raw/building_height\\Autobuilding_ON_KawarthaLakes_spring_2023_fgdb.zip\n",
      "Downloading: https://ftp.maps.canada.ca/pub/nrcan_rncan/extraction/auto_building/fgdb/Autobuilding_ON_Lake_Erie_2018_fgdb.zip\n"
     ]
    },
    {
     "name": "stderr",
     "output_type": "stream",
     "text": [
      "../data/toronto/raw/building_height\\Autobuilding_ON_Lake_Erie_2018_fgdb.zip: 100%|██████████| 36.6M/36.6M [00:06<00:00, 5.97MB/s]\n"
     ]
    },
    {
     "name": "stdout",
     "output_type": "stream",
     "text": [
      "Saved to ../data/toronto/raw/building_height\\Autobuilding_ON_Lake_Erie_2018_fgdb.zip\n",
      "Downloading: https://ftp.maps.canada.ca/pub/nrcan_rncan/extraction/auto_building/fgdb/Autobuilding_ON_Lake_Erie_Fall_2017_fgdb.zip\n"
     ]
    },
    {
     "name": "stderr",
     "output_type": "stream",
     "text": [
      "../data/toronto/raw/building_height\\Autobuilding_ON_Lake_Erie_Fall_2017_fgdb.zip: 100%|██████████| 42.2M/42.2M [00:07<00:00, 5.76MB/s]\n"
     ]
    },
    {
     "name": "stdout",
     "output_type": "stream",
     "text": [
      "Saved to ../data/toronto/raw/building_height\\Autobuilding_ON_Lake_Erie_Fall_2017_fgdb.zip\n",
      "Downloading: https://ftp.maps.canada.ca/pub/nrcan_rncan/extraction/auto_building/fgdb/Autobuilding_ON_Lake_Huron_2022_fgdb.zip\n"
     ]
    },
    {
     "name": "stderr",
     "output_type": "stream",
     "text": [
      "../data/toronto/raw/building_height\\Autobuilding_ON_Lake_Huron_2022_fgdb.zip: 100%|██████████| 35.7M/35.7M [00:07<00:00, 5.07MB/s]\n"
     ]
    },
    {
     "name": "stdout",
     "output_type": "stream",
     "text": [
      "Saved to ../data/toronto/raw/building_height\\Autobuilding_ON_Lake_Huron_2022_fgdb.zip\n",
      "Downloading: https://ftp.maps.canada.ca/pub/nrcan_rncan/extraction/auto_building/fgdb/Autobuilding_ON_Lake_Nipissing_2020_2_fgdb.zip\n"
     ]
    },
    {
     "name": "stderr",
     "output_type": "stream",
     "text": [
      "../data/toronto/raw/building_height\\Autobuilding_ON_Lake_Nipissing_2020_2_fgdb.zip: 100%|██████████| 8.58M/8.58M [00:01<00:00, 5.11MB/s]\n"
     ]
    },
    {
     "name": "stdout",
     "output_type": "stream",
     "text": [
      "Saved to ../data/toronto/raw/building_height\\Autobuilding_ON_Lake_Nipissing_2020_2_fgdb.zip\n",
      "Downloading: https://ftp.maps.canada.ca/pub/nrcan_rncan/extraction/auto_building/fgdb/Autobuilding_ON_Lake_Simcoe_2019_fgdb.zip\n"
     ]
    },
    {
     "name": "stderr",
     "output_type": "stream",
     "text": [
      "../data/toronto/raw/building_height\\Autobuilding_ON_Lake_Simcoe_2019_fgdb.zip: 100%|██████████| 15.3M/15.3M [00:03<00:00, 4.95MB/s]\n"
     ]
    },
    {
     "name": "stdout",
     "output_type": "stream",
     "text": [
      "Saved to ../data/toronto/raw/building_height\\Autobuilding_ON_Lake_Simcoe_2019_fgdb.zip\n",
      "Downloading: https://ftp.maps.canada.ca/pub/nrcan_rncan/extraction/auto_building/fgdb/Autobuilding_ON_Lake_Simcoe_OMAFRA_2022_fgdb.zip\n"
     ]
    },
    {
     "name": "stderr",
     "output_type": "stream",
     "text": [
      "../data/toronto/raw/building_height\\Autobuilding_ON_Lake_Simcoe_OMAFRA_2022_fgdb.zip: 100%|██████████| 20.9M/20.9M [00:03<00:00, 5.91MB/s]\n"
     ]
    },
    {
     "name": "stdout",
     "output_type": "stream",
     "text": [
      "Saved to ../data/toronto/raw/building_height\\Autobuilding_ON_Lake_Simcoe_OMAFRA_2022_fgdb.zip\n",
      "Downloading: https://ftp.maps.canada.ca/pub/nrcan_rncan/extraction/auto_building/fgdb/Autobuilding_ON_ON_Sudbury_UTM17_2023_fgdb.zip\n"
     ]
    },
    {
     "name": "stderr",
     "output_type": "stream",
     "text": [
      "../data/toronto/raw/building_height\\Autobuilding_ON_ON_Sudbury_UTM17_2023_fgdb.zip: 100%|██████████| 17.0M/17.0M [00:02<00:00, 7.27MB/s]\n"
     ]
    },
    {
     "name": "stdout",
     "output_type": "stream",
     "text": [
      "Saved to ../data/toronto/raw/building_height\\Autobuilding_ON_ON_Sudbury_UTM17_2023_fgdb.zip\n",
      "Downloading: https://ftp.maps.canada.ca/pub/nrcan_rncan/extraction/auto_building/fgdb/Autobuilding_ON_Ottawa_Gatineau_2020_fgdb.zip\n"
     ]
    },
    {
     "name": "stderr",
     "output_type": "stream",
     "text": [
      "../data/toronto/raw/building_height\\Autobuilding_ON_Ottawa_Gatineau_2020_fgdb.zip: 100%|██████████| 55.4M/55.4M [00:10<00:00, 5.48MB/s]\n"
     ]
    },
    {
     "name": "stdout",
     "output_type": "stream",
     "text": [
      "Saved to ../data/toronto/raw/building_height\\Autobuilding_ON_Ottawa_Gatineau_2020_fgdb.zip\n",
      "Downloading: https://ftp.maps.canada.ca/pub/nrcan_rncan/extraction/auto_building/fgdb/Autobuilding_ON_PEEL_fgdb.zip\n"
     ]
    },
    {
     "name": "stderr",
     "output_type": "stream",
     "text": [
      "../data/toronto/raw/building_height\\Autobuilding_ON_PEEL_fgdb.zip: 100%|██████████| 5.76M/5.76M [00:00<00:00, 6.48MB/s]\n"
     ]
    },
    {
     "name": "stdout",
     "output_type": "stream",
     "text": [
      "Saved to ../data/toronto/raw/building_height\\Autobuilding_ON_PEEL_fgdb.zip\n",
      "Downloading: https://ftp.maps.canada.ca/pub/nrcan_rncan/extraction/auto_building/fgdb/Autobuilding_ON_QC_Riviere_Outaouais_2020_fgdb.zip\n"
     ]
    },
    {
     "name": "stderr",
     "output_type": "stream",
     "text": [
      "../data/toronto/raw/building_height\\Autobuilding_ON_QC_Riviere_Outaouais_2020_fgdb.zip: 100%|██████████| 6.99M/6.99M [00:01<00:00, 6.39MB/s]\n"
     ]
    },
    {
     "name": "stdout",
     "output_type": "stream",
     "text": [
      "Saved to ../data/toronto/raw/building_height\\Autobuilding_ON_QC_Riviere_Outaouais_2020_fgdb.zip\n",
      "Downloading: https://ftp.maps.canada.ca/pub/nrcan_rncan/extraction/auto_building/fgdb/Autobuilding_ON_SPL_ON_Hearst_UTM17_2019_fgdb.zip\n"
     ]
    },
    {
     "name": "stderr",
     "output_type": "stream",
     "text": [
      "../data/toronto/raw/building_height\\Autobuilding_ON_SPL_ON_Hearst_UTM17_2019_fgdb.zip: 100%|██████████| 915k/915k [00:00<00:00, 4.55MB/s]\n"
     ]
    },
    {
     "name": "stdout",
     "output_type": "stream",
     "text": [
      "Saved to ../data/toronto/raw/building_height\\Autobuilding_ON_SPL_ON_Hearst_UTM17_2019_fgdb.zip\n",
      "Downloading: https://ftp.maps.canada.ca/pub/nrcan_rncan/extraction/auto_building/fgdb/Autobuilding_ON_Sarnia_Lake_Huron_OMAFRA_2022_fgdb.zip\n"
     ]
    },
    {
     "name": "stderr",
     "output_type": "stream",
     "text": [
      "../data/toronto/raw/building_height\\Autobuilding_ON_Sarnia_Lake_Huron_OMAFRA_2022_fgdb.zip: 100%|██████████| 20.0M/20.0M [00:04<00:00, 5.06MB/s]\n"
     ]
    },
    {
     "name": "stdout",
     "output_type": "stream",
     "text": [
      "Saved to ../data/toronto/raw/building_height\\Autobuilding_ON_Sarnia_Lake_Huron_OMAFRA_2022_fgdb.zip\n",
      "Downloading: https://ftp.maps.canada.ca/pub/nrcan_rncan/extraction/auto_building/fgdb/Autobuilding_ON_South_Central_Durham_fgdb.zip\n"
     ]
    },
    {
     "name": "stderr",
     "output_type": "stream",
     "text": [
      "../data/toronto/raw/building_height\\Autobuilding_ON_South_Central_Durham_fgdb.zip: 100%|██████████| 15.9M/15.9M [00:02<00:00, 5.75MB/s]\n"
     ]
    },
    {
     "name": "stdout",
     "output_type": "stream",
     "text": [
      "Saved to ../data/toronto/raw/building_height\\Autobuilding_ON_South_Central_Durham_fgdb.zip\n",
      "Downloading: https://ftp.maps.canada.ca/pub/nrcan_rncan/extraction/auto_building/fgdb/Autobuilding_QC_2009_701-09-PONTIAC_MTM09_fgdb.zip\n"
     ]
    },
    {
     "name": "stderr",
     "output_type": "stream",
     "text": [
      "../data/toronto/raw/building_height\\Autobuilding_QC_2009_701-09-PONTIAC_MTM09_fgdb.zip: 100%|██████████| 190k/190k [00:00<00:00, 20.0MB/s]\n"
     ]
    },
    {
     "name": "stdout",
     "output_type": "stream",
     "text": [
      "Saved to ../data/toronto/raw/building_height\\Autobuilding_QC_2009_701-09-PONTIAC_MTM09_fgdb.zip\n",
      "Downloading: https://ftp.maps.canada.ca/pub/nrcan_rncan/extraction/auto_building/fgdb/Autobuilding_QC_2014_600014-35-PONTIAC_MTM09_fgdb.zip\n"
     ]
    },
    {
     "name": "stderr",
     "output_type": "stream",
     "text": [
      "../data/toronto/raw/building_height\\Autobuilding_QC_2014_600014-35-PONTIAC_MTM09_fgdb.zip: 100%|██████████| 1.86M/1.86M [00:00<00:00, 3.28MB/s]\n"
     ]
    },
    {
     "name": "stdout",
     "output_type": "stream",
     "text": [
      "Saved to ../data/toronto/raw/building_height\\Autobuilding_QC_2014_600014-35-PONTIAC_MTM09_fgdb.zip\n",
      "Downloading: https://ftp.maps.canada.ca/pub/nrcan_rncan/extraction/auto_building/fgdb/Autobuilding_QC_VILLE_MONTREAL_fgdb.zip\n"
     ]
    },
    {
     "name": "stderr",
     "output_type": "stream",
     "text": [
      "../data/toronto/raw/building_height\\Autobuilding_QC_VILLE_MONTREAL_fgdb.zip: 100%|██████████| 29.7M/29.7M [00:05<00:00, 6.10MB/s]"
     ]
    },
    {
     "name": "stdout",
     "output_type": "stream",
     "text": [
      "Saved to ../data/toronto/raw/building_height\\Autobuilding_QC_VILLE_MONTREAL_fgdb.zip\n"
     ]
    },
    {
     "name": "stderr",
     "output_type": "stream",
     "text": [
      "\n"
     ]
    }
   ],
   "source": [
    "import requests\n",
    "from bs4 import BeautifulSoup\n",
    "import os\n",
    "from tqdm import tqdm\n",
    "\n",
    "# Base URL of the directory\n",
    "BASE_URL = \"https://ftp.maps.canada.ca/pub/nrcan_rncan/extraction/auto_building/fgdb/\"\n",
    "PROVINCE = \"ON\"\n",
    "# Create a session\n",
    "session = requests.Session()\n",
    "\n",
    "def get_links(url, province):\n",
    "    print(f\"Fetching links from {url}\")\n",
    "    response = session.get(url)\n",
    "    response.raise_for_status()\n",
    "\n",
    "    soup = BeautifulSoup(response.text, 'html.parser')\n",
    "    links = []\n",
    "    for link in soup.find_all('a'):\n",
    "        href = link.get('href')\n",
    "        if href and province in href and href.endswith('.zip'):\n",
    "            full_url = url + href\n",
    "            links.append(full_url)\n",
    "    return links\n",
    "\n",
    "def download_file(url, dest_folder=\".\"):\n",
    "    local_filename = os.path.join(dest_folder, url.split(\"/\")[-1])\n",
    "    print(f\"Downloading: {url}\")\n",
    "    with session.get(url, stream=True) as r:\n",
    "        r.raise_for_status()\n",
    "        total = int(r.headers.get('content-length', 0))\n",
    "        with open(local_filename, 'wb') as f, tqdm(\n",
    "            desc=local_filename,\n",
    "            total=total,\n",
    "            unit='B',\n",
    "            unit_scale=True,\n",
    "            unit_divisor=1024,\n",
    "        ) as bar:\n",
    "            for chunk in r.iter_content(chunk_size=8192):\n",
    "                if chunk:\n",
    "                    f.write(chunk)\n",
    "                    bar.update(len(chunk))\n",
    "    print(f\"Saved to {local_filename}\")\n",
    "\n",
    "if __name__ == \"__main__\":\n",
    "    links = get_links(BASE_URL, PROVINCE)\n",
    "    print(f\"Found {len(links)} {PROVINCE}-related files.\")\n",
    "    for link in links:\n",
    "        download_file(link, dest_folder=BH_RAW)\n"
   ]
  }
 ],
 "metadata": {
  "kernelspec": {
   "display_name": "lcz_classification",
   "language": "python",
   "name": "python3"
  },
  "language_info": {
   "codemirror_mode": {
    "name": "ipython",
    "version": 3
   },
   "file_extension": ".py",
   "mimetype": "text/x-python",
   "name": "python",
   "nbconvert_exporter": "python",
   "pygments_lexer": "ipython3",
   "version": "3.11.11"
  }
 },
 "nbformat": 4,
 "nbformat_minor": 5
}
