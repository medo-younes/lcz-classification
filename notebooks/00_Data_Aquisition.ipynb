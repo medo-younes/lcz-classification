{
 "cells": [
  {
   "cell_type": "markdown",
   "id": "feb6af3f",
   "metadata": {},
   "source": [
    "# **Data Aquistion**\n",
    "\n",
    "\n",
    "This notebook downloads the required data for state-of-the-art LCZ Classification:\n",
    "\n",
    "1. Setup the project by defining the city of interest\n",
    "2. City boundary polygon download from OpenStreetMap \n",
    "3. Sentinel-2 imagery download using AWS S3\n",
    "4. ALOS DSM 30m download from Google Earth Engine\n",
    "5. Impervious Surface Area download from Google Earth Engine \n",
    "6. Tree Canopy Height download from Google Earth Engine\n",
    "7. Building Height download from NRCan"
   ]
  },
  {
   "cell_type": "markdown",
   "id": "4ee37c72",
   "metadata": {},
   "source": [
    "## **1. Project Setup**\n",
    "\n",
    "\n",
    "This code block imports the necessery Python libraries"
   ]
  },
  {
   "cell_type": "markdown",
   "id": "57ed3d2b",
   "metadata": {},
   "source": [
    "### 1.1. Import Libraries"
   ]
  },
  {
   "cell_type": "code",
   "execution_count": 2,
   "id": "ad0df9e2",
   "metadata": {},
   "outputs": [
    {
     "name": "stdout",
     "output_type": "stream",
     "text": [
      "The autoreload extension is already loaded. To reload it, use:\n",
      "  %reload_ext autoreload\n",
      "- Parent directory for Cairo already exists, retrievine folder paths...\n",
      "- Folder paths for Cairo retrieved.\n"
     ]
    }
   ],
   "source": [
    "%load_ext autoreload\n",
    "%autoreload \n",
    "\n",
    "import sys\n",
    "import os\n",
    "\n",
    "# Add the module's parent directory to sys.path\n",
    "module_path = os.path.abspath(os.path.join('..'))\n",
    "if module_path not in sys.path:\n",
    "    sys.path.append(module_path)\n",
    "\n",
    "from lcz_classification.config import  *\n",
    "from lcz_classification.dataset import fetch_metadata, ee_get_image, ee_download_tiled_image\n",
    "from lcz_classification.util import tiles_from_bbox, kml_to_gdf\n",
    "import geopandas as gpd\n",
    "import matplotlib.pyplot as plt\n",
    "import ee\n",
    "import numpy as np\n",
    "import pandas as pd\n",
    "\n",
    "\n"
   ]
  },
  {
   "cell_type": "code",
   "execution_count": 3,
   "id": "d5aa995d",
   "metadata": {},
   "outputs": [
    {
     "data": {
      "text/html": [
       "\n",
       "            <style>\n",
       "                .geemap-dark {\n",
       "                    --jp-widgets-color: white;\n",
       "                    --jp-widgets-label-color: white;\n",
       "                    --jp-ui-font-color1: white;\n",
       "                    --jp-layout-color2: #454545;\n",
       "                    background-color: #383838;\n",
       "                }\n",
       "\n",
       "                .geemap-dark .jupyter-button {\n",
       "                    --jp-layout-color3: #383838;\n",
       "                }\n",
       "\n",
       "                .geemap-colab {\n",
       "                    background-color: var(--colab-primary-surface-color, white);\n",
       "                }\n",
       "\n",
       "                .geemap-colab .jupyter-button {\n",
       "                    --jp-layout-color3: var(--colab-primary-surface-color, white);\n",
       "                }\n",
       "            </style>\n",
       "            "
      ],
      "text/plain": [
       "<IPython.core.display.HTML object>"
      ]
     },
     "metadata": {},
     "output_type": "display_data"
    }
   ],
   "source": [
    "# Authenticate GEE\n",
    "\n",
    "EE_PROJECT_ID=input('Enter Your Google Earth Engine Project ID:')\n",
    "\n",
    "if ee.Authenticate() == True:\n",
    "    ee.Initialize(project=EE_PROJECT_ID)    \n",
    "else:\n",
    "    ee.Authenticate(force = True)\n",
    "    ee.Initialize(project=EE_PROJECT_ID)   \n"
   ]
  },
  {
   "cell_type": "markdown",
   "id": "26058b10",
   "metadata": {},
   "source": [
    "#### 1.2. Setup Directories"
   ]
  },
  {
   "cell_type": "code",
   "execution_count": 5,
   "id": "a75bd37b",
   "metadata": {},
   "outputs": [
    {
     "data": {
      "text/html": [
       "\n",
       "            <style>\n",
       "                .geemap-dark {\n",
       "                    --jp-widgets-color: white;\n",
       "                    --jp-widgets-label-color: white;\n",
       "                    --jp-ui-font-color1: white;\n",
       "                    --jp-layout-color2: #454545;\n",
       "                    background-color: #383838;\n",
       "                }\n",
       "\n",
       "                .geemap-dark .jupyter-button {\n",
       "                    --jp-layout-color3: #383838;\n",
       "                }\n",
       "\n",
       "                .geemap-colab {\n",
       "                    background-color: var(--colab-primary-surface-color, white);\n",
       "                }\n",
       "\n",
       "                .geemap-colab .jupyter-button {\n",
       "                    --jp-layout-color3: var(--colab-primary-surface-color, white);\n",
       "                }\n",
       "            </style>\n",
       "            "
      ],
      "text/plain": [
       "<IPython.core.display.HTML object>"
      ]
     },
     "metadata": {},
     "output_type": "display_data"
    },
    {
     "data": {
      "text/plain": [
       "<Axes: >"
      ]
     },
     "execution_count": 5,
     "metadata": {},
     "output_type": "execute_result"
    },
    {
     "data": {
      "image/png": "[encoded data removed]",
      "text/plain": [
       "<Figure size 640x480 with 1 Axes>"
      ]
     },
     "metadata": {},
     "output_type": "display_data"
    }
   ],
   "source": [
    "\n",
    "study_area=fetch_metadata('STUDY_AREA')\n",
    "\n",
    "bounds=list(study_area.total_bounds)\n",
    "\n",
    "s2_tiles=fetch_metadata('S2_TILES')\n",
    "\n",
    "tiles_gdf=tiles_from_bbox(bounds, tile_dims=TILE_DIMS).sort_values('tile_id')\n",
    "tiles_gdf.plot('tile_id')\n",
    "# tiles_gdf=tiles_gdf[tiles_gdf.tile_id == 'B3']"
   ]
  },
  {
   "cell_type": "markdown",
   "id": "d1385148",
   "metadata": {},
   "source": [
    "# 2.1. Get Study Area"
   ]
  },
  {
   "cell_type": "code",
   "execution_count": null,
   "id": "a59fd93b",
   "metadata": {},
   "outputs": [],
   "source": [
    "study_area.explore(\n",
    "                style=dict(\n",
    "                    fill = False,\n",
    "                    color='red'\n",
    "                ),\n",
    ")"
   ]
  },
  {
   "cell_type": "markdown",
   "id": "df87a91e",
   "metadata": {},
   "source": [
    "# **3. Sentinel-2 Download**\n",
    "\n"
   ]
  },
  {
   "cell_type": "code",
   "execution_count": 5,
   "id": "4992cd59",
   "metadata": {},
   "outputs": [
    {
     "data": {
      "text/html": [
       "\n",
       "            <style>\n",
       "                .geemap-dark {\n",
       "                    --jp-widgets-color: white;\n",
       "                    --jp-widgets-label-color: white;\n",
       "                    --jp-ui-font-color1: white;\n",
       "                    --jp-layout-color2: #454545;\n",
       "                    background-color: #383838;\n",
       "                }\n",
       "\n",
       "                .geemap-dark .jupyter-button {\n",
       "                    --jp-layout-color3: #383838;\n",
       "                }\n",
       "\n",
       "                .geemap-colab {\n",
       "                    background-color: var(--colab-primary-surface-color, white);\n",
       "                }\n",
       "\n",
       "                .geemap-colab .jupyter-button {\n",
       "                    --jp-layout-color3: var(--colab-primary-surface-color, white);\n",
       "                }\n",
       "            </style>\n",
       "            "
      ],
      "text/plain": [
       "<IPython.core.display.HTML object>"
      ]
     },
     "metadata": {},
     "output_type": "display_data"
    },
    {
     "name": "stdout",
     "output_type": "stream",
     "text": [
      "Retrieving ImageCollection for Tile A1\n",
      "===================================================\n",
      "- Number of Features: 21\n",
      "Downloading Images for Tile: A1\n",
      "- GeoTIFF for Tile A1 Band B02 already downloaded\n",
      "- GeoTIFF for Tile A1 Band B03 already downloaded\n",
      "- GeoTIFF for Tile A1 Band B04 already downloaded\n",
      "- GeoTIFF for Tile A1 Band B05 already downloaded\n",
      "- GeoTIFF for Tile A1 Band B06 already downloaded\n",
      "- GeoTIFF for Tile A1 Band B07 already downloaded\n",
      "- GeoTIFF for Tile A1 Band B8A already downloaded\n",
      "- GeoTIFF for Tile A1 Band B11 already downloaded\n",
      "- GeoTIFF for Tile A1 Band B12 already downloaded\n",
      "===================================================\n",
      "Retrieving ImageCollection for Tile A2\n",
      "===================================================\n",
      "- Number of Features: 43\n",
      "Downloading Images for Tile: A2\n",
      "- GeoTIFF for Tile A2 Band B02 already downloaded\n",
      "- GeoTIFF for Tile A2 Band B03 already downloaded\n",
      "- GeoTIFF for Tile A2 Band B04 already downloaded\n",
      "- GeoTIFF for Tile A2 Band B05 already downloaded\n",
      "- GeoTIFF for Tile A2 Band B06 already downloaded\n",
      "- GeoTIFF for Tile A2 Band B07 already downloaded\n",
      "- GeoTIFF for Tile A2 Band B8A already downloaded\n",
      "- GeoTIFF for Tile A2 Band B11 already downloaded\n",
      "- GeoTIFF for Tile A2 Band B12 already downloaded\n",
      "===================================================\n"
     ]
    }
   ],
   "source": [
    "import geemap\n",
    "\n",
    "\n",
    "# START_DATE , END_DATE= ('2023-05-01' ,'2023-05-30')\n",
    "\n",
    "\n",
    "\n",
    "images=list()\n",
    "# iterate throught tile geometries generated with tiles_from_bbox()\n",
    "for idx, tile in tiles_gdf.iterrows():\n",
    "\n",
    "     tile_id = tile.tile_id\n",
    "     print(f\"Retrieving ImageCollection for Tile {tile_id}\")\n",
    "     print(f\"===================================================\")\n",
    "     ee_geom= ee.Geometry.Rectangle(tile.geometry.bounds)\n",
    "     \n",
    "\n",
    "     # Get ImageCollection filtered by date range, cloud percentage and first tile\n",
    "     col=(ee.ImageCollection('COPERNICUS/S2_SR_HARMONIZED')\n",
    "          .filterBounds(ee_geom)\n",
    "          .filterDate(START_DATE, END_DATE)\n",
    "          .filter(ee.Filter.lt('CLOUDY_PIXEL_PERCENTAGE',5))\n",
    "          # .map(mask_s2_clouds)\n",
    "          )\n",
    "     \n",
    "     features = col.getInfo()['features']\n",
    "     print(f\"- Number of Features: {len(features)}\")\n",
    "     # Retrieve Least Cloudy Images from the Collection\n",
    "\n",
    "     # Mosaic Images of Least Cloudy Collection and Clip to Bounds \n",
    "     image=col.mean()\n",
    " \n",
    "     \n",
    "     images.append(image)\n",
    "     \n",
    "     # Get Matching Tile IDs\n",
    "     # break\n",
    "     print(f'Downloading Images for Tile: {tile_id}')\n",
    "     # Iterate through target S2 bands and export\n",
    "     for band in S2_TARGET_BANDS:\n",
    "          out_dir = f\"{S2_RAW}/T{tile_id}\"\n",
    "          filename=f\"{out_dir}/{band}.tif\"\n",
    "          if os.path.exists(out_dir) == False:\n",
    "               os.mkdir(out_dir)\n",
    "               \n",
    "          if os.path.exists(filename) == False:\n",
    "               print(f\"- Downloading ee.Image for tile {tile_id} and Band {band}\")\n",
    "               ee_band=band.replace('0','')\n",
    "               # Export Image using geemap\n",
    "               geemap.ee_export_image(\n",
    "                         image.select(ee_band),\n",
    "                         filename=filename,\n",
    "                         scale=CELL_RESOLUTION,\n",
    "                         file_per_band=False,\n",
    "                         crs='EPSG:4326', \n",
    "                         region = ee_geom\n",
    "                    )\n",
    "          else:\n",
    "               print(f\"- GeoTIFF for Tile {tile_id} Band {band} already downloaded\")\n",
    "\n",
    "     print(f\"===================================================\")\n",
    "     \n"
   ]
  },
  {
   "cell_type": "markdown",
   "id": "050fd55c",
   "metadata": {},
   "source": [
    "## **4. DSM from ALOS 30m**"
   ]
  },
  {
   "cell_type": "code",
   "execution_count": 4,
   "id": "56be7a41",
   "metadata": {},
   "outputs": [
    {
     "data": {
      "text/html": [
       "\n",
       "            <style>\n",
       "                .geemap-dark {\n",
       "                    --jp-widgets-color: white;\n",
       "                    --jp-widgets-label-color: white;\n",
       "                    --jp-ui-font-color1: white;\n",
       "                    --jp-layout-color2: #454545;\n",
       "                    background-color: #383838;\n",
       "                }\n",
       "\n",
       "                .geemap-dark .jupyter-button {\n",
       "                    --jp-layout-color3: #383838;\n",
       "                }\n",
       "\n",
       "                .geemap-colab {\n",
       "                    background-color: var(--colab-primary-surface-color, white);\n",
       "                }\n",
       "\n",
       "                .geemap-colab .jupyter-button {\n",
       "                    --jp-layout-color3: var(--colab-primary-surface-color, white);\n",
       "                }\n",
       "            </style>\n",
       "            "
      ],
      "text/plain": [
       "<IPython.core.display.HTML object>"
      ]
     },
     "metadata": {},
     "output_type": "display_data"
    },
    {
     "ename": "NameError",
     "evalue": "name 'bounds' is not defined",
     "output_type": "error",
     "traceback": [
      "\u001b[1;31m---------------------------------------------------------------------------\u001b[0m",
      "\u001b[1;31mNameError\u001b[0m                                 Traceback (most recent call last)",
      "Cell \u001b[1;32mIn[4], line 6\u001b[0m\n\u001b[0;32m      1\u001b[0m \u001b[38;5;66;03m# Download ALOS DSM Data from Google Earth Engine\u001b[39;00m\n\u001b[0;32m      3\u001b[0m image,image_id\u001b[38;5;241m=\u001b[39mee_get_image(\n\u001b[0;32m      4\u001b[0m             col_id\u001b[38;5;241m=\u001b[39m\u001b[38;5;124m\"\u001b[39m\u001b[38;5;124mJAXA/ALOS/AW3D30/V3_2\u001b[39m\u001b[38;5;124m\"\u001b[39m,\n\u001b[0;32m      5\u001b[0m             band\u001b[38;5;241m=\u001b[39m\u001b[38;5;124m\"\u001b[39m\u001b[38;5;124mDSM\u001b[39m\u001b[38;5;124m\"\u001b[39m,\n\u001b[1;32m----> 6\u001b[0m             bbox \u001b[38;5;241m=\u001b[39m \u001b[43mbounds\u001b[49m, \n\u001b[0;32m      7\u001b[0m             )\n\u001b[0;32m      9\u001b[0m ee_download_tiled_image(image,image_id,tiles_gdf, CELL_RESOLUTION,DSM_RAW)\n",
      "\u001b[1;31mNameError\u001b[0m: name 'bounds' is not defined"
     ]
    }
   ],
   "source": [
    "# Download ALOS DSM Data from Google Earth Engine\n",
    "\n",
    "image,image_id=ee_get_image(\n",
    "            col_id=\"JAXA/ALOS/AW3D30/V3_2\",\n",
    "            band=\"DSM\",\n",
    "            bbox = bounds, \n",
    "            )\n",
    "\n",
    "ee_download_tiled_image(image,image_id,tiles_gdf, CELL_RESOLUTION,DSM_RAW)\n"
   ]
  },
  {
   "cell_type": "markdown",
   "id": "5e99a26c",
   "metadata": {},
   "source": [
    "## **5. Impervious Surface Area**"
   ]
  },
  {
   "cell_type": "code",
   "execution_count": 8,
   "id": "9c6254ff",
   "metadata": {},
   "outputs": [
    {
     "data": {
      "text/html": [
       "\n",
       "            <style>\n",
       "                .geemap-dark {\n",
       "                    --jp-widgets-color: white;\n",
       "                    --jp-widgets-label-color: white;\n",
       "                    --jp-ui-font-color1: white;\n",
       "                    --jp-layout-color2: #454545;\n",
       "                    background-color: #383838;\n",
       "                }\n",
       "\n",
       "                .geemap-dark .jupyter-button {\n",
       "                    --jp-layout-color3: #383838;\n",
       "                }\n",
       "\n",
       "                .geemap-colab {\n",
       "                    background-color: var(--colab-primary-surface-color, white);\n",
       "                }\n",
       "\n",
       "                .geemap-colab .jupyter-button {\n",
       "                    --jp-layout-color3: var(--colab-primary-surface-color, white);\n",
       "                }\n",
       "            </style>\n",
       "            "
      ],
      "text/plain": [
       "<IPython.core.display.HTML object>"
      ]
     },
     "metadata": {},
     "output_type": "display_data"
    }
   ],
   "source": [
    "# # Download Impervious Surface Area from Google Earth Engine\n",
    "\n",
    "# ee_download(\n",
    "#             asset_id=\"projects/sat-io/open-datasets/GISD30_1985_2020\",\n",
    "#             bands=[\"b1\"],\n",
    "#             bbox =bounds, \n",
    "#             output_dir=IS_RAW,\n",
    "#             scale=CELL_RESOLUTION,\n",
    "#             tile_dims=tile_dims\n",
    "#             )"
   ]
  },
  {
   "cell_type": "markdown",
   "id": "948a20da",
   "metadata": {},
   "source": [
    "## **6. Tree Canopy Height**"
   ]
  },
  {
   "cell_type": "code",
   "execution_count": 9,
   "id": "a0084ab8",
   "metadata": {},
   "outputs": [
    {
     "data": {
      "text/html": [
       "\n",
       "            <style>\n",
       "                .geemap-dark {\n",
       "                    --jp-widgets-color: white;\n",
       "                    --jp-widgets-label-color: white;\n",
       "                    --jp-ui-font-color1: white;\n",
       "                    --jp-layout-color2: #454545;\n",
       "                    background-color: #383838;\n",
       "                }\n",
       "\n",
       "                .geemap-dark .jupyter-button {\n",
       "                    --jp-layout-color3: #383838;\n",
       "                }\n",
       "\n",
       "                .geemap-colab {\n",
       "                    background-color: var(--colab-primary-surface-color, white);\n",
       "                }\n",
       "\n",
       "                .geemap-colab .jupyter-button {\n",
       "                    --jp-layout-color3: var(--colab-primary-surface-color, white);\n",
       "                }\n",
       "            </style>\n",
       "            "
      ],
      "text/plain": [
       "<IPython.core.display.HTML object>"
      ]
     },
     "metadata": {},
     "output_type": "display_data"
    },
    {
     "name": "stdout",
     "output_type": "stream",
     "text": [
      "IMAGE\n",
      "../data/cairo/raw/canopy_height/users_nlang_ETH_GlobalCanopyHeight_2020_10m_v1_b1_A1_10m.tif Already Exists\n",
      "Downloaded Image: users_nlang_ETH_GlobalCanopyHeight_2020_10m_v1_b1_A1_10m.tif\n",
      "../data/cairo/raw/canopy_height/users_nlang_ETH_GlobalCanopyHeight_2020_10m_v1_b1_A2_10m.tif Already Exists\n",
      "Downloaded Image: users_nlang_ETH_GlobalCanopyHeight_2020_10m_v1_b1_A2_10m.tif\n",
      "../data/cairo/raw/canopy_height/users_nlang_ETH_GlobalCanopyHeight_2020_10m_v1_b1_B1_10m.tif Already Exists\n",
      "Downloaded Image: users_nlang_ETH_GlobalCanopyHeight_2020_10m_v1_b1_B1_10m.tif\n",
      "../data/cairo/raw/canopy_height/users_nlang_ETH_GlobalCanopyHeight_2020_10m_v1_b1_B2_10m.tif Already Exists\n",
      "Downloaded Image: users_nlang_ETH_GlobalCanopyHeight_2020_10m_v1_b1_B2_10m.tif\n"
     ]
    }
   ],
   "source": [
    "# Download Canopy Height from Google Earth Engine\n",
    "\n",
    "ch_tiles=tiles_from_bbox(bounds,tile_dims=(2,2))\n",
    "image,image_id=ee_get_image(\n",
    "            col_id=\"users/nlang/ETH_GlobalCanopyHeight_2020_10m_v1\",\n",
    "            band=\"b1\",\n",
    "            bbox = bounds, \n",
    "            )\n",
    "\n",
    "ee_download_tiled_image(image,image_id,ch_tiles, 10,CH_RAW)\n",
    "# ee_download(\n",
    "#             asset_id=\"users/nlang/ETH_GlobalCanopyHeight_2020_10m_v1\",\n",
    "#             bands=[\"b1\"],\n",
    "#             bbox = bounds, \n",
    "#             output_dir=CH_RAW,\n",
    "#             scale=10,\n",
    "#             tile_dims=(4,4)\n",
    "#             )"
   ]
  },
  {
   "cell_type": "markdown",
   "id": "e84e8f58",
   "metadata": {},
   "source": [
    "## **7. Building Height Data**\n"
   ]
  },
  {
   "cell_type": "code",
   "execution_count": null,
   "id": "b30116c7",
   "metadata": {},
   "outputs": [
    {
     "data": {
      "text/html": [
       "\n",
       "            <style>\n",
       "                .geemap-dark {\n",
       "                    --jp-widgets-color: white;\n",
       "                    --jp-widgets-label-color: white;\n",
       "                    --jp-ui-font-color1: white;\n",
       "                    --jp-layout-color2: #454545;\n",
       "                    background-color: #383838;\n",
       "                }\n",
       "\n",
       "                .geemap-dark .jupyter-button {\n",
       "                    --jp-layout-color3: #383838;\n",
       "                }\n",
       "\n",
       "                .geemap-colab {\n",
       "                    background-color: var(--colab-primary-surface-color, white);\n",
       "                }\n",
       "\n",
       "                .geemap-colab .jupyter-button {\n",
       "                    --jp-layout-color3: var(--colab-primary-surface-color, white);\n",
       "                }\n",
       "            </style>\n",
       "            "
      ],
      "text/plain": [
       "<IPython.core.display.HTML object>"
      ]
     },
     "metadata": {},
     "output_type": "display_data"
    },
    {
     "data": {
      "text/html": [
       "<div><style>:root {\n",
       "  --font-color-primary: var(--jp-content-font-color0, rgba(0, 0, 0, 1));\n",
       "  --font-color-secondary: var(--jp-content-font-color2, rgba(0, 0, 0, 0.7));\n",
       "  --font-color-accent: rgba(123, 31, 162, 1);\n",
       "  --border-color: var(--jp-border-color2, #e0e0e0);\n",
       "  --background-color: var(--jp-layout-color0, white);\n",
       "  --background-color-row-even: var(--jp-layout-color1, white);\n",
       "  --background-color-row-odd: var(--jp-layout-color2, #eeeeee);\n",
       "}\n",
       "\n",
       "html[theme=\"dark\"],\n",
       "body[data-theme=\"dark\"],\n",
       "body.vscode-dark {\n",
       "  --font-color-primary: rgba(255, 255, 255, 1);\n",
       "  --font-color-secondary: rgba(255, 255, 255, 0.7);\n",
       "  --font-color-accent: rgb(173, 132, 190);\n",
       "  --border-color: #2e2e2e;\n",
       "  --background-color: #111111;\n",
       "  --background-color-row-even: #111111;\n",
       "  --background-color-row-odd: #313131;\n",
       "}\n",
       "\n",
       ".eerepr {\n",
       "  padding: 1em;\n",
       "  line-height: 1.5em;\n",
       "  min-width: 300px;\n",
       "  max-width: 1200px;\n",
       "  overflow-y: scroll;\n",
       "  max-height: 600px;\n",
       "  border: 1px solid var(--border-color);\n",
       "  font-family: monospace;\n",
       "  font-size: 14px;\n",
       "}\n",
       "\n",
       ".eerepr li {\n",
       "  list-style-type: none;\n",
       "  margin: 0;\n",
       "}\n",
       "\n",
       ".eerepr ul {\n",
       "  padding-left: 1.5em !important;\n",
       "  margin: 0;\n",
       "}\n",
       "\n",
       ".eerepr > ul {\n",
       "  padding-left: 0 !important;\n",
       "}\n",
       "\n",
       ".eerepr summary {\n",
       "  color: var(--font-color-secondary);\n",
       "  cursor: pointer;\n",
       "  margin: 0;\n",
       "}\n",
       "\n",
       ".eerepr summary:hover {\n",
       "  color: var(--font-color-primary);\n",
       "  background-color: var(--background-color-row-odd)\n",
       "}\n",
       "\n",
       ".ee-k {\n",
       "  color: var(--font-color-accent);\n",
       "  margin-right: 6px;\n",
       "}\n",
       "\n",
       ".ee-v {\n",
       "  color: var(--font-color-primary);\n",
       "}\n",
       "\n",
       ".eerepr details > summary::before {\n",
       "  content: '▼';\n",
       "  display: inline-block;\n",
       "  margin-right: 6px;\n",
       "  transition: transform 0.2s;\n",
       "  transform: rotate(-90deg);\n",
       "}\n",
       "\n",
       ".eerepr details[open] > summary::before {\n",
       "  transform: rotate(0deg);\n",
       "}\n",
       "\n",
       ".eerepr details summary::-webkit-details-marker {\n",
       "  display:none;\n",
       "}\n",
       "\n",
       ".eerepr details summary {\n",
       "  list-style-type: none;\n",
       "}\n",
       "</style><div class='eerepr'><ul><li><details><summary>Image (1 band)</summary><ul><li><span class='ee-k'>type:</span><span class='ee-v'>Image</span></li><li><details><summary>bands: List (1 element)</summary><ul><li><details><summary>0: \"building_height\", float, EPSG:4326</summary><ul><li><span class='ee-k'>id:</span><span class='ee-v'>building_height</span></li><li><span class='ee-k'>crs:</span><span class='ee-v'>EPSG:4326</span></li><li><details><summary>crs_transform: [1, 0, 0, 0, 1, 0]</summary><ul><li><span class='ee-k'>0:</span><span class='ee-v'>1</span></li><li><span class='ee-k'>1:</span><span class='ee-v'>0</span></li><li><span class='ee-k'>2:</span><span class='ee-v'>0</span></li><li><span class='ee-k'>3:</span><span class='ee-v'>0</span></li><li><span class='ee-k'>4:</span><span class='ee-v'>1</span></li><li><span class='ee-k'>5:</span><span class='ee-v'>0</span></li></ul></details></li><li><details><summary>data_type: float</summary><ul><li><span class='ee-k'>type:</span><span class='ee-v'>PixelType</span></li><li><span class='ee-k'>precision:</span><span class='ee-v'>float</span></li></ul></details></li></ul></details></li></ul></details></li></ul></details></li></ul></div></div>"
      ],
      "text/plain": [
       "<ee.image.Image at 0x1f5d3250210>"
      ]
     },
     "execution_count": 11,
     "metadata": {},
     "output_type": "execute_result"
    }
   ],
   "source": [
    "\n",
    "\n",
    "col = ee.ImageCollection('GOOGLE/Research/open-buildings-temporal/v1')\n",
    "# // Get latest 2 years\n",
    "image=col.filterDate('2023-01-01', '2023-12-31').mean().select('building_height')\n",
    "\n",
    "bh_tiles=tiles_from_bbox(bounds,tile_dims=(3,3))\n",
    "ee_download_tiled_image(image,'building_heights_2023',bh_tiles, scale=10,output_dir=BH_RAW)\n",
    "# for idx, tile in tiles_gdf.iterrows():\n",
    "\n",
    "#     tile_id = tile.tile_id\n",
    "#     print(f\"Retrieving ImageCollection for Tile {tile_id}\")\n",
    "#     print(f\"===================================================\")\n",
    "#     ee_geom= ee.Geometry.Rectangle(tile.geometry.bounds)\n",
    "\n"
   ]
  },
  {
   "cell_type": "markdown",
   "id": "83b48498",
   "metadata": {},
   "source": [
    "## MODIS NIGHTIME LST"
   ]
  },
  {
   "cell_type": "code",
   "execution_count": 6,
   "id": "1fe567b9",
   "metadata": {},
   "outputs": [
    {
     "data": {
      "text/html": [
       "\n",
       "            <style>\n",
       "                .geemap-dark {\n",
       "                    --jp-widgets-color: white;\n",
       "                    --jp-widgets-label-color: white;\n",
       "                    --jp-ui-font-color1: white;\n",
       "                    --jp-layout-color2: #454545;\n",
       "                    background-color: #383838;\n",
       "                }\n",
       "\n",
       "                .geemap-dark .jupyter-button {\n",
       "                    --jp-layout-color3: #383838;\n",
       "                }\n",
       "\n",
       "                .geemap-colab {\n",
       "                    background-color: var(--colab-primary-surface-color, white);\n",
       "                }\n",
       "\n",
       "                .geemap-colab .jupyter-button {\n",
       "                    --jp-layout-color3: var(--colab-primary-surface-color, white);\n",
       "                }\n",
       "            </style>\n",
       "            "
      ],
      "text/plain": [
       "<IPython.core.display.HTML object>"
      ]
     },
     "metadata": {},
     "output_type": "display_data"
    },
    {
     "name": "stdout",
     "output_type": "stream",
     "text": [
      "../data/cairo/raw/lst/MOD11A1_LST_Night_1km_A1_30m.tif\n",
      "Generating URL ...\n",
      "Downloading data from https://earthengine.googleapis.com/v1/projects/ee-geoai-medo/thumbnails/5d35fbb243472a67ecb837638e1516e4-74fa7146d948b75b8ecf627b47e54e57:getPixels\n",
      "Please wait ...\n",
      "Data downloaded to d:\\GeoAI\\projects\\lcz_classification\\data\\cairo\\raw\\lst\\MOD11A1_LST_Night_1km_A1_30m.tif\n",
      "Downloaded Image: MOD11A1_LST_Night_1km_A1_30m.tif\n",
      "../data/cairo/raw/lst/MOD11A1_LST_Night_1km_A2_30m.tif\n",
      "Generating URL ...\n",
      "Downloading data from https://earthengine.googleapis.com/v1/projects/ee-geoai-medo/thumbnails/cac9b32efb58cb4f5909b876484f29cc-c9c8f0d4c35c5f10654f10a8c2aa8212:getPixels\n",
      "Please wait ...\n",
      "Data downloaded to d:\\GeoAI\\projects\\lcz_classification\\data\\cairo\\raw\\lst\\MOD11A1_LST_Night_1km_A2_30m.tif\n",
      "Downloaded Image: MOD11A1_LST_Night_1km_A2_30m.tif\n"
     ]
    }
   ],
   "source": [
    "start=ee.Date('2023-08-01')\n",
    "end=ee.Date('2023-08-30')\n",
    "\n",
    "\n",
    "geom = ee.Geometry.Rectangle(bounds)\n",
    "mod_col=ee.ImageCollection('MODIS/061/MOD11A1').filterDate(start,end).select('LST_Night_1km')\n",
    "mod_image=mod_col.mean().clip(geom)\n",
    "image_id='MOD11A1_LST_Night_1km'\n",
    "\n",
    "\n",
    "ee_download_tiled_image(mod_image,image_id,tiles_gdf, CELL_RESOLUTION,LST_DIR)\n",
    "\n",
    "# Map = geemap.Map()\n",
    "# Map.addLayer(mod_image)\n",
    "# # Map.addLayer(ee.Geometry.Rectangle(bounds))\n",
    "# Map.centerObject(mod_image.geometry())\n",
    "# Map"
   ]
  }
 ],
 "metadata": {
  "kernelspec": {
   "display_name": "lcz_classification",
   "language": "python",
   "name": "python3"
  },
  "language_info": {
   "codemirror_mode": {
    "name": "ipython",
    "version": 3
   },
   "file_extension": ".py",
   "mimetype": "text/x-python",
   "name": "python",
   "nbconvert_exporter": "python",
   "pygments_lexer": "ipython3",
   "version": "3.11.11"
  }
 },
 "nbformat": 4,
 "nbformat_minor": 5
}
