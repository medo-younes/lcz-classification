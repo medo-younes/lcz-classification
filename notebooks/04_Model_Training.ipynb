{
 "cells": [
  {
   "cell_type": "markdown",
   "id": "af46be4a",
   "metadata": {},
   "source": [
    "# **Model Training**\n",
    "\n"
   ]
  },
  {
   "cell_type": "markdown",
   "id": "0d5a655e",
   "metadata": {},
   "source": [
    "## **1. Project Setup**"
   ]
  },
  {
   "cell_type": "markdown",
   "id": "d930e7dd",
   "metadata": {},
   "source": [
    "### 1.1 Import Libraries"
   ]
  },
  {
   "cell_type": "code",
   "execution_count": 46,
   "id": "f1da8abe",
   "metadata": {},
   "outputs": [
    {
     "data": {
      "text/html": [
       "\n",
       "            <style>\n",
       "                .geemap-dark {\n",
       "                    --jp-widgets-color: white;\n",
       "                    --jp-widgets-label-color: white;\n",
       "                    --jp-ui-font-color1: white;\n",
       "                    --jp-layout-color2: #454545;\n",
       "                    background-color: #383838;\n",
       "                }\n",
       "\n",
       "                .geemap-dark .jupyter-button {\n",
       "                    --jp-layout-color3: #383838;\n",
       "                }\n",
       "\n",
       "                .geemap-colab {\n",
       "                    background-color: var(--colab-primary-surface-color, white);\n",
       "                }\n",
       "\n",
       "                .geemap-colab .jupyter-button {\n",
       "                    --jp-layout-color3: var(--colab-primary-surface-color, white);\n",
       "                }\n",
       "            </style>\n",
       "            "
      ],
      "text/plain": [
       "<IPython.core.display.HTML object>"
      ]
     },
     "metadata": {},
     "output_type": "display_data"
    },
    {
     "name": "stdout",
     "output_type": "stream",
     "text": [
      "The autoreload extension is already loaded. To reload it, use:\n",
      "  %reload_ext autoreload\n"
     ]
    }
   ],
   "source": [
    "%load_ext autoreload\n",
    "%autoreload \n",
    "\n",
    "import sys\n",
    "import os\n",
    "\n",
    "# Add the module's parent directory to sys.path\n",
    "module_path = os.path.abspath(os.path.join('..'))\n",
    "if module_path not in sys.path:\n",
    "    sys.path.append(module_path)\n",
    "\n",
    "from lcz_classification.config import *\n",
    "from lcz_classification.util import read_lcz_legend, normalize_arr, prepare_dataset, dataset_stats, dataset_summary\n",
    "from lcz_classification.dataset import fetch_metadata\n",
    "from lcz_classification.plots import plot_confusion_matrix, plot_feature_importances\n",
    "import rioxarray as rio\n",
    "\n",
    "import numpy as np\n",
    "import pandas as pd\n",
    "from shapely.geometry import box\n",
    "import geopandas as gpd\n",
    "from sklearn.model_selection import train_test_split, GridSearchCV, StratifiedKFold\n",
    "from sklearn.ensemble import RandomForestClassifier\n",
    "from sklearn.preprocessing import MinMaxScaler\n",
    "from sklearn.metrics import make_scorer, f1_score, recall_score,precision_score\n",
    "from sklearn.metrics import confusion_matrix,accuracy_score, classification_report\n",
    "import seaborn as sns\n",
    "import matplotlib.pyplot as plt\n",
    "from scipy.ndimage import median_filter\n",
    "import rasterio as r\n",
    "from lcz_classification.util import merge_rasters, clip_raster\n",
    "from lcz_classification.util import tiles_from_bbox\n"
   ]
  },
  {
   "cell_type": "markdown",
   "id": "90bf211e",
   "metadata": {},
   "source": [
    "## 1.2 Setup Paths"
   ]
  },
  {
   "cell_type": "code",
   "execution_count": 4,
   "id": "e46a7030",
   "metadata": {},
   "outputs": [
    {
     "data": {
      "text/html": [
       "\n",
       "            <style>\n",
       "                .geemap-dark {\n",
       "                    --jp-widgets-color: white;\n",
       "                    --jp-widgets-label-color: white;\n",
       "                    --jp-ui-font-color1: white;\n",
       "                    --jp-layout-color2: #454545;\n",
       "                    background-color: #383838;\n",
       "                }\n",
       "\n",
       "                .geemap-dark .jupyter-button {\n",
       "                    --jp-layout-color3: #383838;\n",
       "                }\n",
       "\n",
       "                .geemap-colab {\n",
       "                    background-color: var(--colab-primary-surface-color, white);\n",
       "                }\n",
       "\n",
       "                .geemap-colab .jupyter-button {\n",
       "                    --jp-layout-color3: var(--colab-primary-surface-color, white);\n",
       "                }\n",
       "            </style>\n",
       "            "
      ],
      "text/plain": [
       "<IPython.core.display.HTML object>"
      ]
     },
     "metadata": {},
     "output_type": "display_data"
    }
   ],
   "source": [
    "s2_metadata=fetch_metadata('S2_METADATA')\n",
    "lcz_legend, color_dict=read_lcz_legend(LCZ_LEGEND_FP)\n",
    "label_dict=lcz_legend.set_index('class')['name'].to_dict()\n",
    "\n",
    "study_area=fetch_metadata('STUDY_AREA')\n",
    "study_area=study_area.to_crs(study_area.estimate_utm_crs())\n",
    "tiles=tiles_from_bbox(study_area.total_bounds, tile_dims=(2,2))"
   ]
  },
  {
   "cell_type": "markdown",
   "id": "f4f9125e",
   "metadata": {},
   "source": [
    "### Load Data"
   ]
  },
  {
   "cell_type": "code",
   "execution_count": 5,
   "id": "f2fcf5c5",
   "metadata": {},
   "outputs": [
    {
     "data": {
      "text/html": [
       "\n",
       "            <style>\n",
       "                .geemap-dark {\n",
       "                    --jp-widgets-color: white;\n",
       "                    --jp-widgets-label-color: white;\n",
       "                    --jp-ui-font-color1: white;\n",
       "                    --jp-layout-color2: #454545;\n",
       "                    background-color: #383838;\n",
       "                }\n",
       "\n",
       "                .geemap-dark .jupyter-button {\n",
       "                    --jp-layout-color3: #383838;\n",
       "                }\n",
       "\n",
       "                .geemap-colab {\n",
       "                    background-color: var(--colab-primary-surface-color, white);\n",
       "                }\n",
       "\n",
       "                .geemap-colab .jupyter-button {\n",
       "                    --jp-layout-color3: var(--colab-primary-surface-color, white);\n",
       "                }\n",
       "            </style>\n",
       "            "
      ],
      "text/plain": [
       "<IPython.core.display.HTML object>"
      ]
     },
     "metadata": {},
     "output_type": "display_data"
    }
   ],
   "source": [
    "# Read Feature Layers\n",
    "# SF_FP = f'{SF_PRC}/svf_20m.tif'\n",
    "# Sentinel-2A Imargery\n",
    "s2=rio.open_rasterio(S2_FP)\n",
    "attrs=s2.attrs\n",
    "s2 = s2 / 10000\n",
    "s2.attrs = attrs\n",
    "s2_arr = s2.values\n",
    "\n",
    "\n",
    "shape=s2.shape\n",
    "s2_ref=s2.sel(band=1)\n",
    "## URBAN CANOPY PARAMETERS ##\n",
    "bh=rio.open_rasterio(BH_FP).rio.reproject_match(s2_ref) # Building Height\n",
    "ch=rio.open_rasterio(CH_FP).rio.reproject_match(s2_ref) # Tree Canopy Height\n",
    "isf=rio.open_rasterio(IS_FP).rio.reproject_match(s2_ref) # Impervious Surface Fraction\n",
    "bsf=rio.open_rasterio(BS_FP).rio.reproject_match(s2_ref) # Building Surface Fraction\n",
    "svf=rio.open_rasterio(SF_FP).rio.reproject_match(s2_ref) # Building Surface Fraction\n",
    "\n",
    "features=eval(s2.attrs['bands'])\n",
    "s2_b_filtered=s2_metadata[(s2_metadata.mission == \"S2A\" )& (s2_metadata.band.isin(features))].set_index('band').loc[features]\n",
    "features=[f'{r.description} ({b})' for b,r in s2_b_filtered.iterrows()]\n",
    "features.extend(['Building Height', 'Canopy Height', 'Impervious Surface Fraction', 'Building Surface Fraction', 'Sky View Factor'])\n",
    "\n",
    "# Prepare Feature Stack\n",
    "X_data=np.append(s2_arr,bh.fillna(0).values, axis=0)\n",
    "X_data=np.append(X_data,ch.fillna(0).values, axis=0)\n",
    "X_data=np.append(X_data,isf.fillna(0).values, axis=0)\n",
    "X_data=np.append(X_data,bsf.fillna(0).values, axis=0)\n",
    "X_data=np.append(X_data,svf.fillna(0).values, axis=0)\n",
    "\n",
    "# Rescale Features\n",
    "scaler=MinMaxScaler()\n",
    "X_features= np.array([normalize_arr(x, scaler) for x in X_data])"
   ]
  },
  {
   "cell_type": "code",
   "execution_count": 6,
   "id": "6af2b179",
   "metadata": {},
   "outputs": [
    {
     "data": {
      "text/html": [
       "\n",
       "            <style>\n",
       "                .geemap-dark {\n",
       "                    --jp-widgets-color: white;\n",
       "                    --jp-widgets-label-color: white;\n",
       "                    --jp-ui-font-color1: white;\n",
       "                    --jp-layout-color2: #454545;\n",
       "                    background-color: #383838;\n",
       "                }\n",
       "\n",
       "                .geemap-dark .jupyter-button {\n",
       "                    --jp-layout-color3: #383838;\n",
       "                }\n",
       "\n",
       "                .geemap-colab {\n",
       "                    background-color: var(--colab-primary-surface-color, white);\n",
       "                }\n",
       "\n",
       "                .geemap-colab .jupyter-button {\n",
       "                    --jp-layout-color3: var(--colab-primary-surface-color, white);\n",
       "                }\n",
       "            </style>\n",
       "            "
      ],
      "text/plain": [
       "<IPython.core.display.HTML object>"
      ]
     },
     "metadata": {},
     "output_type": "display_data"
    }
   ],
   "source": [
    "\n",
    "def predictor_stack(features):\n",
    "    return np.stack(features).reshape(features.shape[0],-1).T\n"
   ]
  },
  {
   "cell_type": "markdown",
   "id": "a135e74c",
   "metadata": {},
   "source": [
    "### Train, Validation and Test Split"
   ]
  },
  {
   "cell_type": "code",
   "execution_count": 7,
   "id": "ec19125a",
   "metadata": {},
   "outputs": [
    {
     "data": {
      "text/html": [
       "\n",
       "            <style>\n",
       "                .geemap-dark {\n",
       "                    --jp-widgets-color: white;\n",
       "                    --jp-widgets-label-color: white;\n",
       "                    --jp-ui-font-color1: white;\n",
       "                    --jp-layout-color2: #454545;\n",
       "                    background-color: #383838;\n",
       "                }\n",
       "\n",
       "                .geemap-dark .jupyter-button {\n",
       "                    --jp-layout-color3: #383838;\n",
       "                }\n",
       "\n",
       "                .geemap-colab {\n",
       "                    background-color: var(--colab-primary-surface-color, white);\n",
       "                }\n",
       "\n",
       "                .geemap-colab .jupyter-button {\n",
       "                    --jp-layout-color3: var(--colab-primary-surface-color, white);\n",
       "                }\n",
       "            </style>\n",
       "            "
      ],
      "text/plain": [
       "<IPython.core.display.HTML object>"
      ]
     },
     "metadata": {},
     "output_type": "display_data"
    },
    {
     "name": "stdout",
     "output_type": "stream",
     "text": [
      "============== DATASET SUMMARY ==============\n",
      "+--------+---------+----------+---------+\n",
      "| Datset | Samples | Features | Classes |\n",
      "+--------+---------+----------+---------+\n",
      "| Train  |  28399  |    14    |    14   |\n",
      "|  Test  |  12172  |    14    |    14   |\n",
      "+--------+---------+----------+---------+\n",
      "\n",
      "============-==== CLASS SUMMARY =================\n",
      "+--------------------+-------+------+\n",
      "|       Class        | Train | Test |\n",
      "+--------------------+-------+------+\n",
      "| Compact High-Rise  |  926  | 397  |\n",
      "|  Compact Mid-Rise  |  968  | 415  |\n",
      "|  Compact Low-Rise  |  2673 | 1145 |\n",
      "|   Open High-Rise   |  995  | 426  |\n",
      "|   Open Mid-Rise    |  1257 | 538  |\n",
      "|   Open Low-Rise    |  2860 | 1225 |\n",
      "|   Large low-rise   |  2491 | 1068 |\n",
      "|   Sparsely built   |  2936 | 1259 |\n",
      "|    Dense trees     |  1351 | 579  |\n",
      "|  Scattered trees   |  935  | 401  |\n",
      "|     Low plants     |  5639 | 2417 |\n",
      "| Bare rock or paved |  729  | 313  |\n",
      "| Bare soil or sand  |  977  | 419  |\n",
      "|       Water        |  3662 | 1570 |\n",
      "+--------------------+-------+------+\n"
     ]
    }
   ],
   "source": [
    "# Read Train / Test Data\n",
    "train=rio.open_rasterio(TRAIN_FP).rio.reproject_match(s2_ref) # Local Climate Zones Rasterized (Target Layer)\n",
    "train_arr=train.values\n",
    "\n",
    "y_mask=train_arr[0] > 0\n",
    "mask_shape=y_mask.shape\n",
    "\n",
    "\n",
    "y=np.int16(train_arr[0][y_mask].reshape(-1))\n",
    "X =  predictor_stack(np.array([x[y_mask] for x in X_features]))\n",
    "\n",
    "X_train,X_test, y_train, y_test= train_test_split(X,y,test_size=0.3,stratify=y)\n",
    "# Prepare Training Dataset\n",
    "# X_train, y_train = prepare_dataset(X_features, train,features)\n",
    "\n",
    "\n",
    "# # Prepare Testing Dataset\n",
    "# X_test, y_test = prepare_dataset(X_features, test,features)\n",
    "\n",
    "# Print Summary of Dataset and Classess\n",
    "train_stats=dataset_stats(X_train, y_train, label_dict)\n",
    "# val_stats=dataset_stats(X_val, y_val, label_dict)\n",
    "test_stats=dataset_stats(X_test, y_test, label_dict)\n",
    "dataset_summary(train_stats, test_stats)\n",
    "# labels=[label_dict[x] for x in np.int16(np.unique(y))]\n"
   ]
  },
  {
   "cell_type": "markdown",
   "id": "3b92e82e",
   "metadata": {},
   "source": [
    "## Train RandomForest Classifier"
   ]
  },
  {
   "cell_type": "code",
   "execution_count": 8,
   "id": "87599e34",
   "metadata": {},
   "outputs": [
    {
     "data": {
      "text/html": [
       "\n",
       "            <style>\n",
       "                .geemap-dark {\n",
       "                    --jp-widgets-color: white;\n",
       "                    --jp-widgets-label-color: white;\n",
       "                    --jp-ui-font-color1: white;\n",
       "                    --jp-layout-color2: #454545;\n",
       "                    background-color: #383838;\n",
       "                }\n",
       "\n",
       "                .geemap-dark .jupyter-button {\n",
       "                    --jp-layout-color3: #383838;\n",
       "                }\n",
       "\n",
       "                .geemap-colab {\n",
       "                    background-color: var(--colab-primary-surface-color, white);\n",
       "                }\n",
       "\n",
       "                .geemap-colab .jupyter-button {\n",
       "                    --jp-layout-color3: var(--colab-primary-surface-color, white);\n",
       "                }\n",
       "            </style>\n",
       "            "
      ],
      "text/plain": [
       "<IPython.core.display.HTML object>"
      ]
     },
     "metadata": {},
     "output_type": "display_data"
    }
   ],
   "source": [
    "\n",
    "classes=[label_dict[int(x)] for x in np.unique(y_train)]"
   ]
  },
  {
   "cell_type": "markdown",
   "id": "e0bcc561",
   "metadata": {},
   "source": [
    "# Model Tuning with Grid Search"
   ]
  },
  {
   "cell_type": "code",
   "execution_count": 9,
   "id": "027ebc47",
   "metadata": {},
   "outputs": [
    {
     "data": {
      "text/html": [
       "\n",
       "            <style>\n",
       "                .geemap-dark {\n",
       "                    --jp-widgets-color: white;\n",
       "                    --jp-widgets-label-color: white;\n",
       "                    --jp-ui-font-color1: white;\n",
       "                    --jp-layout-color2: #454545;\n",
       "                    background-color: #383838;\n",
       "                }\n",
       "\n",
       "                .geemap-dark .jupyter-button {\n",
       "                    --jp-layout-color3: #383838;\n",
       "                }\n",
       "\n",
       "                .geemap-colab {\n",
       "                    background-color: var(--colab-primary-surface-color, white);\n",
       "                }\n",
       "\n",
       "                .geemap-colab .jupyter-button {\n",
       "                    --jp-layout-color3: var(--colab-primary-surface-color, white);\n",
       "                }\n",
       "            </style>\n",
       "            "
      ],
      "text/plain": [
       "<IPython.core.display.HTML object>"
      ]
     },
     "metadata": {},
     "output_type": "display_data"
    }
   ],
   "source": [
    "from sklearn.model_selection import RandomizedSearchCV\n",
    "\n"
   ]
  },
  {
   "cell_type": "code",
   "execution_count": 10,
   "id": "1fdda047",
   "metadata": {},
   "outputs": [
    {
     "data": {
      "text/html": [
       "\n",
       "            <style>\n",
       "                .geemap-dark {\n",
       "                    --jp-widgets-color: white;\n",
       "                    --jp-widgets-label-color: white;\n",
       "                    --jp-ui-font-color1: white;\n",
       "                    --jp-layout-color2: #454545;\n",
       "                    background-color: #383838;\n",
       "                }\n",
       "\n",
       "                .geemap-dark .jupyter-button {\n",
       "                    --jp-layout-color3: #383838;\n",
       "                }\n",
       "\n",
       "                .geemap-colab {\n",
       "                    background-color: var(--colab-primary-surface-color, white);\n",
       "                }\n",
       "\n",
       "                .geemap-colab .jupyter-button {\n",
       "                    --jp-layout-color3: var(--colab-primary-surface-color, white);\n",
       "                }\n",
       "            </style>\n",
       "            "
      ],
      "text/plain": [
       "<IPython.core.display.HTML object>"
      ]
     },
     "metadata": {},
     "output_type": "display_data"
    },
    {
     "name": "stdout",
     "output_type": "stream",
     "text": [
      "Train Random Forest Classifier found : ../models//rf_cv_ronto.joblib: Loading from File\n"
     ]
    },
    {
     "data": {
      "text/plain": [
       "{'bootstrap': True,\n",
       " 'ccp_alpha': 0.0,\n",
       " 'class_weight': None,\n",
       " 'criterion': 'gini',\n",
       " 'max_depth': 20,\n",
       " 'max_features': 'sqrt',\n",
       " 'max_leaf_nodes': 3000,\n",
       " 'max_samples': 0.5,\n",
       " 'min_impurity_decrease': 0.0,\n",
       " 'min_samples_leaf': 2,\n",
       " 'min_samples_split': 5,\n",
       " 'min_weight_fraction_leaf': 0.0,\n",
       " 'monotonic_cst': None,\n",
       " 'n_estimators': 1500,\n",
       " 'n_jobs': -1,\n",
       " 'oob_score': False,\n",
       " 'random_state': None,\n",
       " 'verbose': 0,\n",
       " 'warm_start': False}"
      ]
     },
     "execution_count": 10,
     "metadata": {},
     "output_type": "execute_result"
    }
   ],
   "source": [
    "import joblib\n",
    "\n",
    "MODEL_DIR=\"../models/\"\n",
    "MODEL_NAME='rf_cv_ronto'\n",
    "RF_FP=f\"{MODEL_DIR}/{MODEL_NAME}.joblib\"\n",
    "\n",
    "SEARCH_METHOD = \"random\"\n",
    "\n",
    "search_methods=dict(\n",
    "    random=RandomizedSearchCV,\n",
    "    grid=GridSearchCV\n",
    ")\n",
    "\n",
    "\n",
    "cv = StratifiedKFold(n_splits=5, shuffle=True)\n",
    "\n",
    "param_grid = {\n",
    "    'n_estimators': [ 100, 200, 500], #[100, 150, 200, 500]\n",
    "    'max_features': ['sqrt', 'log2'], #['auto', 'sqrt', 'log2']\n",
    "    'criterion': ['gini', 'entropy'], #['gini', 'entropy']\n",
    "    'max_depth' : [10, 20, None],\n",
    "    'min_samples_split' : [2,5,10],\n",
    "    'min_samples_leaf' : [2,5,10],\n",
    "    'max_samples' : [0.2, 0.5, 0.8],\n",
    "    'max_leaf_nodes' : [100, 1000, 3000]\n",
    "    # 'class_weight' : ['balanced', 'balanced_subsample' ,None]\n",
    "}\n",
    "\n",
    "if os.path.exists(RF_FP):\n",
    "    print(f'Train Random Forest Classifier found : {RF_FP}: Loading from File')\n",
    "    # To load the model later\n",
    "    cl = joblib.load(RF_FP)\n",
    "\n",
    "    \n",
    "\n",
    "else:\n",
    "    print(f'- No Existing Model Found, running grid search with params:')\n",
    "\n",
    "   \n",
    "    print(param_grid)\n",
    "\n",
    "    # Instantiate RandomForestClassifier without Hyperparameters set\n",
    "    cl = RandomForestClassifier( n_jobs=-1)\n",
    "    search=search_methods[SEARCH_METHOD]\n",
    "\n",
    "    search=search(cl, param_grid, scoring='accuracy', cv =cv, verbose=1, n_jobs=-1, return_train_score=True )\n",
    "    search.fit(X_train,y_train)\n",
    "    print(f'- Best Parameters:{search.best_params_}')\n",
    "    cv_results=pd.DataFrame(search.cv_results_)\n",
    "\n",
    "    print(cv_results.mean_train_score.mean().round(2))\n",
    "    print('Mean Test Score')\n",
    "    print(cv_results.mean_test_score.mean().round(2))\n",
    "    cv_results.to_csv(f\"../models/{MODEL_NAME}.csv\")\n",
    "    # Retrieve the best estimator from grid search\n",
    "    cl=search.best_estimator_\n",
    "    cl.feature_names_in_ = np.array(features) # Set feature names\n",
    "    cl.classes_ = np.array(features) \n",
    "\n",
    "    # Save the trained model\n",
    "    joblib.dump(cl, RF_FP)\n",
    "\n",
    "\n",
    "params = cl.get_params()\n",
    "params"
   ]
  },
  {
   "cell_type": "markdown",
   "id": "3c570ae6",
   "metadata": {},
   "source": [
    "### Model Evaluation"
   ]
  },
  {
   "cell_type": "code",
   "execution_count": 59,
   "id": "f25ba871",
   "metadata": {},
   "outputs": [
    {
     "data": {
      "text/html": [
       "\n",
       "            <style>\n",
       "                .geemap-dark {\n",
       "                    --jp-widgets-color: white;\n",
       "                    --jp-widgets-label-color: white;\n",
       "                    --jp-ui-font-color1: white;\n",
       "                    --jp-layout-color2: #454545;\n",
       "                    background-color: #383838;\n",
       "                }\n",
       "\n",
       "                .geemap-dark .jupyter-button {\n",
       "                    --jp-layout-color3: #383838;\n",
       "                }\n",
       "\n",
       "                .geemap-colab {\n",
       "                    background-color: var(--colab-primary-surface-color, white);\n",
       "                }\n",
       "\n",
       "                .geemap-colab .jupyter-button {\n",
       "                    --jp-layout-color3: var(--colab-primary-surface-color, white);\n",
       "                }\n",
       "            </style>\n",
       "            "
      ],
      "text/plain": [
       "<IPython.core.display.HTML object>"
      ]
     },
     "metadata": {},
     "output_type": "display_data"
    }
   ],
   "source": [
    "\n",
    "cl.fit(X_train,y_train)\n",
    "y_pred=cl.predict(X_test) # Predict on testing set"
   ]
  },
  {
   "cell_type": "code",
   "execution_count": 63,
   "id": "320d8b46",
   "metadata": {},
   "outputs": [
    {
     "data": {
      "text/html": [
       "\n",
       "            <style>\n",
       "                .geemap-dark {\n",
       "                    --jp-widgets-color: white;\n",
       "                    --jp-widgets-label-color: white;\n",
       "                    --jp-ui-font-color1: white;\n",
       "                    --jp-layout-color2: #454545;\n",
       "                    background-color: #383838;\n",
       "                }\n",
       "\n",
       "                .geemap-dark .jupyter-button {\n",
       "                    --jp-layout-color3: #383838;\n",
       "                }\n",
       "\n",
       "                .geemap-colab {\n",
       "                    background-color: var(--colab-primary-surface-color, white);\n",
       "                }\n",
       "\n",
       "                .geemap-colab .jupyter-button {\n",
       "                    --jp-layout-color3: var(--colab-primary-surface-color, white);\n",
       "                }\n",
       "            </style>\n",
       "            "
      ],
      "text/plain": [
       "<IPython.core.display.HTML object>"
      ]
     },
     "metadata": {},
     "output_type": "display_data"
    },
    {
     "name": "stdout",
     "output_type": "stream",
     "text": [
      "                    precision    recall  f1-score   support\n",
      "\n",
      " Compact High-Rise       0.85      0.80      0.82       397\n",
      "  Compact Mid-Rise       0.73      0.48      0.58       415\n",
      "  Compact Low-Rise       0.69      0.72      0.71      1145\n",
      "    Open High-Rise       0.51      0.37      0.43       426\n",
      "     Open Mid-Rise       0.58      0.31      0.40       538\n",
      "     Open Low-Rise       0.65      0.71      0.68      1225\n",
      "    Large low-rise       0.78      0.88      0.83      1068\n",
      "    Sparsely built       0.73      0.84      0.78      1259\n",
      "       Dense trees       0.90      0.95      0.93       579\n",
      "   Scattered trees       0.91      0.89      0.90       401\n",
      "        Low plants       0.97      0.97      0.97      2417\n",
      "Bare rock or paved       0.80      0.93      0.86       313\n",
      " Bare soil or sand       0.95      0.89      0.92       419\n",
      "             Water       1.00      1.00      1.00      1570\n",
      "\n",
      "          accuracy                           0.82     12172\n",
      "         macro avg       0.79      0.77      0.77     12172\n",
      "      weighted avg       0.82      0.82      0.82     12172\n",
      "\n"
     ]
    },
    {
     "data": {
      "image/png": "[encoded data removed]",
      "text/plain": [
       "<Figure size 700x700 with 1 Axes>"
      ]
     },
     "metadata": {},
     "output_type": "display_data"
    },
    {
     "data": {
      "image/png": "[encoded data removed]",
      "text/plain": [
       "<Figure size 640x480 with 1 Axes>"
      ]
     },
     "metadata": {},
     "output_type": "display_data"
    }
   ],
   "source": [
    "\n",
    "# Classification Report\n",
    "cl_report=classification_report(y_test,y_pred,digits=2,target_names=classes)\n",
    "cl_report_df=pd.DataFrame(classification_report(y_test,y_pred,digits=2,target_names=classes, output_dict=True)).T.round(2)\n",
    "cl_report_df.support = cl_report_df.support.astype(int)\n",
    "cl_report_df.to_csv(\"../reports/classification_report.csv\")\n",
    "print(cl_report)\n",
    "\n",
    "\n",
    "out_file=f\"{FIGURES_DIR}/s2_cm.png\"\n",
    "\n",
    "# Confustion Matridx\n",
    "plot_confusion_matrix(\n",
    "                    y_test=y_test,\n",
    "                    y_pred=y_pred,\n",
    "                    title='Confusion Matrix of LCZ Training Areas using Sentinel-2 Imagery',\n",
    "                    labels=classes,\n",
    "                    cmap='YlGnBu', \n",
    "                    as_percent=False, \n",
    "                    out_file=out_file, \n",
    "                    figsize = (7,7)\n",
    "                    )\n",
    "\n",
    "\n",
    "# Feature Importances\n",
    "out_file=f\"{FIGURES_DIR}/s2_fi.png\"\n",
    "\n",
    "\n",
    "plot_feature_importances(cl,features,\"Feature Importances using MDI\", out_file=out_file)\n",
    "\n"
   ]
  },
  {
   "cell_type": "markdown",
   "id": "49105a7a",
   "metadata": {},
   "source": [
    "## Classify LCZs"
   ]
  },
  {
   "cell_type": "code",
   "execution_count": 37,
   "id": "26b566f7",
   "metadata": {},
   "outputs": [
    {
     "data": {
      "text/html": [
       "\n",
       "            <style>\n",
       "                .geemap-dark {\n",
       "                    --jp-widgets-color: white;\n",
       "                    --jp-widgets-label-color: white;\n",
       "                    --jp-ui-font-color1: white;\n",
       "                    --jp-layout-color2: #454545;\n",
       "                    background-color: #383838;\n",
       "                }\n",
       "\n",
       "                .geemap-dark .jupyter-button {\n",
       "                    --jp-layout-color3: #383838;\n",
       "                }\n",
       "\n",
       "                .geemap-colab {\n",
       "                    background-color: var(--colab-primary-surface-color, white);\n",
       "                }\n",
       "\n",
       "                .geemap-colab .jupyter-button {\n",
       "                    --jp-layout-color3: var(--colab-primary-surface-color, white);\n",
       "                }\n",
       "            </style>\n",
       "            "
      ],
      "text/plain": [
       "<IPython.core.display.HTML object>"
      ]
     },
     "metadata": {},
     "output_type": "display_data"
    }
   ],
   "source": [
    "\n",
    "def masked_features(features, ref, bounds):\n",
    "    x1,y1,x2,y2 = bounds\n",
    "    \n",
    "    mask_raster=ref.sel(x = slice(x1,x2) ,y=slice(y2,y1), drop =False)\n",
    "    mask_coords=mask_raster.coords\n",
    "    mask_shape=mask_raster.shape\n",
    "    mask=((ref.y > y1) & (ref.y < y2) & (ref.x > x1) & (ref.x < x2)).values\n",
    "\n",
    "    feature_mask=np.array([mask for i in range(0, features.shape[0])])\n",
    "\n",
    "    masked =  features[feature_mask].reshape(-1, mask_shape[0], mask_shape[1])\n",
    "\n",
    "    return masked, mask_coords, mask_shape\n",
    "\n",
    "def predictor_stack(features):\n",
    "    return np.stack(features).reshape(features.shape[0],-1).T\n",
    "\n",
    "\n",
    "def classify(cl, predictors, out_shape):\n",
    "    classified=cl.predict(predictors)\n",
    "    return classified.reshape(out_shape)"
   ]
  },
  {
   "cell_type": "code",
   "execution_count": 39,
   "id": "63663e2a",
   "metadata": {},
   "outputs": [
    {
     "data": {
      "text/html": [
       "\n",
       "            <style>\n",
       "                .geemap-dark {\n",
       "                    --jp-widgets-color: white;\n",
       "                    --jp-widgets-label-color: white;\n",
       "                    --jp-ui-font-color1: white;\n",
       "                    --jp-layout-color2: #454545;\n",
       "                    background-color: #383838;\n",
       "                }\n",
       "\n",
       "                .geemap-dark .jupyter-button {\n",
       "                    --jp-layout-color3: #383838;\n",
       "                }\n",
       "\n",
       "                .geemap-colab {\n",
       "                    background-color: var(--colab-primary-surface-color, white);\n",
       "                }\n",
       "\n",
       "                .geemap-colab .jupyter-button {\n",
       "                    --jp-layout-color3: var(--colab-primary-surface-color, white);\n",
       "                }\n",
       "            </style>\n",
       "            "
      ],
      "text/plain": [
       "<IPython.core.display.HTML object>"
      ]
     },
     "metadata": {},
     "output_type": "display_data"
    },
    {
     "name": "stdout",
     "output_type": "stream",
     "text": [
      "Predicting RandomForest Classifier on whole dataset size: 40,571 pixels\n"
     ]
    }
   ],
   "source": [
    "# Fit the classifier with the full dataset\n",
    "cl.fit(X,y)\n",
    "\n",
    "ref=s2.sel(band=1) # get reference raster\n",
    "\n",
    "# ## Predict Class on whole dataset\n",
    "X_predictors = s2.values\n",
    "X_predictors = predictor_stack(X_features)\n",
    "print(f\"Predicting RandomForest Classifier on whole dataset size: {X.shape[0]:,} pixels\")\n",
    "classified=classify(cl, X_predictors,ref.shape)\n",
    "smooth=median_filter(classified, size=(3,3)) # Remove \"Salt and Pepper\" effect\n",
    "smooth=smooth.reshape(1, mask_shape[0], mask_shape[1])\n",
    "\n",
    "out_file=f'../data/toronto/processed/classification/classified_{CELL_RESOLUTION}m.tif'\n",
    "\n",
    "with r.open(\n",
    "    out_file,\n",
    "    mode=\"w\",\n",
    "    transform=ref.rio.transform(),\n",
    "    height=ref.shape[0],\n",
    "    width=ref.shape[1],\n",
    "    count=1,\n",
    "    dtype=np.int16,\n",
    "    crs=s2.rio.crs,\n",
    "    drive=\"GTiff\",\n",
    ") as predicted:\n",
    "    predicted.write(smooth)\n"
   ]
  },
  {
   "cell_type": "code",
   "execution_count": 47,
   "id": "2667dfa7",
   "metadata": {},
   "outputs": [
    {
     "data": {
      "text/html": [
       "\n",
       "            <style>\n",
       "                .geemap-dark {\n",
       "                    --jp-widgets-color: white;\n",
       "                    --jp-widgets-label-color: white;\n",
       "                    --jp-ui-font-color1: white;\n",
       "                    --jp-layout-color2: #454545;\n",
       "                    background-color: #383838;\n",
       "                }\n",
       "\n",
       "                .geemap-dark .jupyter-button {\n",
       "                    --jp-layout-color3: #383838;\n",
       "                }\n",
       "\n",
       "                .geemap-colab {\n",
       "                    background-color: var(--colab-primary-surface-color, white);\n",
       "                }\n",
       "\n",
       "                .geemap-colab .jupyter-button {\n",
       "                    --jp-layout-color3: var(--colab-primary-surface-color, white);\n",
       "                }\n",
       "            </style>\n",
       "            "
      ],
      "text/plain": [
       "<IPython.core.display.HTML object>"
      ]
     },
     "metadata": {},
     "output_type": "display_data"
    },
    {
     "ename": "ValueError",
     "evalue": "Input shapes do not overlap raster.",
     "output_type": "error",
     "traceback": [
      "\u001b[1;31m---------------------------------------------------------------------------\u001b[0m",
      "\u001b[1;31mWindowError\u001b[0m                               Traceback (most recent call last)",
      "File \u001b[1;32mc:\\Users\\medo_\\miniconda3\\envs\\lcz_classification\\Lib\\site-packages\\rasterio\\mask.py:80\u001b[0m, in \u001b[0;36mraster_geometry_mask\u001b[1;34m(dataset, shapes, all_touched, invert, crop, pad, pad_width)\u001b[0m\n\u001b[0;32m     79\u001b[0m \u001b[38;5;28;01mtry\u001b[39;00m:\n\u001b[1;32m---> 80\u001b[0m     window \u001b[38;5;241m=\u001b[39m \u001b[43mgeometry_window\u001b[49m\u001b[43m(\u001b[49m\u001b[43mdataset\u001b[49m\u001b[43m,\u001b[49m\u001b[43m \u001b[49m\u001b[43mshapes\u001b[49m\u001b[43m,\u001b[49m\u001b[43m \u001b[49m\u001b[43mpad_x\u001b[49m\u001b[38;5;241;43m=\u001b[39;49m\u001b[43mpad_x\u001b[49m\u001b[43m,\u001b[49m\u001b[43m \u001b[49m\u001b[43mpad_y\u001b[49m\u001b[38;5;241;43m=\u001b[39;49m\u001b[43mpad_y\u001b[49m\u001b[43m)\u001b[49m\n\u001b[0;32m     82\u001b[0m \u001b[38;5;28;01mexcept\u001b[39;00m WindowError:\n\u001b[0;32m     83\u001b[0m     \u001b[38;5;66;03m# If shapes do not overlap raster, raise Exception or UserWarning\u001b[39;00m\n\u001b[0;32m     84\u001b[0m     \u001b[38;5;66;03m# depending on value of crop\u001b[39;00m\n",
      "File \u001b[1;32mc:\\Users\\medo_\\miniconda3\\envs\\lcz_classification\\Lib\\site-packages\\rasterio\\features.py:507\u001b[0m, in \u001b[0;36mgeometry_window\u001b[1;34m(dataset, shapes, pad_x, pad_y, north_up, rotated, pixel_precision, boundless)\u001b[0m\n\u001b[0;32m    506\u001b[0m \u001b[38;5;28;01mif\u001b[39;00m \u001b[38;5;129;01mnot\u001b[39;00m boundless:\n\u001b[1;32m--> 507\u001b[0m     window \u001b[38;5;241m=\u001b[39m \u001b[43mwindow\u001b[49m\u001b[38;5;241;43m.\u001b[39;49m\u001b[43mintersection\u001b[49m\u001b[43m(\u001b[49m\u001b[43mraster_window\u001b[49m\u001b[43m)\u001b[49m\n\u001b[0;32m    509\u001b[0m \u001b[38;5;28;01mreturn\u001b[39;00m window\n",
      "File \u001b[1;32mc:\\Users\\medo_\\miniconda3\\envs\\lcz_classification\\Lib\\site-packages\\rasterio\\windows.py:785\u001b[0m, in \u001b[0;36mWindow.intersection\u001b[1;34m(self, other)\u001b[0m\n\u001b[0;32m    773\u001b[0m \u001b[38;5;250m\u001b[39m\u001b[38;5;124;03m\"\"\"Return the intersection of this window and another\u001b[39;00m\n\u001b[0;32m    774\u001b[0m \n\u001b[0;32m    775\u001b[0m \u001b[38;5;124;03mParameters\u001b[39;00m\n\u001b[1;32m   (...)\u001b[0m\n\u001b[0;32m    783\u001b[0m \u001b[38;5;124;03mWindow\u001b[39;00m\n\u001b[0;32m    784\u001b[0m \u001b[38;5;124;03m\"\"\"\u001b[39;00m\n\u001b[1;32m--> 785\u001b[0m \u001b[38;5;28;01mreturn\u001b[39;00m \u001b[43mintersection\u001b[49m\u001b[43m(\u001b[49m\u001b[43m[\u001b[49m\u001b[38;5;28;43mself\u001b[39;49m\u001b[43m,\u001b[49m\u001b[43m \u001b[49m\u001b[43mother\u001b[49m\u001b[43m]\u001b[49m\u001b[43m)\u001b[49m\n",
      "File \u001b[1;32mc:\\Users\\medo_\\miniconda3\\envs\\lcz_classification\\Lib\\site-packages\\rasterio\\windows.py:125\u001b[0m, in \u001b[0;36miter_args.<locals>.wrapper\u001b[1;34m(*args, **kwargs)\u001b[0m\n\u001b[0;32m    124\u001b[0m \u001b[38;5;28;01mif\u001b[39;00m \u001b[38;5;28mlen\u001b[39m(args) \u001b[38;5;241m==\u001b[39m \u001b[38;5;241m1\u001b[39m \u001b[38;5;129;01mand\u001b[39;00m \u001b[38;5;28misinstance\u001b[39m(args[\u001b[38;5;241m0\u001b[39m], Iterable):\n\u001b[1;32m--> 125\u001b[0m     \u001b[38;5;28;01mreturn\u001b[39;00m \u001b[43mfunction\u001b[49m\u001b[43m(\u001b[49m\u001b[38;5;241;43m*\u001b[39;49m\u001b[43margs\u001b[49m\u001b[43m[\u001b[49m\u001b[38;5;241;43m0\u001b[39;49m\u001b[43m]\u001b[49m\u001b[43m)\u001b[49m\n\u001b[0;32m    126\u001b[0m \u001b[38;5;28;01melse\u001b[39;00m:\n",
      "File \u001b[1;32mc:\\Users\\medo_\\miniconda3\\envs\\lcz_classification\\Lib\\site-packages\\rasterio\\windows.py:239\u001b[0m, in \u001b[0;36mintersection\u001b[1;34m(*windows)\u001b[0m\n\u001b[0;32m    226\u001b[0m \u001b[38;5;250m\u001b[39m\u001b[38;5;124;03m\"\"\"Innermost extent of window intersections.\u001b[39;00m\n\u001b[0;32m    227\u001b[0m \n\u001b[0;32m    228\u001b[0m \u001b[38;5;124;03mWill raise WindowError if windows do not intersect.\u001b[39;00m\n\u001b[1;32m   (...)\u001b[0m\n\u001b[0;32m    237\u001b[0m \u001b[38;5;124;03mWindow\u001b[39;00m\n\u001b[0;32m    238\u001b[0m \u001b[38;5;124;03m\"\"\"\u001b[39;00m\n\u001b[1;32m--> 239\u001b[0m \u001b[38;5;28;01mreturn\u001b[39;00m \u001b[43mfunctools\u001b[49m\u001b[38;5;241;43m.\u001b[39;49m\u001b[43mreduce\u001b[49m\u001b[43m(\u001b[49m\u001b[43m_intersection\u001b[49m\u001b[43m,\u001b[49m\u001b[43m \u001b[49m\u001b[43mwindows\u001b[49m\u001b[43m)\u001b[49m\n",
      "File \u001b[1;32mc:\\Users\\medo_\\miniconda3\\envs\\lcz_classification\\Lib\\site-packages\\rasterio\\windows.py:257\u001b[0m, in \u001b[0;36m_intersection\u001b[1;34m(w1, w2)\u001b[0m\n\u001b[0;32m    256\u001b[0m \u001b[38;5;28;01melse\u001b[39;00m:\n\u001b[1;32m--> 257\u001b[0m     \u001b[38;5;28;01mraise\u001b[39;00m WindowError(\u001b[38;5;124mf\u001b[39m\u001b[38;5;124m\"\u001b[39m\u001b[38;5;124mIntersection is empty \u001b[39m\u001b[38;5;132;01m{\u001b[39;00mw1\u001b[38;5;132;01m}\u001b[39;00m\u001b[38;5;124m \u001b[39m\u001b[38;5;132;01m{\u001b[39;00mw2\u001b[38;5;132;01m}\u001b[39;00m\u001b[38;5;124m\"\u001b[39m)\n",
      "\u001b[1;31mWindowError\u001b[0m: Intersection is empty Window(col_off=607671, row_off=4821756, width=38952, height=44228) Window(col_off=0, row_off=0, width=640, height=480)",
      "\nDuring handling of the above exception, another exception occurred:\n",
      "\u001b[1;31mValueError\u001b[0m                                Traceback (most recent call last)",
      "Cell \u001b[1;32mIn[47], line 1\u001b[0m\n\u001b[1;32m----> 1\u001b[0m \u001b[43mclip_raster\u001b[49m\u001b[43m(\u001b[49m\n\u001b[0;32m      2\u001b[0m \u001b[43m    \u001b[49m\u001b[43mraster_path\u001b[49m\u001b[38;5;241;43m=\u001b[39;49m\u001b[43mout_file\u001b[49m\u001b[43m,\u001b[49m\n\u001b[0;32m      3\u001b[0m \u001b[43m    \u001b[49m\u001b[43mgdf\u001b[49m\u001b[38;5;241;43m=\u001b[39;49m\u001b[43mstudy_area\u001b[49m\u001b[43m,\u001b[49m\n\u001b[0;32m      4\u001b[0m \u001b[43m    \u001b[49m\u001b[43mbbox\u001b[49m\u001b[38;5;241;43m=\u001b[39;49m\u001b[38;5;28;43;01mNone\u001b[39;49;00m\u001b[43m,\u001b[49m\n\u001b[0;32m      5\u001b[0m \u001b[43m    \u001b[49m\u001b[43mout_path\u001b[49m\u001b[38;5;241;43m=\u001b[39;49m\u001b[43mout_file\u001b[49m\u001b[38;5;241;43m.\u001b[39;49m\u001b[43mreplace\u001b[49m\u001b[43m(\u001b[49m\u001b[38;5;124;43m\"\u001b[39;49m\u001b[38;5;124;43m.tif\u001b[39;49m\u001b[38;5;124;43m\"\u001b[39;49m\u001b[43m,\u001b[49m\u001b[43m \u001b[49m\u001b[38;5;124;43m'\u001b[39;49m\u001b[38;5;124;43m_clip.tif\u001b[39;49m\u001b[38;5;124;43m'\u001b[39;49m\u001b[43m)\u001b[49m\u001b[43m,\u001b[49m\u001b[43m \u001b[49m\n\u001b[0;32m      6\u001b[0m \u001b[43m    \u001b[49m\u001b[43mnodata\u001b[49m\u001b[38;5;241;43m=\u001b[39;49m\u001b[38;5;241;43m-\u001b[39;49m\u001b[38;5;241;43m32767\u001b[39;49m\u001b[43m,\u001b[49m\n\u001b[0;32m      7\u001b[0m \u001b[43m    \u001b[49m\u001b[43mcrs\u001b[49m\u001b[38;5;241;43m=\u001b[39;49m\u001b[43ms2\u001b[49m\u001b[38;5;241;43m.\u001b[39;49m\u001b[43mrio\u001b[49m\u001b[38;5;241;43m.\u001b[39;49m\u001b[43mcrs\u001b[49m\n\u001b[0;32m      8\u001b[0m \u001b[43m    \u001b[49m\n\u001b[0;32m      9\u001b[0m \u001b[43m)\u001b[49m\n",
      "File \u001b[1;32mD:\\GeoAI\\projects\\LCZ_Classification\\lcz_classification\\util.py:269\u001b[0m, in \u001b[0;36mclip_raster\u001b[1;34m(raster_path, gdf, crs, bbox, out_path, nodata)\u001b[0m\n\u001b[0;32m    267\u001b[0m     bbox\u001b[38;5;241m=\u001b[39m[bbox]\n\u001b[0;32m    268\u001b[0m out_meta\u001b[38;5;241m=\u001b[39msrc\u001b[38;5;241m.\u001b[39mmeta\u001b[38;5;241m.\u001b[39mcopy() \u001b[38;5;66;03m# copy original metadata\u001b[39;00m\n\u001b[1;32m--> 269\u001b[0m out_image, out_transform \u001b[38;5;241m=\u001b[39m \u001b[43mr\u001b[49m\u001b[38;5;241;43m.\u001b[39;49m\u001b[43mmask\u001b[49m\u001b[38;5;241;43m.\u001b[39;49m\u001b[43mmask\u001b[49m\u001b[43m(\u001b[49m\u001b[43msrc\u001b[49m\u001b[43m,\u001b[49m\u001b[43m \u001b[49m\u001b[43mbbox\u001b[49m\u001b[43m,\u001b[49m\u001b[43m \u001b[49m\u001b[43mcrop\u001b[49m\u001b[38;5;241;43m=\u001b[39;49m\u001b[38;5;28;43;01mTrue\u001b[39;49;00m\u001b[43m,\u001b[49m\u001b[43m \u001b[49m\u001b[43mnodata\u001b[49m\u001b[38;5;241;43m=\u001b[39;49m\u001b[43mnodata\u001b[49m\u001b[43m,\u001b[49m\u001b[43m \u001b[49m\u001b[43mall_touched\u001b[49m\u001b[38;5;241;43m=\u001b[39;49m\u001b[38;5;28;43;01mFalse\u001b[39;49;00m\u001b[43m)\u001b[49m \u001b[38;5;66;03m# Clip raster\u001b[39;00m\n\u001b[0;32m    272\u001b[0m \u001b[38;5;28mprint\u001b[39m(\u001b[38;5;124mf\u001b[39m\u001b[38;5;124m\"\u001b[39m\u001b[38;5;124mClipped \u001b[39m\u001b[38;5;132;01m{\u001b[39;00mraster_path\u001b[38;5;241m.\u001b[39msplit(\u001b[38;5;124m'\u001b[39m\u001b[38;5;124m/\u001b[39m\u001b[38;5;124m'\u001b[39m)[\u001b[38;5;241m-\u001b[39m\u001b[38;5;241m1\u001b[39m]\u001b[38;5;132;01m}\u001b[39;00m\u001b[38;5;124m\"\u001b[39m)\n\u001b[0;32m    274\u001b[0m \u001b[38;5;66;03m#Update raster metadata with new dimensions and transform\u001b[39;00m\n",
      "File \u001b[1;32mc:\\Users\\medo_\\miniconda3\\envs\\lcz_classification\\Lib\\site-packages\\rasterio\\mask.py:180\u001b[0m, in \u001b[0;36mmask\u001b[1;34m(dataset, shapes, all_touched, invert, nodata, filled, crop, pad, pad_width, indexes)\u001b[0m\n\u001b[0;32m    177\u001b[0m     \u001b[38;5;28;01melse\u001b[39;00m:\n\u001b[0;32m    178\u001b[0m         nodata \u001b[38;5;241m=\u001b[39m \u001b[38;5;241m0\u001b[39m\n\u001b[1;32m--> 180\u001b[0m shape_mask, transform, window \u001b[38;5;241m=\u001b[39m \u001b[43mraster_geometry_mask\u001b[49m\u001b[43m(\u001b[49m\n\u001b[0;32m    181\u001b[0m \u001b[43m    \u001b[49m\u001b[43mdataset\u001b[49m\u001b[43m,\u001b[49m\u001b[43m \u001b[49m\u001b[43mshapes\u001b[49m\u001b[43m,\u001b[49m\u001b[43m \u001b[49m\u001b[43mall_touched\u001b[49m\u001b[38;5;241;43m=\u001b[39;49m\u001b[43mall_touched\u001b[49m\u001b[43m,\u001b[49m\u001b[43m \u001b[49m\u001b[43minvert\u001b[49m\u001b[38;5;241;43m=\u001b[39;49m\u001b[43minvert\u001b[49m\u001b[43m,\u001b[49m\u001b[43m \u001b[49m\u001b[43mcrop\u001b[49m\u001b[38;5;241;43m=\u001b[39;49m\u001b[43mcrop\u001b[49m\u001b[43m,\u001b[49m\n\u001b[0;32m    182\u001b[0m \u001b[43m    \u001b[49m\u001b[43mpad\u001b[49m\u001b[38;5;241;43m=\u001b[39;49m\u001b[43mpad\u001b[49m\u001b[43m,\u001b[49m\u001b[43m \u001b[49m\u001b[43mpad_width\u001b[49m\u001b[38;5;241;43m=\u001b[39;49m\u001b[43mpad_width\u001b[49m\u001b[43m)\u001b[49m\n\u001b[0;32m    184\u001b[0m \u001b[38;5;28;01mif\u001b[39;00m indexes \u001b[38;5;129;01mis\u001b[39;00m \u001b[38;5;28;01mNone\u001b[39;00m:\n\u001b[0;32m    185\u001b[0m     out_shape \u001b[38;5;241m=\u001b[39m (dataset\u001b[38;5;241m.\u001b[39mcount, ) \u001b[38;5;241m+\u001b[39m shape_mask\u001b[38;5;241m.\u001b[39mshape\n",
      "File \u001b[1;32mc:\\Users\\medo_\\miniconda3\\envs\\lcz_classification\\Lib\\site-packages\\rasterio\\mask.py:86\u001b[0m, in \u001b[0;36mraster_geometry_mask\u001b[1;34m(dataset, shapes, all_touched, invert, crop, pad, pad_width)\u001b[0m\n\u001b[0;32m     82\u001b[0m \u001b[38;5;28;01mexcept\u001b[39;00m WindowError:\n\u001b[0;32m     83\u001b[0m     \u001b[38;5;66;03m# If shapes do not overlap raster, raise Exception or UserWarning\u001b[39;00m\n\u001b[0;32m     84\u001b[0m     \u001b[38;5;66;03m# depending on value of crop\u001b[39;00m\n\u001b[0;32m     85\u001b[0m     \u001b[38;5;28;01mif\u001b[39;00m crop:\n\u001b[1;32m---> 86\u001b[0m         \u001b[38;5;28;01mraise\u001b[39;00m \u001b[38;5;167;01mValueError\u001b[39;00m(\u001b[38;5;124m'\u001b[39m\u001b[38;5;124mInput shapes do not overlap raster.\u001b[39m\u001b[38;5;124m'\u001b[39m)\n\u001b[0;32m     87\u001b[0m     \u001b[38;5;28;01melse\u001b[39;00m:\n\u001b[0;32m     88\u001b[0m         warnings\u001b[38;5;241m.\u001b[39mwarn(\u001b[38;5;124m'\u001b[39m\u001b[38;5;124mshapes are outside bounds of raster. \u001b[39m\u001b[38;5;124m'\u001b[39m\n\u001b[0;32m     89\u001b[0m                       \u001b[38;5;124m'\u001b[39m\u001b[38;5;124mAre they in different coordinate reference systems?\u001b[39m\u001b[38;5;124m'\u001b[39m)\n",
      "\u001b[1;31mValueError\u001b[0m: Input shapes do not overlap raster."
     ]
    }
   ],
   "source": [
    "clip_raster(\n",
    "    raster_path=out_file,\n",
    "    gdf=study_area,\n",
    "    bbox=None,\n",
    "    out_path=out_file.replace(\".tif\", '_clip.tif'), \n",
    "    nodata=-32767,\n",
    "    crs=s2.rio.crs\n",
    "    \n",
    ")"
   ]
  }
 ],
 "metadata": {
  "kernelspec": {
   "display_name": "lcz_classification",
   "language": "python",
   "name": "python3"
  },
  "language_info": {
   "codemirror_mode": {
    "name": "ipython",
    "version": 3
   },
   "file_extension": ".py",
   "mimetype": "text/x-python",
   "name": "python",
   "nbconvert_exporter": "python",
   "pygments_lexer": "ipython3",
   "version": "3.11.11"
  }
 },
 "nbformat": 4,
 "nbformat_minor": 5
}
