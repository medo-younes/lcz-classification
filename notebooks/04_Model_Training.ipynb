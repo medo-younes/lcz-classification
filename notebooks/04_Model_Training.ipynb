{
 "cells": [
  {
   "cell_type": "markdown",
   "id": "af46be4a",
   "metadata": {},
   "source": [
    "# **Model Training**\n",
    "\n"
   ]
  },
  {
   "cell_type": "markdown",
   "id": "0d5a655e",
   "metadata": {},
   "source": [
    "## **1. Project Setup**"
   ]
  },
  {
   "cell_type": "markdown",
   "id": "d930e7dd",
   "metadata": {},
   "source": [
    "### 1.1 Import Libraries"
   ]
  },
  {
   "cell_type": "code",
   "execution_count": 1,
   "id": "f1da8abe",
   "metadata": {},
   "outputs": [
    {
     "name": "stdout",
     "output_type": "stream",
     "text": [
      "- Parent directory for Toronto already exists, retrievine folder paths...\n",
      "- Folder paths for Toronto retrieved.\n"
     ]
    }
   ],
   "source": [
    "%load_ext autoreload\n",
    "%autoreload \n",
    "\n",
    "import sys\n",
    "import os\n",
    "\n",
    "# Add the module's parent directory to sys.path\n",
    "module_path = os.path.abspath(os.path.join('..'))\n",
    "if module_path not in sys.path:\n",
    "    sys.path.append(module_path)\n",
    "\n",
    "from lcz_classification.config import *\n",
    "from lcz_classification.util import read_lcz_legend, normalize_arr, prepare_dataset, dataset_stats, dataset_summary, masked_study_area,smoothen_gdf\n",
    "from lcz_classification.dataset import fetch_metadata\n",
    "from lcz_classification.plots import plot_confusion_matrix, plot_feature_importances\n",
    "from lcz_classification.modelling.train import predictor_stack\n",
    "import rioxarray as rio\n",
    "\n",
    "import numpy as np\n",
    "import pandas as pd\n",
    "from shapely.geometry import box\n",
    "import geopandas as gpd\n",
    "from sklearn.model_selection import train_test_split, GridSearchCV, StratifiedKFold, RandomizedSearchCV\n",
    "from sklearn.ensemble import RandomForestClassifier\n",
    "from sklearn.preprocessing import MinMaxScaler\n",
    "from sklearn.metrics import make_scorer, f1_score, recall_score,precision_score\n",
    "from sklearn.metrics import confusion_matrix,accuracy_score, classification_report\n",
    "import seaborn as sns\n",
    "import matplotlib.pyplot as plt\n",
    "from scipy.ndimage import median_filter\n",
    "import rasterio as r\n",
    "from lcz_classification.util import merge_rasters, clip_raster\n",
    "from lcz_classification.util import tiles_from_bbox\n"
   ]
  },
  {
   "cell_type": "markdown",
   "id": "90bf211e",
   "metadata": {},
   "source": [
    "## 1.2 Setup Paths"
   ]
  },
  {
   "cell_type": "code",
   "execution_count": 2,
   "id": "e46a7030",
   "metadata": {},
   "outputs": [
    {
     "data": {
      "text/html": [
       "\n",
       "            <style>\n",
       "                .geemap-dark {\n",
       "                    --jp-widgets-color: white;\n",
       "                    --jp-widgets-label-color: white;\n",
       "                    --jp-ui-font-color1: white;\n",
       "                    --jp-layout-color2: #454545;\n",
       "                    background-color: #383838;\n",
       "                }\n",
       "\n",
       "                .geemap-dark .jupyter-button {\n",
       "                    --jp-layout-color3: #383838;\n",
       "                }\n",
       "\n",
       "                .geemap-colab {\n",
       "                    background-color: var(--colab-primary-surface-color, white);\n",
       "                }\n",
       "\n",
       "                .geemap-colab .jupyter-button {\n",
       "                    --jp-layout-color3: var(--colab-primary-surface-color, white);\n",
       "                }\n",
       "            </style>\n",
       "            "
      ],
      "text/plain": [
       "<IPython.core.display.HTML object>"
      ]
     },
     "metadata": {},
     "output_type": "display_data"
    }
   ],
   "source": [
    "s2_metadata=fetch_metadata('S2_METADATA')\n",
    "lcz_legend, color_dict=read_lcz_legend(LCZ_LEGEND_FP)\n",
    "label_dict=lcz_legend.set_index('class')['name'].to_dict()\n",
    "\n",
    "study_area=fetch_metadata('STUDY_AREA')\n",
    "study_area=study_area.to_crs(study_area.estimate_utm_crs())\n",
    "tiles=tiles_from_bbox(study_area.total_bounds, tile_dims=(2,2))"
   ]
  },
  {
   "cell_type": "markdown",
   "id": "f4f9125e",
   "metadata": {},
   "source": [
    "### Load Data"
   ]
  },
  {
   "cell_type": "code",
   "execution_count": 3,
   "id": "f2fcf5c5",
   "metadata": {},
   "outputs": [
    {
     "data": {
      "text/html": [
       "\n",
       "            <style>\n",
       "                .geemap-dark {\n",
       "                    --jp-widgets-color: white;\n",
       "                    --jp-widgets-label-color: white;\n",
       "                    --jp-ui-font-color1: white;\n",
       "                    --jp-layout-color2: #454545;\n",
       "                    background-color: #383838;\n",
       "                }\n",
       "\n",
       "                .geemap-dark .jupyter-button {\n",
       "                    --jp-layout-color3: #383838;\n",
       "                }\n",
       "\n",
       "                .geemap-colab {\n",
       "                    background-color: var(--colab-primary-surface-color, white);\n",
       "                }\n",
       "\n",
       "                .geemap-colab .jupyter-button {\n",
       "                    --jp-layout-color3: var(--colab-primary-surface-color, white);\n",
       "                }\n",
       "            </style>\n",
       "            "
      ],
      "text/plain": [
       "<IPython.core.display.HTML object>"
      ]
     },
     "metadata": {},
     "output_type": "display_data"
    }
   ],
   "source": [
    "# Read Feature Layers\n",
    "# SF_FP = f'{SF_PRC}/svf_20m.tif'\n",
    "# Sentinel-2A Imargery\n",
    "s2=rio.open_rasterio(S2_FP)\n",
    "\n",
    "attrs=s2.attrs\n",
    "s2 = s2 / 10000\n",
    "s2.attrs = attrs\n",
    "s2_arr = s2.values\n",
    "\n",
    "\n",
    "shape=s2.shape\n",
    "s2_ref=s2.sel(band=1)\n",
    "## URBAN CANOPY PARAMETERS ##\n",
    "bh=rio.open_rasterio(BH_FP).rio.reproject_match(s2_ref) # Building Height\n",
    "ch=rio.open_rasterio(CH_FP).rio.reproject_match(s2_ref) # Tree Canopy Height\n",
    "isf=rio.open_rasterio(IS_FP).rio.reproject_match(s2_ref) # Impervious Surface Fraction\n",
    "bsf=rio.open_rasterio(BS_FP).rio.reproject_match(s2_ref) # Building Surface Fraction\n",
    "svf=rio.open_rasterio(SF_FP).rio.reproject_match(s2_ref) # Building Surface Fraction\n",
    "\n",
    "features=eval(s2.attrs['bands'])\n",
    "# features=list(s2.band.values)\n",
    "# s2_b_filtered=s2_metadata[(s2_metadata.mission == \"S2A\" )& (s2_metadata.band.isin(features))].set_index('band').loc[features]\n",
    "# features=[f'{r.description} ({b})' for b,r in s2_b_filtered.iterrows()]\n",
    "features.extend(['Building Height', 'Canopy Height', 'Impervious Surface Fraction', 'Building Surface Fraction', 'Sky View Factor'])\n",
    "\n",
    "# Prepare Feature Stack\n",
    "X_data=np.append(s2_arr,bh.fillna(0).values, axis=0)\n",
    "X_data=np.append(X_data,ch.fillna(0).values, axis=0)\n",
    "X_data=np.append(X_data,isf.fillna(0).values, axis=0)\n",
    "X_data=np.append(X_data,bsf.fillna(0).values, axis=0)\n",
    "X_data=np.append(X_data,svf.fillna(0).values, axis=0)\n",
    "\n",
    "# Rescale Features\n",
    "scaler=MinMaxScaler()\n",
    "X_features= np.array([normalize_arr(x, scaler) for x in X_data])"
   ]
  },
  {
   "cell_type": "markdown",
   "id": "a135e74c",
   "metadata": {},
   "source": [
    "### Train, Validation and Test Split"
   ]
  },
  {
   "cell_type": "code",
   "execution_count": 4,
   "id": "ec19125a",
   "metadata": {},
   "outputs": [
    {
     "data": {
      "text/html": [
       "\n",
       "            <style>\n",
       "                .geemap-dark {\n",
       "                    --jp-widgets-color: white;\n",
       "                    --jp-widgets-label-color: white;\n",
       "                    --jp-ui-font-color1: white;\n",
       "                    --jp-layout-color2: #454545;\n",
       "                    background-color: #383838;\n",
       "                }\n",
       "\n",
       "                .geemap-dark .jupyter-button {\n",
       "                    --jp-layout-color3: #383838;\n",
       "                }\n",
       "\n",
       "                .geemap-colab {\n",
       "                    background-color: var(--colab-primary-surface-color, white);\n",
       "                }\n",
       "\n",
       "                .geemap-colab .jupyter-button {\n",
       "                    --jp-layout-color3: var(--colab-primary-surface-color, white);\n",
       "                }\n",
       "            </style>\n",
       "            "
      ],
      "text/plain": [
       "<IPython.core.display.HTML object>"
      ]
     },
     "metadata": {},
     "output_type": "display_data"
    },
    {
     "name": "stdout",
     "output_type": "stream",
     "text": [
      "============== DATASET SUMMARY ==============\n",
      "+--------+---------+----------+---------+\n",
      "| Datset | Samples | Features | Classes |\n",
      "+--------+---------+----------+---------+\n",
      "| Train  |  32865  |    14    |    12   |\n",
      "|  Test  |  14086  |    14    |    12   |\n",
      "+--------+---------+----------+---------+\n",
      "\n",
      "============-==== CLASS SUMMARY =================\n",
      "+--------------------+-------+------+\n",
      "|       Class        | Train | Test |\n",
      "+--------------------+-------+------+\n",
      "| Compact High-Rise  |  1548 | 664  |\n",
      "|   Open High-Rise   |  2722 | 1166 |\n",
      "|   Open Mid-Rise    |  1100 | 471  |\n",
      "|   Open Low-Rise    |  6397 | 2741 |\n",
      "|   Large low-rise   |  4777 | 2047 |\n",
      "|   Sparsely built   |  1816 | 778  |\n",
      "|    Dense trees     |  1851 | 794  |\n",
      "|  Scattered trees   |  1053 | 451  |\n",
      "|     Low plants     |  5655 | 2424 |\n",
      "| Bare rock or paved |  995  | 427  |\n",
      "| Bare soil or sand  |  1289 | 553  |\n",
      "|       Water        |  3662 | 1570 |\n",
      "+--------------------+-------+------+\n"
     ]
    }
   ],
   "source": [
    "# Read Train / Test Data\n",
    "train=rio.open_rasterio(TRAIN_FP).rio.reproject_match(s2_ref) # Local Climate Zones Rasterized (Target Layer)\n",
    "train_arr=train.values\n",
    "\n",
    "y_mask=train_arr[0] > 0\n",
    "mask_shape=y_mask.shape\n",
    "\n",
    "\n",
    "y=np.int16(train_arr[0][y_mask].reshape(-1))\n",
    "X =  predictor_stack(np.array([x[y_mask] for x in X_features]))\n",
    "\n",
    "X_train,X_test, y_train, y_test= train_test_split(X,y,test_size=0.3,stratify=y, random_state=42)\n",
    "# Prepare Training Dataset\n",
    "# X_train, y_train = prepare_dataset(X_features, train,features)\n",
    "\n",
    "\n",
    "# # Prepare Testing Dataset\n",
    "# X_test, y_test = prepare_dataset(X_features, test,features)\n",
    "\n",
    "# Print Summary of Dataset and Classess\n",
    "train_stats=dataset_stats(X_train, y_train, label_dict)\n",
    "# val_stats=dataset_stats(X_val, y_val, label_dict)\n",
    "test_stats=dataset_stats(X_test, y_test, label_dict)\n",
    "dataset_summary(train_stats, test_stats)\n",
    "# labels=[label_dict[x] for x in np.int16(np.unique(y))]\n"
   ]
  },
  {
   "cell_type": "markdown",
   "id": "3b92e82e",
   "metadata": {},
   "source": [
    "## Train RandomForest Classifier"
   ]
  },
  {
   "cell_type": "code",
   "execution_count": 5,
   "id": "87599e34",
   "metadata": {},
   "outputs": [
    {
     "data": {
      "text/html": [
       "\n",
       "            <style>\n",
       "                .geemap-dark {\n",
       "                    --jp-widgets-color: white;\n",
       "                    --jp-widgets-label-color: white;\n",
       "                    --jp-ui-font-color1: white;\n",
       "                    --jp-layout-color2: #454545;\n",
       "                    background-color: #383838;\n",
       "                }\n",
       "\n",
       "                .geemap-dark .jupyter-button {\n",
       "                    --jp-layout-color3: #383838;\n",
       "                }\n",
       "\n",
       "                .geemap-colab {\n",
       "                    background-color: var(--colab-primary-surface-color, white);\n",
       "                }\n",
       "\n",
       "                .geemap-colab .jupyter-button {\n",
       "                    --jp-layout-color3: var(--colab-primary-surface-color, white);\n",
       "                }\n",
       "            </style>\n",
       "            "
      ],
      "text/plain": [
       "<IPython.core.display.HTML object>"
      ]
     },
     "metadata": {},
     "output_type": "display_data"
    }
   ],
   "source": [
    "\n",
    "classes=[label_dict[int(x)] for x in np.unique(y_train)]"
   ]
  },
  {
   "cell_type": "markdown",
   "id": "e0bcc561",
   "metadata": {},
   "source": [
    "# Model Tuning with Grid Search"
   ]
  },
  {
   "cell_type": "code",
   "execution_count": 6,
   "id": "1fdda047",
   "metadata": {},
   "outputs": [
    {
     "data": {
      "text/html": [
       "\n",
       "            <style>\n",
       "                .geemap-dark {\n",
       "                    --jp-widgets-color: white;\n",
       "                    --jp-widgets-label-color: white;\n",
       "                    --jp-ui-font-color1: white;\n",
       "                    --jp-layout-color2: #454545;\n",
       "                    background-color: #383838;\n",
       "                }\n",
       "\n",
       "                .geemap-dark .jupyter-button {\n",
       "                    --jp-layout-color3: #383838;\n",
       "                }\n",
       "\n",
       "                .geemap-colab {\n",
       "                    background-color: var(--colab-primary-surface-color, white);\n",
       "                }\n",
       "\n",
       "                .geemap-colab .jupyter-button {\n",
       "                    --jp-layout-color3: var(--colab-primary-surface-color, white);\n",
       "                }\n",
       "            </style>\n",
       "            "
      ],
      "text/plain": [
       "<IPython.core.display.HTML object>"
      ]
     },
     "metadata": {},
     "output_type": "display_data"
    },
    {
     "name": "stdout",
     "output_type": "stream",
     "text": [
      "- No Existing Model Found, running grid search with params:\n",
      "{'n_estimators': [100, 200, 500], 'max_features': ['sqrt', 'log2'], 'criterion': ['gini', 'entropy'], 'max_depth': [10, 20, None], 'min_samples_split': [2, 5, 10], 'min_samples_leaf': [2, 5, 10], 'max_samples': [0.2, 0.5, 0.8], 'max_leaf_nodes': [100, 1000, 3000]}\n",
      "Fitting 5 folds for each of 10 candidates, totalling 50 fits\n",
      "- Best Parameters:{'n_estimators': 500, 'min_samples_split': 2, 'min_samples_leaf': 5, 'max_samples': 0.8, 'max_leaf_nodes': 3000, 'max_features': 'sqrt', 'max_depth': 20, 'criterion': 'gini'}\n",
      "Mean Train Score: 0.89\n",
      "Mean Test Score: 0.86\n",
      "\n"
     ]
    }
   ],
   "source": [
    "import joblib\n",
    "\n",
    "MODEL_DIR=\"../models/\"\n",
    "MODEL_NAME='rf_cv_ronto'\n",
    "RF_FP=f\"{MODEL_DIR}/{MODEL_NAME}.joblib\"\n",
    "\n",
    "SEARCH_METHOD = \"random\"\n",
    "\n",
    "search_methods=dict(\n",
    "    random=RandomizedSearchCV,\n",
    "    grid=GridSearchCV\n",
    ")\n",
    "\n",
    "\n",
    "cv = StratifiedKFold(n_splits=5, shuffle=True)\n",
    "\n",
    "param_grid = {\n",
    "    'n_estimators': [ 100, 200, 500], #[100, 150, 200, 500]\n",
    "    'max_features': ['sqrt', 'log2'], #['auto', 'sqrt', 'log2']\n",
    "    'criterion': ['gini', 'entropy'], #['gini', 'entropy']\n",
    "    'max_depth' : [10, 20, None],\n",
    "    'min_samples_split' : [2,5,10],\n",
    "    'min_samples_leaf' : [2,5,10],\n",
    "    'max_samples' : [0.2, 0.5, 0.8],\n",
    "    'max_leaf_nodes' : [100, 1000, 3000]\n",
    "    # 'class_weight' : ['balanced', 'balanced_subsample' ,None]\n",
    "}\n",
    "\n",
    "if os.path.exists(RF_FP):\n",
    "    print(f'Train Random Forest Classifier found : {RF_FP}: Loading from File')\n",
    "    # To load the model later\n",
    "    cl = joblib.load(RF_FP)\n",
    "\n",
    "    \n",
    "\n",
    "else:\n",
    "    print(f'- No Existing Model Found, running grid search with params:')\n",
    "\n",
    "   \n",
    "    print(param_grid)\n",
    "\n",
    "    # Instantiate RandomForestClassifier without Hyperparameters set\n",
    "    cl = RandomForestClassifier(n_jobs=-1)\n",
    "    search=search_methods[SEARCH_METHOD]\n",
    "\n",
    "    search=search(cl, param_grid, scoring='accuracy', cv =cv, verbose=1, n_jobs=-1, return_train_score=True )\n",
    "    search.fit(X_train,y_train)\n",
    "    print(f'- Best Parameters:{search.best_params_}')\n",
    "    cv_results=pd.DataFrame(search.cv_results_)\n",
    "\n",
    "    print(F'Mean Train Score: {cv_results.mean_train_score.mean().round(2)}')\n",
    "    print(F'Mean Test Score: {cv_results.mean_test_score.mean().round(2)}')\n",
    "    print()\n",
    "    cv_results.to_csv(f\"../models/{MODEL_NAME}.csv\")\n",
    "    # Retrieve the best estimator from grid search\n",
    "    cl=search.best_estimator_\n",
    "    cl.feature_names_in_ = np.array(features) # Set feature names\n",
    "    cl.classes_ = np.array(features) \n",
    "\n"
   ]
  },
  {
   "cell_type": "markdown",
   "id": "3c570ae6",
   "metadata": {},
   "source": [
    "### Model Evaluation"
   ]
  },
  {
   "cell_type": "code",
   "execution_count": 7,
   "id": "f25ba871",
   "metadata": {},
   "outputs": [
    {
     "data": {
      "text/html": [
       "\n",
       "            <style>\n",
       "                .geemap-dark {\n",
       "                    --jp-widgets-color: white;\n",
       "                    --jp-widgets-label-color: white;\n",
       "                    --jp-ui-font-color1: white;\n",
       "                    --jp-layout-color2: #454545;\n",
       "                    background-color: #383838;\n",
       "                }\n",
       "\n",
       "                .geemap-dark .jupyter-button {\n",
       "                    --jp-layout-color3: #383838;\n",
       "                }\n",
       "\n",
       "                .geemap-colab {\n",
       "                    background-color: var(--colab-primary-surface-color, white);\n",
       "                }\n",
       "\n",
       "                .geemap-colab .jupyter-button {\n",
       "                    --jp-layout-color3: var(--colab-primary-surface-color, white);\n",
       "                }\n",
       "            </style>\n",
       "            "
      ],
      "text/plain": [
       "<IPython.core.display.HTML object>"
      ]
     },
     "metadata": {},
     "output_type": "display_data"
    },
    {
     "name": "stdout",
     "output_type": "stream",
     "text": [
      "0.8779639358228027\n",
      "macro: 0.8406494373176455\n",
      "0.8779639358228027\n",
      "micro: 0.8779639358228027\n",
      "0.8779639358228027\n",
      "weighted: 0.8749192641204792\n"
     ]
    }
   ],
   "source": [
    "\n",
    "cl.fit(X_train,y_train)\n",
    "y_pred=cl.predict(X_test) # Predict on testing set\n",
    "\n",
    "from sklearn.metrics import f1_score, precision_score, recall_score, balanced_accuracy_score\n",
    "\n",
    "for avg in ['macro', 'micro', 'weighted']:\n",
    "    f1=f1_score(y_test,y_pred, average=avg)\n",
    "    re=recall_score(y_test,y_pred,average='macro')\n",
    "    oabu = balanced_accuracy_score(y_test,y_pred)\n",
    "    oaw=recall_score(y_test,y_pred,average='weighted')\n",
    "    print(oaw)\n",
    "    print(f\"{avg}: {f1}\")"
   ]
  },
  {
   "cell_type": "code",
   "execution_count": 8,
   "id": "320d8b46",
   "metadata": {},
   "outputs": [
    {
     "data": {
      "text/html": [
       "\n",
       "            <style>\n",
       "                .geemap-dark {\n",
       "                    --jp-widgets-color: white;\n",
       "                    --jp-widgets-label-color: white;\n",
       "                    --jp-ui-font-color1: white;\n",
       "                    --jp-layout-color2: #454545;\n",
       "                    background-color: #383838;\n",
       "                }\n",
       "\n",
       "                .geemap-dark .jupyter-button {\n",
       "                    --jp-layout-color3: #383838;\n",
       "                }\n",
       "\n",
       "                .geemap-colab {\n",
       "                    background-color: var(--colab-primary-surface-color, white);\n",
       "                }\n",
       "\n",
       "                .geemap-colab .jupyter-button {\n",
       "                    --jp-layout-color3: var(--colab-primary-surface-color, white);\n",
       "                }\n",
       "            </style>\n",
       "            "
      ],
      "text/plain": [
       "<IPython.core.display.HTML object>"
      ]
     },
     "metadata": {},
     "output_type": "display_data"
    },
    {
     "name": "stdout",
     "output_type": "stream",
     "text": [
      "                    precision    recall  f1-score   support\n",
      "\n",
      " Compact High-Rise       0.85      0.80      0.82       664\n",
      "    Open High-Rise       0.67      0.69      0.68      1166\n",
      "     Open Mid-Rise       0.78      0.44      0.56       471\n",
      "     Open Low-Rise       0.88      0.91      0.89      2741\n",
      "    Large low-rise       0.87      0.90      0.88      2047\n",
      "    Sparsely built       0.71      0.61      0.65       778\n",
      "       Dense trees       0.93      0.99      0.95       794\n",
      "   Scattered trees       0.92      0.90      0.91       451\n",
      "        Low plants       0.96      0.97      0.97      2424\n",
      "Bare rock or paved       0.75      0.94      0.83       427\n",
      " Bare soil or sand       0.95      0.89      0.92       553\n",
      "             Water       1.00      1.00      1.00      1570\n",
      "\n",
      "          accuracy                           0.88     14086\n",
      "         macro avg       0.85      0.84      0.84     14086\n",
      "      weighted avg       0.88      0.88      0.87     14086\n",
      "\n"
     ]
    },
    {
     "data": {
      "image/png": "[encoded data removed]",
      "text/plain": [
       "<Figure size 700x700 with 1 Axes>"
      ]
     },
     "metadata": {},
     "output_type": "display_data"
    },
    {
     "data": {
      "image/png": "[encoded data removed]",
      "text/plain": [
       "<Figure size 640x480 with 1 Axes>"
      ]
     },
     "metadata": {},
     "output_type": "display_data"
    }
   ],
   "source": [
    "\n",
    "# Classification Report\n",
    "cl_report=classification_report(y_test,y_pred,digits=2,target_names=classes)\n",
    "cl_report_df=pd.DataFrame(classification_report(y_test,y_pred,digits=2,target_names=classes, output_dict=True)).T.round(2)\n",
    "cl_report_df.support = cl_report_df.support.astype(int)\n",
    "cl_report_df.to_csv(\"../reports/classification_report.csv\")\n",
    "print(cl_report)\n",
    "\n",
    "\n",
    "out_file=f\"{FIGURES_DIR}/s2_cm.png\"\n",
    "\n",
    "# Confustion Matridx\n",
    "plot_confusion_matrix(\n",
    "                    y_true=y_test,\n",
    "                    y_pred=y_pred,\n",
    "                    title='Confusion Matrix of LCZ Training Areas using Sentinel-2 Imagery',\n",
    "                    labels=classes,\n",
    "                    cmap='Greens', \n",
    "                    as_percent=False, \n",
    "                    out_file=out_file, \n",
    "                    figsize = (7,7)\n",
    "                    )\n",
    "\n",
    "\n",
    "# Feature Importances\n",
    "out_file=f\"{FIGURES_DIR}/s2_fi.png\"\n",
    "\n",
    "\n",
    "plot_feature_importances(cl,features,\"Feature Importances using MDI\", out_file=out_file)\n",
    "\n"
   ]
  },
  {
   "cell_type": "markdown",
   "id": "49105a7a",
   "metadata": {},
   "source": [
    "## Classify LCZs"
   ]
  },
  {
   "cell_type": "code",
   "execution_count": 9,
   "id": "26b566f7",
   "metadata": {},
   "outputs": [
    {
     "data": {
      "text/html": [
       "\n",
       "            <style>\n",
       "                .geemap-dark {\n",
       "                    --jp-widgets-color: white;\n",
       "                    --jp-widgets-label-color: white;\n",
       "                    --jp-ui-font-color1: white;\n",
       "                    --jp-layout-color2: #454545;\n",
       "                    background-color: #383838;\n",
       "                }\n",
       "\n",
       "                .geemap-dark .jupyter-button {\n",
       "                    --jp-layout-color3: #383838;\n",
       "                }\n",
       "\n",
       "                .geemap-colab {\n",
       "                    background-color: var(--colab-primary-surface-color, white);\n",
       "                }\n",
       "\n",
       "                .geemap-colab .jupyter-button {\n",
       "                    --jp-layout-color3: var(--colab-primary-surface-color, white);\n",
       "                }\n",
       "            </style>\n",
       "            "
      ],
      "text/plain": [
       "<IPython.core.display.HTML object>"
      ]
     },
     "metadata": {},
     "output_type": "display_data"
    }
   ],
   "source": [
    "\n",
    "def masked_features(features, ref, bounds):\n",
    "    x1,y1,x2,y2 = bounds\n",
    "    \n",
    "    mask_raster=ref.sel(x = slice(x1,x2) ,y=slice(y2,y1), drop =False)\n",
    "    mask_coords=mask_raster.coords\n",
    "    mask_shape=mask_raster.shape\n",
    "    mask=((ref.y > y1) & (ref.y < y2) & (ref.x > x1) & (ref.x < x2)).values\n",
    "\n",
    "    feature_mask=np.array([mask for i in range(0, features.shape[0])])\n",
    "\n",
    "    masked =  features[feature_mask].reshape(-1, mask_shape[0], mask_shape[1])\n",
    "\n",
    "    return masked, mask_coords, mask_shape\n",
    "\n",
    "def predictor_stack(features):\n",
    "    return np.stack(features).reshape(features.shape[0],-1).T\n",
    "\n",
    "\n",
    "def classify(cl, predictors, out_shape):\n",
    "    classified=cl.predict(predictors)\n",
    "    return classified.reshape(out_shape)"
   ]
  },
  {
   "cell_type": "code",
   "execution_count": null,
   "id": "63663e2a",
   "metadata": {},
   "outputs": [
    {
     "data": {
      "text/html": [
       "\n",
       "            <style>\n",
       "                .geemap-dark {\n",
       "                    --jp-widgets-color: white;\n",
       "                    --jp-widgets-label-color: white;\n",
       "                    --jp-ui-font-color1: white;\n",
       "                    --jp-layout-color2: #454545;\n",
       "                    background-color: #383838;\n",
       "                }\n",
       "\n",
       "                .geemap-dark .jupyter-button {\n",
       "                    --jp-layout-color3: #383838;\n",
       "                }\n",
       "\n",
       "                .geemap-colab {\n",
       "                    background-color: var(--colab-primary-surface-color, white);\n",
       "                }\n",
       "\n",
       "                .geemap-colab .jupyter-button {\n",
       "                    --jp-layout-color3: var(--colab-primary-surface-color, white);\n",
       "                }\n",
       "            </style>\n",
       "            "
      ],
      "text/plain": [
       "<IPython.core.display.HTML object>"
      ]
     },
     "metadata": {},
     "output_type": "display_data"
    },
    {
     "name": "stdout",
     "output_type": "stream",
     "text": [
      "Predicting RandomForest Classifier on whole dataset size: 46,951 pixels\n"
     ]
    }
   ],
   "source": [
    "# Fit the classifier with the full dataset\n",
    "cl.fit(X,y)\n",
    "\n",
    "ref=s2.sel(band=1) # get reference raster\n",
    "\n",
    "# ## Predict Class on whole dataset\n",
    "X_predictors = s2.values\n",
    "X_predictors = predictor_stack(X_features)\n",
    "print(f\"Predicting RandomForest Classifier on whole dataset size: {X.shape[0]:,} pixels\")\n",
    "classified=classify(cl, X_predictors,ref.shape)\n",
    "smooth=median_filter(classified, size=(3,3)) # Remove \"Salt and Pepper\" effect\n",
    "smooth=smooth.reshape(1, mask_shape[0], mask_shape[1])\n",
    "\n",
    "\n",
    "\n",
    "with r.open(\n",
    "    CLASSIFIED_FP,\n",
    "    mode=\"w\",\n",
    "    transform=ref.rio.transform(),\n",
    "    height=ref.shape[0],\n",
    "    width=ref.shape[1],\n",
    "    count=1,\n",
    "    dtype=np.int16,\n",
    "    crs=s2.rio.crs,\n",
    "    drive=\"GTiff\",\n",
    ") as out:\n",
    "    out.write(smooth)\n"
   ]
  },
  {
   "cell_type": "code",
   "execution_count": null,
   "id": "2667dfa7",
   "metadata": {},
   "outputs": [
    {
     "data": {
      "text/html": [
       "\n",
       "            <style>\n",
       "                .geemap-dark {\n",
       "                    --jp-widgets-color: white;\n",
       "                    --jp-widgets-label-color: white;\n",
       "                    --jp-ui-font-color1: white;\n",
       "                    --jp-layout-color2: #454545;\n",
       "                    background-color: #383838;\n",
       "                }\n",
       "\n",
       "                .geemap-dark .jupyter-button {\n",
       "                    --jp-layout-color3: #383838;\n",
       "                }\n",
       "\n",
       "                .geemap-colab {\n",
       "                    background-color: var(--colab-primary-surface-color, white);\n",
       "                }\n",
       "\n",
       "                .geemap-colab .jupyter-button {\n",
       "                    --jp-layout-color3: var(--colab-primary-surface-color, white);\n",
       "                }\n",
       "            </style>\n",
       "            "
      ],
      "text/plain": [
       "<IPython.core.display.HTML object>"
      ]
     },
     "metadata": {},
     "output_type": "display_data"
    },
    {
     "name": "stdout",
     "output_type": "stream",
     "text": [
      "Clipped classified_30m.tif\n",
      "Exported clipped raster for classified_30m.tif\n"
     ]
    }
   ],
   "source": [
    "clip_raster(\n",
    "    raster_path=CLASSIFIED_FP,\n",
    "    gdf=study_area,\n",
    "    bbox=None,\n",
    "    out_path=CLASSIFIED_CLIPPED_FP, \n",
    "    nodata=-32767,\n",
    "    crs=s2.rio.crs   \n",
    ")\n",
    "\n",
    "\n",
    "\n"
   ]
  }
 ],
 "metadata": {
  "kernelspec": {
   "display_name": "lcz_classification",
   "language": "python",
   "name": "python3"
  },
  "language_info": {
   "codemirror_mode": {
    "name": "ipython",
    "version": 3
   },
   "file_extension": ".py",
   "mimetype": "text/x-python",
   "name": "python",
   "nbconvert_exporter": "python",
   "pygments_lexer": "ipython3",
   "version": "3.11.11"
  }
 },
 "nbformat": 4,
 "nbformat_minor": 5
}
