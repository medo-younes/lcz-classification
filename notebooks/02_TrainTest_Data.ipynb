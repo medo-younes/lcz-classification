{
 "cells": [
  {
   "cell_type": "markdown",
   "id": "af46be4a",
   "metadata": {},
   "source": [
    "# **Training Data Processing**\n",
    "\n",
    "1. Project Setup\n",
    "2. Prepare UCP Data\n",
    "3. Rasterize UCP Data\n",
    "4. T"
   ]
  },
  {
   "cell_type": "markdown",
   "id": "0d5a655e",
   "metadata": {},
   "source": [
    "# **1. Project Setup**"
   ]
  },
  {
   "cell_type": "markdown",
   "id": "d930e7dd",
   "metadata": {},
   "source": [
    "### 1.1. Import Libraries"
   ]
  },
  {
   "cell_type": "code",
   "execution_count": 1,
   "id": "f1da8abe",
   "metadata": {},
   "outputs": [
    {
     "name": "stdout",
     "output_type": "stream",
     "text": [
      "- Parent directory for Toronto already exists, retrievine folder paths...\n",
      "- Folder paths for Toronto retrieved.\n"
     ]
    }
   ],
   "source": [
    "%load_ext autoreload\n",
    "%autoreload \n",
    "\n",
    "import sys\n",
    "import os\n",
    "\n",
    "# Add the module's parent directory to sys.path\n",
    "module_path = os.path.abspath(os.path.join('..'))\n",
    "if module_path not in sys.path:\n",
    "    sys.path.append(module_path)\n",
    "\n",
    "from lcz_classification.config import * \n",
    "from lcz_classification.dataset import fetch_metadata\n",
    "from lcz_classification.util import merge_rasters, resample_da, read_lcz_legend, rasterize_vector, generate_raster, get_overlapping_tiles, meter_to_deg, kml_to_gdf\n",
    "from lcz_classification.plots import map_training_areas\n",
    "import fiona\n",
    "import rioxarray as rio\n",
    "import pandas as pd\n",
    "import rasterio as r\n",
    "from shapely.geometry import box\n",
    "import geopandas as gpd\n",
    "import xarray as xr\n",
    "from rasterio.enums import Resampling\n",
    "import numpy as np\n",
    "from sklearn.model_selection import train_test_split\n"
   ]
  },
  {
   "cell_type": "code",
   "execution_count": 2,
   "id": "08c52627",
   "metadata": {},
   "outputs": [
    {
     "data": {
      "text/html": [
       "\n",
       "            <style>\n",
       "                .geemap-dark {\n",
       "                    --jp-widgets-color: white;\n",
       "                    --jp-widgets-label-color: white;\n",
       "                    --jp-ui-font-color1: white;\n",
       "                    --jp-layout-color2: #454545;\n",
       "                    background-color: #383838;\n",
       "                }\n",
       "\n",
       "                .geemap-dark .jupyter-button {\n",
       "                    --jp-layout-color3: #383838;\n",
       "                }\n",
       "\n",
       "                .geemap-colab {\n",
       "                    background-color: var(--colab-primary-surface-color, white);\n",
       "                }\n",
       "\n",
       "                .geemap-colab .jupyter-button {\n",
       "                    --jp-layout-color3: var(--colab-primary-surface-color, white);\n",
       "                }\n",
       "            </style>\n",
       "            "
      ],
      "text/plain": [
       "<IPython.core.display.HTML object>"
      ]
     },
     "metadata": {},
     "output_type": "display_data"
    }
   ],
   "source": [
    "study_area=fetch_metadata(\"STUDY_AREA\")\n",
    "\n",
    "UTM_CRS=study_area.estimate_utm_crs()\n",
    "bounds=list(study_area.total_bounds)\n",
    "\n",
    "lcz_legend=fetch_metadata('LCZ_LEGEND')\n"
   ]
  },
  {
   "cell_type": "markdown",
   "id": "24a54c95",
   "metadata": {},
   "source": [
    "### 1.3. Setup Reference Raster"
   ]
  },
  {
   "cell_type": "code",
   "execution_count": 3,
   "id": "e46a7030",
   "metadata": {},
   "outputs": [
    {
     "data": {
      "text/html": [
       "\n",
       "            <style>\n",
       "                .geemap-dark {\n",
       "                    --jp-widgets-color: white;\n",
       "                    --jp-widgets-label-color: white;\n",
       "                    --jp-ui-font-color1: white;\n",
       "                    --jp-layout-color2: #454545;\n",
       "                    background-color: #383838;\n",
       "                }\n",
       "\n",
       "                .geemap-dark .jupyter-button {\n",
       "                    --jp-layout-color3: #383838;\n",
       "                }\n",
       "\n",
       "                .geemap-colab {\n",
       "                    background-color: var(--colab-primary-surface-color, white);\n",
       "                }\n",
       "\n",
       "                .geemap-colab .jupyter-button {\n",
       "                    --jp-layout-color3: var(--colab-primary-surface-color, white);\n",
       "                }\n",
       "            </style>\n",
       "            "
      ],
      "text/plain": [
       "<IPython.core.display.HTML object>"
      ]
     },
     "metadata": {},
     "output_type": "display_data"
    }
   ],
   "source": [
    "\n",
    "## Setup Reference Raster from Sentinel-2 Imagery\n",
    "s2=rio.open_rasterio(S2_FP)\n",
    "s2_ref=s2.isel(band=0)"
   ]
  },
  {
   "cell_type": "markdown",
   "id": "fe8490b6",
   "metadata": {},
   "source": [
    "# **2. Urban Canopy Layer Processing**"
   ]
  },
  {
   "cell_type": "markdown",
   "id": "8d516d4b",
   "metadata": {},
   "source": [
    "## 2.1. Sky View Factor"
   ]
  },
  {
   "cell_type": "markdown",
   "id": "c1ac0745",
   "metadata": {},
   "source": [
    "#### 2.1.1. Merge  DSM Layers "
   ]
  },
  {
   "cell_type": "code",
   "execution_count": 6,
   "id": "c9605953",
   "metadata": {},
   "outputs": [
    {
     "data": {
      "text/html": [
       "\n",
       "            <style>\n",
       "                .geemap-dark {\n",
       "                    --jp-widgets-color: white;\n",
       "                    --jp-widgets-label-color: white;\n",
       "                    --jp-ui-font-color1: white;\n",
       "                    --jp-layout-color2: #454545;\n",
       "                    background-color: #383838;\n",
       "                }\n",
       "\n",
       "                .geemap-dark .jupyter-button {\n",
       "                    --jp-layout-color3: #383838;\n",
       "                }\n",
       "\n",
       "                .geemap-colab {\n",
       "                    background-color: var(--colab-primary-surface-color, white);\n",
       "                }\n",
       "\n",
       "                .geemap-colab .jupyter-button {\n",
       "                    --jp-layout-color3: var(--colab-primary-surface-color, white);\n",
       "                }\n",
       "            </style>\n",
       "            "
      ],
      "text/plain": [
       "<IPython.core.display.HTML object>"
      ]
     },
     "metadata": {},
     "output_type": "display_data"
    }
   ],
   "source": [
    "dsm_files= [f\"{DSM_RAW}/{tif}\" for tif in os.listdir(DSM_RAW) if \".tif.aux.xml\" not in tif] # prepare file paths of DSM tiles\n",
    "\n",
    "\n",
    "out_path=f\"{SF_PRC}/alos_dsm_{CELL_RESOLUTION}m.tif\" \n",
    "merge_rasters(raster_paths=dsm_files,\n",
    "                        out_path=out_path,\n",
    "                        transform=None\n",
    "                        ) # merge into a single raster using merge_arrays()"
   ]
  },
  {
   "cell_type": "markdown",
   "id": "737d550a",
   "metadata": {},
   "source": [
    "#### 2.1.2. Compute Sky View Factor\n",
    "\n",
    "Run ../lcz_classification/svf_qgis.py in QGIS v3.28 Python Console\n",
    "\n",
    "ADD SCREENSHOT!"
   ]
  },
  {
   "cell_type": "markdown",
   "id": "60a4a61f",
   "metadata": {},
   "source": [
    "#### 2.1.3. Reproject Match to S2 Data [DELETE?]"
   ]
  },
  {
   "cell_type": "code",
   "execution_count": 5,
   "id": "e6b92c5f",
   "metadata": {},
   "outputs": [
    {
     "data": {
      "text/html": [
       "\n",
       "            <style>\n",
       "                .geemap-dark {\n",
       "                    --jp-widgets-color: white;\n",
       "                    --jp-widgets-label-color: white;\n",
       "                    --jp-ui-font-color1: white;\n",
       "                    --jp-layout-color2: #454545;\n",
       "                    background-color: #383838;\n",
       "                }\n",
       "\n",
       "                .geemap-dark .jupyter-button {\n",
       "                    --jp-layout-color3: #383838;\n",
       "                }\n",
       "\n",
       "                .geemap-colab {\n",
       "                    background-color: var(--colab-primary-surface-color, white);\n",
       "                }\n",
       "\n",
       "                .geemap-colab .jupyter-button {\n",
       "                    --jp-layout-color3: var(--colab-primary-surface-color, white);\n",
       "                }\n",
       "            </style>\n",
       "            "
      ],
      "text/plain": [
       "<IPython.core.display.HTML object>"
      ]
     },
     "metadata": {},
     "output_type": "display_data"
    }
   ],
   "source": [
    "# ref=rio.open_rasterio(BH_FP)\n",
    "svf=rio.open_rasterio(SVF_FP)\n",
    "svf=svf.rio.reproject_match(s2_ref,resampling=Resampling.average)\n",
    "attrs=svf.attrs\n",
    "\n",
    "svf.rio.to_raster(SF_FP)\n",
    "\n",
    "svf.close()"
   ]
  },
  {
   "cell_type": "markdown",
   "id": "2fc88c85",
   "metadata": {},
   "source": [
    "## 2.2. Impervious Surface Fraction"
   ]
  },
  {
   "cell_type": "code",
   "execution_count": 6,
   "id": "4337735f",
   "metadata": {},
   "outputs": [
    {
     "data": {
      "text/html": [
       "\n",
       "            <style>\n",
       "                .geemap-dark {\n",
       "                    --jp-widgets-color: white;\n",
       "                    --jp-widgets-label-color: white;\n",
       "                    --jp-ui-font-color1: white;\n",
       "                    --jp-layout-color2: #454545;\n",
       "                    background-color: #383838;\n",
       "                }\n",
       "\n",
       "                .geemap-dark .jupyter-button {\n",
       "                    --jp-layout-color3: #383838;\n",
       "                }\n",
       "\n",
       "                .geemap-colab {\n",
       "                    background-color: var(--colab-primary-surface-color, white);\n",
       "                }\n",
       "\n",
       "                .geemap-colab .jupyter-button {\n",
       "                    --jp-layout-color3: var(--colab-primary-surface-color, white);\n",
       "                }\n",
       "            </style>\n",
       "            "
      ],
      "text/plain": [
       "<IPython.core.display.HTML object>"
      ]
     },
     "metadata": {},
     "output_type": "display_data"
    }
   ],
   "source": [
    "# # Reproject Match to Sentinel-2 Image\n",
    "\n",
    "# Example bounding box\n",
    "if os.path.exists(IS_MERGED_FP):\n",
    "    isf=rio.open_rasterio(IS_MERGED_FP)\n",
    "    isf.values=np.float64(isf.values)\n",
    "\n",
    "    # Reproject Match to S2 Data\n",
    "    isf_matched=isf.rio.reproject_match(s2_ref,resampling=Resampling.average)\n",
    "    isf_matched.rio.to_raster(IS_FP)\n",
    "\n",
    "else:\n",
    "    tiles = get_overlapping_tiles(bounds)\n",
    "    x1,y1,x2,y2 = bounds\n",
    "\n",
    "    # Get GIS Tiles that fall within Study Area bounds\n",
    "    isf_files=[f\"{IS_RAW}/GISA-10m_{tile}.tif\" for tile in tiles]\n",
    "    isf_tiles=[rio.open_rasterio(file).sel(x=slice(x1,x2), y=slice(y2,y1)) for file in isf_files]\n",
    "    keep=[True if tile.y.size > 0 and tile.x.size > 0 else False for tile in isf_tiles ]\n",
    "    isf_files=np.array(isf_files)[keep]\n",
    "\n",
    "    # Merge Impervious Area Rasters\n",
    "    merge_rasters(\n",
    "        raster_paths=isf_files,\n",
    "        out_path=IS_MERGED_FP\n",
    "    )\n",
    "\n",
    "\n"
   ]
  },
  {
   "cell_type": "markdown",
   "id": "7844009c",
   "metadata": {},
   "source": [
    "## 2.3. Tree Canopy Height"
   ]
  },
  {
   "cell_type": "code",
   "execution_count": 7,
   "id": "812fe590",
   "metadata": {},
   "outputs": [
    {
     "data": {
      "text/html": [
       "\n",
       "            <style>\n",
       "                .geemap-dark {\n",
       "                    --jp-widgets-color: white;\n",
       "                    --jp-widgets-label-color: white;\n",
       "                    --jp-ui-font-color1: white;\n",
       "                    --jp-layout-color2: #454545;\n",
       "                    background-color: #383838;\n",
       "                }\n",
       "\n",
       "                .geemap-dark .jupyter-button {\n",
       "                    --jp-layout-color3: #383838;\n",
       "                }\n",
       "\n",
       "                .geemap-colab {\n",
       "                    background-color: var(--colab-primary-surface-color, white);\n",
       "                }\n",
       "\n",
       "                .geemap-colab .jupyter-button {\n",
       "                    --jp-layout-color3: var(--colab-primary-surface-color, white);\n",
       "                }\n",
       "            </style>\n",
       "            "
      ],
      "text/plain": [
       "<IPython.core.display.HTML object>"
      ]
     },
     "metadata": {},
     "output_type": "display_data"
    }
   ],
   "source": [
    "from lcz_classification.util import resample_da\n",
    "\n",
    "CH_MERGED=f\"{CH_PRC}/canopy_height_merged.tif\"\n",
    "\n",
    "if os.path.exists(CH_MERGED) == False:\n",
    "    \n",
    "    ch_files= [f\"{CH_RAW}/{tif}\" for tif in os.listdir(CH_RAW) if \".tif\" in tif] # prepare file paths of DSM tiles\n",
    "\n",
    "    merge_rasters(\n",
    "                raster_paths=ch_files,\n",
    "                out_path=CH_MERGED,\n",
    "                transform=None\n",
    "                ) # merge into a single raster using merge_arrays()\n",
    "\n",
    "ch=rio.open_rasterio(CH_MERGED)\n",
    "ch=ch.where(ch < 255).fillna(0)\n",
    "ch_resampled=ch.rio.reproject_match(s2_ref, resampling=Resampling.average)\n",
    "ch_resampled.rio.to_raster(CH_FP)\n",
    "\n",
    "ch.close()\n",
    "ch_resampled.close()"
   ]
  },
  {
   "cell_type": "markdown",
   "id": "994ebf30",
   "metadata": {},
   "source": [
    "## 2.4. Building Height"
   ]
  },
  {
   "cell_type": "markdown",
   "id": "7edcb879",
   "metadata": {},
   "source": [
    "#### 2.2.1. Combine Vancouver Building Layers into Single GeoParquet File"
   ]
  },
  {
   "cell_type": "code",
   "execution_count": 8,
   "id": "f096bde2",
   "metadata": {},
   "outputs": [
    {
     "data": {
      "text/html": [
       "\n",
       "            <style>\n",
       "                .geemap-dark {\n",
       "                    --jp-widgets-color: white;\n",
       "                    --jp-widgets-label-color: white;\n",
       "                    --jp-ui-font-color1: white;\n",
       "                    --jp-layout-color2: #454545;\n",
       "                    background-color: #383838;\n",
       "                }\n",
       "\n",
       "                .geemap-dark .jupyter-button {\n",
       "                    --jp-layout-color3: #383838;\n",
       "                }\n",
       "\n",
       "                .geemap-colab {\n",
       "                    background-color: var(--colab-primary-surface-color, white);\n",
       "                }\n",
       "\n",
       "                .geemap-colab .jupyter-button {\n",
       "                    --jp-layout-color3: var(--colab-primary-surface-color, white);\n",
       "                }\n",
       "            </style>\n",
       "            "
      ],
      "text/plain": [
       "<IPython.core.display.HTML object>"
      ]
     },
     "metadata": {},
     "output_type": "display_data"
    },
    {
     "name": "stdout",
     "output_type": "stream",
     "text": [
      "Build Heights Raster File Already Found\n"
     ]
    }
   ],
   "source": [
    "if os.path.exists(BH_VECTOR_FP) == False:\n",
    "    BH_FILES=[f\"{BH_RAW}/{gdb}/{gdb.replace('Autobuilding_ON_','').replace('_fgdb','.gdb')}\" for gdb in os.listdir(BH_RAW) if '.zip' not in gdb]\n",
    "\n",
    "\n",
    "    ## Get CRS of Buildings Layer and Prepare bounding box with same projection\n",
    "    with fiona.open(BH_FILES[0]) as src:\n",
    "        bh_crs =src.crs\n",
    "        bh_bbox=box(*list(study_area.to_crs(bh_crs).total_bounds))\n",
    "\n",
    "\n",
    "    bh_gdf_list=[gpd.read_file(file, bbox=bh_bbox).to_crs(bh_crs) for file in BH_FILES]\n",
    "    bh_gdf=pd.concat(bh_gdf_list).reset_index(drop=True)\n",
    "    # bh_gdf=bh_gdf[bh_gdf.datemax.str.contains(filter_out_yr)]\n",
    "    bh_gdf.to_crs(CRS).to_parquet(BH_VECTOR_FP)\n",
    "\n",
    "print(\"Build Heights Raster File Already Found\")"
   ]
  },
  {
   "cell_type": "markdown",
   "id": "660e4bd2",
   "metadata": {},
   "source": [
    "#### 2.2.2. Rasterize Building Height Data"
   ]
  },
  {
   "cell_type": "code",
   "execution_count": 9,
   "id": "8b97379c",
   "metadata": {},
   "outputs": [
    {
     "data": {
      "text/html": [
       "\n",
       "            <style>\n",
       "                .geemap-dark {\n",
       "                    --jp-widgets-color: white;\n",
       "                    --jp-widgets-label-color: white;\n",
       "                    --jp-ui-font-color1: white;\n",
       "                    --jp-layout-color2: #454545;\n",
       "                    background-color: #383838;\n",
       "                }\n",
       "\n",
       "                .geemap-dark .jupyter-button {\n",
       "                    --jp-layout-color3: #383838;\n",
       "                }\n",
       "\n",
       "                .geemap-colab {\n",
       "                    background-color: var(--colab-primary-surface-color, white);\n",
       "                }\n",
       "\n",
       "                .geemap-colab .jupyter-button {\n",
       "                    --jp-layout-color3: var(--colab-primary-surface-color, white);\n",
       "                }\n",
       "            </style>\n",
       "            "
      ],
      "text/plain": [
       "<IPython.core.display.HTML object>"
      ]
     },
     "metadata": {},
     "output_type": "display_data"
    },
    {
     "name": "stdout",
     "output_type": "stream",
     "text": [
      "-READING\n"
     ]
    }
   ],
   "source": [
    "\n",
    "if os.path.exists(BH_RASTER_FP):\n",
    "    print(\"-READING\")\n",
    "    bh=rio.open_rasterio(BH_RASTER_FP)\n",
    "else:\n",
    "    bh_gdf=gpd.read_parquet(BH_VECTOR_FP)\n",
    "    print(\"-Generating 5m raster\")\n",
    "    ref = generate_raster(study_area.total_bounds, crs=CRS, resolution=5)\n",
    "    print(\"- 5m Raster Generated\")\n",
    "    # Rasterize building heights\n",
    "    rasterize_vector(gdf=bh_gdf,\n",
    "                    ref=ref,\n",
    "                    attribute=\"heightmax\",\n",
    "                    crs=CRS,\n",
    "                    out_path=BH_RASTER_FP\n",
    "                )\n",
    "    \n",
    "    print(\"- Building Heights Rasterized\")\n",
    "    bh=rio.open_rasterio(BH_RASTER_FP)\n",
    "\n",
    "# Resample Building Heights to Match Sentinel-2 Data\n",
    "bh_resampled=bh.rio.reproject_match(s2_ref, resampling=Resampling.average)\n",
    "bh.close()\n",
    "\n",
    "# Expore 30m raster\n",
    "bh_resampled.rio.to_raster(BH_FP)\n",
    "bh_resampled.close()"
   ]
  },
  {
   "cell_type": "markdown",
   "id": "66663197",
   "metadata": {},
   "source": [
    "## 2.5. Building Surface Fraction"
   ]
  },
  {
   "cell_type": "code",
   "execution_count": 10,
   "id": "17bcbce2",
   "metadata": {},
   "outputs": [
    {
     "data": {
      "text/html": [
       "\n",
       "            <style>\n",
       "                .geemap-dark {\n",
       "                    --jp-widgets-color: white;\n",
       "                    --jp-widgets-label-color: white;\n",
       "                    --jp-ui-font-color1: white;\n",
       "                    --jp-layout-color2: #454545;\n",
       "                    background-color: #383838;\n",
       "                }\n",
       "\n",
       "                .geemap-dark .jupyter-button {\n",
       "                    --jp-layout-color3: #383838;\n",
       "                }\n",
       "\n",
       "                .geemap-colab {\n",
       "                    background-color: var(--colab-primary-surface-color, white);\n",
       "                }\n",
       "\n",
       "                .geemap-colab .jupyter-button {\n",
       "                    --jp-layout-color3: var(--colab-primary-surface-color, white);\n",
       "                }\n",
       "            </style>\n",
       "            "
      ],
      "text/plain": [
       "<IPython.core.display.HTML object>"
      ]
     },
     "metadata": {},
     "output_type": "display_data"
    }
   ],
   "source": [
    "if os.path.exists(BH_RASTER_FP):\n",
    "    bh=rio.open_rasterio(BH_RASTER_FP)\n",
    "\n",
    "    arr=bh.values\n",
    "    mask=~bh.where(bh > 0).isnull().values\n",
    "\n",
    "    arr[mask] = 1.0\n",
    "    arr[~mask] = 0.0\n",
    "\n",
    "    bh.values=arr\n",
    "    bsf=bh.rio.reproject_match(s2_ref, resampling=Resampling.average)\n",
    "    bsf.rio.to_raster(BS_FP)\n",
    "    bh.close()\n",
    "    bsf.close()\n",
    "\n",
    "else:\n",
    "    print(f\"No rasterized Building Height Data Found, rasterize {BH_VECTOR_FP} first\")"
   ]
  },
  {
   "cell_type": "markdown",
   "id": "8f3e0765",
   "metadata": {},
   "source": [
    "## 3. Train and Test Samples of Local Climate Zone (LCZ) Training Areas"
   ]
  },
  {
   "cell_type": "markdown",
   "id": "687965a5",
   "metadata": {},
   "source": [
    "### 3.1. Split LCZ Vector Data to Train / Test"
   ]
  },
  {
   "cell_type": "code",
   "execution_count": 4,
   "id": "489860bf",
   "metadata": {},
   "outputs": [
    {
     "data": {
      "text/html": [
       "\n",
       "            <style>\n",
       "                .geemap-dark {\n",
       "                    --jp-widgets-color: white;\n",
       "                    --jp-widgets-label-color: white;\n",
       "                    --jp-ui-font-color1: white;\n",
       "                    --jp-layout-color2: #454545;\n",
       "                    background-color: #383838;\n",
       "                }\n",
       "\n",
       "                .geemap-dark .jupyter-button {\n",
       "                    --jp-layout-color3: #383838;\n",
       "                }\n",
       "\n",
       "                .geemap-colab {\n",
       "                    background-color: var(--colab-primary-surface-color, white);\n",
       "                }\n",
       "\n",
       "                .geemap-colab .jupyter-button {\n",
       "                    --jp-layout-color3: var(--colab-primary-surface-color, white);\n",
       "                }\n",
       "            </style>\n",
       "            "
      ],
      "text/plain": [
       "<IPython.core.display.HTML object>"
      ]
     },
     "metadata": {},
     "output_type": "display_data"
    },
    {
     "data": {
      "text/html": [
       "<div style=\"width:100%;\"><div style=\"position:relative;width:100%;height:0;padding-bottom:60%;\"><span style=\"color:#565656\">Make this Notebook Trusted to load map: File -> Trust Notebook</span><iframe srcdoc=\"&lt;!DOCTYPE html&gt;\n",
       "&lt;html&gt;\n",
       "&lt;head&gt;\n",
       "    \n",
       "    &lt;meta http-equiv=&quot;content-type&quot; content=&quot;text/html; charset=UTF-8&quot; /&gt;\n",
       "    \n",
       "        &lt;script&gt;\n",
       "            L_NO_TOUCH = false;\n",
       "            L_DISABLE_3D = false;\n",
       "        &lt;/script&gt;\n",
       "    \n",
       "    &lt;style&gt;html, body {width: 100%;height: 100%;margin: 0;padding: 0;}&lt;/style&gt;\n",
       "    &lt;style&gt;#map {position:absolute;top:0;bottom:0;right:0;left:0;}&lt;/style&gt;\n",
       "    &lt;script src=&quot;https://cdn.jsdelivr.net/npm/leaflet@1.9.3/dist/leaflet.js&quot;&gt;&lt;/script&gt;\n",
       "    &lt;script src=&quot;https://code.jquery.com/jquery-3.7.1.min.js&quot;&gt;&lt;/script&gt;\n",
       "    &lt;script src=&quot;https://cdn.jsdelivr.net/npm/bootstrap@5.2.2/dist/js/bootstrap.bundle.min.js&quot;&gt;&lt;/script&gt;\n",
       "    &lt;script src=&quot;https://cdnjs.cloudflare.com/ajax/libs/Leaflet.awesome-markers/2.0.2/leaflet.awesome-markers.js&quot;&gt;&lt;/script&gt;\n",
       "    &lt;link rel=&quot;stylesheet&quot; href=&quot;https://cdn.jsdelivr.net/npm/leaflet@1.9.3/dist/leaflet.css&quot;/&gt;\n",
       "    &lt;link rel=&quot;stylesheet&quot; href=&quot;https://cdn.jsdelivr.net/npm/bootstrap@5.2.2/dist/css/bootstrap.min.css&quot;/&gt;\n",
       "    &lt;link rel=&quot;stylesheet&quot; href=&quot;https://netdna.bootstrapcdn.com/bootstrap/3.0.0/css/bootstrap-glyphicons.css&quot;/&gt;\n",
       "    &lt;link rel=&quot;stylesheet&quot; href=&quot;https://cdn.jsdelivr.net/npm/@fortawesome/fontawesome-free@6.2.0/css/all.min.css&quot;/&gt;\n",
       "    &lt;link rel=&quot;stylesheet&quot; href=&quot;https://cdnjs.cloudflare.com/ajax/libs/Leaflet.awesome-markers/2.0.2/leaflet.awesome-markers.css&quot;/&gt;\n",
       "    &lt;link rel=&quot;stylesheet&quot; href=&quot;https://cdn.jsdelivr.net/gh/python-visualization/folium/folium/templates/leaflet.awesome.rotate.min.css&quot;/&gt;\n",
       "    \n",
       "            &lt;meta name=&quot;viewport&quot; content=&quot;width=device-width,\n",
       "                initial-scale=1.0, maximum-scale=1.0, user-scalable=no&quot; /&gt;\n",
       "            &lt;style&gt;\n",
       "                #map_f7d07e573a5ed91747c25cce955b065a {\n",
       "                    position: relative;\n",
       "                    width: 100.0%;\n",
       "                    height: 100.0%;\n",
       "                    left: 0.0%;\n",
       "                    top: 0.0%;\n",
       "                }\n",
       "                .leaflet-container { font-size: 1rem; }\n",
       "            &lt;/style&gt;\n",
       "        \n",
       "    \n",
       "                    &lt;style&gt;\n",
       "                        .foliumtooltip {\n",
       "                            \n",
       "                        }\n",
       "                       .foliumtooltip table{\n",
       "                            margin: auto;\n",
       "                        }\n",
       "                        .foliumtooltip tr{\n",
       "                            text-align: left;\n",
       "                        }\n",
       "                        .foliumtooltip th{\n",
       "                            padding: 2px; padding-right: 8px;\n",
       "                        }\n",
       "                    &lt;/style&gt;\n",
       "            \n",
       "    \n",
       "    &lt;script src=&quot;https://code.jquery.com/ui/1.12.1/jquery-ui.js&quot;&gt;&lt;/script&gt;\n",
       "    &lt;script&gt;$( function() {\n",
       "        $( &quot;.maplegend&quot; ).draggable({\n",
       "            start: function (event, ui) {\n",
       "                $(this).css({\n",
       "                    right: &quot;auto&quot;,\n",
       "                    top: &quot;auto&quot;,\n",
       "                    bottom: &quot;auto&quot;\n",
       "                });\n",
       "            }\n",
       "        });\n",
       "    });\n",
       "    &lt;/script&gt;\n",
       "    &lt;style type=&#x27;text/css&#x27;&gt;\n",
       "      .maplegend {\n",
       "        position: absolute;\n",
       "        z-index:9999;\n",
       "        background-color: rgba(255, 255, 255, .8);\n",
       "        border-radius: 5px;\n",
       "        box-shadow: 0 0 15px rgba(0,0,0,0.2);\n",
       "        padding: 10px;\n",
       "        font: 12px/14px Arial, Helvetica, sans-serif;\n",
       "        right: 10px;\n",
       "        bottom: 20px;\n",
       "      }\n",
       "      .maplegend .legend-title {\n",
       "        text-align: left;\n",
       "        margin-bottom: 5px;\n",
       "        font-weight: bold;\n",
       "        }\n",
       "      .maplegend .legend-scale ul {\n",
       "        margin: 0;\n",
       "        margin-bottom: 0px;\n",
       "        padding: 0;\n",
       "        float: left;\n",
       "        list-style: none;\n",
       "        }\n",
       "      .maplegend .legend-scale ul li {\n",
       "        list-style: none;\n",
       "        margin-left: 0;\n",
       "        line-height: 16px;\n",
       "        margin-bottom: 2px;\n",
       "        }\n",
       "      .maplegend ul.legend-labels li span {\n",
       "        display: block;\n",
       "        float: left;\n",
       "        height: 14px;\n",
       "        width: 14px;\n",
       "        margin-right: 5px;\n",
       "        margin-left: 0;\n",
       "        border: 0px solid #ccc;\n",
       "        }\n",
       "      .maplegend .legend-source {\n",
       "        color: #777;\n",
       "        clear: both;\n",
       "        }\n",
       "      .maplegend a {\n",
       "        color: #777;\n",
       "        }\n",
       "    &lt;/style&gt;\n",
       "    \n",
       "&lt;/head&gt;\n",
       "&lt;body&gt;\n",
       "    \n",
       "    \n",
       "    &lt;div id=&#x27;maplegend name&#x27; class=&#x27;maplegend&#x27;&gt;\n",
       "        &lt;div class=&#x27;legend-title&#x27;&gt;name&lt;/div&gt;\n",
       "        &lt;div class=&#x27;legend-scale&#x27;&gt;\n",
       "            &lt;ul class=&#x27;legend-labels&#x27;&gt;\n",
       "                &lt;li&gt;&lt;span style=&#x27;background:#1f77b4&#x27;&gt;&lt;/span&gt;Bare rock or paved&lt;/li&gt;\n",
       "                &lt;li&gt;&lt;span style=&#x27;background:#aec7e8&#x27;&gt;&lt;/span&gt;Bare soil or sand&lt;/li&gt;\n",
       "                &lt;li&gt;&lt;span style=&#x27;background:#ffbb78&#x27;&gt;&lt;/span&gt;Compact High-Rise&lt;/li&gt;\n",
       "                &lt;li&gt;&lt;span style=&#x27;background:#98df8a&#x27;&gt;&lt;/span&gt;Compact Mid-Rise&lt;/li&gt;\n",
       "                &lt;li&gt;&lt;span style=&#x27;background:#d62728&#x27;&gt;&lt;/span&gt;Dense trees&lt;/li&gt;\n",
       "                &lt;li&gt;&lt;span style=&#x27;background:#9467bd&#x27;&gt;&lt;/span&gt;Large low-rise&lt;/li&gt;\n",
       "                &lt;li&gt;&lt;span style=&#x27;background:#8c564b&#x27;&gt;&lt;/span&gt;Low plants&lt;/li&gt;\n",
       "                &lt;li&gt;&lt;span style=&#x27;background:#c49c94&#x27;&gt;&lt;/span&gt;Open High-Rise&lt;/li&gt;\n",
       "                &lt;li&gt;&lt;span style=&#x27;background:#f7b6d2&#x27;&gt;&lt;/span&gt;Open Low-Rise&lt;/li&gt;\n",
       "                &lt;li&gt;&lt;span style=&#x27;background:#c7c7c7&#x27;&gt;&lt;/span&gt;Open Mid-Rise&lt;/li&gt;\n",
       "                &lt;li&gt;&lt;span style=&#x27;background:#bcbd22&#x27;&gt;&lt;/span&gt;Scattered trees&lt;/li&gt;\n",
       "                &lt;li&gt;&lt;span style=&#x27;background:#17becf&#x27;&gt;&lt;/span&gt;Sparsely built&lt;/li&gt;\n",
       "                &lt;li&gt;&lt;span style=&#x27;background:#9edae5&#x27;&gt;&lt;/span&gt;Water&lt;/li&gt;\n",
       "            &lt;/ul&gt;\n",
       "        &lt;/div&gt;\n",
       "    &lt;/div&gt;\n",
       "    \n",
       "    \n",
       "            &lt;div class=&quot;folium-map&quot; id=&quot;map_f7d07e573a5ed91747c25cce955b065a&quot; &gt;&lt;/div&gt;\n",
       "        \n",
       "&lt;/body&gt;\n",
       "&lt;script&gt;\n",
       "    \n",
       "    \n",
       "            var map_f7d07e573a5ed91747c25cce955b065a = L.map(\n",
       "                &quot;map_f7d07e573a5ed91747c25cce955b065a&quot;,\n",
       "                {\n",
       "                    center: [43.74893947069441, -79.42548891089933],\n",
       "                    crs: L.CRS.EPSG3857,\n",
       "                    ...{\n",
       "  &quot;zoom&quot;: 10,\n",
       "  &quot;zoomControl&quot;: true,\n",
       "  &quot;preferCanvas&quot;: false,\n",
       "}\n",
       "\n",
       "                }\n",
       "            );\n",
       "            L.control.scale().addTo(map_f7d07e573a5ed91747c25cce955b065a);\n",
       "\n",
       "            \n",
       "\n",
       "        \n",
       "    \n",
       "            var tile_layer_75a76a3c9e940b90631ab21a84a9db62 = L.tileLayer(\n",
       "                &quot;https://tile.openstreetmap.org/{z}/{x}/{y}.png&quot;,\n",
       "                {\n",
       "  &quot;minZoom&quot;: 0,\n",
       "  &quot;maxZoom&quot;: 19,\n",
       "  &quot;maxNativeZoom&quot;: 19,\n",
       "  &quot;noWrap&quot;: false,\n",
       "  &quot;attribution&quot;: &quot;\\u0026copy; \\u003ca href=\\&quot;https://www.openstreetmap.org/copyright\\&quot;\\u003eOpenStreetMap\\u003c/a\\u003e contributors&quot;,\n",
       "  &quot;subdomains&quot;: &quot;abc&quot;,\n",
       "  &quot;detectRetina&quot;: false,\n",
       "  &quot;tms&quot;: false,\n",
       "  &quot;opacity&quot;: 1,\n",
       "}\n",
       "\n",
       "            );\n",
       "        \n",
       "    \n",
       "            tile_layer_75a76a3c9e940b90631ab21a84a9db62.addTo(map_f7d07e573a5ed91747c25cce955b065a);\n",
       "        \n",
       "    \n",
       "            map_f7d07e573a5ed91747c25cce955b065a.fitBounds(\n",
       "                [[43.56553746367267, -79.65672451026734], [43.93234147771616, -79.19425331153133]],\n",
       "                {}\n",
       "            );\n",
       "        \n",
       "    \n",
       "        function geo_json_62db4d768e9a651807cb8efe2d8f30f3_styler(feature) {\n",
       "            switch(feature.id) {\n",
       "                case &quot;0&quot;: case &quot;2&quot;: case &quot;16&quot;: case &quot;38&quot;: case &quot;73&quot;: case &quot;74&quot;: \n",
       "                    return {&quot;color&quot;: &quot;#bcbd22&quot;, &quot;fillColor&quot;: &quot;#bcbd22&quot;, &quot;fillOpacity&quot;: 0.5, &quot;weight&quot;: 2};\n",
       "                case &quot;1&quot;: case &quot;15&quot;: case &quot;18&quot;: case &quot;30&quot;: case &quot;35&quot;: case &quot;47&quot;: case &quot;51&quot;: case &quot;52&quot;: case &quot;53&quot;: case &quot;54&quot;: case &quot;61&quot;: case &quot;62&quot;: case &quot;63&quot;: case &quot;66&quot;: case &quot;67&quot;: case &quot;68&quot;: case &quot;101&quot;: case &quot;103&quot;: case &quot;198&quot;: case &quot;199&quot;: \n",
       "                    return {&quot;color&quot;: &quot;#f7b6d2&quot;, &quot;fillColor&quot;: &quot;#f7b6d2&quot;, &quot;fillOpacity&quot;: 0.5, &quot;weight&quot;: 2};\n",
       "                case &quot;3&quot;: case &quot;5&quot;: case &quot;12&quot;: case &quot;34&quot;: case &quot;44&quot;: case &quot;48&quot;: case &quot;55&quot;: case &quot;116&quot;: case &quot;117&quot;: case &quot;121&quot;: case &quot;127&quot;: case &quot;175&quot;: \n",
       "                    return {&quot;color&quot;: &quot;#d62728&quot;, &quot;fillColor&quot;: &quot;#d62728&quot;, &quot;fillOpacity&quot;: 0.5, &quot;weight&quot;: 2};\n",
       "                case &quot;4&quot;: case &quot;6&quot;: case &quot;7&quot;: case &quot;10&quot;: case &quot;56&quot;: case &quot;57&quot;: case &quot;59&quot;: case &quot;65&quot;: case &quot;123&quot;: case &quot;124&quot;: case &quot;125&quot;: case &quot;126&quot;: case &quot;156&quot;: case &quot;157&quot;: case &quot;158&quot;: case &quot;159&quot;: case &quot;160&quot;: \n",
       "                    return {&quot;color&quot;: &quot;#9467bd&quot;, &quot;fillColor&quot;: &quot;#9467bd&quot;, &quot;fillOpacity&quot;: 0.5, &quot;weight&quot;: 2};\n",
       "                case &quot;8&quot;: case &quot;46&quot;: case &quot;69&quot;: case &quot;70&quot;: case &quot;71&quot;: case &quot;72&quot;: case &quot;114&quot;: case &quot;115&quot;: case &quot;143&quot;: case &quot;146&quot;: case &quot;147&quot;: case &quot;200&quot;: case &quot;201&quot;: case &quot;202&quot;: \n",
       "                    return {&quot;color&quot;: &quot;#17becf&quot;, &quot;fillColor&quot;: &quot;#17becf&quot;, &quot;fillOpacity&quot;: 0.5, &quot;weight&quot;: 2};\n",
       "                case &quot;11&quot;: case &quot;58&quot;: case &quot;81&quot;: case &quot;82&quot;: case &quot;83&quot;: case &quot;84&quot;: case &quot;85&quot;: case &quot;88&quot;: case &quot;95&quot;: case &quot;122&quot;: case &quot;152&quot;: case &quot;153&quot;: case &quot;167&quot;: case &quot;168&quot;: case &quot;171&quot;: case &quot;172&quot;: case &quot;189&quot;: case &quot;190&quot;: case &quot;192&quot;: case &quot;196&quot;: \n",
       "                    return {&quot;color&quot;: &quot;#aec7e8&quot;, &quot;fillColor&quot;: &quot;#aec7e8&quot;, &quot;fillOpacity&quot;: 0.5, &quot;weight&quot;: 2};\n",
       "                case &quot;13&quot;: case &quot;22&quot;: case &quot;39&quot;: case &quot;104&quot;: case &quot;106&quot;: case &quot;109&quot;: case &quot;110&quot;: case &quot;111&quot;: case &quot;112&quot;: case &quot;118&quot;: case &quot;131&quot;: case &quot;132&quot;: case &quot;133&quot;: case &quot;134&quot;: case &quot;187&quot;: case &quot;188&quot;: \n",
       "                    return {&quot;color&quot;: &quot;#c7c7c7&quot;, &quot;fillColor&quot;: &quot;#c7c7c7&quot;, &quot;fillOpacity&quot;: 0.5, &quot;weight&quot;: 2};\n",
       "                case &quot;14&quot;: case &quot;19&quot;: case &quot;105&quot;: case &quot;107&quot;: case &quot;108&quot;: case &quot;113&quot;: case &quot;119&quot;: case &quot;120&quot;: case &quot;130&quot;: case &quot;135&quot;: case &quot;183&quot;: case &quot;184&quot;: case &quot;185&quot;: case &quot;186&quot;: case &quot;191&quot;: case &quot;193&quot;: case &quot;194&quot;: case &quot;195&quot;: case &quot;197&quot;: \n",
       "                    return {&quot;color&quot;: &quot;#98df8a&quot;, &quot;fillColor&quot;: &quot;#98df8a&quot;, &quot;fillOpacity&quot;: 0.5, &quot;weight&quot;: 2};\n",
       "                case &quot;21&quot;: case &quot;31&quot;: case &quot;41&quot;: case &quot;43&quot;: case &quot;45&quot;: case &quot;49&quot;: case &quot;136&quot;: case &quot;137&quot;: case &quot;138&quot;: case &quot;139&quot;: case &quot;140&quot;: case &quot;141&quot;: case &quot;142&quot;: case &quot;176&quot;: case &quot;177&quot;: case &quot;178&quot;: case &quot;179&quot;: case &quot;180&quot;: case &quot;181&quot;: case &quot;182&quot;: \n",
       "                    return {&quot;color&quot;: &quot;#c49c94&quot;, &quot;fillColor&quot;: &quot;#c49c94&quot;, &quot;fillOpacity&quot;: 0.5, &quot;weight&quot;: 2};\n",
       "                case &quot;23&quot;: case &quot;33&quot;: case &quot;92&quot;: case &quot;93&quot;: case &quot;94&quot;: \n",
       "                    return {&quot;color&quot;: &quot;#9edae5&quot;, &quot;fillColor&quot;: &quot;#9edae5&quot;, &quot;fillOpacity&quot;: 0.5, &quot;weight&quot;: 2};\n",
       "                case &quot;25&quot;: case &quot;28&quot;: case &quot;29&quot;: case &quot;42&quot;: case &quot;97&quot;: case &quot;98&quot;: case &quot;99&quot;: case &quot;100&quot;: \n",
       "                    return {&quot;color&quot;: &quot;#ffbb78&quot;, &quot;fillColor&quot;: &quot;#ffbb78&quot;, &quot;fillOpacity&quot;: 0.5, &quot;weight&quot;: 2};\n",
       "                case &quot;79&quot;: case &quot;80&quot;: case &quot;89&quot;: case &quot;90&quot;: case &quot;91&quot;: case &quot;96&quot;: case &quot;149&quot;: case &quot;150&quot;: case &quot;151&quot;: case &quot;154&quot;: case &quot;155&quot;: case &quot;161&quot;: case &quot;162&quot;: case &quot;163&quot;: case &quot;164&quot;: case &quot;165&quot;: case &quot;166&quot;: case &quot;203&quot;: case &quot;204&quot;: case &quot;205&quot;: \n",
       "                    return {&quot;color&quot;: &quot;#1f77b4&quot;, &quot;fillColor&quot;: &quot;#1f77b4&quot;, &quot;fillOpacity&quot;: 0.5, &quot;weight&quot;: 2};\n",
       "                default:\n",
       "                    return {&quot;color&quot;: &quot;#8c564b&quot;, &quot;fillColor&quot;: &quot;#8c564b&quot;, &quot;fillOpacity&quot;: 0.5, &quot;weight&quot;: 2};\n",
       "            }\n",
       "        }\n",
       "        function geo_json_62db4d768e9a651807cb8efe2d8f30f3_highlighter(feature) {\n",
       "            switch(feature.id) {\n",
       "                default:\n",
       "                    return {&quot;fillOpacity&quot;: 0.75};\n",
       "            }\n",
       "        }\n",
       "        function geo_json_62db4d768e9a651807cb8efe2d8f30f3_pointToLayer(feature, latlng) {\n",
       "            var opts = {&quot;bubblingMouseEvents&quot;: true, &quot;color&quot;: &quot;#3388ff&quot;, &quot;dashArray&quot;: null, &quot;dashOffset&quot;: null, &quot;fill&quot;: true, &quot;fillColor&quot;: &quot;#3388ff&quot;, &quot;fillOpacity&quot;: 0.2, &quot;fillRule&quot;: &quot;evenodd&quot;, &quot;lineCap&quot;: &quot;round&quot;, &quot;lineJoin&quot;: &quot;round&quot;, &quot;opacity&quot;: 1.0, &quot;radius&quot;: 2, &quot;stroke&quot;: true, &quot;weight&quot;: 3};\n",
       "            \n",
       "            let style = geo_json_62db4d768e9a651807cb8efe2d8f30f3_styler(feature)\n",
       "            Object.assign(opts, style)\n",
       "            \n",
       "            return new L.CircleMarker(latlng, opts)\n",
       "        }\n",
       "\n",
       "        function geo_json_62db4d768e9a651807cb8efe2d8f30f3_onEachFeature(feature, layer) {\n",
       "            layer.on({\n",
       "                mouseout: function(e) {\n",
       "                    if(typeof e.target.setStyle === &quot;function&quot;){\n",
       "                            geo_json_62db4d768e9a651807cb8efe2d8f30f3.resetStyle(e.target);\n",
       "                    }\n",
       "                },\n",
       "                mouseover: function(e) {\n",
       "                    if(typeof e.target.setStyle === &quot;function&quot;){\n",
       "                        const highlightStyle = geo_json_62db4d768e9a651807cb8efe2d8f30f3_highlighter(e.target.feature)\n",
       "                        e.target.setStyle(highlightStyle);\n",
       "                    }\n",
       "                },\n",
       "            });\n",
       "        };\n",
       "        var geo_json_62db4d768e9a651807cb8efe2d8f30f3 = L.geoJson(null, {\n",
       "                onEachFeature: geo_json_62db4d768e9a651807cb8efe2d8f30f3_onEachFeature,\n",
       "            \n",
       "                style: geo_json_62db4d768e9a651807cb8efe2d8f30f3_styler,\n",
       "                pointToLayer: geo_json_62db4d768e9a651807cb8efe2d8f30f3_pointToLayer,\n",
       "            ...{\n",
       "}\n",
       "        });\n",
       "\n",
       "        function geo_json_62db4d768e9a651807cb8efe2d8f30f3_add (data) {\n",
       "            geo_json_62db4d768e9a651807cb8efe2d8f30f3\n",
       "                .addData(data);\n",
       "        }\n",
       "            geo_json_62db4d768e9a651807cb8efe2d8f30f3_add({&quot;bbox&quot;: [-79.65672451026734, 43.56553746367267, -79.19425331153133, 43.93234147771616], &quot;features&quot;: [{&quot;bbox&quot;: [-79.5607426167581, 43.58960612964739, -79.54980998581215, 43.59733963060582], &quot;geometry&quot;: {&quot;coordinates&quot;: [[[-79.5607426167581, 43.59536600118318, 0.0], [-79.55182824765156, 43.58960612964739, 0.0], [-79.54980998581215, 43.5922380831224, 0.0], [-79.55846093093436, 43.59733963060582, 0.0], [-79.5607426167581, 43.59536600118318, 0.0]]], &quot;type&quot;: &quot;Polygon&quot;}, &quot;id&quot;: &quot;0&quot;, &quot;properties&quot;: {&quot;Description&quot;: null, &quot;Name&quot;: &quot;B&quot;, &quot;__folium_color&quot;: &quot;#bcbd22&quot;, &quot;area_m2&quot;: 286071.5094112597, &quot;class&quot;: 12, &quot;name&quot;: &quot;Scattered trees&quot;}, &quot;type&quot;: &quot;Feature&quot;}, {&quot;bbox&quot;: [-79.56803196242419, 43.56553746367267, -79.56372448649873, 43.56884807709643], &quot;geometry&quot;: {&quot;coordinates&quot;: [[[-79.56372448649873, 43.5668007092092, 0.0], [-79.56540301014584, 43.56553746367267, 0.0], [-79.56803196242419, 43.56689427023164, 0.0], [-79.56635715452461, 43.56884807709643, 0.0], [-79.56372448649873, 43.5668007092092, 0.0]]], &quot;type&quot;: &quot;Polygon&quot;}, &quot;id&quot;: &quot;1&quot;, &quot;properties&quot;: {&quot;Description&quot;: &quot;&quot;, &quot;Name&quot;: &quot;6&quot;, &quot;__folium_color&quot;: &quot;#f7b6d2&quot;, &quot;area_m2&quot;: 63568.56855298553, &quot;class&quot;: 6, &quot;name&quot;: &quot;Open Low-Rise&quot;}, &quot;type&quot;: &quot;Feature&quot;}, {&quot;bbox&quot;: [-79.52021496451489, 43.73251793435843, -79.51207324380411, 43.73753097732318], &quot;geometry&quot;: {&quot;coordinates&quot;: [[[-79.52021496451489, 43.73654188771805, 0.0], [-79.51904549250986, 43.73251793435843, 0.0], [-79.51207324380411, 43.73326773756772, 0.0], [-79.51329899073811, 43.73753097732318, 0.0], [-79.52021496451489, 43.73654188771805, 0.0]]], &quot;type&quot;: &quot;Polygon&quot;}, &quot;id&quot;: &quot;2&quot;, &quot;properties&quot;: {&quot;Description&quot;: null, &quot;Name&quot;: &quot;B&quot;, &quot;__folium_color&quot;: &quot;#bcbd22&quot;, &quot;area_m2&quot;: 266754.52801457304, &quot;class&quot;: 12, &quot;name&quot;: &quot;Scattered trees&quot;}, &quot;type&quot;: &quot;Feature&quot;}, {&quot;bbox&quot;: [-79.21911110294293, 43.89183790252083, -79.2149497214389, 43.89389526279629], &quot;geometry&quot;: {&quot;coordinates&quot;: [[[-79.21911110294293, 43.89298453510062, 0.0], [-79.21884613946209, 43.89183790252083, 0.0], [-79.2149497214389, 43.892716776609696, 0.0], [-79.21552216332725, 43.89389526279629, 0.0], [-79.21911110294293, 43.89298453510062, 0.0]]], &quot;type&quot;: &quot;Polygon&quot;}, &quot;id&quot;: &quot;3&quot;, &quot;properties&quot;: {&quot;Description&quot;: null, &quot;Name&quot;: &quot;A&quot;, &quot;__folium_color&quot;: &quot;#d62728&quot;, &quot;area_m2&quot;: 42177.6704069554, &quot;class&quot;: 11, &quot;name&quot;: &quot;Dense trees&quot;}, &quot;type&quot;: &quot;Feature&quot;}, {&quot;bbox&quot;: [-79.27739768755109, 43.77333572161409, -79.27362944829034, 43.77646124604011], &quot;geometry&quot;: {&quot;coordinates&quot;: [[[-79.27641689477805, 43.77619042461802, 0.0], [-79.27483763082893, 43.77646124604011, 0.0], [-79.27445799755449, 43.77600104536506, 0.0], [-79.2742791669459, 43.77550891730431, 0.0], [-79.27379291124852, 43.77468253054773, 0.0], [-79.27362944829034, 43.77413569782402, 0.0], [-79.27720879614255, 43.77333572161409, 0.0], [-79.27739768755109, 43.773718125496735, 0.0], [-79.2773087104697, 43.77393652695803, 0.0], [-79.27712730567895, 43.774253417849586, 0.0], [-79.27724415277937, 43.7747446070375, 0.0], [-79.2772814832556, 43.77512472577406, 0.0], [-79.27718016645407, 43.77553271896478, 0.0], [-79.27705861003481, 43.775925424376084, 0.0], [-79.27641689477805, 43.77619042461802, 0.0]]], &quot;type&quot;: &quot;Polygon&quot;}, &quot;id&quot;: &quot;4&quot;, &quot;properties&quot;: {&quot;Description&quot;: null, &quot;Name&quot;: &quot;8&quot;, &quot;__folium_color&quot;: &quot;#9467bd&quot;, &quot;area_m2&quot;: 71922.6954679581, &quot;class&quot;: 8, &quot;name&quot;: &quot;Large low-rise&quot;}, &quot;type&quot;: &quot;Feature&quot;}, {&quot;bbox&quot;: [-79.58395159026668, 43.83071643651034, -79.57763701271215, 43.83323131576152], &quot;geometry&quot;: {&quot;coordinates&quot;: [[[-79.57780634975097, 43.83323131576152, 0.0], [-79.57763701271215, 43.83163526591395, 0.0], [-79.5837837667511, 43.83071643651034, 0.0], [-79.58395159026668, 43.83214827190866, 0.0], [-79.57780634975097, 43.83323131576152, 0.0]]], &quot;type&quot;: &quot;Polygon&quot;}, &quot;id&quot;: &quot;5&quot;, &quot;properties&quot;: {&quot;Description&quot;: &quot;&quot;, &quot;Name&quot;: &quot;A&quot;, &quot;__folium_color&quot;: &quot;#d62728&quot;, &quot;area_m2&quot;: 84621.0122945112, &quot;class&quot;: 11, &quot;name&quot;: &quot;Dense trees&quot;}, &quot;type&quot;: &quot;Feature&quot;}, {&quot;bbox&quot;: [-79.27205717673776, 43.759536542110716, -79.26837510963911, 43.76375445701509], &quot;geometry&quot;: {&quot;coordinates&quot;: [[[-79.27205717673776, 43.76330883515627, 0.0], [-79.26994581419363, 43.76375445701509, 0.0], [-79.26894349432244, 43.7612098297353, 0.0], [-79.26837510963911, 43.75989274562142, 0.0], [-79.27057657182775, 43.759536542110716, 0.0], [-79.27205717673776, 43.76330883515627, 0.0]]], &quot;type&quot;: &quot;Polygon&quot;}, &quot;id&quot;: &quot;6&quot;, &quot;properties&quot;: {&quot;Description&quot;: null, &quot;Name&quot;: &quot;8&quot;, &quot;__folium_color&quot;: &quot;#9467bd&quot;, &quot;area_m2&quot;: 78526.33288593958, &quot;class&quot;: 8, &quot;name&quot;: &quot;Large low-rise&quot;}, &quot;type&quot;: &quot;Feature&quot;}, {&quot;bbox&quot;: [-79.2403542421926, 43.816036937152646, -79.2323697242983, 43.823244017164534], &quot;geometry&quot;: {&quot;coordinates&quot;: [[[-79.2403542421926, 43.82073959490675, 0.0], [-79.2383046934722, 43.816036937152646, 0.0], [-79.2323697242983, 43.817291467240146, 0.0], [-79.23522187422196, 43.82302788272777, 0.0], [-79.23681840234148, 43.823244017164534, 0.0], [-79.23958777691415, 43.822549795422205, 0.0], [-79.24017290289692, 43.822274483661346, 0.0], [-79.24026868954317, 43.822014843283455, 0.0], [-79.23976998190709, 43.821804070930455, 0.0], [-79.23932155815982, 43.82151863786625, 0.0], [-79.23847789077288, 43.8213199510401, 0.0], [-79.23822547568102, 43.82118259986587, 0.0], [-79.2403542421926, 43.82073959490675, 0.0]]], &quot;type&quot;: &quot;Polygon&quot;}, &quot;id&quot;: &quot;7&quot;, &quot;properties&quot;: {&quot;Description&quot;: null, &quot;Name&quot;: &quot;8&quot;, &quot;__folium_color&quot;: &quot;#9467bd&quot;, &quot;area_m2&quot;: 330966.53400716773, &quot;class&quot;: 8, &quot;name&quot;: &quot;Large low-rise&quot;}, &quot;type&quot;: &quot;Feature&quot;}, {&quot;bbox&quot;: [-79.59303115501743, 43.86976168090104, -79.58815793338901, 43.87573558040934], &quot;geometry&quot;: {&quot;coordinates&quot;: [[[-79.5923927529584, 43.87569450347381, 0.0], [-79.59076281457543, 43.87573558040934, 0.0], [-79.59061474946255, 43.87372042297699, 0.0], [-79.59045992228512, 43.87274870713283, 0.0], [-79.58855431166583, 43.87072658964541, 0.0], [-79.58815793338901, 43.87012589317813, 0.0], [-79.59018374766241, 43.86976168090104, 0.0], [-79.59155471140461, 43.8710080003266, 0.0], [-79.59243721523306, 43.87268263425896, 0.0], [-79.59303115501743, 43.873986015875, 0.0], [-79.5923927529584, 43.87569450347381, 0.0]]], &quot;type&quot;: &quot;Polygon&quot;}, &quot;id&quot;: &quot;8&quot;, &quot;properties&quot;: {&quot;Description&quot;: &quot;&quot;, &quot;Name&quot;: &quot;9&quot;, &quot;__folium_color&quot;: &quot;#17becf&quot;, &quot;area_m2&quot;: 116611.64971867831, &quot;class&quot;: 9, &quot;name&quot;: &quot;Sparsely built&quot;}, &quot;type&quot;: &quot;Feature&quot;}, {&quot;bbox&quot;: [-79.54057657359472, 43.8697712136812, -79.52359107546805, 43.88479268171358], &quot;geometry&quot;: {&quot;coordinates&quot;: [[[-79.5263900376819, 43.88479268171358, 0.0], [-79.52359107546805, 43.87219603729913, 0.0], [-79.53541150196715, 43.8697712136812, 0.0], [-79.54057657359472, 43.88363102712559, 0.0], [-79.5263900376819, 43.88479268171358, 0.0]]], &quot;type&quot;: &quot;Polygon&quot;}, &quot;id&quot;: &quot;9&quot;, &quot;properties&quot;: {&quot;Description&quot;: &quot;&quot;, &quot;Name&quot;: &quot;D&quot;, &quot;__folium_color&quot;: &quot;#8c564b&quot;, &quot;area_m2&quot;: 1599099.0403024077, &quot;class&quot;: 14, &quot;name&quot;: &quot;Low plants&quot;}, &quot;type&quot;: &quot;Feature&quot;}, {&quot;bbox&quot;: [-79.27985983748611, 43.755079171962024, -79.27197750374552, 43.76400362196909], &quot;geometry&quot;: {&quot;coordinates&quot;: [[[-79.27197750374552, 43.755392599778034, 0.0], [-79.27535426825412, 43.76400362196909, 0.0], [-79.27985983748611, 43.763082694434644, 0.0], [-79.27729722524056, 43.75633192458826, 0.0], [-79.27437046935539, 43.755079171962024, 0.0], [-79.27197750374552, 43.755392599778034, 0.0]]], &quot;type&quot;: &quot;Polygon&quot;}, &quot;id&quot;: &quot;10&quot;, &quot;properties&quot;: {&quot;Description&quot;: null, &quot;Name&quot;: &quot;8&quot;, &quot;__folium_color&quot;: &quot;#9467bd&quot;, &quot;area_m2&quot;: 354776.7674869485, &quot;class&quot;: 8, &quot;name&quot;: &quot;Large low-rise&quot;}, &quot;type&quot;: &quot;Feature&quot;}, {&quot;bbox&quot;: [-79.55619102028443, 43.57137145462357, -79.55220822089939, 43.57432082159506], &quot;geometry&quot;: {&quot;coordinates&quot;: [[[-79.55325252098163, 43.57432082159506, 0.0], [-79.55220822089939, 43.57340334387913, 0.0], [-79.5522322856542, 43.57333487867837, 0.0], [-79.55508362654852, 43.57137145462357, 0.0], [-79.5561823829314, 43.57212942887725, 0.0], [-79.55619102028443, 43.57212938399263, 0.0], [-79.55325252098163, 43.57432082159506, 0.0]]], &quot;type&quot;: &quot;Polygon&quot;}, &quot;id&quot;: &quot;11&quot;, &quot;properties&quot;: {&quot;Description&quot;: &quot;&quot;, &quot;Name&quot;: &quot;F&quot;, &quot;__folium_color&quot;: &quot;#aec7e8&quot;, &quot;area_m2&quot;: 42859.38722325211, &quot;class&quot;: 16, &quot;name&quot;: &quot;Bare soil or sand&quot;}, &quot;type&quot;: &quot;Feature&quot;}, {&quot;bbox&quot;: [-79.58130450870911, 43.57846944050297, -79.5730074617528, 43.58459006914326], &quot;geometry&quot;: {&quot;coordinates&quot;: [[[-79.57302945808144, 43.57931386582658, 0.0], [-79.5730074617528, 43.5789291389302, 0.0], [-79.5730083867477, 43.57892235332702, 0.0], [-79.57425597577512, 43.57904600512924, 0.0], [-79.57633750140648, 43.57927769468315, 0.0], [-79.57759980919339, 43.57846944050297, 0.0], [-79.5776475991505, 43.57848610099418, 0.0], [-79.58009055034287, 43.58044573912646, 0.0], [-79.58130450870911, 43.58369137136633, 0.0], [-79.58023316960933, 43.58459006914326, 0.0], [-79.57302945808144, 43.57931386582658, 0.0]]], &quot;type&quot;: &quot;Polygon&quot;}, &quot;id&quot;: &quot;12&quot;, &quot;properties&quot;: {&quot;Description&quot;: &quot;&quot;, &quot;Name&quot;: &quot;A&quot;, &quot;__folium_color&quot;: &quot;#d62728&quot;, &quot;area_m2&quot;: 195355.072980035, &quot;class&quot;: 11, &quot;name&quot;: &quot;Dense trees&quot;}, &quot;type&quot;: &quot;Feature&quot;}, {&quot;bbox&quot;: [-79.40192431706205, 43.67182908174635, -79.40030436615147, 43.67320745725496], &quot;geometry&quot;: {&quot;coordinates&quot;: [[[-79.40192431706205, 43.67297269709532, 0.0], [-79.40083302544873, 43.67320745725496, 0.0], [-79.40030436615147, 43.67192909479617, 0.0], [-79.40149539571405, 43.67182908174635, 0.0], [-79.40192431706205, 43.67297269709532, 0.0]]], &quot;type&quot;: &quot;Polygon&quot;}, &quot;id&quot;: &quot;13&quot;, &quot;properties&quot;: {&quot;Description&quot;: null, &quot;Name&quot;: &quot;5&quot;, &quot;__folium_color&quot;: &quot;#c7c7c7&quot;, &quot;area_m2&quot;: 13095.448192597565, &quot;class&quot;: 5, &quot;name&quot;: &quot;Open Mid-Rise&quot;}, &quot;type&quot;: &quot;Feature&quot;}, {&quot;bbox&quot;: [-79.28266755084077, 43.71421596836078, -79.27763264433574, 43.71814589311637], &quot;geometry&quot;: {&quot;coordinates&quot;: [[[-79.28198424251339, 43.717376039524275, 0.0], [-79.27825941459761, 43.71814589311637, 0.0], [-79.27763264433574, 43.71731053141865, 0.0], [-79.27843626623239, 43.714946024846704, 0.0], [-79.27942361324678, 43.714820433712326, 0.0], [-79.27973469515545, 43.71558923056856, 0.0], [-79.28037539070814, 43.71539660879141, 0.0], [-79.28111108316668, 43.715132372180854, 0.0], [-79.28088531576537, 43.71435924404447, 0.0], [-79.28181893150428, 43.71421596836078, 0.0], [-79.28266755084077, 43.71623452266097, 0.0], [-79.28170971342561, 43.71641115184697, 0.0], [-79.28201633831374, 43.7173371927234, 0.0], [-79.28198424251339, 43.717376039524275, 0.0]]], &quot;type&quot;: &quot;Polygon&quot;}, &quot;id&quot;: &quot;14&quot;, &quot;properties&quot;: {&quot;Description&quot;: null, &quot;Name&quot;: &quot;2&quot;, &quot;__folium_color&quot;: &quot;#98df8a&quot;, &quot;area_m2&quot;: 105738.0594296245, &quot;class&quot;: 2, &quot;name&quot;: &quot;Compact Mid-Rise&quot;}, &quot;type&quot;: &quot;Feature&quot;}, {&quot;bbox&quot;: [-79.58017675310857, 43.63230213271442, -79.5700676032936, 43.63998802127241], &quot;geometry&quot;: {&quot;coordinates&quot;: [[[-79.58017675310857, 43.63647427268603, 0.0], [-79.5764075879798, 43.63998802127241, 0.0], [-79.57338257160627, 43.63826463640472, 0.0], [-79.57271399254002, 43.63767036226766, 0.0], [-79.57161587252432, 43.63739523024481, 0.0], [-79.57105343753817, 43.637036643639554, 0.0], [-79.57095522392386, 43.636467517155815, 0.0], [-79.5705322771086, 43.635984472223534, 0.0], [-79.57022506527535, 43.63533160252983, 0.0], [-79.5700676032936, 43.63464454849917, 0.0], [-79.57174297322211, 43.633601813248056, 0.0], [-79.57522389588324, 43.63230213271442, 0.0], [-79.58017675310857, 43.63647427268603, 0.0]]], &quot;type&quot;: &quot;Polygon&quot;}, &quot;id&quot;: &quot;15&quot;, &quot;properties&quot;: {&quot;Description&quot;: null, &quot;Name&quot;: &quot;6&quot;, &quot;__folium_color&quot;: &quot;#f7b6d2&quot;, &quot;area_m2&quot;: 387054.4005734656, &quot;class&quot;: 6, &quot;name&quot;: &quot;Open Low-Rise&quot;}, &quot;type&quot;: &quot;Feature&quot;}, {&quot;bbox&quot;: [-79.54991337014674, 43.722992783184026, -79.53942638532244, 43.729548225380306], &quot;geometry&quot;: {&quot;coordinates&quot;: [[[-79.54991337014674, 43.72508923389074, 0.0], [-79.54712053093428, 43.7259622737645, 0.0], [-79.53978294103094, 43.729548225380306, 0.0], [-79.53942638532244, 43.727465447619984, 0.0], [-79.54758378510078, 43.722992783184026, 0.0], [-79.54991337014674, 43.72508923389074, 0.0]]], &quot;type&quot;: &quot;Polygon&quot;}, &quot;id&quot;: &quot;16&quot;, &quot;properties&quot;: {&quot;Description&quot;: null, &quot;Name&quot;: &quot;B&quot;, &quot;__folium_color&quot;: &quot;#bcbd22&quot;, &quot;area_m2&quot;: 208496.80458709958, &quot;class&quot;: 12, &quot;name&quot;: &quot;Scattered trees&quot;}, &quot;type&quot;: &quot;Feature&quot;}, {&quot;bbox&quot;: [-79.51142191427041, 43.59583885293434, -79.50278535273017, 43.60005147669725], &quot;geometry&quot;: {&quot;coordinates&quot;: [[[-79.50418991259897, 43.60005147669725, 0.0], [-79.50278535273017, 43.59682023234284, 0.0], [-79.51015635963044, 43.59583885293434, 0.0], [-79.51142191427041, 43.5990056312436, 0.0], [-79.50418991259897, 43.60005147669725, 0.0]]], &quot;type&quot;: &quot;Polygon&quot;}, &quot;id&quot;: &quot;18&quot;, &quot;properties&quot;: {&quot;Description&quot;: &quot;&quot;, &quot;Name&quot;: &quot;6&quot;, &quot;__folium_color&quot;: &quot;#f7b6d2&quot;, &quot;area_m2&quot;: 221587.9871799851, &quot;class&quot;: 6, &quot;name&quot;: &quot;Open Low-Rise&quot;}, &quot;type&quot;: &quot;Feature&quot;}, {&quot;bbox&quot;: [-79.4479968971792, 43.65735790782566, -79.44640400595509, 43.65844123454508], &quot;geometry&quot;: {&quot;coordinates&quot;: [[[-79.4479968971792, 43.6581873041905, 0.0], [-79.44767963077085, 43.65735790782566, 0.0], [-79.44640400595509, 43.657636438903424, 0.0], [-79.44675058875306, 43.65844123454508, 0.0], [-79.4479968971792, 43.6581873041905, 0.0]]], &quot;type&quot;: &quot;Polygon&quot;}, &quot;id&quot;: &quot;19&quot;, &quot;properties&quot;: {&quot;Description&quot;: null, &quot;Name&quot;: &quot;2&quot;, &quot;__folium_color&quot;: &quot;#98df8a&quot;, &quot;area_m2&quot;: 10022.07257691158, &quot;class&quot;: 2, &quot;name&quot;: &quot;Compact Mid-Rise&quot;}, &quot;type&quot;: &quot;Feature&quot;}, {&quot;bbox&quot;: [-79.32759682216383, 43.81359117655583, -79.32410866417986, 43.815892246280754], &quot;geometry&quot;: {&quot;coordinates&quot;: [[[-79.32507493877006, 43.815892246280754, 0.0], [-79.32410866417986, 43.814074396850486, 0.0], [-79.32651960549012, 43.81359117655583, 0.0], [-79.32759682216383, 43.81515510837958, 0.0], [-79.32507493877006, 43.815892246280754, 0.0]]], &quot;type&quot;: &quot;Polygon&quot;}, &quot;id&quot;: &quot;21&quot;, &quot;properties&quot;: {&quot;Description&quot;: null, &quot;Name&quot;: &quot;4&quot;, &quot;__folium_color&quot;: &quot;#c49c94&quot;, &quot;area_m2&quot;: 42838.7635410207, &quot;class&quot;: 4, &quot;name&quot;: &quot;Open High-Rise&quot;}, &quot;type&quot;: &quot;Feature&quot;}, {&quot;bbox&quot;: [-79.4945172457029, 43.63747675099523, -79.48910712412068, 43.64003835499432], &quot;geometry&quot;: {&quot;coordinates&quot;: [[[-79.4945172457029, 43.639065448048946, 0.0], [-79.49293309642097, 43.63937625694132, 0.0], [-79.49202521198633, 43.64003835499432, 0.0], [-79.4903831870628, 43.64001132820548, 0.0], [-79.48965483336278, 43.63968071813988, 0.0], [-79.48948319229576, 43.639475157862705, 0.0], [-79.4896200298114, 43.63930577308219, 0.0], [-79.48910712412068, 43.63860887111937, 0.0], [-79.48913256629763, 43.63847546274779, 0.0], [-79.48953208455059, 43.6384058464377, 0.0], [-79.48947251761577, 43.63784333137413, 0.0], [-79.48966585427777, 43.63747675099523, 0.0], [-79.49099023632479, 43.63753704307539, 0.0], [-79.49083252106668, 43.63824648256376, 0.0], [-79.4912396695137, 43.63846049983037, 0.0], [-79.4918264999963, 43.638853429868966, 0.0], [-79.49424085977823, 43.63833423578754, 0.0], [-79.4945172457029, 43.639065448048946, 0.0]]], &quot;type&quot;: &quot;Polygon&quot;}, &quot;id&quot;: &quot;22&quot;, &quot;properties&quot;: {&quot;Description&quot;: null, &quot;Name&quot;: &quot;5&quot;, &quot;__folium_color&quot;: &quot;#c7c7c7&quot;, &quot;area_m2&quot;: 63515.040524351076, &quot;class&quot;: 5, &quot;name&quot;: &quot;Open Mid-Rise&quot;}, &quot;type&quot;: &quot;Feature&quot;}, {&quot;bbox&quot;: [-79.46927679416045, 43.63874712226766, -79.4627564899472, 43.64383391034706], &quot;geometry&quot;: {&quot;coordinates&quot;: [[[-79.46707469357717, 43.64192885237681, 0.0], [-79.46531029511557, 43.64087924855582, 0.0], [-79.46285780747353, 43.64062326336621, 0.0], [-79.4627564899472, 43.63950883888166, 0.0], [-79.46393330209108, 43.63916887609939, 0.0], [-79.46594025775096, 43.63874712226766, 0.0], [-79.46703734273764, 43.64030608467708, 0.0], [-79.46927679416045, 43.64383391034706, 0.0], [-79.46707469357717, 43.64192885237681, 0.0]]], &quot;type&quot;: &quot;Polygon&quot;}, &quot;id&quot;: &quot;23&quot;, &quot;properties&quot;: {&quot;Description&quot;: &quot;&quot;, &quot;Name&quot;: &quot;G&quot;, &quot;__folium_color&quot;: &quot;#9edae5&quot;, &quot;area_m2&quot;: 84454.2771383902, &quot;class&quot;: 17, &quot;name&quot;: &quot;Water&quot;}, &quot;type&quot;: &quot;Feature&quot;}, {&quot;bbox&quot;: [-79.38420871536644, 43.64079927518632, -79.37875706637355, 43.64386506568204], &quot;geometry&quot;: {&quot;coordinates&quot;: [[[-79.38244554375585, 43.64120710058767, 0.0], [-79.38373625156359, 43.64170116297571, 0.0], [-79.38420871536644, 43.64316085983708, 0.0], [-79.3800641166559, 43.64386506568204, 0.0], [-79.37940120941475, 43.64224906362061, 0.0], [-79.37875706637355, 43.64190938130798, 0.0], [-79.38014417607387, 43.64114606997195, 0.0], [-79.38218434979643, 43.64079927518632, 0.0], [-79.38244554375585, 43.64120710058767, 0.0]]], &quot;type&quot;: &quot;Polygon&quot;}, &quot;id&quot;: &quot;25&quot;, &quot;properties&quot;: {&quot;Description&quot;: &quot;&quot;, &quot;Name&quot;: &quot;1&quot;, &quot;__folium_color&quot;: &quot;#ffbb78&quot;, &quot;area_m2&quot;: 94404.68553276187, &quot;class&quot;: 1, &quot;name&quot;: &quot;Compact High-Rise&quot;}, &quot;type&quot;: &quot;Feature&quot;}, {&quot;bbox&quot;: [-79.39345001918537, 43.64667105883265, -79.39002391826824, 43.648661640527], &quot;geometry&quot;: {&quot;coordinates&quot;: [[[-79.39268176633178, 43.648661640527, 0.0], [-79.39245288943107, 43.64836518122642, 0.0], [-79.39234084336022, 43.64774679103819, 0.0], [-79.39106105436422, 43.64827305092793, 0.0], [-79.39037944937228, 43.64766835451817, 0.0], [-79.39002391826824, 43.64678173970411, 0.0], [-79.39069530299834, 43.64667105883265, 0.0], [-79.39065482509251, 43.64706119096175, 0.0], [-79.39110067336671, 43.64696347689042, 0.0], [-79.39205502748086, 43.64672839341881, 0.0], [-79.39291079929038, 43.64667550331053, 0.0], [-79.39310162444117, 43.64739427669065, 0.0], [-79.39345001918537, 43.64838261872205, 0.0], [-79.39268176633178, 43.648661640527, 0.0]]], &quot;type&quot;: &quot;Polygon&quot;}, &quot;id&quot;: &quot;28&quot;, &quot;properties&quot;: {&quot;Description&quot;: &quot;&quot;, &quot;Name&quot;: &quot;1&quot;, &quot;__folium_color&quot;: &quot;#ffbb78&quot;, &quot;area_m2&quot;: 35186.856396207375, &quot;class&quot;: 1, &quot;name&quot;: &quot;Compact High-Rise&quot;}, &quot;type&quot;: &quot;Feature&quot;}, {&quot;bbox&quot;: [-79.3863415658852, 43.64584766303891, -79.37736180613045, 43.65159549380323], &quot;geometry&quot;: {&quot;coordinates&quot;: [[[-79.3863415658852, 43.64999258619541, 0.0], [-79.37907223893025, 43.65159549380323, 0.0], [-79.37857974195374, 43.65034780845956, 0.0], [-79.37970667826708, 43.65020253457448, 0.0], [-79.37931396584106, 43.64789811099326, 0.0], [-79.37798992923747, 43.64758423064315, 0.0], [-79.37736180613045, 43.64659547530753, 0.0], [-79.38014520980143, 43.64588665088711, 0.0], [-79.3807116519909, 43.64633012416456, 0.0], [-79.3837965170978, 43.64584766303891, 0.0], [-79.3863415658852, 43.64999258619541, 0.0]]], &quot;type&quot;: &quot;Polygon&quot;}, &quot;id&quot;: &quot;29&quot;, &quot;properties&quot;: {&quot;Description&quot;: &quot;&quot;, &quot;Name&quot;: &quot;1&quot;, &quot;__folium_color&quot;: &quot;#ffbb78&quot;, &quot;area_m2&quot;: 275752.6206430899, &quot;class&quot;: 1, &quot;name&quot;: &quot;Compact High-Rise&quot;}, &quot;type&quot;: &quot;Feature&quot;}, {&quot;bbox&quot;: [-79.54197895566013, 43.60769172280303, -79.53679859534344, 43.61290286276031], &quot;geometry&quot;: {&quot;coordinates&quot;: [[[-79.538818776217, 43.61290286276031, 0.0], [-79.53679859534344, 43.60843410453077, 0.0], [-79.54028417908171, 43.60769172280303, 0.0], [-79.54197895566013, 43.61219419248311, 0.0], [-79.538818776217, 43.61290286276031, 0.0]]], &quot;type&quot;: &quot;Polygon&quot;}, &quot;id&quot;: &quot;30&quot;, &quot;properties&quot;: {&quot;Description&quot;: &quot;&quot;, &quot;Name&quot;: &quot;6&quot;, &quot;__folium_color&quot;: &quot;#f7b6d2&quot;, &quot;area_m2&quot;: 145711.3378602373, &quot;class&quot;: 6, &quot;name&quot;: &quot;Open Low-Rise&quot;}, &quot;type&quot;: &quot;Feature&quot;}, {&quot;bbox&quot;: [-79.5176240659902, 43.68352664554612, -79.51202314045112, 43.685344590811255], &quot;geometry&quot;: {&quot;coordinates&quot;: [[[-79.51289736684352, 43.685344590811255, 0.0], [-79.5176240659902, 43.68444228619629, 0.0], [-79.5173782017609, 43.68352664554612, 0.0], [-79.51202314045112, 43.684133697373746, 0.0], [-79.51289736684352, 43.685344590811255, 0.0]]], &quot;type&quot;: &quot;Polygon&quot;}, &quot;id&quot;: &quot;31&quot;, &quot;properties&quot;: {&quot;Description&quot;: null, &quot;Name&quot;: &quot;4&quot;, &quot;__folium_color&quot;: &quot;#c49c94&quot;, &quot;area_m2&quot;: 51778.71855762924, &quot;class&quot;: 4, &quot;name&quot;: &quot;Open High-Rise&quot;}, &quot;type&quot;: &quot;Feature&quot;}, {&quot;bbox&quot;: [-79.4836968798581, 43.63862864327117, -79.48001107767128, 43.64005798786918], &quot;geometry&quot;: {&quot;coordinates&quot;: [[[-79.482447316805, 43.64005798786918, 0.0], [-79.48174035361616, 43.63993313952946, 0.0], [-79.48001234477707, 43.63954499969688, 0.0], [-79.48001107767128, 43.63927313650217, 0.0], [-79.48098132139341, 43.63916347067932, 0.0], [-79.48119347496544, 43.63862864327117, 0.0], [-79.48339993192634, 43.63864047713925, 0.0], [-79.4836968798581, 43.6397115212831, 0.0], [-79.482447316805, 43.64005798786918, 0.0]]], &quot;type&quot;: &quot;Polygon&quot;}, &quot;id&quot;: &quot;33&quot;, &quot;properties&quot;: {&quot;Description&quot;: &quot;&quot;, &quot;Name&quot;: &quot;G&quot;, &quot;__folium_color&quot;: &quot;#9edae5&quot;, &quot;area_m2&quot;: 32720.51117736409, &quot;class&quot;: 17, &quot;name&quot;: &quot;Water&quot;}, &quot;type&quot;: &quot;Feature&quot;}, {&quot;bbox&quot;: [-79.5477346813165, 43.73186080938857, -79.54521106733232, 43.733604573284], &quot;geometry&quot;: {&quot;coordinates&quot;: [[[-79.54707670266076, 43.733604573284, 0.0], [-79.54521106733232, 43.73303573139679, 0.0], [-79.54569369097653, 43.73186080938857, 0.0], [-79.5477346813165, 43.73262493076484, 0.0], [-79.54707670266076, 43.733604573284, 0.0]]], &quot;type&quot;: &quot;Polygon&quot;}, &quot;id&quot;: &quot;34&quot;, &quot;properties&quot;: {&quot;Description&quot;: null, &quot;Name&quot;: &quot;A&quot;, &quot;__folium_color&quot;: &quot;#d62728&quot;, &quot;area_m2&quot;: 22228.15200745509, &quot;class&quot;: 11, &quot;name&quot;: &quot;Dense trees&quot;}, &quot;type&quot;: &quot;Feature&quot;}, {&quot;bbox&quot;: [-79.55053212276349, 43.67034210588439, -79.5371391919576, 43.678446566735225], &quot;geometry&quot;: {&quot;coordinates&quot;: [[[-79.5474061705938, 43.6778524409228, 0.0], [-79.54238654597302, 43.678446566735225, 0.0], [-79.5415815376056, 43.67681374141213, 0.0], [-79.53805990815134, 43.67760706744608, 0.0], [-79.5371391919576, 43.67563019104315, 0.0], [-79.54119701396553, 43.674230772812585, 0.0], [-79.54427778585529, 43.67162889390595, 0.0], [-79.54654204102988, 43.67043178008736, 0.0], [-79.54799715824936, 43.67034210588439, 0.0], [-79.54853083579442, 43.671385518796875, 0.0], [-79.54861451542381, 43.67203560437089, 0.0], [-79.54888073095223, 43.672841249129654, 0.0], [-79.54973377074599, 43.67403293784319, 0.0], [-79.55013332526221, 43.674975484433865, 0.0], [-79.55010528491091, 43.67562415119972, 0.0], [-79.55029682289985, 43.67643785900739, 0.0], [-79.55053212276349, 43.67698169546069, 0.0], [-79.55053212276349, 43.67698169546069, 0.0], [-79.5474061705938, 43.6778524409228, 0.0]]], &quot;type&quot;: &quot;Polygon&quot;}, &quot;id&quot;: &quot;35&quot;, &quot;properties&quot;: {&quot;Description&quot;: null, &quot;Name&quot;: &quot;6&quot;, &quot;__folium_color&quot;: &quot;#f7b6d2&quot;, &quot;area_m2&quot;: 548288.7297802174, &quot;class&quot;: 6, &quot;name&quot;: &quot;Open Low-Rise&quot;}, &quot;type&quot;: &quot;Feature&quot;}, {&quot;bbox&quot;: [-79.53688049615457, 43.6523561411173, -79.53135042530837, 43.65612538402474], &quot;geometry&quot;: {&quot;coordinates&quot;: [[[-79.53487044606109, 43.65612538402474, 0.0], [-79.53688049615457, 43.65425376182079, 0.0], [-79.53371113703511, 43.6523561411173, 0.0], [-79.53135042530837, 43.65454615953346, 0.0], [-79.53487044606109, 43.65612538402474, 0.0]]], &quot;type&quot;: &quot;Polygon&quot;}, &quot;id&quot;: &quot;38&quot;, &quot;properties&quot;: {&quot;Description&quot;: null, &quot;Name&quot;: &quot;B&quot;, &quot;__folium_color&quot;: &quot;#bcbd22&quot;, &quot;area_m2&quot;: 94888.12500866552, &quot;class&quot;: 12, &quot;name&quot;: &quot;Scattered trees&quot;}, &quot;type&quot;: &quot;Feature&quot;}, {&quot;bbox&quot;: [-79.49350903645465, 43.63533776838481, -79.4887307662529, 43.637549531002236], &quot;geometry&quot;: {&quot;coordinates&quot;: [[[-79.49350903645465, 43.63681595115761, 0.0], [-79.48950566039628, 43.637549531002236, 0.0], [-79.48905982980374, 43.63740989321503, 0.0], [-79.4887307662529, 43.63672611921804, 0.0], [-79.48920807066608, 43.63619745059153, 0.0], [-79.49297880597051, 43.63533776838481, 0.0], [-79.49350903645465, 43.63681595115761, 0.0]]], &quot;type&quot;: &quot;Polygon&quot;}, &quot;id&quot;: &quot;39&quot;, &quot;properties&quot;: {&quot;Description&quot;: null, &quot;Name&quot;: &quot;5&quot;, &quot;__folium_color&quot;: &quot;#c7c7c7&quot;, &quot;area_m2&quot;: 57006.968533990475, &quot;class&quot;: 5, &quot;name&quot;: &quot;Open Mid-Rise&quot;}, &quot;type&quot;: &quot;Feature&quot;}, {&quot;bbox&quot;: [-79.59034747032283, 43.60721316398656, -79.58603215529362, 43.61023288323719], &quot;geometry&quot;: {&quot;coordinates&quot;: [[[-79.59034747032283, 43.60971908518008, 0.0], [-79.58670610291077, 43.60721316398656, 0.0], [-79.58603215529362, 43.607761071948836, 0.0], [-79.58963952727416, 43.61023288323719, 0.0], [-79.59034747032283, 43.60971908518008, 0.0]]], &quot;type&quot;: &quot;Polygon&quot;}, &quot;id&quot;: &quot;41&quot;, &quot;properties&quot;: {&quot;Description&quot;: null, &quot;Name&quot;: &quot;4&quot;, &quot;__folium_color&quot;: &quot;#c49c94&quot;, &quot;area_m2&quot;: 32666.709550273015, &quot;class&quot;: 4, &quot;name&quot;: &quot;Open High-Rise&quot;}, &quot;type&quot;: &quot;Feature&quot;}, {&quot;bbox&quot;: [-79.39090420142749, 43.66651946344117, -79.38628443809402, 43.66833287771611], &quot;geometry&quot;: {&quot;coordinates&quot;: [[[-79.38838375743673, 43.66678358769743, 0.0], [-79.38839041194746, 43.6667835878465, 0.0], [-79.38969850414409, 43.66651946344117, 0.0], [-79.38971211679898, 43.66653531190875, 0.0], [-79.39026794478666, 43.66687797826766, 0.0], [-79.39059969221495, 43.66750035883607, 0.0], [-79.39090420142749, 43.66786141088311, 0.0], [-79.38918855398397, 43.66809309727245, 0.0], [-79.3878559691133, 43.6683189720342, 0.0], [-79.38691119054731, 43.66833287771611, 0.0], [-79.38628443809402, 43.66756218946171, 0.0], [-79.38728394698322, 43.66709411175543, 0.0], [-79.38727593210244, 43.66667978043765, 0.0], [-79.38804084763328, 43.66668521823743, 0.0], [-79.38838375743673, 43.66678358769743, 0.0]]], &quot;type&quot;: &quot;Polygon&quot;}, &quot;id&quot;: &quot;42&quot;, &quot;properties&quot;: {&quot;Description&quot;: &quot;&quot;, &quot;Name&quot;: &quot;1&quot;, &quot;__folium_color&quot;: &quot;#ffbb78&quot;, &quot;area_m2&quot;: 49195.34406005373, &quot;class&quot;: 1, &quot;name&quot;: &quot;Compact High-Rise&quot;}, &quot;type&quot;: &quot;Feature&quot;}, {&quot;bbox&quot;: [-79.32616301428367, 43.81178416611808, -79.32168889238683, 43.81403719382337], &quot;geometry&quot;: {&quot;coordinates&quot;: [[[-79.32616301428367, 43.81335297766059, 0.0], [-79.32208589021134, 43.81403719382337, 0.0], [-79.32168889238683, 43.81264854113767, 0.0], [-79.32475390178948, 43.81178416611808, 0.0], [-79.32616301428367, 43.81335297766059, 0.0]]], &quot;type&quot;: &quot;Polygon&quot;}, &quot;id&quot;: &quot;43&quot;, &quot;properties&quot;: {&quot;Description&quot;: null, &quot;Name&quot;: &quot;4&quot;, &quot;__folium_color&quot;: &quot;#c49c94&quot;, &quot;area_m2&quot;: 53438.72041750362, &quot;class&quot;: 4, &quot;name&quot;: &quot;Open High-Rise&quot;}, &quot;type&quot;: &quot;Feature&quot;}, {&quot;bbox&quot;: [-79.32655523394976, 43.70140394543812, -79.31985908533915, 43.70383507404642], &quot;geometry&quot;: {&quot;coordinates&quot;: [[[-79.32655523394976, 43.70216593565339, 0.0], [-79.32487443453897, 43.70252458687532, 0.0], [-79.32365024655651, 43.70342588810367, 0.0], [-79.32357017357508, 43.70342589271724, 0.0], [-79.32097709951486, 43.70383507404642, 0.0], [-79.31985908533915, 43.70334882384055, 0.0], [-79.32056091280566, 43.701425068369, 0.0], [-79.32540129228637, 43.70140394543812, 0.0], [-79.32655523394976, 43.70216593565339, 0.0]]], &quot;type&quot;: &quot;Polygon&quot;}, &quot;id&quot;: &quot;44&quot;, &quot;properties&quot;: {&quot;Description&quot;: &quot;&quot;, &quot;Name&quot;: &quot;A&quot;, &quot;__folium_color&quot;: &quot;#d62728&quot;, &quot;area_m2&quot;: 95853.75343720785, &quot;class&quot;: 11, &quot;name&quot;: &quot;Dense trees&quot;}, &quot;type&quot;: &quot;Feature&quot;}, {&quot;bbox&quot;: [-79.45287219883754, 43.7891078468692, -79.44723765728665, 43.791847777863445], &quot;geometry&quot;: {&quot;coordinates&quot;: [[[-79.44750877399306, 43.791847777863445, 0.0], [-79.44723765728665, 43.790110323601546, 0.0], [-79.45219464400887, 43.7891078468692, 0.0], [-79.45287219883754, 43.79080255308034, 0.0], [-79.44750877399306, 43.791847777863445, 0.0]]], &quot;type&quot;: &quot;Polygon&quot;}, &quot;id&quot;: &quot;45&quot;, &quot;properties&quot;: {&quot;Description&quot;: null, &quot;Name&quot;: &quot;4&quot;, &quot;__folium_color&quot;: &quot;#c49c94&quot;, &quot;area_m2&quot;: 83500.40845842229, &quot;class&quot;: 4, &quot;name&quot;: &quot;Open High-Rise&quot;}, &quot;type&quot;: &quot;Feature&quot;}, {&quot;bbox&quot;: [-79.45086049067052, 43.925936047225875, -79.44597258330165, 43.928464168023545], &quot;geometry&quot;: {&quot;coordinates&quot;: [[[-79.45086049067052, 43.92731038825872, 0.0], [-79.44968555568947, 43.927636386433264, 0.0], [-79.44682532309996, 43.928464168023545, 0.0], [-79.44597258330165, 43.927379599652376, 0.0], [-79.45037412373341, 43.925936047225875, 0.0], [-79.45086049067052, 43.92731038825872, 0.0]]], &quot;type&quot;: &quot;Polygon&quot;}, &quot;id&quot;: &quot;46&quot;, &quot;properties&quot;: {&quot;Description&quot;: null, &quot;Name&quot;: &quot;9&quot;, &quot;__folium_color&quot;: &quot;#17becf&quot;, &quot;area_m2&quot;: 53831.58367019314, &quot;class&quot;: 9, &quot;name&quot;: &quot;Sparsely built&quot;}, &quot;type&quot;: &quot;Feature&quot;}, {&quot;bbox&quot;: [-79.40091476468649, 43.84534242387602, -79.39211736608503, 43.8504410973379], &quot;geometry&quot;: {&quot;coordinates&quot;: [[[-79.40091476468649, 43.8495791814783, 0.0], [-79.39832531889971, 43.84534242387602, 0.0], [-79.39211736608503, 43.84601239816292, 0.0], [-79.39299628254014, 43.84945906652738, 0.0], [-79.3965130672322, 43.84883243313554, 0.0], [-79.3974539584842, 43.8504410973379, 0.0], [-79.40091476468649, 43.8495791814783, 0.0]]], &quot;type&quot;: &quot;Polygon&quot;}, &quot;id&quot;: &quot;47&quot;, &quot;properties&quot;: {&quot;Description&quot;: null, &quot;Name&quot;: &quot;6&quot;, &quot;__folium_color&quot;: &quot;#f7b6d2&quot;, &quot;area_m2&quot;: 251033.24739438682, &quot;class&quot;: 6, &quot;name&quot;: &quot;Open Low-Rise&quot;}, &quot;type&quot;: &quot;Feature&quot;}, {&quot;bbox&quot;: [-79.3236102109417, 43.73055242816801, -79.31864999627558, 43.73276435493779], &quot;geometry&quot;: {&quot;coordinates&quot;: [[[-79.3193575397627, 43.73276435493779, 0.0], [-79.31902595704815, 43.73245316984012, 0.0], [-79.31864999627558, 43.73192455148739, 0.0], [-79.3204856797758, 43.73152114547336, 0.0], [-79.32196885705488, 43.73055242816801, 0.0], [-79.32347503350644, 43.73086072134307, 0.0], [-79.3236102109417, 43.73105135140005, 0.0], [-79.32252080894445, 43.731188639956, 0.0], [-79.32241319904455, 43.73195159901625, 0.0], [-79.3193575397627, 43.73276435493779, 0.0]]], &quot;type&quot;: &quot;Polygon&quot;}, &quot;id&quot;: &quot;48&quot;, &quot;properties&quot;: {&quot;Description&quot;: &quot;&quot;, &quot;Name&quot;: &quot;A&quot;, &quot;__folium_color&quot;: &quot;#d62728&quot;, &quot;area_m2&quot;: 39269.28806484638, &quot;class&quot;: 11, &quot;name&quot;: &quot;Dense trees&quot;}, &quot;type&quot;: &quot;Feature&quot;}, {&quot;bbox&quot;: [-79.51712491493888, 43.68476565869706, -79.51267893646585, 43.686784958162605], &quot;geometry&quot;: {&quot;coordinates&quot;: [[[-79.51328561250811, 43.686784958162605, 0.0], [-79.51267893646585, 43.685608307012544, 0.0], [-79.5164717805607, 43.68476565869706, 0.0], [-79.51712491493888, 43.68635298309132, 0.0], [-79.51541347134908, 43.68643328618716, 0.0], [-79.51445030553623, 43.68653354506326, 0.0], [-79.51382710877881, 43.68659720834162, 0.0], [-79.51328561250811, 43.686784958162605, 0.0]]], &quot;type&quot;: &quot;Polygon&quot;}, &quot;id&quot;: &quot;49&quot;, &quot;properties&quot;: {&quot;Description&quot;: null, &quot;Name&quot;: &quot;4&quot;, &quot;__folium_color&quot;: &quot;#c49c94&quot;, &quot;area_m2&quot;: 47956.559322227964, &quot;class&quot;: 4, &quot;name&quot;: &quot;Open High-Rise&quot;}, &quot;type&quot;: &quot;Feature&quot;}, {&quot;bbox&quot;: [-79.33761268606317, 43.860371427631506, -79.32559719663118, 43.871998832897916], &quot;geometry&quot;: {&quot;coordinates&quot;: [[[-79.33761268606317, 43.87098504354887, 0.0], [-79.3348430905701, 43.860371427631506, 0.0], [-79.32559719663118, 43.861786685270715, 0.0], [-79.32788657570863, 43.86723755775709, 0.0], [-79.33181651691096, 43.866600939245544, 0.0], [-79.33357232334174, 43.871998832897916, 0.0], [-79.33761268606317, 43.87098504354887, 0.0]]], &quot;type&quot;: &quot;Polygon&quot;}, &quot;id&quot;: &quot;51&quot;, &quot;properties&quot;: {&quot;Description&quot;: null, &quot;Name&quot;: &quot;6&quot;, &quot;__folium_color&quot;: &quot;#f7b6d2&quot;, &quot;area_m2&quot;: 665880.2244663007, &quot;class&quot;: 6, &quot;name&quot;: &quot;Open Low-Rise&quot;}, &quot;type&quot;: &quot;Feature&quot;}, {&quot;bbox&quot;: [-79.30357412316131, 43.876598262377364, -79.29380751485606, 43.883477761249175], &quot;geometry&quot;: {&quot;coordinates&quot;: [[[-79.30357412316131, 43.87793915070269, 0.0], [-79.29818230561054, 43.88217659665375, 0.0], [-79.29476790198797, 43.883477761249175, 0.0], [-79.29380751485606, 43.88088546130709, 0.0], [-79.30311373087716, 43.876598262377364, 0.0], [-79.30357412316131, 43.87793915070269, 0.0]]], &quot;type&quot;: &quot;Polygon&quot;}, &quot;id&quot;: &quot;52&quot;, &quot;properties&quot;: {&quot;Description&quot;: null, &quot;Name&quot;: &quot;6&quot;, &quot;__folium_color&quot;: &quot;#f7b6d2&quot;, &quot;area_m2&quot;: 223394.02169187934, &quot;class&quot;: 6, &quot;name&quot;: &quot;Open Low-Rise&quot;}, &quot;type&quot;: &quot;Feature&quot;}, {&quot;bbox&quot;: [-79.56446891997801, 43.79865217878467, -79.5572131619597, 43.80637602700858], &quot;geometry&quot;: {&quot;coordinates&quot;: [[[-79.56446891997801, 43.80488749157896, 0.0], [-79.56322440629505, 43.79865217878467, 0.0], [-79.5572131619597, 43.80021698754802, 0.0], [-79.55812285534478, 43.80637602700858, 0.0], [-79.56446891997801, 43.80488749157896, 0.0]]], &quot;type&quot;: &quot;Polygon&quot;}, &quot;id&quot;: &quot;53&quot;, &quot;properties&quot;: {&quot;Description&quot;: null, &quot;Name&quot;: &quot;6&quot;, &quot;__folium_color&quot;: &quot;#f7b6d2&quot;, &quot;area_m2&quot;: 356890.3993568756, &quot;class&quot;: 6, &quot;name&quot;: &quot;Open Low-Rise&quot;}, &quot;type&quot;: &quot;Feature&quot;}, {&quot;bbox&quot;: [-79.59726301649224, 43.801665790771246, -79.58521807706327, 43.81373865196508], &quot;geometry&quot;: {&quot;coordinates&quot;: [[[-79.59726301649224, 43.81373865196508, 0.0], [-79.5955749969891, 43.813528623141806, 0.0], [-79.59351940437531, 43.81253884116732, 0.0], [-79.59152149365764, 43.81121621488667, 0.0], [-79.59087997552072, 43.81044211491231, 0.0], [-79.58999759178838, 43.809854333500816, 0.0], [-79.58894653249035, 43.80903009816798, 0.0], [-79.5882786980094, 43.80831875646281, 0.0], [-79.58747740236699, 43.80746153687751, 0.0], [-79.58695806896209, 43.8067880789765, 0.0], [-79.58625326531775, 43.80553542720535, 0.0], [-79.58611139264764, 43.80521818130849, 0.0], [-79.58601471542745, 43.804567975920854, 0.0], [-79.58569641540191, 43.803815873347126, 0.0], [-79.58542959352182, 43.8029922949437, 0.0], [-79.58529134663095, 43.80252185447544, 0.0], [-79.58524795891555, 43.80225089672855, 0.0], [-79.58521807706327, 43.801935036077204, 0.0], [-79.58654139368649, 43.80176211842902, 0.0], [-79.58762618256232, 43.80167637762568, 0.0], [-79.58895811082752, 43.801665790771246, 0.0], [-79.59051208768327, 43.80173905375452, 0.0], [-79.59134570212557, 43.80174933333847, 0.0], [-79.5915945423432, 43.80175240069298, 0.0], [-79.59168163642867, 43.80175347413909, 0.0], [-79.59149702106772, 43.802724712833125, 0.0], [-79.59118993581905, 43.803081487936296, 0.0], [-79.59060699606586, 43.803525000262766, 0.0], [-79.59020623346154, 43.804160051727685, 0.0], [-79.59014840854022, 43.80450187092676, 0.0], [-79.59082660602189, 43.8047716431418, 0.0], [-79.59192748603151, 43.80453282173781, 0.0], [-79.59293660552606, 43.80449116819874, 0.0], [-79.59297393328886, 43.804491627839596, 0.0], [-79.59316624606782, 43.8047824442587, 0.0], [-79.59327692467427, 43.80536971791604, 0.0], [-79.59300018319324, 43.806024333776904, 0.0], [-79.59278463362665, 43.806192945730324, 0.0], [-79.5925804677126, 43.80640676755452, 0.0], [-79.5923115452353, 43.806727959431164, 0.0], [-79.59218241130665, 43.807456503576596, 0.0], [-79.592145246557, 43.80797885838862, 0.0], [-79.59222557572369, 43.808268296449526, 0.0], [-79.59235250426639, 43.80869351867026, 0.0], [-79.59235330567903, 43.80918929911303, 0.0], [-79.5927959421116, 43.80995192788859, 0.0], [-79.59375344129663, 43.81052258413976, 0.0], [-79.59399682076833, 43.81075994330328, 0.0], [-79.59635290927768, 43.81220410893571, 0.0], [-79.59642440822148, 43.81234019729948, 0.0], [-79.59705969300126, 43.81285278331059, 0.0], [-79.5972438265748, 43.81296321198959, 0.0], [-79.59726301649224, 43.81373865196508, 0.0]]], &quot;type&quot;: &quot;Polygon&quot;}, &quot;id&quot;: &quot;54&quot;, &quot;properties&quot;: {&quot;Description&quot;: null, &quot;Name&quot;: &quot;6&quot;, &quot;__folium_color&quot;: &quot;#f7b6d2&quot;, &quot;area_m2&quot;: 474687.865209977, &quot;class&quot;: 6, &quot;name&quot;: &quot;Open Low-Rise&quot;}, &quot;type&quot;: &quot;Feature&quot;}, {&quot;bbox&quot;: [-79.43039802029637, 43.74771193556184, -79.42482550966874, 43.75194534448855], &quot;geometry&quot;: {&quot;coordinates&quot;: [[[-79.42519771692363, 43.75161548170047, 0.0], [-79.4261788226894, 43.74999989602225, 0.0], [-79.42482550966874, 43.74799242179655, 0.0], [-79.42563356100584, 43.74771193556184, 0.0], [-79.43039802029637, 43.75017232728685, 0.0], [-79.42831534683627, 43.75194534448855, 0.0], [-79.42519771692363, 43.75161548170047, 0.0]]], &quot;type&quot;: &quot;Polygon&quot;}, &quot;id&quot;: &quot;55&quot;, &quot;properties&quot;: {&quot;Description&quot;: &quot;&quot;, &quot;Name&quot;: &quot;A&quot;, &quot;__folium_color&quot;: &quot;#d62728&quot;, &quot;area_m2&quot;: 110746.44293889301, &quot;class&quot;: 11, &quot;name&quot;: &quot;Dense trees&quot;}, &quot;type&quot;: &quot;Feature&quot;}, {&quot;bbox&quot;: [-79.58494614072785, 43.70738821024208, -79.57948783534657, 43.71049296492137], &quot;geometry&quot;: {&quot;coordinates&quot;: [[[-79.58494614072785, 43.709427179411975, 0.0], [-79.58011336591903, 43.71049296492137, 0.0], [-79.57948783534657, 43.70886623234285, 0.0], [-79.58058971321161, 43.70861299806406, 0.0], [-79.58010659059936, 43.707730785532, 0.0], [-79.582426412689, 43.70738821024208, 0.0], [-79.58313545933203, 43.707849615534336, 0.0], [-79.58414510571501, 43.70777508776822, 0.0], [-79.58494614072785, 43.709427179411975, 0.0]]], &quot;type&quot;: &quot;Polygon&quot;}, &quot;id&quot;: &quot;56&quot;, &quot;properties&quot;: {&quot;Description&quot;: null, &quot;Name&quot;: &quot;8&quot;, &quot;__folium_color&quot;: &quot;#9467bd&quot;, &quot;area_m2&quot;: 96589.66450562008, &quot;class&quot;: 8, &quot;name&quot;: &quot;Large low-rise&quot;}, &quot;type&quot;: &quot;Feature&quot;}, {&quot;bbox&quot;: [-79.57835070928883, 43.7152462573758, -79.57203299209021, 43.7187094887251], &quot;geometry&quot;: {&quot;coordinates&quot;: [[[-79.57707110500688, 43.7187094887251, 0.0], [-79.57304055394525, 43.718636021481295, 0.0], [-79.57203299209021, 43.7152462573758, 0.0], [-79.57835070928883, 43.71670026750277, 0.0], [-79.5775912271625, 43.71836780099583, 0.0], [-79.57723285438449, 43.71863606733828, 0.0], [-79.57707110500688, 43.7187094887251, 0.0]]], &quot;type&quot;: &quot;Polygon&quot;}, &quot;id&quot;: &quot;57&quot;, &quot;properties&quot;: {&quot;Description&quot;: null, &quot;Name&quot;: &quot;8&quot;, &quot;__folium_color&quot;: &quot;#9467bd&quot;, &quot;area_m2&quot;: 128725.85603474616, &quot;class&quot;: 8, &quot;name&quot;: &quot;Large low-rise&quot;}, &quot;type&quot;: &quot;Feature&quot;}, {&quot;bbox&quot;: [-79.58367624349323, 43.71035531207284, -79.58019263704195, 43.71194932908752], &quot;geometry&quot;: {&quot;coordinates&quot;: [[[-79.58367624349323, 43.7112102916269, 0.0], [-79.58304842349462, 43.71035531207284, 0.0], [-79.58019263704195, 43.710862422484304, 0.0], [-79.58057095718688, 43.71194932908752, 0.0], [-79.58367624349323, 43.7112102916269, 0.0]]], &quot;type&quot;: &quot;Polygon&quot;}, &quot;id&quot;: &quot;58&quot;, &quot;properties&quot;: {&quot;Description&quot;: null, &quot;Name&quot;: &quot;F&quot;, &quot;__folium_color&quot;: &quot;#aec7e8&quot;, &quot;area_m2&quot;: 28707.008922013476, &quot;class&quot;: 16, &quot;name&quot;: &quot;Bare soil or sand&quot;}, &quot;type&quot;: &quot;Feature&quot;}, {&quot;bbox&quot;: [-79.65672451026734, 43.662000704633655, -79.64101374108314, 43.67243124060147], &quot;geometry&quot;: {&quot;coordinates&quot;: [[[-79.65672451026734, 43.664793833168126, 0.0], [-79.64746606285394, 43.67243124060147, 0.0], [-79.64145263369535, 43.66879808234387, 0.0], [-79.64101374108314, 43.6677706331744, 0.0], [-79.64129356127506, 43.66707117592716, 0.0], [-79.64156938574155, 43.66557305188612, 0.0], [-79.6446802570522, 43.665194702675244, 0.0], [-79.64697148468983, 43.66506212636563, 0.0], [-79.64784704317186, 43.665264156712574, 0.0], [-79.64799671793232, 43.665457595867245, 0.0], [-79.65052706276437, 43.66349095321082, 0.0], [-79.65282657599887, 43.662000704633655, 0.0], [-79.65672451026734, 43.664793833168126, 0.0]]], &quot;type&quot;: &quot;Polygon&quot;}, &quot;id&quot;: &quot;59&quot;, &quot;properties&quot;: {&quot;Description&quot;: null, &quot;Name&quot;: &quot;8&quot;, &quot;__folium_color&quot;: &quot;#9467bd&quot;, &quot;area_m2&quot;: 704761.9734867502, &quot;class&quot;: 8, &quot;name&quot;: &quot;Large low-rise&quot;}, &quot;type&quot;: &quot;Feature&quot;}, {&quot;bbox&quot;: [-79.61718932421051, 43.814975750728664, -79.61174429903511, 43.82418924520968], &quot;geometry&quot;: {&quot;coordinates&quot;: [[[-79.61666595292327, 43.814975750728664, 0.0], [-79.61718932421051, 43.82358144067098, 0.0], [-79.61378881450425, 43.82418924520968, 0.0], [-79.61174429903511, 43.815709294377534, 0.0], [-79.61666595292327, 43.814975750728664, 0.0]]], &quot;type&quot;: &quot;Polygon&quot;}, &quot;id&quot;: &quot;61&quot;, &quot;properties&quot;: {&quot;Description&quot;: null, &quot;Name&quot;: &quot;6&quot;, &quot;__folium_color&quot;: &quot;#f7b6d2&quot;, &quot;area_m2&quot;: 325282.09424629575, &quot;class&quot;: 6, &quot;name&quot;: &quot;Open Low-Rise&quot;}, &quot;type&quot;: &quot;Feature&quot;}, {&quot;bbox&quot;: [-79.37479710933337, 43.77019486438889, -79.37143913268307, 43.77340576599924], &quot;geometry&quot;: {&quot;coordinates&quot;: [[[-79.37203231479432, 43.77340576599924, 0.0], [-79.37143913268307, 43.77161502064495, 0.0], [-79.37169955077424, 43.77053069077095, 0.0], [-79.37403983211736, 43.77019486438889, 0.0], [-79.37470192285147, 43.77284421368889, 0.0], [-79.37476692162188, 43.77300697071211, 0.0], [-79.37479710933337, 43.77311146954586, 0.0], [-79.37203231479432, 43.77340576599924, 0.0]]], &quot;type&quot;: &quot;Polygon&quot;}, &quot;id&quot;: &quot;62&quot;, &quot;properties&quot;: {&quot;Description&quot;: &quot;&quot;, &quot;Name&quot;: &quot;6&quot;, &quot;__folium_color&quot;: &quot;#f7b6d2&quot;, &quot;area_m2&quot;: 72267.06546600704, &quot;class&quot;: 6, &quot;name&quot;: &quot;Open Low-Rise&quot;}, &quot;type&quot;: &quot;Feature&quot;}, {&quot;bbox&quot;: [-79.60263772763054, 43.75418536597156, -79.5951727894545, 43.758978779787334], &quot;geometry&quot;: {&quot;coordinates&quot;: [[[-79.59711610172542, 43.758978779787334, 0.0], [-79.5951727894545, 43.75552729939024, 0.0], [-79.59985826658712, 43.75418536597156, 0.0], [-79.60263772763054, 43.7577889671369, 0.0], [-79.59711610172542, 43.758978779787334, 0.0]]], &quot;type&quot;: &quot;Polygon&quot;}, &quot;id&quot;: &quot;63&quot;, &quot;properties&quot;: {&quot;Description&quot;: null, &quot;Name&quot;: &quot;6&quot;, &quot;__folium_color&quot;: &quot;#f7b6d2&quot;, &quot;area_m2&quot;: 187743.65772882322, &quot;class&quot;: 6, &quot;name&quot;: &quot;Open Low-Rise&quot;}, &quot;type&quot;: &quot;Feature&quot;}, {&quot;bbox&quot;: [-79.24989252818256, 43.822806765778694, -79.24234517912308, 43.83029424672187], &quot;geometry&quot;: {&quot;coordinates&quot;: [[[-79.24989252818256, 43.829399229949665, 0.0], [-79.24507869632214, 43.83029424672187, 0.0], [-79.24234517912308, 43.82376987024236, 0.0], [-79.24727088116127, 43.822806765778694, 0.0], [-79.24989252818256, 43.829399229949665, 0.0]]], &quot;type&quot;: &quot;Polygon&quot;}, &quot;id&quot;: &quot;65&quot;, &quot;properties&quot;: {&quot;Description&quot;: null, &quot;Name&quot;: &quot;8&quot;, &quot;__folium_color&quot;: &quot;#9467bd&quot;, &quot;area_m2&quot;: 307584.65669565916, &quot;class&quot;: 8, &quot;name&quot;: &quot;Large low-rise&quot;}, &quot;type&quot;: &quot;Feature&quot;}, {&quot;bbox&quot;: [-79.59670833835025, 43.753458792168715, -79.58773792366625, 43.75926447742139], &quot;geometry&quot;: {&quot;coordinates&quot;: [[[-79.58773792366625, 43.7547866431531, 0.0], [-79.58998381281769, 43.75923578663466, 0.0], [-79.59670833835025, 43.75926447742139, 0.0], [-79.59659911965782, 43.758350459982125, 0.0], [-79.59489052054327, 43.756030871553385, 0.0], [-79.59412230493616, 43.75537916917254, 0.0], [-79.59362783250239, 43.75458885889792, 0.0], [-79.59354238166713, 43.753458792168715, 0.0], [-79.58773792366625, 43.7547866431531, 0.0]]], &quot;type&quot;: &quot;Polygon&quot;}, &quot;id&quot;: &quot;66&quot;, &quot;properties&quot;: {&quot;Description&quot;: null, &quot;Name&quot;: &quot;6&quot;, &quot;__folium_color&quot;: &quot;#f7b6d2&quot;, &quot;area_m2&quot;: 300325.41120575287, &quot;class&quot;: 6, &quot;name&quot;: &quot;Open Low-Rise&quot;}, &quot;type&quot;: &quot;Feature&quot;}, {&quot;bbox&quot;: [-79.25485308751571, 43.74479229137447, -79.24449589546789, 43.75487478043082], &quot;geometry&quot;: {&quot;coordinates&quot;: [[[-79.25485308751571, 43.75284449495621, 0.0], [-79.24528068381986, 43.75487478043082, 0.0], [-79.24449589546789, 43.75045486696134, 0.0], [-79.24487337202072, 43.74583646700301, 0.0], [-79.25172999454469, 43.74479229137447, 0.0], [-79.25485308751571, 43.75284449495621, 0.0]]], &quot;type&quot;: &quot;Polygon&quot;}, &quot;id&quot;: &quot;67&quot;, &quot;properties&quot;: {&quot;Description&quot;: null, &quot;Name&quot;: &quot;6&quot;, &quot;__folium_color&quot;: &quot;#f7b6d2&quot;, &quot;area_m2&quot;: 675920.692390071, &quot;class&quot;: 6, &quot;name&quot;: &quot;Open Low-Rise&quot;}, &quot;type&quot;: &quot;Feature&quot;}, {&quot;bbox&quot;: [-79.6130508193852, 43.62514970066796, -79.59324205314432, 43.6391244104935], &quot;geometry&quot;: {&quot;coordinates&quot;: [[[-79.6130508193852, 43.63060941999102, 0.0], [-79.60777789221518, 43.626590134893966, 0.0], [-79.60501802264186, 43.62906816702849, 0.0], [-79.60396324918747, 43.62827580110604, 0.0], [-79.60511116187547, 43.626759710490276, 0.0], [-79.6009356970584, 43.62514970066796, 0.0], [-79.59324205314432, 43.63126229693537, 0.0], [-79.60343378572769, 43.6391244104935, 0.0], [-79.6130508193852, 43.63060941999102, 0.0]]], &quot;type&quot;: &quot;Polygon&quot;}, &quot;id&quot;: &quot;68&quot;, &quot;properties&quot;: {&quot;Description&quot;: null, &quot;Name&quot;: &quot;6&quot;, &quot;__folium_color&quot;: &quot;#f7b6d2&quot;, &quot;area_m2&quot;: 1275790.5187968805, &quot;class&quot;: 6, &quot;name&quot;: &quot;Open Low-Rise&quot;}, &quot;type&quot;: &quot;Feature&quot;}, {&quot;bbox&quot;: [-79.35975470223144, 43.88069487217667, -79.34193394027992, 43.89124114784287], &quot;geometry&quot;: {&quot;coordinates&quot;: [[[-79.34335321523072, 43.89124114784287, 0.0], [-79.34193394027992, 43.88564717346465, 0.0], [-79.34344507142345, 43.8844405521074, 0.0], [-79.3434879330674, 43.88339241755287, 0.0], [-79.34248293104997, 43.88079090889358, 0.0], [-79.34274796502785, 43.88069487217667, 0.0], [-79.34397721788388, 43.88218095600248, 0.0], [-79.34809267825642, 43.88167121108794, 0.0], [-79.3488886173273, 43.88235192337879, 0.0], [-79.34973205154894, 43.88281357671189, 0.0], [-79.35030993875608, 43.88389065527208, 0.0], [-79.35354183355156, 43.88437675595862, 0.0], [-79.35617874384538, 43.88440473897083, 0.0], [-79.3581214131634, 43.88507191607722, 0.0], [-79.35975470223144, 43.88745258083792, 0.0], [-79.34335321523072, 43.89124114784287, 0.0]]], &quot;type&quot;: &quot;Polygon&quot;}, &quot;id&quot;: &quot;69&quot;, &quot;properties&quot;: {&quot;Description&quot;: null, &quot;Name&quot;: &quot;9&quot;, &quot;__folium_color&quot;: &quot;#17becf&quot;, &quot;area_m2&quot;: 889192.2094753156, &quot;class&quot;: 9, &quot;name&quot;: &quot;Sparsely built&quot;}, &quot;type&quot;: &quot;Feature&quot;}, {&quot;bbox&quot;: [-79.47876608749282, 43.89365461959238, -79.47208302708086, 43.89642237991954], &quot;geometry&quot;: {&quot;coordinates&quot;: [[[-79.47876608749282, 43.894882644092114, 0.0], [-79.47862132012385, 43.89365461959238, 0.0], [-79.47208302708086, 43.89499446326215, 0.0], [-79.47292902375642, 43.89633237018855, 0.0], [-79.474149759299, 43.89642237991954, 0.0], [-79.47530009787616, 43.8956404397124, 0.0], [-79.47594772947326, 43.89531408168019, 0.0], [-79.47664063964775, 43.89502852357412, 0.0], [-79.47755690137751, 43.89506753687398, 0.0], [-79.47876608749282, 43.894882644092114, 0.0]]], &quot;type&quot;: &quot;Polygon&quot;}, &quot;id&quot;: &quot;70&quot;, &quot;properties&quot;: {&quot;Description&quot;: null, &quot;Name&quot;: &quot;9&quot;, &quot;__folium_color&quot;: &quot;#17becf&quot;, &quot;area_m2&quot;: 74893.80542226143, &quot;class&quot;: 9, &quot;name&quot;: &quot;Sparsely built&quot;}, &quot;type&quot;: &quot;Feature&quot;}, {&quot;bbox&quot;: [-79.65024651030448, 43.90778496901279, -79.64136299027439, 43.911412155741424], &quot;geometry&quot;: {&quot;coordinates&quot;: [[[-79.65024651030448, 43.90977680008927, 0.0], [-79.64361623638811, 43.91032753422243, 0.0], [-79.64353785099802, 43.91134539632271, 0.0], [-79.64243104086209, 43.911412155741424, 0.0], [-79.64215123620545, 43.91035008540734, 0.0], [-79.64136299027439, 43.90795354303189, 0.0], [-79.64230626781178, 43.90778496901279, 0.0], [-79.64275157955223, 43.908858993800436, 0.0], [-79.64397473202433, 43.90853391972443, 0.0], [-79.64585811676005, 43.90833651756087, 0.0], [-79.64704751098697, 43.90828069096656, 0.0], [-79.6495519540636, 43.90811055686681, 0.0], [-79.65024651030448, 43.90977680008927, 0.0]]], &quot;type&quot;: &quot;Polygon&quot;}, &quot;id&quot;: &quot;71&quot;, &quot;properties&quot;: {&quot;Description&quot;: null, &quot;Name&quot;: &quot;9&quot;, &quot;__folium_color&quot;: &quot;#17becf&quot;, &quot;area_m2&quot;: 143434.03753998812, &quot;class&quot;: 9, &quot;name&quot;: &quot;Sparsely built&quot;}, &quot;type&quot;: &quot;Feature&quot;}, {&quot;bbox&quot;: [-79.36176893408236, 43.88783105173481, -79.35198172293042, 43.893043127701375], &quot;geometry&quot;: {&quot;coordinates&quot;: [[[-79.36176893408236, 43.8918113433171, 0.0], [-79.3600274318738, 43.88783105173481, 0.0], [-79.35238810753938, 43.88990854025397, 0.0], [-79.35198172293042, 43.89062182518936, 0.0], [-79.3522730604564, 43.89107549386669, 0.0], [-79.35239235787171, 43.891257000960024, 0.0], [-79.35284547688364, 43.89135342804945, 0.0], [-79.35454608667682, 43.89128804087851, 0.0], [-79.35479459406858, 43.89129161979671, 0.0], [-79.3550003709744, 43.8918439307648, 0.0], [-79.35549690674013, 43.89237046257341, 0.0], [-79.35608865142255, 43.89244889586272, 0.0], [-79.35643140912688, 43.893043127701375, 0.0], [-79.36176893408236, 43.8918113433171, 0.0]]], &quot;type&quot;: &quot;Polygon&quot;}, &quot;id&quot;: &quot;72&quot;, &quot;properties&quot;: {&quot;Description&quot;: null, &quot;Name&quot;: &quot;9&quot;, &quot;__folium_color&quot;: &quot;#17becf&quot;, &quot;area_m2&quot;: 259470.76970830592, &quot;class&quot;: 9, &quot;name&quot;: &quot;Sparsely built&quot;}, &quot;type&quot;: &quot;Feature&quot;}, {&quot;bbox&quot;: [-79.5117524443371, 43.66978462759715, -79.50670973526307, 43.6750079879813], &quot;geometry&quot;: {&quot;coordinates&quot;: [[[-79.50709473576966, 43.67224619552437, 0.0], [-79.50670973526307, 43.6750079879813, 0.0], [-79.5117524443371, 43.67365539547782, 0.0], [-79.51135273142185, 43.66978462759715, 0.0], [-79.50709473576966, 43.67224619552437, 0.0]]], &quot;type&quot;: &quot;Polygon&quot;}, &quot;id&quot;: &quot;73&quot;, &quot;properties&quot;: {&quot;Description&quot;: null, &quot;Name&quot;: &quot;B&quot;, &quot;__folium_color&quot;: &quot;#bcbd22&quot;, &quot;area_m2&quot;: 138247.35424481067, &quot;class&quot;: 12, &quot;name&quot;: &quot;Scattered trees&quot;}, &quot;type&quot;: &quot;Feature&quot;}, {&quot;bbox&quot;: [-79.5337257002709, 43.66853243410518, -79.52464212579635, 43.67310349279034], &quot;geometry&quot;: {&quot;coordinates&quot;: [[[-79.5337257002709, 43.66985411029708, 0.0], [-79.52852736399416, 43.67310349279034, 0.0], [-79.52496413326189, 43.67137948567333, 0.0], [-79.52464212579635, 43.669357644660074, 0.0], [-79.52726303366813, 43.66853243410518, 0.0], [-79.53142146626278, 43.66954484518039, 0.0], [-79.5337257002709, 43.66985411029708, 0.0]]], &quot;type&quot;: &quot;Polygon&quot;}, &quot;id&quot;: &quot;74&quot;, &quot;properties&quot;: {&quot;Description&quot;: null, &quot;Name&quot;: &quot;B&quot;, &quot;__folium_color&quot;: &quot;#bcbd22&quot;, &quot;area_m2&quot;: 208222.96671258213, &quot;class&quot;: 12, &quot;name&quot;: &quot;Scattered trees&quot;}, &quot;type&quot;: &quot;Feature&quot;}, {&quot;bbox&quot;: [-79.54876581865896, 43.887052449847445, -79.52533667670973, 43.90876077298603], &quot;geometry&quot;: {&quot;coordinates&quot;: [[[-79.52533667670973, 43.89115808850513, 0.0], [-79.53026247946465, 43.90876077298603, 0.0], [-79.54876581865896, 43.90460251761984, 0.0], [-79.54477270340826, 43.887052449847445, 0.0], [-79.52533667670973, 43.89115808850513, 0.0]]], &quot;type&quot;: &quot;Polygon&quot;}, &quot;id&quot;: &quot;75&quot;, &quot;properties&quot;: {&quot;Description&quot;: null, &quot;Name&quot;: &quot;D&quot;, &quot;__folium_color&quot;: &quot;#8c564b&quot;, &quot;area_m2&quot;: 3139473.7381252954, &quot;class&quot;: 14, &quot;name&quot;: &quot;Low plants&quot;}, &quot;type&quot;: &quot;Feature&quot;}, {&quot;bbox&quot;: [-79.29693240941694, 43.914915714959, -79.27729524527041, 43.92509769438271], &quot;geometry&quot;: {&quot;coordinates&quot;: [[[-79.29691246771823, 43.921571351234654, 0.0], [-79.28293730814232, 43.92509769438271, 0.0], [-79.277955350325, 43.924383467502174, 0.0], [-79.27729524527041, 43.92331477909771, 0.0], [-79.2778835102895, 43.92112627142436, 0.0], [-79.2842762235744, 43.91986408168643, 0.0], [-79.28408443415992, 43.91788356035645, 0.0], [-79.29533378977558, 43.914915714959, 0.0], [-79.29582611761293, 43.916061702825495, 0.0], [-79.29126459113657, 43.917092255121275, 0.0], [-79.28936105352145, 43.91794271891956, 0.0], [-79.28980032972082, 43.91900803300727, 0.0], [-79.29085403791296, 43.918883969277466, 0.0], [-79.29065209419223, 43.91918059037285, 0.0], [-79.29041966485663, 43.91957663573258, 0.0], [-79.29054577620998, 43.919998022450336, 0.0], [-79.29293688693689, 43.91949442091528, 0.0], [-79.29336881574487, 43.920819301479874, 0.0], [-79.2935467748544, 43.92136131636481, 0.0], [-79.29514959461176, 43.92136527112268, 0.0], [-79.29693240941694, 43.920872482687, 0.0], [-79.29691246771823, 43.921571351234654, 0.0]]], &quot;type&quot;: &quot;Polygon&quot;}, &quot;id&quot;: &quot;76&quot;, &quot;properties&quot;: {&quot;Description&quot;: null, &quot;Name&quot;: &quot;D&quot;, &quot;__folium_color&quot;: &quot;#8c564b&quot;, &quot;area_m2&quot;: 786010.5017023855, &quot;class&quot;: 14, &quot;name&quot;: &quot;Low plants&quot;}, &quot;type&quot;: &quot;Feature&quot;}, {&quot;bbox&quot;: [-79.21761677999285, 43.9262845392163, -79.20538476658255, 43.92985387024105], &quot;geometry&quot;: {&quot;coordinates&quot;: [[[-79.21761677999285, 43.927772812380724, 0.0], [-79.20890308721425, 43.92985387024105, 0.0], [-79.20538476658255, 43.928280468019665, 0.0], [-79.20585561401609, 43.92732901081904, 0.0], [-79.21058564832072, 43.9262845392163, 0.0], [-79.21103023974854, 43.92804940044846, 0.0], [-79.2175301305868, 43.926972415802354, 0.0], [-79.21761677999285, 43.927772812380724, 0.0]]], &quot;type&quot;: &quot;Polygon&quot;}, &quot;id&quot;: &quot;77&quot;, &quot;properties&quot;: {&quot;Description&quot;: null, &quot;Name&quot;: &quot;D&quot;, &quot;__folium_color&quot;: &quot;#8c564b&quot;, &quot;area_m2&quot;: 180020.79934566456, &quot;class&quot;: 14, &quot;name&quot;: &quot;Low plants&quot;}, &quot;type&quot;: &quot;Feature&quot;}, {&quot;bbox&quot;: [-79.20530945021, 43.89745185111439, -79.19425331153133, 43.906575025678215], &quot;geometry&quot;: {&quot;coordinates&quot;: [[[-79.20530945021, 43.901371412046174, 0.0], [-79.20272809257649, 43.9017703058115, 0.0], [-79.20382844631429, 43.90468415883555, 0.0], [-79.19578653912544, 43.906575025678215, 0.0], [-79.19530480644625, 43.90423020396851, 0.0], [-79.19947905825192, 43.903237333738, 0.0], [-79.19824480827722, 43.902938207307535, 0.0], [-79.19425331153133, 43.90245568399956, 0.0], [-79.19709144939176, 43.89904463003816, 0.0], [-79.20504045911554, 43.89745185111439, 0.0], [-79.20530945021, 43.901371412046174, 0.0]]], &quot;type&quot;: &quot;Polygon&quot;}, &quot;id&quot;: &quot;78&quot;, &quot;properties&quot;: {&quot;Description&quot;: null, &quot;Name&quot;: &quot;D&quot;, &quot;__folium_color&quot;: &quot;#8c564b&quot;, &quot;area_m2&quot;: 529392.4385746875, &quot;class&quot;: 14, &quot;name&quot;: &quot;Low plants&quot;}, &quot;type&quot;: &quot;Feature&quot;}, {&quot;bbox&quot;: [-79.53808792688919, 43.62618438695164, -79.53511042723328, 43.6290037700942], &quot;geometry&quot;: {&quot;coordinates&quot;: [[[-79.53590193745325, 43.6290037700942, 0.0], [-79.53808792688919, 43.6285972470231, 0.0], [-79.53725950145558, 43.62618438695164, 0.0], [-79.53511042723328, 43.626631322027016, 0.0], [-79.53590193745325, 43.6290037700942, 0.0]]], &quot;type&quot;: &quot;Polygon&quot;}, &quot;id&quot;: &quot;79&quot;, &quot;properties&quot;: {&quot;Description&quot;: null, &quot;Name&quot;: &quot;E&quot;, &quot;__folium_color&quot;: &quot;#1f77b4&quot;, &quot;area_m2&quot;: 49580.083407584854, &quot;class&quot;: 15, &quot;name&quot;: &quot;Bare rock or paved&quot;}, &quot;type&quot;: &quot;Feature&quot;}, {&quot;bbox&quot;: [-79.53907610539679, 43.62979816315359, -79.53673899780175, 43.631166627863855], &quot;geometry&quot;: {&quot;coordinates&quot;: [[[-79.53709739403938, 43.631166627863855, 0.0], [-79.53673899780175, 43.63006828773499, 0.0], [-79.538657000688, 43.62979816315359, 0.0], [-79.53907610539679, 43.63066254112924, 0.0], [-79.53859192262951, 43.63078120877448, 0.0], [-79.53869309218287, 43.630862411166454, 0.0], [-79.53709739403938, 43.631166627863855, 0.0]]], &quot;type&quot;: &quot;Polygon&quot;}, &quot;id&quot;: &quot;80&quot;, &quot;properties&quot;: {&quot;Description&quot;: null, &quot;Name&quot;: &quot;E&quot;, &quot;__folium_color&quot;: &quot;#1f77b4&quot;, &quot;area_m2&quot;: 19162.084206917876, &quot;class&quot;: 15, &quot;name&quot;: &quot;Bare rock or paved&quot;}, &quot;type&quot;: &quot;Feature&quot;}, {&quot;bbox&quot;: [-79.48354063003109, 43.62405901101303, -79.4810465166857, 43.625927298963404], &quot;geometry&quot;: {&quot;coordinates&quot;: [[[-79.48272510018472, 43.625927298963404, 0.0], [-79.4810465166857, 43.6254218043329, 0.0], [-79.4812001205126, 43.624236450524435, 0.0], [-79.4827875689651, 43.62405901101303, 0.0], [-79.48280716725559, 43.624714773271876, 0.0], [-79.48321073455749, 43.62466019812514, 0.0], [-79.48332943055856, 43.62506631169414, 0.0], [-79.4834684179052, 43.62507564742485, 0.0], [-79.48354063003109, 43.625484889681246, 0.0], [-79.48297455611153, 43.62543992025762, 0.0], [-79.4829576279946, 43.625907911255176, 0.0], [-79.48272510018472, 43.625927298963404, 0.0]]], &quot;type&quot;: &quot;Polygon&quot;}, &quot;id&quot;: &quot;81&quot;, &quot;properties&quot;: {&quot;Description&quot;: null, &quot;Name&quot;: &quot;F&quot;, &quot;__folium_color&quot;: &quot;#aec7e8&quot;, &quot;area_m2&quot;: 27986.058766083377, &quot;class&quot;: 16, &quot;name&quot;: &quot;Bare soil or sand&quot;}, &quot;type&quot;: &quot;Feature&quot;}, {&quot;bbox&quot;: [-79.35198544169744, 43.64240128105724, -79.34413294859833, 43.646412296302344], &quot;geometry&quot;: {&quot;coordinates&quot;: [[[-79.35198544169744, 43.645574166086554, 0.0], [-79.34959220177674, 43.64293262099847, 0.0], [-79.34911159845646, 43.64240128105724, 0.0], [-79.34413294859833, 43.64526588467905, 0.0], [-79.34570048615433, 43.646412296302344, 0.0], [-79.3494478324709, 43.64556751051398, 0.0], [-79.35198544169744, 43.645574166086554, 0.0]]], &quot;type&quot;: &quot;Polygon&quot;}, &quot;id&quot;: &quot;82&quot;, &quot;properties&quot;: {&quot;Description&quot;: null, &quot;Name&quot;: &quot;F&quot;, &quot;__folium_color&quot;: &quot;#aec7e8&quot;, &quot;area_m2&quot;: 136104.97837348978, &quot;class&quot;: 16, &quot;name&quot;: &quot;Bare soil or sand&quot;}, &quot;type&quot;: &quot;Feature&quot;}, {&quot;bbox&quot;: [-79.35777723239626, 43.642453662426306, -79.35355527806034, 43.64513639752128], &quot;geometry&quot;: {&quot;coordinates&quot;: [[[-79.35777723239626, 43.64408808895393, 0.0], [-79.3551386807318, 43.64513639752128, 0.0], [-79.35358650179546, 43.64417762138165, 0.0], [-79.35355527806034, 43.643810092677434, 0.0], [-79.3565142514536, 43.642453662426306, 0.0], [-79.35777723239626, 43.64408808895393, 0.0]]], &quot;type&quot;: &quot;Polygon&quot;}, &quot;id&quot;: &quot;83&quot;, &quot;properties&quot;: {&quot;Description&quot;: null, &quot;Name&quot;: &quot;F&quot;, &quot;__folium_color&quot;: &quot;#aec7e8&quot;, &quot;area_m2&quot;: 54883.97895969188, &quot;class&quot;: 16, &quot;name&quot;: &quot;Bare soil or sand&quot;}, &quot;type&quot;: &quot;Feature&quot;}, {&quot;bbox&quot;: [-79.41928695789147, 43.90069580511151, -79.41361133136132, 43.90536213734397], &quot;geometry&quot;: {&quot;coordinates&quot;: [[[-79.41822945785843, 43.90463647104009, 0.0], [-79.41822293550372, 43.9033179469115, 0.0], [-79.41828251866197, 43.90185051565831, 0.0], [-79.41908111859395, 43.90142708523286, 0.0], [-79.41928695789147, 43.90069580511151, 0.0], [-79.41743716490132, 43.90090991188469, 0.0], [-79.41595588330712, 43.90207297779781, 0.0], [-79.41573325722888, 43.90265419686738, 0.0], [-79.41439447234933, 43.90313003671256, 0.0], [-79.41361133136132, 43.90296934292195, 0.0], [-79.41437665484027, 43.90536213734397, 0.0], [-79.41822945785843, 43.90463647104009, 0.0]]], &quot;type&quot;: &quot;Polygon&quot;}, &quot;id&quot;: &quot;84&quot;, &quot;properties&quot;: {&quot;Description&quot;: null, &quot;Name&quot;: &quot;F&quot;, &quot;__folium_color&quot;: &quot;#aec7e8&quot;, &quot;area_m2&quot;: 121561.38981163649, &quot;class&quot;: 16, &quot;name&quot;: &quot;Bare soil or sand&quot;}, &quot;type&quot;: &quot;Feature&quot;}, {&quot;bbox&quot;: [-79.40799142993144, 43.91577212064121, -79.40434396022536, 43.91870374780076], &quot;geometry&quot;: {&quot;coordinates&quot;: [[[-79.40799142993144, 43.91829285319936, 0.0], [-79.4066493061089, 43.91577212064121, 0.0], [-79.40434396022536, 43.916339231806475, 0.0], [-79.40576271443577, 43.91870374780076, 0.0], [-79.40799142993144, 43.91829285319936, 0.0]]], &quot;type&quot;: &quot;Polygon&quot;}, &quot;id&quot;: &quot;85&quot;, &quot;properties&quot;: {&quot;Description&quot;: null, &quot;Name&quot;: &quot;F&quot;, &quot;__folium_color&quot;: &quot;#aec7e8&quot;, &quot;area_m2&quot;: 55419.524854175674, &quot;class&quot;: 16, &quot;name&quot;: &quot;Bare soil or sand&quot;}, &quot;type&quot;: &quot;Feature&quot;}, {&quot;bbox&quot;: [-79.503437975524, 43.86571179095493, -79.49825409997712, 43.86814436221887], &quot;geometry&quot;: {&quot;coordinates&quot;: [[[-79.503437975524, 43.86711615002177, 0.0], [-79.50285417481358, 43.86571179095493, 0.0], [-79.49825409997712, 43.86697349817648, 0.0], [-79.49891735221735, 43.86814436221887, 0.0], [-79.503437975524, 43.86711615002177, 0.0]]], &quot;type&quot;: &quot;Polygon&quot;}, &quot;id&quot;: &quot;87&quot;, &quot;properties&quot;: {&quot;Description&quot;: null, &quot;Name&quot;: &quot;D&quot;, &quot;__folium_color&quot;: &quot;#8c564b&quot;, &quot;area_m2&quot;: 58796.00160658415, &quot;class&quot;: 14, &quot;name&quot;: &quot;Low plants&quot;}, &quot;type&quot;: &quot;Feature&quot;}, {&quot;bbox&quot;: [-79.50919397274033, 43.88263633196582, -79.5060559649058, 43.886850814607], &quot;geometry&quot;: {&quot;coordinates&quot;: [[[-79.50846671694217, 43.88263633196582, 0.0], [-79.50919397274033, 43.88657472765696, 0.0], [-79.5066588383508, 43.886850814607, 0.0], [-79.5060559649058, 43.88501975160198, 0.0], [-79.50621842574357, 43.88471268121837, 0.0], [-79.50683625336819, 43.884470203035065, 0.0], [-79.50684752459242, 43.8837240184927, 0.0], [-79.50691529767988, 43.88278132736925, 0.0], [-79.50846671694217, 43.88263633196582, 0.0]]], &quot;type&quot;: &quot;Polygon&quot;}, &quot;id&quot;: &quot;88&quot;, &quot;properties&quot;: {&quot;Description&quot;: null, &quot;Name&quot;: &quot;F&quot;, &quot;__folium_color&quot;: &quot;#aec7e8&quot;, &quot;area_m2&quot;: 81664.40483283045, &quot;class&quot;: 16, &quot;name&quot;: &quot;Bare soil or sand&quot;}, &quot;type&quot;: &quot;Feature&quot;}, {&quot;bbox&quot;: [-79.63910634074651, 43.67976320803636, -79.63456594579341, 43.68270976524542], &quot;geometry&quot;: {&quot;coordinates&quot;: [[[-79.63910634074651, 43.68034198911204, 0.0], [-79.63537794337476, 43.68270976524542, 0.0], [-79.63456594579341, 43.68210075453572, 0.0], [-79.63831429722775, 43.67976320803636, 0.0], [-79.63910634074651, 43.68034198911204, 0.0]]], &quot;type&quot;: &quot;Polygon&quot;}, &quot;id&quot;: &quot;89&quot;, &quot;properties&quot;: {&quot;Description&quot;: null, &quot;Name&quot;: &quot;E&quot;, &quot;__folium_color&quot;: &quot;#1f77b4&quot;, &quot;area_m2&quot;: 36776.747389645956, &quot;class&quot;: 15, &quot;name&quot;: &quot;Bare rock or paved&quot;}, &quot;type&quot;: &quot;Feature&quot;}, {&quot;bbox&quot;: [-79.64853966636191, 43.59208653725593, -79.64599890548999, 43.59390779957107], &quot;geometry&quot;: {&quot;coordinates&quot;: [[[-79.64853966636191, 43.59273637208463, 0.0], [-79.6471889389552, 43.59390779957107, 0.0], [-79.64599890548999, 43.593196997998085, 0.0], [-79.6474358847733, 43.59208653725593, 0.0], [-79.64853966636191, 43.59273637208463, 0.0]]], &quot;type&quot;: &quot;Polygon&quot;}, &quot;id&quot;: &quot;90&quot;, &quot;properties&quot;: {&quot;Description&quot;: null, &quot;Name&quot;: &quot;E&quot;, &quot;__folium_color&quot;: &quot;#1f77b4&quot;, &quot;area_m2&quot;: 20237.8198747761, &quot;class&quot;: 15, &quot;name&quot;: &quot;Bare rock or paved&quot;}, &quot;type&quot;: &quot;Feature&quot;}, {&quot;bbox&quot;: [-79.64383237996942, 43.59417411337537, -79.64110583615351, 43.59596640933335], &quot;geometry&quot;: {&quot;coordinates&quot;: [[[-79.64383237996942, 43.59466212549613, 0.0], [-79.64231875907662, 43.59596640933335, 0.0], [-79.64113524517506, 43.59519570268952, 0.0], [-79.64110583615351, 43.59489943823416, 0.0], [-79.64197072770206, 43.594254209570046, 0.0], [-79.6431115082725, 43.59417411337537, 0.0], [-79.64383237996942, 43.59466212549613, 0.0]]], &quot;type&quot;: &quot;Polygon&quot;}, &quot;id&quot;: &quot;91&quot;, &quot;properties&quot;: {&quot;Description&quot;: null, &quot;Name&quot;: &quot;E&quot;, &quot;__folium_color&quot;: &quot;#1f77b4&quot;, &quot;area_m2&quot;: 25526.822325832196, &quot;class&quot;: 15, &quot;name&quot;: &quot;Bare rock or paved&quot;}, &quot;type&quot;: &quot;Feature&quot;}, {&quot;bbox&quot;: [-79.35771737892144, 43.56795846360088, -79.32412719837887, 43.581511195144834], &quot;geometry&quot;: {&quot;coordinates&quot;: [[[-79.35771737892144, 43.581511195144834, 0.0], [-79.35725494651483, 43.56819966347296, 0.0], [-79.32412719837887, 43.56795846360088, 0.0], [-79.32508009758926, 43.581157443395746, 0.0], [-79.35771737892144, 43.581511195144834, 0.0]]], &quot;type&quot;: &quot;Polygon&quot;}, &quot;id&quot;: &quot;92&quot;, &quot;properties&quot;: {&quot;Description&quot;: null, &quot;Name&quot;: &quot;G&quot;, &quot;__folium_color&quot;: &quot;#9edae5&quot;, &quot;area_m2&quot;: 3908439.37955131, &quot;class&quot;: 17, &quot;name&quot;: &quot;Water&quot;}, &quot;type&quot;: &quot;Feature&quot;}, {&quot;bbox&quot;: [-79.4974349322182, 43.59731505242006, -79.49265229274607, 43.6019842655165], &quot;geometry&quot;: {&quot;coordinates&quot;: [[[-79.49265229274607, 43.60143232849895, 0.0], [-79.49474150563856, 43.6019842655165, 0.0], [-79.49737006280695, 43.599921236973486, 0.0], [-79.4974349322182, 43.59731505242006, 0.0], [-79.49265229274607, 43.60143232849895, 0.0]]], &quot;type&quot;: &quot;Polygon&quot;}, &quot;id&quot;: &quot;93&quot;, &quot;properties&quot;: {&quot;Description&quot;: null, &quot;Name&quot;: &quot;G&quot;, &quot;__folium_color&quot;: &quot;#9edae5&quot;, &quot;area_m2&quot;: 80513.42811161844, &quot;class&quot;: 17, &quot;name&quot;: &quot;Water&quot;}, &quot;type&quot;: &quot;Feature&quot;}, {&quot;bbox&quot;: [-79.22556915363256, 43.679523637464435, -79.21402616842713, 43.68598836472247], &quot;geometry&quot;: {&quot;coordinates&quot;: [[[-79.22506587402678, 43.68598836472247, 0.0], [-79.22556915363256, 43.68012297416828, 0.0], [-79.21402616842713, 43.679523637464435, 0.0], [-79.21467030575539, 43.68564663093674, 0.0], [-79.22506587402678, 43.68598836472247, 0.0]]], &quot;type&quot;: &quot;Polygon&quot;}, &quot;id&quot;: &quot;94&quot;, &quot;properties&quot;: {&quot;Description&quot;: null, &quot;Name&quot;: &quot;G&quot;, &quot;__folium_color&quot;: &quot;#9edae5&quot;, &quot;area_m2&quot;: 588583.0233905313, &quot;class&quot;: 17, &quot;name&quot;: &quot;Water&quot;}, &quot;type&quot;: &quot;Feature&quot;}, {&quot;bbox&quot;: [-79.22698535556209, 43.71291241742827, -79.22504798884977, 43.71555172125477], &quot;geometry&quot;: {&quot;coordinates&quot;: [[[-79.22593122138142, 43.712918099078756, 0.0], [-79.22653039844327, 43.71291241742827, 0.0], [-79.22646909364357, 43.71306503758628, 0.0], [-79.22698535556209, 43.713769740027814, 0.0], [-79.22613417438339, 43.714790328801456, 0.0], [-79.22563829059291, 43.71496991217175, 0.0], [-79.22547728374288, 43.71500112276303, 0.0], [-79.22547652330492, 43.71555172125477, 0.0], [-79.22504798884977, 43.71554881115745, 0.0], [-79.22513222446787, 43.71496954409862, 0.0], [-79.22545146221498, 43.71447633095697, 0.0], [-79.22531423061383, 43.71422698688103, 0.0], [-79.22584841884856, 43.71414913214382, 0.0], [-79.22593122138142, 43.712918099078756, 0.0]]], &quot;type&quot;: &quot;Polygon&quot;}, &quot;id&quot;: &quot;95&quot;, &quot;properties&quot;: {&quot;Description&quot;: null, &quot;Name&quot;: &quot;F&quot;, &quot;__folium_color&quot;: &quot;#aec7e8&quot;, &quot;area_m2&quot;: 18234.86611422106, &quot;class&quot;: 16, &quot;name&quot;: &quot;Bare soil or sand&quot;}, &quot;type&quot;: &quot;Feature&quot;}, {&quot;bbox&quot;: [-79.32029050110961, 43.6469027388349, -79.31758815942906, 43.65078842118283], &quot;geometry&quot;: {&quot;coordinates&quot;: [[[-79.32026527706023, 43.6470676031948, 0.0], [-79.32029050110961, 43.64967872487459, 0.0], [-79.31984688199898, 43.65078842118283, 0.0], [-79.31758815942906, 43.649653957081554, 0.0], [-79.31846250123357, 43.64900758279246, 0.0], [-79.31913425726486, 43.647856298844346, 0.0], [-79.32000680307259, 43.6469027388349, 0.0], [-79.32026527706023, 43.6470676031948, 0.0]]], &quot;type&quot;: &quot;Polygon&quot;}, &quot;id&quot;: &quot;96&quot;, &quot;properties&quot;: {&quot;Description&quot;: null, &quot;Name&quot;: &quot;E&quot;, &quot;__folium_color&quot;: &quot;#1f77b4&quot;, &quot;area_m2&quot;: 47925.689732262756, &quot;class&quot;: 15, &quot;name&quot;: &quot;Bare rock or paved&quot;}, &quot;type&quot;: &quot;Feature&quot;}, {&quot;bbox&quot;: [-79.39008248215832, 43.65766576047182, -79.38183905666678, 43.661401249965586], &quot;geometry&quot;: {&quot;coordinates&quot;: [[[-79.38925973818404, 43.65766576047182, 0.0], [-79.38183905666678, 43.65907793808415, 0.0], [-79.38323161367974, 43.661401249965586, 0.0], [-79.39008248215832, 43.659891060495575, 0.0], [-79.38925973818404, 43.65766576047182, 0.0]]], &quot;type&quot;: &quot;Polygon&quot;}, &quot;id&quot;: &quot;97&quot;, &quot;properties&quot;: {&quot;Description&quot;: null, &quot;Name&quot;: &quot;1&quot;, &quot;__folium_color&quot;: &quot;#ffbb78&quot;, &quot;area_m2&quot;: 159889.6540681899, &quot;class&quot;: 1, &quot;name&quot;: &quot;Compact High-Rise&quot;}, &quot;type&quot;: &quot;Feature&quot;}, {&quot;bbox&quot;: [-79.37688778654987, 43.64529245519143, -79.37018771670547, 43.64934731840576], &quot;geometry&quot;: {&quot;coordinates&quot;: [[[-79.37688778654987, 43.64695312710047, 0.0], [-79.37219041926352, 43.64898765613373, 0.0], [-79.37140693765906, 43.64934731840576, 0.0], [-79.37018771670547, 43.6463633415655, 0.0], [-79.37626711854372, 43.64529245519143, 0.0], [-79.37688778654987, 43.64695312710047, 0.0]]], &quot;type&quot;: &quot;Polygon&quot;}, &quot;id&quot;: &quot;98&quot;, &quot;properties&quot;: {&quot;Description&quot;: null, &quot;Name&quot;: &quot;1&quot;, &quot;__folium_color&quot;: &quot;#ffbb78&quot;, &quot;area_m2&quot;: 134135.16632867686, &quot;class&quot;: 1, &quot;name&quot;: &quot;Compact High-Rise&quot;}, &quot;type&quot;: &quot;Feature&quot;}, {&quot;bbox&quot;: [-79.40027338372307, 43.703636738412506, -79.39330154956026, 43.70757295125297], &quot;geometry&quot;: {&quot;coordinates&quot;: [[[-79.39828395164454, 43.70680018222984, 0.0], [-79.3940964760804, 43.70757295125297, 0.0], [-79.39330154956026, 43.70543798337149, 0.0], [-79.40027338372307, 43.703636738412506, 0.0], [-79.40008023177622, 43.705802777444404, 0.0], [-79.39810341267479, 43.70572732665368, 0.0], [-79.39828395164454, 43.70680018222984, 0.0]]], &quot;type&quot;: &quot;Polygon&quot;}, &quot;id&quot;: &quot;99&quot;, &quot;properties&quot;: {&quot;Description&quot;: null, &quot;Name&quot;: &quot;1&quot;, &quot;__folium_color&quot;: &quot;#ffbb78&quot;, &quot;area_m2&quot;: 132561.38372248778, &quot;class&quot;: 1, &quot;name&quot;: &quot;Compact High-Rise&quot;}, &quot;type&quot;: &quot;Feature&quot;}, {&quot;bbox&quot;: [-79.41608542888575, 43.76216944340291, -79.40815305926381, 43.76961364352363], &quot;geometry&quot;: {&quot;coordinates&quot;: [[[-79.41558615309611, 43.76880249254001, 0.0], [-79.41088182359766, 43.76961364352363, 0.0], [-79.41035799456475, 43.767729795574155, 0.0], [-79.40942223722195, 43.76500868065637, 0.0], [-79.40863325623843, 43.76494151091578, 0.0], [-79.40815305926381, 43.7637549473784, 0.0], [-79.41373018225013, 43.76216944340291, 0.0], [-79.41608542888575, 43.76868580850565, 0.0], [-79.41558615309611, 43.76880249254001, 0.0]]], &quot;type&quot;: &quot;Polygon&quot;}, &quot;id&quot;: &quot;100&quot;, &quot;properties&quot;: {&quot;Description&quot;: null, &quot;Name&quot;: &quot;1&quot;, &quot;__folium_color&quot;: &quot;#ffbb78&quot;, &quot;area_m2&quot;: 312063.86483364936, &quot;class&quot;: 1, &quot;name&quot;: &quot;Compact High-Rise&quot;}, &quot;type&quot;: &quot;Feature&quot;}, {&quot;bbox&quot;: [-79.22098147601287, 43.76836378523898, -79.20750520879227, 43.77757756591908], &quot;geometry&quot;: {&quot;coordinates&quot;: [[[-79.22098147601287, 43.77605151399329, 0.0], [-79.21888384945125, 43.777566986304734, 0.0], [-79.21696147851733, 43.77757756591908, 0.0], [-79.21618725192357, 43.776943516173155, 0.0], [-79.21525142116741, 43.7745289279437, 0.0], [-79.21357336190253, 43.77511114786394, 0.0], [-79.21104104332619, 43.77618024704151, 0.0], [-79.20750520879227, 43.76836378523898, 0.0], [-79.21418121432883, 43.76848184483099, 0.0], [-79.21648849987935, 43.768693656467924, 0.0], [-79.21727476158972, 43.769233245668936, 0.0], [-79.21788315521522, 43.77010808015586, 0.0], [-79.21831269085824, 43.77072322358305, 0.0], [-79.21860025654986, 43.77109277414679, 0.0], [-79.22098147601287, 43.77605151399329, 0.0]]], &quot;type&quot;: &quot;Polygon&quot;}, &quot;id&quot;: &quot;101&quot;, &quot;properties&quot;: {&quot;Description&quot;: null, &quot;Name&quot;: &quot;6&quot;, &quot;__folium_color&quot;: &quot;#f7b6d2&quot;, &quot;area_m2&quot;: 680605.2209133431, &quot;class&quot;: 6, &quot;name&quot;: &quot;Open Low-Rise&quot;}, &quot;type&quot;: &quot;Feature&quot;}, {&quot;bbox&quot;: [-79.23115028875324, 43.8100124680185, -79.22915649062642, 43.81191371921611], &quot;geometry&quot;: {&quot;coordinates&quot;: [[[-79.23115028875324, 43.81080273513775, 0.0], [-79.2298781713699, 43.81191371921611, 0.0], [-79.2297032565496, 43.81190931900185, 0.0], [-79.22928897938054, 43.8111592492642, 0.0], [-79.22915649062642, 43.81066706289494, 0.0], [-79.22915845173655, 43.81052174351106, 0.0], [-79.23097757490234, 43.8100124680185, 0.0], [-79.23115028875324, 43.81080273513775, 0.0]]], &quot;type&quot;: &quot;Polygon&quot;}, &quot;id&quot;: &quot;102&quot;, &quot;properties&quot;: {&quot;Description&quot;: null, &quot;Name&quot;: &quot;D&quot;, &quot;__folium_color&quot;: &quot;#8c564b&quot;, &quot;area_m2&quot;: 20209.746131128803, &quot;class&quot;: 14, &quot;name&quot;: &quot;Low plants&quot;}, &quot;type&quot;: &quot;Feature&quot;}, {&quot;bbox&quot;: [-79.23665713719872, 43.80751594685924, -79.22676343988977, 43.81596738904301], &quot;geometry&quot;: {&quot;coordinates&quot;: [[[-79.23665713719872, 43.81409231403323, 0.0], [-79.22763904080723, 43.81596738904301, 0.0], [-79.22676343988977, 43.81400679315905, 0.0], [-79.22770154169795, 43.813223615745656, 0.0], [-79.22731654184743, 43.812352305032626, 0.0], [-79.2288041058146, 43.811929185749364, 0.0], [-79.23034434540445, 43.81225051283582, 0.0], [-79.23057069644985, 43.812172893120355, 0.0], [-79.23097538883275, 43.811746490840605, 0.0], [-79.2316441459308, 43.81122952811619, 0.0], [-79.2323998249637, 43.81093024077919, 0.0], [-79.23265479724388, 43.81051503693327, 0.0], [-79.23235786897047, 43.80982087695172, 0.0], [-79.23215497639411, 43.80973661228375, 0.0], [-79.2308807564835, 43.80989266092219, 0.0], [-79.23001790001922, 43.810028027007554, 0.0], [-79.22915674823648, 43.80947384650283, 0.0], [-79.22819990487784, 43.808999301037616, 0.0], [-79.22808485744616, 43.80847020123492, 0.0], [-79.22809644708578, 43.80807827445684, 0.0], [-79.22932663026234, 43.80751594685924, 0.0], [-79.2309676491732, 43.80758193001009, 0.0], [-79.23193246837468, 43.80778615748531, 0.0], [-79.23245021061653, 43.80795641936669, 0.0], [-79.23347222186888, 43.80812095585779, 0.0], [-79.23360165901356, 43.80816351982749, 0.0], [-79.23396971648323, 43.80834498145361, 0.0], [-79.2340415757154, 43.80844073858258, 0.0], [-79.23425675651059, 43.808741524472744, 0.0], [-79.23454579127193, 43.80907049300019, 0.0], [-79.23490589476994, 43.8095222469707, 0.0], [-79.234995224798, 43.80965883613121, 0.0], [-79.2352945713911, 43.81027190119175, 0.0], [-79.23548194807762, 43.81088323621154, 0.0], [-79.23567450209745, 43.811318878989184, 0.0], [-79.235807886465, 43.81186177505854, 0.0], [-79.23589443634337, 43.81209296690477, 0.0], [-79.2360635589751, 43.812690498050664, 0.0], [-79.23631012340508, 43.81319457802683, 0.0], [-79.2364872094638, 43.813521813270796, 0.0], [-79.23665713719872, 43.81409231403323, 0.0]]], &quot;type&quot;: &quot;Polygon&quot;}, &quot;id&quot;: &quot;103&quot;, &quot;properties&quot;: {&quot;Description&quot;: null, &quot;Name&quot;: &quot;6&quot;, &quot;__folium_color&quot;: &quot;#f7b6d2&quot;, &quot;area_m2&quot;: 422691.1709439994, &quot;class&quot;: 6, &quot;name&quot;: &quot;Open Low-Rise&quot;}, &quot;type&quot;: &quot;Feature&quot;}, {&quot;bbox&quot;: [-79.48858120285648, 43.63760480346861, -79.48545361355885, 43.64088034422113], &quot;geometry&quot;: {&quot;coordinates&quot;: [[[-79.4865622860665, 43.63845483051804, 0.0], [-79.48600866305576, 43.63850099598809, 0.0], [-79.48545361355885, 43.638017510851995, 0.0], [-79.48701085823761, 43.63760480346861, 0.0], [-79.48858120285648, 43.64078195566842, 0.0], [-79.48793048580485, 43.64088034422113, 0.0], [-79.48698867411721, 43.639075701546645, 0.0], [-79.48695668737716, 43.6388826857383, 0.0], [-79.48692550621736, 43.638657581852726, 0.0], [-79.48691413451843, 43.63852368660515, 0.0], [-79.4865622860665, 43.63845483051804, 0.0]]], &quot;type&quot;: &quot;Polygon&quot;}, &quot;id&quot;: &quot;104&quot;, &quot;properties&quot;: {&quot;Description&quot;: null, &quot;Name&quot;: &quot;5&quot;, &quot;__folium_color&quot;: &quot;#c7c7c7&quot;, &quot;area_m2&quot;: 24803.926880854375, &quot;class&quot;: 5, &quot;name&quot;: &quot;Open Mid-Rise&quot;}, &quot;type&quot;: &quot;Feature&quot;}, {&quot;bbox&quot;: [-79.52959527486135, 43.59735656022769, -79.52760504815171, 43.598398497635976], &quot;geometry&quot;: {&quot;coordinates&quot;: [[[-79.52959527486135, 43.5980151608284, 0.0], [-79.52791765146839, 43.598398497635976, 0.0], [-79.52760504815171, 43.59779475851246, 0.0], [-79.52890919233732, 43.59735656022769, 0.0], [-79.52924355102611, 43.59739080376441, 0.0], [-79.52959527486135, 43.5980151608284, 0.0]]], &quot;type&quot;: &quot;Polygon&quot;}, &quot;id&quot;: &quot;105&quot;, &quot;properties&quot;: {&quot;Description&quot;: null, &quot;Name&quot;: &quot;2&quot;, &quot;__folium_color&quot;: &quot;#98df8a&quot;, &quot;area_m2&quot;: 11159.40128772711, &quot;class&quot;: 2, &quot;name&quot;: &quot;Compact Mid-Rise&quot;}, &quot;type&quot;: &quot;Feature&quot;}, {&quot;bbox&quot;: [-79.21169594341437, 43.74302785868263, -79.20872030280536, 43.745621548399384], &quot;geometry&quot;: {&quot;coordinates&quot;: [[[-79.21169594341437, 43.74332593457361, 0.0], [-79.21122821291513, 43.74302785868263, 0.0], [-79.20872030280536, 43.74409680825622, 0.0], [-79.2092153867348, 43.745621548399384, 0.0], [-79.21036341532952, 43.74474198885632, 0.0], [-79.21169594341437, 43.74332593457361, 0.0]]], &quot;type&quot;: &quot;Polygon&quot;}, &quot;id&quot;: &quot;106&quot;, &quot;properties&quot;: {&quot;Description&quot;: null, &quot;Name&quot;: &quot;5&quot;, &quot;__folium_color&quot;: &quot;#c7c7c7&quot;, &quot;area_m2&quot;: 29614.363225460806, &quot;class&quot;: 5, &quot;name&quot;: &quot;Open Mid-Rise&quot;}, &quot;type&quot;: &quot;Feature&quot;}, {&quot;bbox&quot;: [-79.5303055107472, 43.5957610621831, -79.52850815827988, 43.5971211225992], &quot;geometry&quot;: {&quot;coordinates&quot;: [[[-79.5303055107472, 43.596805467584026, 0.0], [-79.5290084866832, 43.5971211225992, 0.0], [-79.52850815827988, 43.596089754280605, 0.0], [-79.5298913035565, 43.5957610621831, 0.0], [-79.5303055107472, 43.596805467584026, 0.0]]], &quot;type&quot;: &quot;Polygon&quot;}, &quot;id&quot;: &quot;107&quot;, &quot;properties&quot;: {&quot;Description&quot;: null, &quot;Name&quot;: &quot;2&quot;, &quot;__folium_color&quot;: &quot;#98df8a&quot;, &quot;area_m2&quot;: 13793.390996424854, &quot;class&quot;: 2, &quot;name&quot;: &quot;Compact Mid-Rise&quot;}, &quot;type&quot;: &quot;Feature&quot;}, {&quot;bbox&quot;: [-79.51134899019185, 43.601453057173885, -79.50977108255219, 43.60234683874557], &quot;geometry&quot;: {&quot;coordinates&quot;: [[[-79.51134899019185, 43.60206593464939, 0.0], [-79.50995244604415, 43.60234683874557, 0.0], [-79.50977108255219, 43.601769962259105, 0.0], [-79.51113182652455, 43.601453057173885, 0.0], [-79.51134899019185, 43.60206593464939, 0.0]]], &quot;type&quot;: &quot;Polygon&quot;}, &quot;id&quot;: &quot;108&quot;, &quot;properties&quot;: {&quot;Description&quot;: null, &quot;Name&quot;: &quot;2&quot;, &quot;__folium_color&quot;: &quot;#98df8a&quot;, &quot;area_m2&quot;: 7887.819054555103, &quot;class&quot;: 2, &quot;name&quot;: &quot;Compact Mid-Rise&quot;}, &quot;type&quot;: &quot;Feature&quot;}, {&quot;bbox&quot;: [-79.34353325865555, 43.737246648270826, -79.3410853156317, 43.738722865407965], &quot;geometry&quot;: {&quot;coordinates&quot;: [[[-79.34322384092984, 43.737246648270826, 0.0], [-79.34353325865555, 43.73830101615625, 0.0], [-79.34126357495107, 43.738722865407965, 0.0], [-79.3410853156317, 43.737601500299235, 0.0], [-79.34322384092984, 43.737246648270826, 0.0]]], &quot;type&quot;: &quot;Polygon&quot;}, &quot;id&quot;: &quot;109&quot;, &quot;properties&quot;: {&quot;Description&quot;: null, &quot;Name&quot;: &quot;5&quot;, &quot;__folium_color&quot;: &quot;#c7c7c7&quot;, &quot;area_m2&quot;: 22301.026241609492, &quot;class&quot;: 5, &quot;name&quot;: &quot;Open Mid-Rise&quot;}, &quot;type&quot;: &quot;Feature&quot;}, {&quot;bbox&quot;: [-79.23749483727532, 43.790193363453255, -79.23563531856222, 43.79176529796048], &quot;geometry&quot;: {&quot;coordinates&quot;: [[[-79.23707406979092, 43.790193363453255, 0.0], [-79.23563531856222, 43.79040123781699, 0.0], [-79.23615608216569, 43.79176529796048, 0.0], [-79.23749483727532, 43.79151181623646, 0.0], [-79.23707406979092, 43.790193363453255, 0.0]]], &quot;type&quot;: &quot;Polygon&quot;}, &quot;id&quot;: &quot;110&quot;, &quot;properties&quot;: {&quot;Description&quot;: null, &quot;Name&quot;: &quot;5&quot;, &quot;__folium_color&quot;: &quot;#c7c7c7&quot;, &quot;area_m2&quot;: 17623.28057249149, &quot;class&quot;: 5, &quot;name&quot;: &quot;Open Mid-Rise&quot;}, &quot;type&quot;: &quot;Feature&quot;}, {&quot;bbox&quot;: [-79.2358774069442, 43.790842829851094, -79.2341972935255, 43.79219031206854], &quot;geometry&quot;: {&quot;coordinates&quot;: [[[-79.2354717397428, 43.79090783098115, 0.0], [-79.23508384009145, 43.790999747291046, 0.0], [-79.23443295431855, 43.790842829851094, 0.0], [-79.2341972935255, 43.79219031206854, 0.0], [-79.2358774069442, 43.79181974004982, 0.0], [-79.2354717397428, 43.79090783098115, 0.0]]], &quot;type&quot;: &quot;Polygon&quot;}, &quot;id&quot;: &quot;111&quot;, &quot;properties&quot;: {&quot;Description&quot;: null, &quot;Name&quot;: &quot;5&quot;, &quot;__folium_color&quot;: &quot;#c7c7c7&quot;, &quot;area_m2&quot;: 13306.331404146462, &quot;class&quot;: 5, &quot;name&quot;: &quot;Open Mid-Rise&quot;}, &quot;type&quot;: &quot;Feature&quot;}, {&quot;bbox&quot;: [-79.2363994828392, 43.7920377503819, -79.234233211096, 43.79347004647065], &quot;geometry&quot;: {&quot;coordinates&quot;: [[[-79.23464618271557, 43.79347004647065, 0.0], [-79.234233211096, 43.79234751920964, 0.0], [-79.23604669802292, 43.7920377503819, 0.0], [-79.2363994828392, 43.79313976067819, 0.0], [-79.23464618271557, 43.79347004647065, 0.0]]], &quot;type&quot;: &quot;Polygon&quot;}, &quot;id&quot;: &quot;112&quot;, &quot;properties&quot;: {&quot;Description&quot;: null, &quot;Name&quot;: &quot;5&quot;, &quot;__folium_color&quot;: &quot;#c7c7c7&quot;, &quot;area_m2&quot;: 18828.526190903725, &quot;class&quot;: 5, &quot;name&quot;: &quot;Open Mid-Rise&quot;}, &quot;type&quot;: &quot;Feature&quot;}, {&quot;bbox&quot;: [-79.37708403458657, 43.66297577062723, -79.37571614264422, 43.663797536684704], &quot;geometry&quot;: {&quot;coordinates&quot;: [[[-79.37708403458657, 43.66359245022815, 0.0], [-79.37597292981008, 43.663797536684704, 0.0], [-79.37571614264422, 43.66314994066772, 0.0], [-79.37681354769339, 43.66297577062723, 0.0], [-79.37708403458657, 43.66359245022815, 0.0]]], &quot;type&quot;: &quot;Polygon&quot;}, &quot;id&quot;: &quot;113&quot;, &quot;properties&quot;: {&quot;Description&quot;: null, &quot;Name&quot;: &quot;2&quot;, &quot;__folium_color&quot;: &quot;#98df8a&quot;, &quot;area_m2&quot;: 6701.041707089872, &quot;class&quot;: 2, &quot;name&quot;: &quot;Compact Mid-Rise&quot;}, &quot;type&quot;: &quot;Feature&quot;}, {&quot;bbox&quot;: [-79.5777501443642, 43.91485354466627, -79.57473671666439, 43.91792739355873], &quot;geometry&quot;: {&quot;coordinates&quot;: [[[-79.5777501443642, 43.917710275155336, 0.0], [-79.57598038598107, 43.91792739355873, 0.0], [-79.57486112252317, 43.91609434860154, 0.0], [-79.57473671666439, 43.91542603889342, 0.0], [-79.57482917733721, 43.91491262914158, 0.0], [-79.57706628282828, 43.91485354466627, 0.0], [-79.5777501443642, 43.917710275155336, 0.0]]], &quot;type&quot;: &quot;Polygon&quot;}, &quot;id&quot;: &quot;114&quot;, &quot;properties&quot;: {&quot;Description&quot;: null, &quot;Name&quot;: &quot;9&quot;, &quot;__folium_color&quot;: &quot;#17becf&quot;, &quot;area_m2&quot;: 59792.209066474155, &quot;class&quot;: 9, &quot;name&quot;: &quot;Sparsely built&quot;}, &quot;type&quot;: &quot;Feature&quot;}, {&quot;bbox&quot;: [-79.48172365638561, 43.88267464858701, -79.47262709903416, 43.88800627306467], &quot;geometry&quot;: {&quot;coordinates&quot;: [[[-79.48144596256884, 43.887680557962916, 0.0], [-79.47932270404645, 43.88800627306467, 0.0], [-79.47830240060112, 43.887575526014444, 0.0], [-79.4776740117377, 43.887541872271, 0.0], [-79.47642432439034, 43.88719654077035, 0.0], [-79.47534583436274, 43.886992534413714, 0.0], [-79.47459707863645, 43.88688140971851, 0.0], [-79.47445858579292, 43.886828995440986, 0.0], [-79.47378424353145, 43.88654188104886, 0.0], [-79.47331796618734, 43.88632074954689, 0.0], [-79.4729063706663, 43.8860118580508, 0.0], [-79.47279245846163, 43.885681662049876, 0.0], [-79.47262709903416, 43.885312854300494, 0.0], [-79.47307068994007, 43.88505331662338, 0.0], [-79.47314154790382, 43.88501633973853, 0.0], [-79.47332401875474, 43.88471538728079, 0.0], [-79.47334536462157, 43.88456397707495, 0.0], [-79.47312984823276, 43.884106010753115, 0.0], [-79.47296513654115, 43.883711929480924, 0.0], [-79.47297449969021, 43.883345457254535, 0.0], [-79.47473490832402, 43.8828506795251, 0.0], [-79.4754709772461, 43.882772014687475, 0.0], [-79.47575310275096, 43.88267464858701, 0.0], [-79.47616759042519, 43.88286979694011, 0.0], [-79.47688401389233, 43.88356197967611, 0.0], [-79.47732605062282, 43.88404824071174, 0.0], [-79.47769756176402, 43.88455884290913, 0.0], [-79.47832077134338, 43.884794688122874, 0.0], [-79.47900412168066, 43.88472793969048, 0.0], [-79.4793959074941, 43.884442405127714, 0.0], [-79.4797288441981, 43.884408911924425, 0.0], [-79.48036041478134, 43.88431618377565, 0.0], [-79.48076195416893, 43.88433416516562, 0.0], [-79.48093346431531, 43.88446285854816, 0.0], [-79.48103476488792, 43.884603259549806, 0.0], [-79.48111506084673, 43.88488243538757, 0.0], [-79.48119343063722, 43.88523743327406, 0.0], [-79.48134426057722, 43.88549226397603, 0.0], [-79.48154076695519, 43.88601316854388, 0.0], [-79.48162331448167, 43.88620388489382, 0.0], [-79.48172365638561, 43.88638219636353, 0.0], [-79.48172301428774, 43.88640747040026, 0.0], [-79.48144596256884, 43.887680557962916, 0.0]]], &quot;type&quot;: &quot;Polygon&quot;}, &quot;id&quot;: &quot;115&quot;, &quot;properties&quot;: {&quot;Description&quot;: null, &quot;Name&quot;: &quot;9&quot;, &quot;__folium_color&quot;: &quot;#17becf&quot;, &quot;area_m2&quot;: 266078.8258964875, &quot;class&quot;: 9, &quot;name&quot;: &quot;Sparsely built&quot;}, &quot;type&quot;: &quot;Feature&quot;}, {&quot;bbox&quot;: [-79.49725338854763, 43.90143246476721, -79.48715824772314, 43.90544501953922], &quot;geometry&quot;: {&quot;coordinates&quot;: [[[-79.49725338854763, 43.904803582797456, 0.0], [-79.49660391296733, 43.90143246476721, 0.0], [-79.48715824772314, 43.90300170783365, 0.0], [-79.48771121369685, 43.9046397499237, 0.0], [-79.49412504368563, 43.90544501953922, 0.0], [-79.49725338854763, 43.904803582797456, 0.0]]], &quot;type&quot;: &quot;Polygon&quot;}, &quot;id&quot;: &quot;116&quot;, &quot;properties&quot;: {&quot;Description&quot;: null, &quot;Name&quot;: &quot;A&quot;, &quot;__folium_color&quot;: &quot;#d62728&quot;, &quot;area_m2&quot;: 245512.2037516755, &quot;class&quot;: 11, &quot;name&quot;: &quot;Dense trees&quot;}, &quot;type&quot;: &quot;Feature&quot;}, {&quot;bbox&quot;: [-79.60848175104789, 43.8735754828292, -79.6040867116383, 43.88085787586283], &quot;geometry&quot;: {&quot;coordinates&quot;: [[[-79.60664555919416, 43.8735754828292, 0.0], [-79.6044437789379, 43.873946813334435, 0.0], [-79.60465021078836, 43.87446130873285, 0.0], [-79.60441421446856, 43.874464747084296, 0.0], [-79.60467257249371, 43.87612391747904, 0.0], [-79.6040867116383, 43.87614204399684, 0.0], [-79.6049657746631, 43.87816275219757, 0.0], [-79.60615765870669, 43.87801296118366, 0.0], [-79.60724481399127, 43.88085787586283, 0.0], [-79.60848175104789, 43.88065172392244, 0.0], [-79.60664555919416, 43.8735754828292, 0.0]]], &quot;type&quot;: &quot;Polygon&quot;}, &quot;id&quot;: &quot;117&quot;, &quot;properties&quot;: {&quot;Description&quot;: null, &quot;Name&quot;: &quot;A&quot;, &quot;__folium_color&quot;: &quot;#d62728&quot;, &quot;area_m2&quot;: 140436.73391073782, &quot;class&quot;: 11, &quot;name&quot;: &quot;Dense trees&quot;}, &quot;type&quot;: &quot;Feature&quot;}, {&quot;bbox&quot;: [-79.34241343355387, 43.732329248377006, -79.33994913828228, 43.73401675738937], &quot;geometry&quot;: {&quot;coordinates&quot;: [[[-79.34241343355387, 43.73356831413471, 0.0], [-79.3402546657342, 43.73401675738937, 0.0], [-79.33994913828228, 43.73281597243755, 0.0], [-79.34212437228955, 43.732329248377006, 0.0], [-79.34241343355387, 43.73356831413471, 0.0]]], &quot;type&quot;: &quot;Polygon&quot;}, &quot;id&quot;: &quot;118&quot;, &quot;properties&quot;: {&quot;Description&quot;: null, &quot;Name&quot;: &quot;5&quot;, &quot;__folium_color&quot;: &quot;#c7c7c7&quot;, &quot;area_m2&quot;: 24898.82925577646, &quot;class&quot;: 5, &quot;name&quot;: &quot;Open Mid-Rise&quot;}, &quot;type&quot;: &quot;Feature&quot;}, {&quot;bbox&quot;: [-79.38250338749368, 43.66433310462213, -79.3806029626656, 43.66513215815733], &quot;geometry&quot;: {&quot;coordinates&quot;: [[[-79.38250338749368, 43.664761190993815, 0.0], [-79.3808007373348, 43.66513215815733, 0.0], [-79.3806029626656, 43.664678282168836, 0.0], [-79.38236918680533, 43.66433310462213, 0.0], [-79.38250338749368, 43.664761190993815, 0.0]]], &quot;type&quot;: &quot;Polygon&quot;}, &quot;id&quot;: &quot;119&quot;, &quot;properties&quot;: {&quot;Description&quot;: null, &quot;Name&quot;: &quot;2&quot;, &quot;__folium_color&quot;: &quot;#98df8a&quot;, &quot;area_m2&quot;: 7383.966382684332, &quot;class&quot;: 2, &quot;name&quot;: &quot;Compact Mid-Rise&quot;}, &quot;type&quot;: &quot;Feature&quot;}, {&quot;bbox&quot;: [-79.47538338095579, 43.696590821376354, -79.47194034439096, 43.698135410297475], &quot;geometry&quot;: {&quot;coordinates&quot;: [[[-79.47538338095579, 43.69775019679535, 0.0], [-79.47278440042228, 43.698135410297475, 0.0], [-79.47215669826366, 43.69811320705843, 0.0], [-79.47194034439096, 43.69733678457747, 0.0], [-79.47524522929257, 43.696590821376354, 0.0], [-79.47538338095579, 43.69775019679535, 0.0]]], &quot;type&quot;: &quot;Polygon&quot;}, &quot;id&quot;: &quot;120&quot;, &quot;properties&quot;: {&quot;Description&quot;: null, &quot;Name&quot;: &quot;2&quot;, &quot;__folium_color&quot;: &quot;#98df8a&quot;, &quot;area_m2&quot;: 30519.612874867686, &quot;class&quot;: 2, &quot;name&quot;: &quot;Compact Mid-Rise&quot;}, &quot;type&quot;: &quot;Feature&quot;}, {&quot;bbox&quot;: [-79.44719203299539, 43.920402038568994, -79.43445940992939, 43.92723553697265], &quot;geometry&quot;: {&quot;coordinates&quot;: [[[-79.43742585644891, 43.92723553697265, 0.0], [-79.43445940992939, 43.92230278250012, 0.0], [-79.44152221677396, 43.920402038568994, 0.0], [-79.44719203299539, 43.92295691874794, 0.0], [-79.44632130665231, 43.92482861925818, 0.0], [-79.44474648115144, 43.92552773961787, 0.0], [-79.44482935264831, 43.927045811013286, 0.0], [-79.43742585644891, 43.92723553697265, 0.0]]], &quot;type&quot;: &quot;Polygon&quot;}, &quot;id&quot;: &quot;121&quot;, &quot;properties&quot;: {&quot;Description&quot;: null, &quot;Name&quot;: &quot;A&quot;, &quot;__folium_color&quot;: &quot;#d62728&quot;, &quot;area_m2&quot;: 525912.558441611, &quot;class&quot;: 11, &quot;name&quot;: &quot;Dense trees&quot;}, &quot;type&quot;: &quot;Feature&quot;}, {&quot;bbox&quot;: [-79.31674005136472, 43.90004726046389, -79.30366994866388, 43.90619658398713], &quot;geometry&quot;: {&quot;coordinates&quot;: [[[-79.31674005136472, 43.90554168428923, 0.0], [-79.31357438943547, 43.90619658398713, 0.0], [-79.30708007838523, 43.90276325322356, 0.0], [-79.30427001574888, 43.90259516518861, 0.0], [-79.30366994866388, 43.90156231875555, 0.0], [-79.31318857511528, 43.90004726046389, 0.0], [-79.31674005136472, 43.90554168428923, 0.0]]], &quot;type&quot;: &quot;Polygon&quot;}, &quot;id&quot;: &quot;122&quot;, &quot;properties&quot;: {&quot;Description&quot;: null, &quot;Name&quot;: &quot;F&quot;, &quot;__folium_color&quot;: &quot;#aec7e8&quot;, &quot;area_m2&quot;: 346791.92635613796, &quot;class&quot;: 16, &quot;name&quot;: &quot;Bare soil or sand&quot;}, &quot;type&quot;: &quot;Feature&quot;}, {&quot;bbox&quot;: [-79.64490809376255, 43.775290668410584, -79.63901490363577, 43.78047457654731], &quot;geometry&quot;: {&quot;coordinates&quot;: [[[-79.64490809376255, 43.77976683803545, 0.0], [-79.64063482822134, 43.78047457654731, 0.0], [-79.63901490363577, 43.77573999769086, 0.0], [-79.6437530576319, 43.775290668410584, 0.0], [-79.64394179114561, 43.7762031000471, 0.0], [-79.64467238059648, 43.777071392970086, 0.0], [-79.64473329899303, 43.77746400352304, 0.0], [-79.64427323020233, 43.77774930185586, 0.0], [-79.64490809376255, 43.77976683803545, 0.0]]], &quot;type&quot;: &quot;Polygon&quot;}, &quot;id&quot;: &quot;123&quot;, &quot;properties&quot;: {&quot;Description&quot;: null, &quot;Name&quot;: &quot;8&quot;, &quot;__folium_color&quot;: &quot;#9467bd&quot;, &quot;area_m2&quot;: 195005.4055195884, &quot;class&quot;: 8, &quot;name&quot;: &quot;Large low-rise&quot;}, &quot;type&quot;: &quot;Feature&quot;}, {&quot;bbox&quot;: [-79.63389416087348, 43.771353472523764, -79.62605483262874, 43.776027191723145], &quot;geometry&quot;: {&quot;coordinates&quot;: [[[-79.63339849374836, 43.77491447543477, 0.0], [-79.62709238581711, 43.776027191723145, 0.0], [-79.62605483262874, 43.77257621940099, 0.0], [-79.6316129592644, 43.771353472523764, 0.0], [-79.63344598830331, 43.772829186921015, 0.0], [-79.63389416087348, 43.773833228481585, 0.0], [-79.63339849374836, 43.77491447543477, 0.0]]], &quot;type&quot;: &quot;Polygon&quot;}, &quot;id&quot;: &quot;124&quot;, &quot;properties&quot;: {&quot;Description&quot;: null, &quot;Name&quot;: &quot;8&quot;, &quot;__folium_color&quot;: &quot;#9467bd&quot;, &quot;area_m2&quot;: 222481.4507080294, &quot;class&quot;: 8, &quot;name&quot;: &quot;Large low-rise&quot;}, &quot;type&quot;: &quot;Feature&quot;}, {&quot;bbox&quot;: [-79.63247547503704, 43.762683096952266, -79.62153730848222, 43.77200616119571], &quot;geometry&quot;: {&quot;coordinates&quot;: [[[-79.63247547503704, 43.7648913156463, 0.0], [-79.63193305576333, 43.76879106801305, 0.0], [-79.63043206816549, 43.77035328395323, 0.0], [-79.62280559735736, 43.77200616119571, 0.0], [-79.62153730848222, 43.76950048203976, 0.0], [-79.62280602828544, 43.768946909078934, 0.0], [-79.62259345509737, 43.76680792260321, 0.0], [-79.62615557407192, 43.76589004403046, 0.0], [-79.62478849449383, 43.76388887364598, 0.0], [-79.6317583075521, 43.762683096952266, 0.0], [-79.63247547503704, 43.7648913156463, 0.0]]], &quot;type&quot;: &quot;Polygon&quot;}, &quot;id&quot;: &quot;125&quot;, &quot;properties&quot;: {&quot;Description&quot;: null, &quot;Name&quot;: &quot;8&quot;, &quot;__folium_color&quot;: &quot;#9467bd&quot;, &quot;area_m2&quot;: 584799.373038468, &quot;class&quot;: 8, &quot;name&quot;: &quot;Large low-rise&quot;}, &quot;type&quot;: &quot;Feature&quot;}, {&quot;bbox&quot;: [-79.64270417980144, 43.75451412535244, -79.63425447475836, 43.75992308822374], &quot;geometry&quot;: {&quot;coordinates&quot;: [[[-79.64270417980144, 43.758414358789814, 0.0], [-79.63564098886937, 43.75992308822374, 0.0], [-79.63425447475836, 43.756468014104414, 0.0], [-79.64108320075192, 43.75451412535244, 0.0], [-79.64270417980144, 43.758414358789814, 0.0]]], &quot;type&quot;: &quot;Polygon&quot;}, &quot;id&quot;: &quot;126&quot;, &quot;properties&quot;: {&quot;Description&quot;: null, &quot;Name&quot;: &quot;8&quot;, &quot;__folium_color&quot;: &quot;#9467bd&quot;, &quot;area_m2&quot;: 251736.59840758325, &quot;class&quot;: 8, &quot;name&quot;: &quot;Large low-rise&quot;}, &quot;type&quot;: &quot;Feature&quot;}, {&quot;bbox&quot;: [-79.65480334717465, 43.74819158311323, -79.644731889466, 43.75468891904538], &quot;geometry&quot;: {&quot;coordinates&quot;: [[[-79.65480334717465, 43.75319738694834, 0.0], [-79.64732974134265, 43.74819158311323, 0.0], [-79.644731889466, 43.74971572155598, 0.0], [-79.65264220598301, 43.75468891904538, 0.0], [-79.65480334717465, 43.75319738694834, 0.0]]], &quot;type&quot;: &quot;Polygon&quot;}, &quot;id&quot;: &quot;127&quot;, &quot;properties&quot;: {&quot;Description&quot;: null, &quot;Name&quot;: &quot;A&quot;, &quot;__folium_color&quot;: &quot;#d62728&quot;, &quot;area_m2&quot;: 209924.2396413133, &quot;class&quot;: 11, &quot;name&quot;: &quot;Dense trees&quot;}, &quot;type&quot;: &quot;Feature&quot;}, {&quot;bbox&quot;: [-79.65200675863277, 43.755329437530825, -79.64577330138245, 43.760583367051204], &quot;geometry&quot;: {&quot;coordinates&quot;: [[[-79.65067885055932, 43.755329437530825, 0.0], [-79.64577330138245, 43.75901964212169, 0.0], [-79.64811886845335, 43.760583367051204, 0.0], [-79.64938616829878, 43.75891070019265, 0.0], [-79.65200675863277, 43.75832852539739, 0.0], [-79.65173524858844, 43.756827293599656, 0.0], [-79.65146293784551, 43.75652700300175, 0.0], [-79.65067885055932, 43.755329437530825, 0.0]]], &quot;type&quot;: &quot;Polygon&quot;}, &quot;id&quot;: &quot;128&quot;, &quot;properties&quot;: {&quot;Description&quot;: null, &quot;Name&quot;: &quot;D&quot;, &quot;__folium_color&quot;: &quot;#8c564b&quot;, &quot;area_m2&quot;: 127096.66845607318, &quot;class&quot;: 14, &quot;name&quot;: &quot;Low plants&quot;}, &quot;type&quot;: &quot;Feature&quot;}, {&quot;bbox&quot;: [-79.64062828925987, 43.76679640548453, -79.6343875624561, 43.76932838524212], &quot;geometry&quot;: {&quot;coordinates&quot;: [[[-79.64062828925987, 43.768250114918054, 0.0], [-79.64010301237641, 43.76679640548453, 0.0], [-79.6343875624561, 43.767676364785565, 0.0], [-79.63510880995382, 43.76932838524212, 0.0], [-79.64062828925987, 43.768250114918054, 0.0]]], &quot;type&quot;: &quot;Polygon&quot;}, &quot;id&quot;: &quot;129&quot;, &quot;properties&quot;: {&quot;Description&quot;: null, &quot;Name&quot;: &quot;D&quot;, &quot;__folium_color&quot;: &quot;#8c564b&quot;, &quot;area_m2&quot;: 83456.17097640282, &quot;class&quot;: 14, &quot;name&quot;: &quot;Low plants&quot;}, &quot;type&quot;: &quot;Feature&quot;}, {&quot;bbox&quot;: [-79.21426890996224, 43.86916506894556, -79.21225835845473, 43.87086710396612], &quot;geometry&quot;: {&quot;coordinates&quot;: [[[-79.21426890996224, 43.87056436363677, 0.0], [-79.21382192897448, 43.86916506894556, 0.0], [-79.21225835845473, 43.86948040129158, 0.0], [-79.21260639669592, 43.87086710396612, 0.0], [-79.21426890996224, 43.87056436363677, 0.0]]], &quot;type&quot;: &quot;Polygon&quot;}, &quot;id&quot;: &quot;130&quot;, &quot;properties&quot;: {&quot;Description&quot;: null, &quot;Name&quot;: &quot;2&quot;, &quot;__folium_color&quot;: &quot;#98df8a&quot;, &quot;area_m2&quot;: 21158.85279882948, &quot;class&quot;: 2, &quot;name&quot;: &quot;Compact Mid-Rise&quot;}, &quot;type&quot;: &quot;Feature&quot;}, {&quot;bbox&quot;: [-79.34497742398935, 43.73700859875076, -79.34364886524307, 43.73824197438869], &quot;geometry&quot;: {&quot;coordinates&quot;: [[[-79.34391342356957, 43.73824197438869, 0.0], [-79.34364886524307, 43.737176122689576, 0.0], [-79.34465845276833, 43.73700859875076, 0.0], [-79.34497742398935, 43.7380877511448, 0.0], [-79.34391342356957, 43.73824197438869, 0.0]]], &quot;type&quot;: &quot;Polygon&quot;}, &quot;id&quot;: &quot;131&quot;, &quot;properties&quot;: {&quot;Description&quot;: null, &quot;Name&quot;: &quot;5&quot;, &quot;__folium_color&quot;: &quot;#c7c7c7&quot;, &quot;area_m2&quot;: 10369.159674902032, &quot;class&quot;: 5, &quot;name&quot;: &quot;Open Mid-Rise&quot;}, &quot;type&quot;: &quot;Feature&quot;}, {&quot;bbox&quot;: [-79.34316895511698, 43.734868704533, -79.3405652777165, 43.73714273183393], &quot;geometry&quot;: {&quot;coordinates&quot;: [[[-79.3405652777165, 43.73523752557854, 0.0], [-79.34271680122447, 43.734868704533, 0.0], [-79.34316895511698, 43.73680686946406, 0.0], [-79.34105003796577, 43.73714273183393, 0.0], [-79.3405652777165, 43.73523752557854, 0.0]]], &quot;type&quot;: &quot;Polygon&quot;}, &quot;id&quot;: &quot;132&quot;, &quot;properties&quot;: {&quot;Description&quot;: null, &quot;Name&quot;: &quot;5&quot;, &quot;__folium_color&quot;: &quot;#c7c7c7&quot;, &quot;area_m2&quot;: 38191.10646641927, &quot;class&quot;: 5, &quot;name&quot;: &quot;Open Mid-Rise&quot;}, &quot;type&quot;: &quot;Feature&quot;}, {&quot;bbox&quot;: [-79.34700852802925, 43.737860140267784, -79.34527351156001, 43.740193031184326], &quot;geometry&quot;: {&quot;coordinates&quot;: [[[-79.34544920427791, 43.74010026446286, 0.0], [-79.34527351156001, 43.738640349537505, 0.0], [-79.34586030788897, 43.737860140267784, 0.0], [-79.34695411733831, 43.73790484008148, 0.0], [-79.34700852802925, 43.737933848253036, 0.0], [-79.34685173277236, 43.73887969644716, 0.0], [-79.34610070973352, 43.740193031184326, 0.0], [-79.34544920427791, 43.74010026446286, 0.0]]], &quot;type&quot;: &quot;Polygon&quot;}, &quot;id&quot;: &quot;133&quot;, &quot;properties&quot;: {&quot;Description&quot;: null, &quot;Name&quot;: &quot;5&quot;, &quot;__folium_color&quot;: &quot;#c7c7c7&quot;, &quot;area_m2&quot;: 25437.038051398275, &quot;class&quot;: 5, &quot;name&quot;: &quot;Open Mid-Rise&quot;}, &quot;type&quot;: &quot;Feature&quot;}, {&quot;bbox&quot;: [-79.5215014336496, 43.6615253982986, -79.51989349693655, 43.663274695010706], &quot;geometry&quot;: {&quot;coordinates&quot;: [[[-79.52083848886484, 43.6615253982986, 0.0], [-79.51989349693655, 43.66284143088459, 0.0], [-79.5207697001228, 43.663274695010706, 0.0], [-79.5213872637572, 43.66284513977794, 0.0], [-79.5215014336496, 43.66222780068584, 0.0], [-79.5214432265045, 43.66161760748646, 0.0], [-79.52083848886484, 43.6615253982986, 0.0]]], &quot;type&quot;: &quot;Polygon&quot;}, &quot;id&quot;: &quot;134&quot;, &quot;properties&quot;: {&quot;Description&quot;: null, &quot;Name&quot;: &quot;5&quot;, &quot;__folium_color&quot;: &quot;#c7c7c7&quot;, &quot;area_m2&quot;: 15525.40908370045, &quot;class&quot;: 5, &quot;name&quot;: &quot;Open Mid-Rise&quot;}, &quot;type&quot;: &quot;Feature&quot;}, {&quot;bbox&quot;: [-79.50902413933716, 43.69240234564254, -79.50552955935446, 43.6935431766556], &quot;geometry&quot;: {&quot;coordinates&quot;: [[[-79.50552955935446, 43.69311392232817, 0.0], [-79.50883576522287, 43.69240234564254, 0.0], [-79.50902413933716, 43.69288297701357, 0.0], [-79.50573210685369, 43.6935431766556, 0.0], [-79.50552955935446, 43.69311392232817, 0.0]]], &quot;type&quot;: &quot;Polygon&quot;}, &quot;id&quot;: &quot;135&quot;, &quot;properties&quot;: {&quot;Description&quot;: null, &quot;Name&quot;: &quot;2&quot;, &quot;__folium_color&quot;: &quot;#98df8a&quot;, &quot;area_m2&quot;: 14638.340958928955, &quot;class&quot;: 2, &quot;name&quot;: &quot;Compact Mid-Rise&quot;}, &quot;type&quot;: &quot;Feature&quot;}, {&quot;bbox&quot;: [-79.56584923714621, 43.65071302090934, -79.56264998158329, 43.65398414534674], &quot;geometry&quot;: {&quot;coordinates&quot;: [[[-79.56396613393899, 43.65398414534674, 0.0], [-79.56264998158329, 43.65101107813144, 0.0], [-79.56472866074863, 43.65071302090934, 0.0], [-79.56584923714621, 43.65365335367084, 0.0], [-79.56396613393899, 43.65398414534674, 0.0]]], &quot;type&quot;: &quot;Polygon&quot;}, &quot;id&quot;: &quot;136&quot;, &quot;properties&quot;: {&quot;Description&quot;: null, &quot;Name&quot;: &quot;4&quot;, &quot;__folium_color&quot;: &quot;#c49c94&quot;, &quot;area_m2&quot;: 55904.08799983459, &quot;class&quot;: 4, &quot;name&quot;: &quot;Open High-Rise&quot;}, &quot;type&quot;: &quot;Feature&quot;}, {&quot;bbox&quot;: [-79.50515229776661, 43.76036698088685, -79.5003980340718, 43.76366852881416], &quot;geometry&quot;: {&quot;coordinates&quot;: [[[-79.50126432033179, 43.76366852881416, 0.0], [-79.5003980340718, 43.76133220644385, 0.0], [-79.5039696209162, 43.76036698088685, 0.0], [-79.50515229776661, 43.762885206884434, 0.0], [-79.50126432033179, 43.76366852881416, 0.0]]], &quot;type&quot;: &quot;Polygon&quot;}, &quot;id&quot;: &quot;137&quot;, &quot;properties&quot;: {&quot;Description&quot;: null, &quot;Name&quot;: &quot;4&quot;, &quot;__folium_color&quot;: &quot;#c49c94&quot;, &quot;area_m2&quot;: 88973.75452580233, &quot;class&quot;: 4, &quot;name&quot;: &quot;Open High-Rise&quot;}, &quot;type&quot;: &quot;Feature&quot;}, {&quot;bbox&quot;: [-79.49796798213856, 43.763829642608904, -79.49311189578002, 43.76537198437822], &quot;geometry&quot;: {&quot;coordinates&quot;: [[[-79.49796798213856, 43.764276577189186, 0.0], [-79.49778102548225, 43.763829642608904, 0.0], [-79.49311189578002, 43.76490329149357, 0.0], [-79.49339263006115, 43.76537198437822, 0.0], [-79.49796798213856, 43.764276577189186, 0.0]]], &quot;type&quot;: &quot;Polygon&quot;}, &quot;id&quot;: &quot;138&quot;, &quot;properties&quot;: {&quot;Description&quot;: null, &quot;Name&quot;: &quot;4&quot;, &quot;__folium_color&quot;: &quot;#c49c94&quot;, &quot;area_m2&quot;: 21191.93167276999, &quot;class&quot;: 4, &quot;name&quot;: &quot;Open High-Rise&quot;}, &quot;type&quot;: &quot;Feature&quot;}, {&quot;bbox&quot;: [-79.39261326667753, 43.78737013748441, -79.39005587794658, 43.789415841278384], &quot;geometry&quot;: {&quot;coordinates&quot;: [[[-79.39013342010276, 43.789415841278384, 0.0], [-79.39005587794658, 43.78823260140244, 0.0], [-79.39159335808445, 43.78738319785167, 0.0], [-79.39227297026325, 43.78737013748441, 0.0], [-79.39261326667753, 43.78894735100437, 0.0], [-79.39013342010276, 43.789415841278384, 0.0]]], &quot;type&quot;: &quot;Polygon&quot;}, &quot;id&quot;: &quot;139&quot;, &quot;properties&quot;: {&quot;Description&quot;: null, &quot;Name&quot;: &quot;4&quot;, &quot;__folium_color&quot;: &quot;#c49c94&quot;, &quot;area_m2&quot;: 32710.78547073241, &quot;class&quot;: 4, &quot;name&quot;: &quot;Open High-Rise&quot;}, &quot;type&quot;: &quot;Feature&quot;}, {&quot;bbox&quot;: [-79.43881307400567, 43.85693341908464, -79.43429225402016, 43.86004261473828], &quot;geometry&quot;: {&quot;coordinates&quot;: [[[-79.43489417278107, 43.86004261473828, 0.0], [-79.43429225402016, 43.85734097428127, 0.0], [-79.43684045075466, 43.85693341908464, 0.0], [-79.43723438890927, 43.85794537424708, 0.0], [-79.43825476976143, 43.85779893957286, 0.0], [-79.43881307400567, 43.859250051796366, 0.0], [-79.43489417278107, 43.86004261473828, 0.0]]], &quot;type&quot;: &quot;Polygon&quot;}, &quot;id&quot;: &quot;140&quot;, &quot;properties&quot;: {&quot;Description&quot;: null, &quot;Name&quot;: &quot;4&quot;, &quot;__folium_color&quot;: &quot;#c49c94&quot;, &quot;area_m2&quot;: 81481.32021742608, &quot;class&quot;: 4, &quot;name&quot;: &quot;Open High-Rise&quot;}, &quot;type&quot;: &quot;Feature&quot;}, {&quot;bbox&quot;: [-79.42892227849967, 43.871554585633405, -79.42590761837826, 43.8755601079259], &quot;geometry&quot;: {&quot;coordinates&quot;: [[[-79.42604743759313, 43.87221555169282, 0.0], [-79.42754965944575, 43.8755601079259, 0.0], [-79.42892227849967, 43.8751144236427, 0.0], [-79.42744858746957, 43.871554585633405, 0.0], [-79.42590761837826, 43.8720089943691, 0.0], [-79.42604743759313, 43.87221555169282, 0.0]]], &quot;type&quot;: &quot;Polygon&quot;}, &quot;id&quot;: &quot;141&quot;, &quot;properties&quot;: {&quot;Description&quot;: null, &quot;Name&quot;: &quot;4&quot;, &quot;__folium_color&quot;: &quot;#c49c94&quot;, &quot;area_m2&quot;: 51794.53379015863, &quot;class&quot;: 4, &quot;name&quot;: &quot;Open High-Rise&quot;}, &quot;type&quot;: &quot;Feature&quot;}, {&quot;bbox&quot;: [-79.3920846148426, 43.79110097009311, -79.38994032663679, 43.7929297192031], &quot;geometry&quot;: {&quot;coordinates&quot;: [[[-79.38994032663679, 43.791372995931376, 0.0], [-79.39063250632563, 43.7929297192031, 0.0], [-79.3920846148426, 43.79264755588563, 0.0], [-79.39150924989251, 43.79110097009311, 0.0], [-79.38994032663679, 43.791372995931376, 0.0]]], &quot;type&quot;: &quot;Polygon&quot;}, &quot;id&quot;: &quot;142&quot;, &quot;properties&quot;: {&quot;Description&quot;: null, &quot;Name&quot;: &quot;4&quot;, &quot;__folium_color&quot;: &quot;#c49c94&quot;, &quot;area_m2&quot;: 22521.470117692035, &quot;class&quot;: 4, &quot;name&quot;: &quot;Open High-Rise&quot;}, &quot;type&quot;: &quot;Feature&quot;}, {&quot;bbox&quot;: [-79.57673828620705, 43.91103394575175, -79.57428528647321, 43.91378100081577], &quot;geometry&quot;: {&quot;coordinates&quot;: [[[-79.57673828620705, 43.91347245889907, 0.0], [-79.57474591032789, 43.91378100081577, 0.0], [-79.57428528647321, 43.91165902129872, 0.0], [-79.57431519094082, 43.91124629422122, 0.0], [-79.5758841448977, 43.91103394575175, 0.0], [-79.57673828620705, 43.91347245889907, 0.0]]], &quot;type&quot;: &quot;Polygon&quot;}, &quot;id&quot;: &quot;143&quot;, &quot;properties&quot;: {&quot;Description&quot;: null, &quot;Name&quot;: &quot;9&quot;, &quot;__folium_color&quot;: &quot;#17becf&quot;, &quot;area_m2&quot;: 42122.242676349706, &quot;class&quot;: 9, &quot;name&quot;: &quot;Sparsely built&quot;}, &quot;type&quot;: &quot;Feature&quot;}, {&quot;bbox&quot;: [-79.5754819737413, 43.92706986035994, -79.57003811310959, 43.931638379165335], &quot;geometry&quot;: {&quot;coordinates&quot;: [[[-79.5754819737413, 43.930787208280194, 0.0], [-79.5736423643032, 43.92706986035994, 0.0], [-79.57003811310959, 43.92803136269555, 0.0], [-79.57189547208486, 43.931638379165335, 0.0], [-79.5754819737413, 43.930787208280194, 0.0]]], &quot;type&quot;: &quot;Polygon&quot;}, &quot;id&quot;: &quot;144&quot;, &quot;properties&quot;: {&quot;Description&quot;: null, &quot;Name&quot;: &quot;D&quot;, &quot;__folium_color&quot;: &quot;#8c564b&quot;, &quot;area_m2&quot;: 132364.62610125693, &quot;class&quot;: 14, &quot;name&quot;: &quot;Low plants&quot;}, &quot;type&quot;: &quot;Feature&quot;}, {&quot;bbox&quot;: [-79.6070733600129, 43.9269227211241, -79.60292796160009, 43.929277420146654], &quot;geometry&quot;: {&quot;coordinates&quot;: [[[-79.60653480656467, 43.9269227211241, 0.0], [-79.60292796160009, 43.928017963285356, 0.0], [-79.60370963573165, 43.929277420146654, 0.0], [-79.6070733600129, 43.92876542654782, 0.0], [-79.60653480656467, 43.9269227211241, 0.0]]], &quot;type&quot;: &quot;Polygon&quot;}, &quot;id&quot;: &quot;145&quot;, &quot;properties&quot;: {&quot;Description&quot;: null, &quot;Name&quot;: &quot;D&quot;, &quot;__folium_color&quot;: &quot;#8c564b&quot;, &quot;area_m2&quot;: 52941.775384147695, &quot;class&quot;: 14, &quot;name&quot;: &quot;Low plants&quot;}, &quot;type&quot;: &quot;Feature&quot;}, {&quot;bbox&quot;: [-79.42576014729443, 43.915393250387034, -79.41663860963314, 43.9238322216019], &quot;geometry&quot;: {&quot;coordinates&quot;: [[[-79.42353221872627, 43.915393250387034, 0.0], [-79.41663860963314, 43.92111476794487, 0.0], [-79.41723321711116, 43.921657528469005, 0.0], [-79.4187416173515, 43.9238322216019, 0.0], [-79.42410908420591, 43.923198932777005, 0.0], [-79.42561104175104, 43.92150602915575, 0.0], [-79.42576014729443, 43.92080062928786, 0.0], [-79.42488981493206, 43.915867891358346, 0.0], [-79.42353221872627, 43.915393250387034, 0.0]]], &quot;type&quot;: &quot;Polygon&quot;}, &quot;id&quot;: &quot;146&quot;, &quot;properties&quot;: {&quot;Description&quot;: null, &quot;Name&quot;: &quot;9&quot;, &quot;__folium_color&quot;: &quot;#17becf&quot;, &quot;area_m2&quot;: 418857.64413736213, &quot;class&quot;: 9, &quot;name&quot;: &quot;Sparsely built&quot;}, &quot;type&quot;: &quot;Feature&quot;}, {&quot;bbox&quot;: [-79.41372706610898, 43.928935152779545, -79.40948011307943, 43.93234147771616], &quot;geometry&quot;: {&quot;coordinates&quot;: [[[-79.41372706610898, 43.93234147771616, 0.0], [-79.41052711196805, 43.932289198451436, 0.0], [-79.40948011307943, 43.92958338324297, 0.0], [-79.4131736237826, 43.928935152779545, 0.0], [-79.41372706610898, 43.93234147771616, 0.0]]], &quot;type&quot;: &quot;Polygon&quot;}, &quot;id&quot;: &quot;147&quot;, &quot;properties&quot;: {&quot;Description&quot;: null, &quot;Name&quot;: &quot;9&quot;, &quot;__folium_color&quot;: &quot;#17becf&quot;, &quot;area_m2&quot;: 96069.87694038039, &quot;class&quot;: 9, &quot;name&quot;: &quot;Sparsely built&quot;}, &quot;type&quot;: &quot;Feature&quot;}, {&quot;bbox&quot;: [-79.41866152211432, 43.63122699345148, -79.41603501995195, 43.632722503010484], &quot;geometry&quot;: {&quot;coordinates&quot;: [[[-79.41866152211432, 43.63203445090832, 0.0], [-79.41637547437186, 43.632722503010484, 0.0], [-79.41605616559328, 43.6320250285861, 0.0], [-79.41603501995195, 43.63143297777392, 0.0], [-79.41771386691647, 43.63122699345148, 0.0], [-79.41866152211432, 43.63203445090832, 0.0]]], &quot;type&quot;: &quot;Polygon&quot;}, &quot;id&quot;: &quot;149&quot;, &quot;properties&quot;: {&quot;Description&quot;: null, &quot;Name&quot;: &quot;E&quot;, &quot;__folium_color&quot;: &quot;#1f77b4&quot;, &quot;area_m2&quot;: 21991.094271992573, &quot;class&quot;: 15, &quot;name&quot;: &quot;Bare rock or paved&quot;}, &quot;type&quot;: &quot;Feature&quot;}, {&quot;bbox&quot;: [-79.41590959411614, 43.63236111486971, -79.41411619680149, 43.63321841799735], &quot;geometry&quot;: {&quot;coordinates&quot;: [[[-79.41590959411614, 43.632854656593885, 0.0], [-79.41446142182446, 43.63321841799735, 0.0], [-79.41411619680149, 43.63266985089209, 0.0], [-79.415687688007, 43.63236111486971, 0.0], [-79.41590959411614, 43.632854656593885, 0.0]]], &quot;type&quot;: &quot;Polygon&quot;}, &quot;id&quot;: &quot;150&quot;, &quot;properties&quot;: {&quot;Description&quot;: null, &quot;Name&quot;: &quot;E&quot;, &quot;__folium_color&quot;: &quot;#1f77b4&quot;, &quot;area_m2&quot;: 7905.421349679595, &quot;class&quot;: 15, &quot;name&quot;: &quot;Bare rock or paved&quot;}, &quot;type&quot;: &quot;Feature&quot;}, {&quot;bbox&quot;: [-79.39374781437681, 43.62586109818259, -79.39164871169551, 43.62777373366808], &quot;geometry&quot;: {&quot;coordinates&quot;: [[[-79.39374781437681, 43.62689964899421, 0.0], [-79.3925942948964, 43.62777373366808, 0.0], [-79.39164871169551, 43.62717933522321, 0.0], [-79.39230401110153, 43.62586109818259, 0.0], [-79.39374781437681, 43.62689964899421, 0.0]]], &quot;type&quot;: &quot;Polygon&quot;}, &quot;id&quot;: &quot;151&quot;, &quot;properties&quot;: {&quot;Description&quot;: null, &quot;Name&quot;: &quot;E&quot;, &quot;__folium_color&quot;: &quot;#1f77b4&quot;, &quot;area_m2&quot;: 18357.22974882881, &quot;class&quot;: 15, &quot;name&quot;: &quot;Bare rock or paved&quot;}, &quot;type&quot;: &quot;Feature&quot;}, {&quot;bbox&quot;: [-79.22418087390047, 43.875223946552644, -79.22137465737698, 43.877482294778915], &quot;geometry&quot;: {&quot;coordinates&quot;: [[[-79.22418087390047, 43.87707188389925, 0.0], [-79.22211988121488, 43.877482294778915, 0.0], [-79.22137465737698, 43.87553024092681, 0.0], [-79.22361673085554, 43.875223946552644, 0.0], [-79.22418087390047, 43.87707188389925, 0.0]]], &quot;type&quot;: &quot;Polygon&quot;}, &quot;id&quot;: &quot;152&quot;, &quot;properties&quot;: {&quot;Description&quot;: null, &quot;Name&quot;: &quot;F&quot;, &quot;__folium_color&quot;: &quot;#aec7e8&quot;, &quot;area_m2&quot;: 38589.32394903938, &quot;class&quot;: 16, &quot;name&quot;: &quot;Bare soil or sand&quot;}, &quot;type&quot;: &quot;Feature&quot;}, {&quot;bbox&quot;: [-79.26527350672127, 43.908292569480466, -79.26350857481593, 43.910241592119775], &quot;geometry&quot;: {&quot;coordinates&quot;: [[[-79.26517386086452, 43.910241592119775, 0.0], [-79.26527350672127, 43.90833464496078, 0.0], [-79.26355668134583, 43.908292569480466, 0.0], [-79.26350857481593, 43.910200298517196, 0.0], [-79.26517386086452, 43.910241592119775, 0.0]]], &quot;type&quot;: &quot;Polygon&quot;}, &quot;id&quot;: &quot;153&quot;, &quot;properties&quot;: {&quot;Description&quot;: null, &quot;Name&quot;: &quot;F&quot;, &quot;__folium_color&quot;: &quot;#aec7e8&quot;, &quot;area_m2&quot;: 28806.05827792669, &quot;class&quot;: 16, &quot;name&quot;: &quot;Bare soil or sand&quot;}, &quot;type&quot;: &quot;Feature&quot;}, {&quot;bbox&quot;: [-79.37201511513913, 43.86339346206569, -79.36877758615749, 43.86537286809021], &quot;geometry&quot;: {&quot;coordinates&quot;: [[[-79.37201511513913, 43.86499790189327, 0.0], [-79.36877758615749, 43.86537286809021, 0.0], [-79.3701578267883, 43.86339346206569, 0.0], [-79.37201511513913, 43.86499790189327, 0.0]]], &quot;type&quot;: &quot;Polygon&quot;}, &quot;id&quot;: &quot;154&quot;, &quot;properties&quot;: {&quot;Description&quot;: null, &quot;Name&quot;: &quot;E&quot;, &quot;__folium_color&quot;: &quot;#1f77b4&quot;, &quot;area_m2&quot;: 26298.234258978624, &quot;class&quot;: 15, &quot;name&quot;: &quot;Bare rock or paved&quot;}, &quot;type&quot;: &quot;Feature&quot;}, {&quot;bbox&quot;: [-79.38025942039981, 43.86746666080067, -79.37706060049588, 43.87014886344268], &quot;geometry&quot;: {&quot;coordinates&quot;: [[[-79.38025942039981, 43.86965171244483, 0.0], [-79.37810160209948, 43.87014886344268, 0.0], [-79.37706060049588, 43.86832156051696, 0.0], [-79.37917647726256, 43.86746666080067, 0.0], [-79.38025942039981, 43.86965171244483, 0.0]]], &quot;type&quot;: &quot;Polygon&quot;}, &quot;id&quot;: &quot;155&quot;, &quot;properties&quot;: {&quot;Description&quot;: null, &quot;Name&quot;: &quot;E&quot;, &quot;__folium_color&quot;: &quot;#1f77b4&quot;, &quot;area_m2&quot;: 44682.28284295228, &quot;class&quot;: 15, &quot;name&quot;: &quot;Bare rock or paved&quot;}, &quot;type&quot;: &quot;Feature&quot;}, {&quot;bbox&quot;: [-79.55953714120517, 43.76366935730017, -79.5468165445953, 43.76973754177371], &quot;geometry&quot;: {&quot;coordinates&quot;: [[[-79.55953714120517, 43.7676556051395, 0.0], [-79.54838608471067, 43.76973754177371, 0.0], [-79.5468165445953, 43.76528749199023, 0.0], [-79.55795568090572, 43.76366935730017, 0.0], [-79.55953714120517, 43.7676556051395, 0.0]]], &quot;type&quot;: &quot;Polygon&quot;}, &quot;id&quot;: &quot;156&quot;, &quot;properties&quot;: {&quot;Description&quot;: null, &quot;Name&quot;: &quot;8&quot;, &quot;__folium_color&quot;: &quot;#9467bd&quot;, &quot;area_m2&quot;: 446453.14919280715, &quot;class&quot;: 8, &quot;name&quot;: &quot;Large low-rise&quot;}, &quot;type&quot;: &quot;Feature&quot;}, {&quot;bbox&quot;: [-79.56179815510838, 43.767567804196304, -79.55447132041505, 43.77220294240674], &quot;geometry&quot;: {&quot;coordinates&quot;: [[[-79.55447132041505, 43.769071000928996, 0.0], [-79.55552147432924, 43.77220294240674, 0.0], [-79.56179815510838, 43.770922695718426, 0.0], [-79.56081924772252, 43.767567804196304, 0.0], [-79.55447132041505, 43.769071000928996, 0.0]]], &quot;type&quot;: &quot;Polygon&quot;}, &quot;id&quot;: &quot;157&quot;, &quot;properties&quot;: {&quot;Description&quot;: null, &quot;Name&quot;: &quot;8&quot;, &quot;__folium_color&quot;: &quot;#9467bd&quot;, &quot;area_m2&quot;: 195692.30755175508, &quot;class&quot;: 8, &quot;name&quot;: &quot;Large low-rise&quot;}, &quot;type&quot;: &quot;Feature&quot;}, {&quot;bbox&quot;: [-79.57184167295497, 43.76574044701201, -79.56485408852686, 43.76985127833965], &quot;geometry&quot;: {&quot;coordinates&quot;: [[[-79.57184167295497, 43.76900153790833, 0.0], [-79.57068345233539, 43.76574044701201, 0.0], [-79.56485408852686, 43.766802898551255, 0.0], [-79.56689988585663, 43.76985127833965, 0.0], [-79.57184167295497, 43.76900153790833, 0.0]]], &quot;type&quot;: &quot;Polygon&quot;}, &quot;id&quot;: &quot;158&quot;, &quot;properties&quot;: {&quot;Description&quot;: null, &quot;Name&quot;: &quot;8&quot;, &quot;__folium_color&quot;: &quot;#9467bd&quot;, &quot;area_m2&quot;: 165620.505425328, &quot;class&quot;: 8, &quot;name&quot;: &quot;Large low-rise&quot;}, &quot;type&quot;: &quot;Feature&quot;}, {&quot;bbox&quot;: [-79.54453219108233, 43.75574105039436, -79.54078640407657, 43.76200083595962], &quot;geometry&quot;: {&quot;coordinates&quot;: [[[-79.54241653712988, 43.76200083595962, 0.0], [-79.54144374726212, 43.757990133140396, 0.0], [-79.54078640407657, 43.756438400267236, 0.0], [-79.54316426466134, 43.75574105039436, 0.0], [-79.54453219108233, 43.76165995971139, 0.0], [-79.54241653712988, 43.76200083595962, 0.0]]], &quot;type&quot;: &quot;Polygon&quot;}, &quot;id&quot;: &quot;159&quot;, &quot;properties&quot;: {&quot;Description&quot;: null, &quot;Name&quot;: &quot;8&quot;, &quot;__folium_color&quot;: &quot;#9467bd&quot;, &quot;area_m2&quot;: 117270.48394219033, &quot;class&quot;: 8, &quot;name&quot;: &quot;Large low-rise&quot;}, &quot;type&quot;: &quot;Feature&quot;}, {&quot;bbox&quot;: [-79.53179708132723, 43.7583926526762, -79.52899974583197, 43.76241877994574], &quot;geometry&quot;: {&quot;coordinates&quot;: [[[-79.53179708132723, 43.76221673649317, 0.0], [-79.53104108681488, 43.7583926526762, 0.0], [-79.52899974583197, 43.758854184604225, 0.0], [-79.5294750997767, 43.76241877994574, 0.0], [-79.53179708132723, 43.76221673649317, 0.0]]], &quot;type&quot;: &quot;Polygon&quot;}, &quot;id&quot;: &quot;160&quot;, &quot;properties&quot;: {&quot;Description&quot;: null, &quot;Name&quot;: &quot;8&quot;, &quot;__folium_color&quot;: &quot;#9467bd&quot;, &quot;area_m2&quot;: 73907.18822320487, &quot;class&quot;: 8, &quot;name&quot;: &quot;Large low-rise&quot;}, &quot;type&quot;: &quot;Feature&quot;}, {&quot;bbox&quot;: [-79.53269606199093, 43.772269246897686, -79.53176106554722, 43.772881806878495], &quot;geometry&quot;: {&quot;coordinates&quot;: [[[-79.53269606199093, 43.772719782592915, 0.0], [-79.53248361397473, 43.772269246897686, 0.0], [-79.53176106554722, 43.77248386902928, 0.0], [-79.53192513623605, 43.772881806878495, 0.0], [-79.53269606199093, 43.772719782592915, 0.0]]], &quot;type&quot;: &quot;Polygon&quot;}, &quot;id&quot;: &quot;161&quot;, &quot;properties&quot;: {&quot;Description&quot;: null, &quot;Name&quot;: &quot;E&quot;, &quot;__folium_color&quot;: &quot;#1f77b4&quot;, &quot;area_m2&quot;: 3149.5862555223766, &quot;class&quot;: 15, &quot;name&quot;: &quot;Bare rock or paved&quot;}, &quot;type&quot;: &quot;Feature&quot;}, {&quot;bbox&quot;: [-79.53396309956713, 43.78596582516335, -79.53016145701841, 43.78821028396078], &quot;geometry&quot;: {&quot;coordinates&quot;: [[[-79.53379739134748, 43.78725965808078, 0.0], [-79.53230673860948, 43.787280504080485, 0.0], [-79.53174286811571, 43.78596582516335, 0.0], [-79.53016145701841, 43.78631333532151, 0.0], [-79.53092075705142, 43.78821028396078, 0.0], [-79.53396309956713, 43.78770559237152, 0.0], [-79.53379739134748, 43.78725965808078, 0.0]]], &quot;type&quot;: &quot;Polygon&quot;}, &quot;id&quot;: &quot;162&quot;, &quot;properties&quot;: {&quot;Description&quot;: null, &quot;Name&quot;: &quot;E&quot;, &quot;__folium_color&quot;: &quot;#1f77b4&quot;, &quot;area_m2&quot;: 37578.70960811971, &quot;class&quot;: 15, &quot;name&quot;: &quot;Bare rock or paved&quot;}, &quot;type&quot;: &quot;Feature&quot;}, {&quot;bbox&quot;: [-79.53503552425252, 43.789211763903374, -79.53056708873288, 43.79123703852365], &quot;geometry&quot;: {&quot;coordinates&quot;: [[[-79.53503552425252, 43.79034621028699, 0.0], [-79.53061478834701, 43.79123703852365, 0.0], [-79.53056708873288, 43.79048075224673, 0.0], [-79.53305828216958, 43.789949004840885, 0.0], [-79.53269554966973, 43.78966047039903, 0.0], [-79.53449475828408, 43.789211763903374, 0.0], [-79.53503552425252, 43.79034621028699, 0.0]]], &quot;type&quot;: &quot;Polygon&quot;}, &quot;id&quot;: &quot;163&quot;, &quot;properties&quot;: {&quot;Description&quot;: null, &quot;Name&quot;: &quot;E&quot;, &quot;__folium_color&quot;: &quot;#1f77b4&quot;, &quot;area_m2&quot;: 36367.62228260116, &quot;class&quot;: 15, &quot;name&quot;: &quot;Bare rock or paved&quot;}, &quot;type&quot;: &quot;Feature&quot;}, {&quot;bbox&quot;: [-79.51840480630297, 43.80057561788752, -79.51428893320156, 43.802899872497676], &quot;geometry&quot;: {&quot;coordinates&quot;: [[[-79.51840480630297, 43.80267034340221, 0.0], [-79.51781623093453, 43.80057561788752, 0.0], [-79.51428893320156, 43.80123750156237, 0.0], [-79.51514204622318, 43.802899872497676, 0.0], [-79.51840480630297, 43.80267034340221, 0.0]]], &quot;type&quot;: &quot;Polygon&quot;}, &quot;id&quot;: &quot;164&quot;, &quot;properties&quot;: {&quot;Description&quot;: null, &quot;Name&quot;: &quot;E&quot;, &quot;__folium_color&quot;: &quot;#1f77b4&quot;, &quot;area_m2&quot;: 59870.091573509155, &quot;class&quot;: 15, &quot;name&quot;: &quot;Bare rock or paved&quot;}, &quot;type&quot;: &quot;Feature&quot;}, {&quot;bbox&quot;: [-79.51573039958032, 43.824058994750125, -79.50892412667194, 43.83110070801528], &quot;geometry&quot;: {&quot;coordinates&quot;: [[[-79.50892412667194, 43.8242735259233, 0.0], [-79.51246564176157, 43.83110070801528, 0.0], [-79.51573039958032, 43.83040748811241, 0.0], [-79.51332532632802, 43.824058994750125, 0.0], [-79.50892412667194, 43.8242735259233, 0.0]]], &quot;type&quot;: &quot;Polygon&quot;}, &quot;id&quot;: &quot;165&quot;, &quot;properties&quot;: {&quot;Description&quot;: null, &quot;Name&quot;: &quot;E&quot;, &quot;__folium_color&quot;: &quot;#1f77b4&quot;, &quot;area_m2&quot;: 237635.38819309924, &quot;class&quot;: 15, &quot;name&quot;: &quot;Bare rock or paved&quot;}, &quot;type&quot;: &quot;Feature&quot;}, {&quot;bbox&quot;: [-79.51634993383756, 43.8113535436102, -79.5109792625952, 43.8208073200833], &quot;geometry&quot;: {&quot;coordinates&quot;: [[[-79.51634993383756, 43.819668249816495, 0.0], [-79.5140160445983, 43.8113535436102, 0.0], [-79.5109792625952, 43.818910688641175, 0.0], [-79.51170521508901, 43.8208073200833, 0.0], [-79.51605099861338, 43.82014415775668, 0.0], [-79.51634993383756, 43.819668249816495, 0.0]]], &quot;type&quot;: &quot;Polygon&quot;}, &quot;id&quot;: &quot;166&quot;, &quot;properties&quot;: {&quot;Description&quot;: null, &quot;Name&quot;: &quot;E&quot;, &quot;__folium_color&quot;: &quot;#1f77b4&quot;, &quot;area_m2&quot;: 242992.8449144956, &quot;class&quot;: 15, &quot;name&quot;: &quot;Bare rock or paved&quot;}, &quot;type&quot;: &quot;Feature&quot;}, {&quot;bbox&quot;: [-79.36068580762357, 43.900859650026604, -79.35233912102696, 43.90413775557441], &quot;geometry&quot;: {&quot;coordinates&quot;: [[[-79.3600225623608, 43.90266130827338, 0.0], [-79.3534291805952, 43.90413775557441, 0.0], [-79.35233912102696, 43.900955479077616, 0.0], [-79.36068580762357, 43.900859650026604, 0.0], [-79.3600225623608, 43.90266130827338, 0.0]]], &quot;type&quot;: &quot;Polygon&quot;}, &quot;id&quot;: &quot;167&quot;, &quot;properties&quot;: {&quot;Description&quot;: null, &quot;Name&quot;: &quot;F&quot;, &quot;__folium_color&quot;: &quot;#aec7e8&quot;, &quot;area_m2&quot;: 167599.18331103664, &quot;class&quot;: 16, &quot;name&quot;: &quot;Bare soil or sand&quot;}, &quot;type&quot;: &quot;Feature&quot;}, {&quot;bbox&quot;: [-79.3540775383991, 43.90473126855704, -79.35089239219957, 43.90760166867553], &quot;geometry&quot;: {&quot;coordinates&quot;: [[[-79.3540775383991, 43.907097755668865, 0.0], [-79.35299807616632, 43.90473126855704, 0.0], [-79.35089239219957, 43.905288625040654, 0.0], [-79.35159167542919, 43.90760166867553, 0.0], [-79.3540775383991, 43.907097755668865, 0.0]]], &quot;type&quot;: &quot;Polygon&quot;}, &quot;id&quot;: &quot;168&quot;, &quot;properties&quot;: {&quot;Description&quot;: null, &quot;Name&quot;: &quot;F&quot;, &quot;__folium_color&quot;: &quot;#aec7e8&quot;, &quot;area_m2&quot;: 52138.477748729594, &quot;class&quot;: 16, &quot;name&quot;: &quot;Bare soil or sand&quot;}, &quot;type&quot;: &quot;Feature&quot;}, {&quot;bbox&quot;: [-79.64793786880105, 43.81228710301333, -79.6446502734327, 43.81781493709425], &quot;geometry&quot;: {&quot;coordinates&quot;: [[[-79.64594159449054, 43.81781493709425, 0.0], [-79.6446502734327, 43.81265386491394, 0.0], [-79.64659656804362, 43.81228710301333, 0.0], [-79.64793786880105, 43.817442747678015, 0.0], [-79.64594159449054, 43.81781493709425, 0.0]]], &quot;type&quot;: &quot;Polygon&quot;}, &quot;id&quot;: &quot;169&quot;, &quot;properties&quot;: {&quot;Description&quot;: null, &quot;Name&quot;: &quot;D&quot;, &quot;__folium_color&quot;: &quot;#8c564b&quot;, &quot;area_m2&quot;: 95198.53329293685, &quot;class&quot;: 14, &quot;name&quot;: &quot;Low plants&quot;}, &quot;type&quot;: &quot;Feature&quot;}, {&quot;bbox&quot;: [-79.6470229429469, 43.822001061509965, -79.63776314353133, 43.825107678706466], &quot;geometry&quot;: {&quot;coordinates&quot;: [[[-79.63776314353133, 43.82415292515798, 0.0], [-79.64542881193047, 43.825107678706466, 0.0], [-79.6470229429469, 43.824946643841045, 0.0], [-79.64644337319989, 43.822001061509965, 0.0], [-79.63846696235832, 43.82380147069971, 0.0], [-79.638149815552, 43.823905644192905, 0.0], [-79.63790082794264, 43.82392666594904, 0.0], [-79.63776314353133, 43.82415292515798, 0.0]]], &quot;type&quot;: &quot;Polygon&quot;}, &quot;id&quot;: &quot;170&quot;, &quot;properties&quot;: {&quot;Description&quot;: null, &quot;Name&quot;: &quot;D&quot;, &quot;__folium_color&quot;: &quot;#8c564b&quot;, &quot;area_m2&quot;: 139358.9498689854, &quot;class&quot;: 14, &quot;name&quot;: &quot;Low plants&quot;}, &quot;type&quot;: &quot;Feature&quot;}, {&quot;bbox&quot;: [-79.6536772157469, 43.82511358862177, -79.65201431543943, 43.82675317491115], &quot;geometry&quot;: {&quot;coordinates&quot;: [[[-79.6536772157469, 43.82631467807351, 0.0], [-79.65358755479797, 43.825144131936504, 0.0], [-79.65201431543943, 43.82511358862177, 0.0], [-79.6522093659878, 43.82675317491115, 0.0], [-79.6536772157469, 43.82631467807351, 0.0]]], &quot;type&quot;: &quot;Polygon&quot;}, &quot;id&quot;: &quot;171&quot;, &quot;properties&quot;: {&quot;Description&quot;: null, &quot;Name&quot;: &quot;F&quot;, &quot;__folium_color&quot;: &quot;#aec7e8&quot;, &quot;area_m2&quot;: 19344.613150887435, &quot;class&quot;: 16, &quot;name&quot;: &quot;Bare soil or sand&quot;}, &quot;type&quot;: &quot;Feature&quot;}, {&quot;bbox&quot;: [-79.64267377763912, 43.86244351174841, -79.6387556408688, 43.864853884099276], &quot;geometry&quot;: {&quot;coordinates&quot;: [[[-79.64267377763912, 43.86423476751494, 0.0], [-79.63926110481786, 43.864853884099276, 0.0], [-79.6387556408688, 43.863024670913525, 0.0], [-79.64233313215185, 43.86244351174841, 0.0], [-79.64267377763912, 43.86423476751494, 0.0]]], &quot;type&quot;: &quot;Polygon&quot;}, &quot;id&quot;: &quot;172&quot;, &quot;properties&quot;: {&quot;Description&quot;: null, &quot;Name&quot;: &quot;F&quot;, &quot;__folium_color&quot;: &quot;#aec7e8&quot;, &quot;area_m2&quot;: 58750.40520547466, &quot;class&quot;: 16, &quot;name&quot;: &quot;Bare soil or sand&quot;}, &quot;type&quot;: &quot;Feature&quot;}, {&quot;bbox&quot;: [-79.583980993838, 43.859701220374994, -79.57806316476912, 43.86338699500932], &quot;geometry&quot;: {&quot;coordinates&quot;: [[[-79.5834219457936, 43.859701220374994, 0.0], [-79.57806316476912, 43.86093008206137, 0.0], [-79.57853889753382, 43.862885136756624, 0.0], [-79.57886682421045, 43.86338699500932, 0.0], [-79.58137049699427, 43.86302228379658, 0.0], [-79.58249255588856, 43.86254442801655, 0.0], [-79.583980993838, 43.86164529120944, 0.0], [-79.5834219457936, 43.859701220374994, 0.0]]], &quot;type&quot;: &quot;Polygon&quot;}, &quot;id&quot;: &quot;173&quot;, &quot;properties&quot;: {&quot;Description&quot;: null, &quot;Name&quot;: &quot;D&quot;, &quot;__folium_color&quot;: &quot;#8c564b&quot;, &quot;area_m2&quot;: 126175.47110690938, &quot;class&quot;: 14, &quot;name&quot;: &quot;Low plants&quot;}, &quot;type&quot;: &quot;Feature&quot;}, {&quot;bbox&quot;: [-79.58713645906377, 43.86699195381028, -79.5796217339708, 43.871520317929146], &quot;geometry&quot;: {&quot;coordinates&quot;: [[[-79.58038961476473, 43.871520317929146, 0.0], [-79.5796217339708, 43.8682482263643, 0.0], [-79.58664800359891, 43.86699195381028, 0.0], [-79.58713645906377, 43.8701765816226, 0.0], [-79.58038961476473, 43.871520317929146, 0.0]]], &quot;type&quot;: &quot;Polygon&quot;}, &quot;id&quot;: &quot;174&quot;, &quot;properties&quot;: {&quot;Description&quot;: null, &quot;Name&quot;: &quot;D&quot;, &quot;__folium_color&quot;: &quot;#8c564b&quot;, &quot;area_m2&quot;: 205755.9768551319, &quot;class&quot;: 14, &quot;name&quot;: &quot;Low plants&quot;}, &quot;type&quot;: &quot;Feature&quot;}, {&quot;bbox&quot;: [-79.59159734582035, 43.87753555002602, -79.58633527899784, 43.879814697719596], &quot;geometry&quot;: {&quot;coordinates&quot;: [[[-79.59159734582035, 43.8789397764702, 0.0], [-79.58668481136233, 43.879814697719596, 0.0], [-79.58633527899784, 43.87846697322396, 0.0], [-79.5910417618025, 43.87753555002602, 0.0], [-79.59159734582035, 43.8789397764702, 0.0]]], &quot;type&quot;: &quot;Polygon&quot;}, &quot;id&quot;: &quot;175&quot;, &quot;properties&quot;: {&quot;Description&quot;: null, &quot;Name&quot;: &quot;A&quot;, &quot;__folium_color&quot;: &quot;#d62728&quot;, &quot;area_m2&quot;: 62715.25447041513, &quot;class&quot;: 11, &quot;name&quot;: &quot;Dense trees&quot;}, &quot;type&quot;: &quot;Feature&quot;}, {&quot;bbox&quot;: [-79.44954375570691, 43.785513974967905, -79.44622195490182, 43.78991640381206], &quot;geometry&quot;: {&quot;coordinates&quot;: [[[-79.44796543037809, 43.785513974967905, 0.0], [-79.44796421757663, 43.78556083938863, 0.0], [-79.4479797728035, 43.78562324742918, 0.0], [-79.44797741291667, 43.78571443728702, 0.0], [-79.44799275365864, 43.785785135311905, 0.0], [-79.44799750969078, 43.78582251796457, 0.0], [-79.44800065672568, 43.7859220755182, 0.0], [-79.44796010638807, 43.78616201885291, 0.0], [-79.4479528831217, 43.78621997104262, 0.0], [-79.44794902133567, 43.78636919079162, 0.0], [-79.44796586398783, 43.786381858912875, 0.0], [-79.44797451793067, 43.78648978415701, 0.0], [-79.4479657928244, 43.78660576624399, 0.0], [-79.44796969071534, 43.7866763088357, 0.0], [-79.44798882230911, 43.78682169443619, 0.0], [-79.44802576223773, 43.78694244321104, 0.0], [-79.44805451359778, 43.78715844909445, 0.0], [-79.44810010810068, 43.787387123069735, 0.0], [-79.44815110274624, 43.787628309706754, 0.0], [-79.44820055929554, 43.787707763908536, 0.0], [-79.44824268548925, 43.78784931527556, 0.0], [-79.44830823471658, 43.78797045246177, 0.0], [-79.44843890496703, 43.78822930669602, 0.0], [-79.44892224482342, 43.788351969350074, 0.0], [-79.44902309959538, 43.788355079269884, 0.0], [-79.44954375570691, 43.78949750410726, 0.0], [-79.44718873482813, 43.78991640381206, 0.0], [-79.44622195490182, 43.78592119564504, 0.0], [-79.44796543037809, 43.785513974967905, 0.0]]], &quot;type&quot;: &quot;Polygon&quot;}, &quot;id&quot;: &quot;176&quot;, &quot;properties&quot;: {&quot;Description&quot;: null, &quot;Name&quot;: &quot;4&quot;, &quot;__folium_color&quot;: &quot;#c49c94&quot;, &quot;area_m2&quot;: 66571.51587323693, &quot;class&quot;: 4, &quot;name&quot;: &quot;Open High-Rise&quot;}, &quot;type&quot;: &quot;Feature&quot;}, {&quot;bbox&quot;: [-79.45161853209702, 43.80320632893892, -79.44900622792797, 43.805859892556576], &quot;geometry&quot;: {&quot;coordinates&quot;: [[[-79.44957786827861, 43.805859892556576, 0.0], [-79.44980395788058, 43.80564516467026, 0.0], [-79.44992150700678, 43.805363625271916, 0.0], [-79.45001499905462, 43.80484944419756, 0.0], [-79.45044543584169, 43.80448502995525, 0.0], [-79.45059855894044, 43.80437820865211, 0.0], [-79.4509677402813, 43.80405652087019, 0.0], [-79.45161853209702, 43.80331031708069, 0.0], [-79.45090952242377, 43.80320632893892, 0.0], [-79.45052743480467, 43.80325196718688, 0.0], [-79.44985043827711, 43.80346058022666, 0.0], [-79.44947649127899, 43.80357892391133, 0.0], [-79.44911162432281, 43.80373368886921, 0.0], [-79.44904755777632, 43.80388527615115, 0.0], [-79.4490231973157, 43.8040519220661, 0.0], [-79.44901017189744, 43.80416790287666, 0.0], [-79.44900622792797, 43.804320306209284, 0.0], [-79.44906979875864, 43.80457526387335, 0.0], [-79.44906341342343, 43.80482201211332, 0.0], [-79.44907819619691, 43.80502548856811, 0.0], [-79.449179785126, 43.8053608205164, 0.0], [-79.44923671710941, 43.805485010652475, 0.0], [-79.44927379556418, 43.805601671464785, 0.0], [-79.44928250184753, 43.80565260856811, 0.0], [-79.44929214706046, 43.8056672591671, 0.0], [-79.44957786827861, 43.805859892556576, 0.0]]], &quot;type&quot;: &quot;Polygon&quot;}, &quot;id&quot;: &quot;177&quot;, &quot;properties&quot;: {&quot;Description&quot;: null, &quot;Name&quot;: &quot;4&quot;, &quot;__folium_color&quot;: &quot;#c49c94&quot;, &quot;area_m2&quot;: 29554.66010575579, &quot;class&quot;: 4, &quot;name&quot;: &quot;Open High-Rise&quot;}, &quot;type&quot;: &quot;Feature&quot;}, {&quot;bbox&quot;: [-79.58358402212502, 43.63775092683486, -79.58092356323151, 43.6403040939271], &quot;geometry&quot;: {&quot;coordinates&quot;: [[[-79.58236202377576, 43.6403040939271, 0.0], [-79.58092356323151, 43.639318037259784, 0.0], [-79.58161999562178, 43.63873176038269, 0.0], [-79.58110293899179, 43.63852120277818, 0.0], [-79.58201249023747, 43.63775092683486, 0.0], [-79.58333866851856, 43.638729745785525, 0.0], [-79.58298370676393, 43.63913945769393, 0.0], [-79.58358402212502, 43.63956684353033, 0.0], [-79.58272091291178, 43.64006940968465, 0.0], [-79.58236202377576, 43.6403040939271, 0.0]]], &quot;type&quot;: &quot;Polygon&quot;}, &quot;id&quot;: &quot;178&quot;, &quot;properties&quot;: {&quot;Description&quot;: null, &quot;Name&quot;: &quot;4&quot;, &quot;__folium_color&quot;: &quot;#c49c94&quot;, &quot;area_m2&quot;: 32673.934877813026, &quot;class&quot;: 4, &quot;name&quot;: &quot;Open High-Rise&quot;}, &quot;type&quot;: &quot;Feature&quot;}, {&quot;bbox&quot;: [-79.5867943532584, 43.6387677588907, -79.584801152421, 43.640845437208554], &quot;geometry&quot;: {&quot;coordinates&quot;: [[[-79.5855698210915, 43.640845437208554, 0.0], [-79.584801152421, 43.63937778084279, 0.0], [-79.58546598113048, 43.6387677588907, 0.0], [-79.5867943532584, 43.640341486457864, 0.0], [-79.5855698210915, 43.640845437208554, 0.0]]], &quot;type&quot;: &quot;Polygon&quot;}, &quot;id&quot;: &quot;179&quot;, &quot;properties&quot;: {&quot;Description&quot;: null, &quot;Name&quot;: &quot;4&quot;, &quot;__folium_color&quot;: &quot;#c49c94&quot;, &quot;area_m2&quot;: 18105.864936102076, &quot;class&quot;: 4, &quot;name&quot;: &quot;Open High-Rise&quot;}, &quot;type&quot;: &quot;Feature&quot;}, {&quot;bbox&quot;: [-79.57306092715089, 43.65458697690883, -79.56933382178204, 43.65723353764035], &quot;geometry&quot;: {&quot;coordinates&quot;: [[[-79.57306092715089, 43.656629351157726, 0.0], [-79.56975826793226, 43.65723353764035, 0.0], [-79.56933382178204, 43.65503518742391, 0.0], [-79.57235954451193, 43.65458697690883, 0.0], [-79.57306092715089, 43.656629351157726, 0.0]]], &quot;type&quot;: &quot;Polygon&quot;}, &quot;id&quot;: &quot;180&quot;, &quot;properties&quot;: {&quot;Description&quot;: null, &quot;Name&quot;: &quot;4&quot;, &quot;__folium_color&quot;: &quot;#c49c94&quot;, &quot;area_m2&quot;: 62757.89740709908, &quot;class&quot;: 4, &quot;name&quot;: &quot;Open High-Rise&quot;}, &quot;type&quot;: &quot;Feature&quot;}, {&quot;bbox&quot;: [-79.35797845650956, 43.78981277773329, -79.35504565432107, 43.79204532740826], &quot;geometry&quot;: {&quot;coordinates&quot;: [[[-79.35797845650956, 43.78981277773329, 0.0], [-79.35504565432107, 43.790283843986586, 0.0], [-79.35640364587667, 43.79204532740826, 0.0], [-79.35755092968228, 43.79170410486231, 0.0], [-79.35797543736555, 43.79070703467297, 0.0], [-79.35797845650956, 43.78981277773329, 0.0]]], &quot;type&quot;: &quot;Polygon&quot;}, &quot;id&quot;: &quot;181&quot;, &quot;properties&quot;: {&quot;Description&quot;: null, &quot;Name&quot;: &quot;4&quot;, &quot;__folium_color&quot;: &quot;#c49c94&quot;, &quot;area_m2&quot;: 36680.53584750784, &quot;class&quot;: 4, &quot;name&quot;: &quot;Open High-Rise&quot;}, &quot;type&quot;: &quot;Feature&quot;}, {&quot;bbox&quot;: [-79.42632565553905, 43.82376197301512, -79.4228447951718, 43.825701179267156], &quot;geometry&quot;: {&quot;coordinates&quot;: [[[-79.42339206452823, 43.825701179267156, 0.0], [-79.4228447951718, 43.824457164234026, 0.0], [-79.42600483045275, 43.82376197301512, 0.0], [-79.42632565553905, 43.825041736992574, 0.0], [-79.42339206452823, 43.825701179267156, 0.0]]], &quot;type&quot;: &quot;Polygon&quot;}, &quot;id&quot;: &quot;182&quot;, &quot;properties&quot;: {&quot;Description&quot;: null, &quot;Name&quot;: &quot;4&quot;, &quot;__folium_color&quot;: &quot;#c49c94&quot;, &quot;area_m2&quot;: 36976.13305195472, &quot;class&quot;: 4, &quot;name&quot;: &quot;Open High-Rise&quot;}, &quot;type&quot;: &quot;Feature&quot;}, {&quot;bbox&quot;: [-79.47906811278445, 43.73486043617154, -79.47657635109437, 43.73676837667203], &quot;geometry&quot;: {&quot;coordinates&quot;: [[[-79.47906811278445, 43.736205771776305, 0.0], [-79.47837158788185, 43.73486043617154, 0.0], [-79.47657635109437, 43.73528655974097, 0.0], [-79.47703015523145, 43.73625832434268, 0.0], [-79.47766377888743, 43.73676837667203, 0.0], [-79.47906811278445, 43.736205771776305, 0.0]]], &quot;type&quot;: &quot;Polygon&quot;}, &quot;id&quot;: &quot;183&quot;, &quot;properties&quot;: {&quot;Description&quot;: null, &quot;Name&quot;: &quot;2&quot;, &quot;__folium_color&quot;: &quot;#98df8a&quot;, &quot;area_m2&quot;: 25897.40418093294, &quot;class&quot;: 2, &quot;name&quot;: &quot;Compact Mid-Rise&quot;}, &quot;type&quot;: &quot;Feature&quot;}, {&quot;bbox&quot;: [-79.47749169358174, 43.73579466789498, -79.47525306525455, 43.73818255488131], &quot;geometry&quot;: {&quot;coordinates&quot;: [[[-79.47749169358174, 43.73692547399547, 0.0], [-79.47648998067099, 43.73818255488131, 0.0], [-79.4757880321059, 43.73781691093459, 0.0], [-79.47549015424448, 43.7373253917421, 0.0], [-79.47525306525455, 43.73596741402738, 0.0], [-79.47671217181674, 43.73579466789498, 0.0], [-79.47749169358174, 43.73692547399547, 0.0]]], &quot;type&quot;: &quot;Polygon&quot;}, &quot;id&quot;: &quot;184&quot;, &quot;properties&quot;: {&quot;Description&quot;: null, &quot;Name&quot;: &quot;2&quot;, &quot;__folium_color&quot;: &quot;#98df8a&quot;, &quot;area_m2&quot;: 31086.481618323236, &quot;class&quot;: 2, &quot;name&quot;: &quot;Compact Mid-Rise&quot;}, &quot;type&quot;: &quot;Feature&quot;}, {&quot;bbox&quot;: [-79.4664218644909, 43.72991776112999, -79.46447935498428, 43.73097635194902], &quot;geometry&quot;: {&quot;coordinates&quot;: [[[-79.4664218644909, 43.73062452825456, 0.0], [-79.46615545102858, 43.72991776112999, 0.0], [-79.46453668658285, 43.73039763181373, 0.0], [-79.46447935498428, 43.73074376923829, 0.0], [-79.46469321848026, 43.73097635194902, 0.0], [-79.4664218644909, 43.73062452825456, 0.0]]], &quot;type&quot;: &quot;Polygon&quot;}, &quot;id&quot;: &quot;185&quot;, &quot;properties&quot;: {&quot;Description&quot;: null, &quot;Name&quot;: &quot;2&quot;, &quot;__folium_color&quot;: &quot;#98df8a&quot;, &quot;area_m2&quot;: 10803.563529734267, &quot;class&quot;: 2, &quot;name&quot;: &quot;Compact Mid-Rise&quot;}, &quot;type&quot;: &quot;Feature&quot;}, {&quot;bbox&quot;: [-79.39793971958852, 43.819486831005925, -79.39543350122023, 43.82120313450869], &quot;geometry&quot;: {&quot;coordinates&quot;: [[[-79.39793971958852, 43.820923256286, 0.0], [-79.39658712752312, 43.82120313450869, 0.0], [-79.39543350122023, 43.820037239970425, 0.0], [-79.39755082382071, 43.819486831005925, 0.0], [-79.39793971958852, 43.820923256286, 0.0]]], &quot;type&quot;: &quot;Polygon&quot;}, &quot;id&quot;: &quot;186&quot;, &quot;properties&quot;: {&quot;Description&quot;: null, &quot;Name&quot;: &quot;2&quot;, &quot;__folium_color&quot;: &quot;#98df8a&quot;, &quot;area_m2&quot;: 23031.08036478805, &quot;class&quot;: 2, &quot;name&quot;: &quot;Compact Mid-Rise&quot;}, &quot;type&quot;: &quot;Feature&quot;}, {&quot;bbox&quot;: [-79.3910299178102, 43.83989285928944, -79.3875437636379, 43.84180675796544], &quot;geometry&quot;: {&quot;coordinates&quot;: [[[-79.39080105211083, 43.841359277681185, 0.0], [-79.38912284725559, 43.84180675796544, 0.0], [-79.3875437636379, 43.84055743841968, 0.0], [-79.3880609003783, 43.84029401208185, 0.0], [-79.38965006087805, 43.839905062378826, 0.0], [-79.3910299178102, 43.83989285928944, 0.0], [-79.39099029550492, 43.84118614846397, 0.0], [-79.39080105211083, 43.841359277681185, 0.0]]], &quot;type&quot;: &quot;Polygon&quot;}, &quot;id&quot;: &quot;187&quot;, &quot;properties&quot;: {&quot;Description&quot;: null, &quot;Name&quot;: &quot;5&quot;, &quot;__folium_color&quot;: &quot;#c7c7c7&quot;, &quot;area_m2&quot;: 40609.939201548455, &quot;class&quot;: 5, &quot;name&quot;: &quot;Open Mid-Rise&quot;}, &quot;type&quot;: &quot;Feature&quot;}, {&quot;bbox&quot;: [-79.39041816034816, 43.83815335468463, -79.3882494760111, 43.839441918559004], &quot;geometry&quot;: {&quot;coordinates&quot;: [[[-79.3882494760111, 43.838341837847025, 0.0], [-79.38872017375614, 43.839441918559004, 0.0], [-79.39040434008987, 43.83913164763011, 0.0], [-79.39041816034816, 43.838256385711695, 0.0], [-79.38909487309157, 43.83815335468463, 0.0], [-79.38849556378794, 43.83822225289799, 0.0], [-79.38827687634411, 43.838226199997024, 0.0], [-79.3882494760111, 43.838341837847025, 0.0]]], &quot;type&quot;: &quot;Polygon&quot;}, &quot;id&quot;: &quot;188&quot;, &quot;properties&quot;: {&quot;Description&quot;: null, &quot;Name&quot;: &quot;5&quot;, &quot;__folium_color&quot;: &quot;#c7c7c7&quot;, &quot;area_m2&quot;: 19258.746921170634, &quot;class&quot;: 5, &quot;name&quot;: &quot;Open Mid-Rise&quot;}, &quot;type&quot;: &quot;Feature&quot;}, {&quot;bbox&quot;: [-79.32822623948942, 43.88165469392602, -79.32205500280254, 43.88622191089634], &quot;geometry&quot;: {&quot;coordinates&quot;: [[[-79.32672390703469, 43.88201752481069, 0.0], [-79.32595632345861, 43.88165469392602, 0.0], [-79.32503773119548, 43.881824054900925, 0.0], [-79.3248160594169, 43.882102073612245, 0.0], [-79.32435287959812, 43.882671882202914, 0.0], [-79.3239352649024, 43.8830032788519, 0.0], [-79.32329190595657, 43.88306415572325, 0.0], [-79.32299444935704, 43.88327074136229, 0.0], [-79.32271366514814, 43.88357601506343, 0.0], [-79.32234526762107, 43.884231587456846, 0.0], [-79.32218109421801, 43.88453857211947, 0.0], [-79.32205500280254, 43.88487424272349, 0.0], [-79.32210423467718, 43.88519842479964, 0.0], [-79.32221375071357, 43.8854531750049, 0.0], [-79.3226362299769, 43.88564220331637, 0.0], [-79.32278817371824, 43.88577100497472, 0.0], [-79.32326660129851, 43.88604523290046, 0.0], [-79.32345781581219, 43.886160546583895, 0.0], [-79.32380610459234, 43.88622191089634, 0.0], [-79.3242729873677, 43.88621469655435, 0.0], [-79.32446735761233, 43.88621754737001, 0.0], [-79.32472200942016, 43.88615096466405, 0.0], [-79.32507620964243, 43.88600146028383, 0.0], [-79.32562792826376, 43.885742342306486, 0.0], [-79.32631294384225, 43.88558361855908, 0.0], [-79.32674055434966, 43.88558988221305, 0.0], [-79.32691587952573, 43.885578386484255, 0.0], [-79.32734506398278, 43.88552841718208, 0.0], [-79.32742477852817, 43.88545926706599, 0.0], [-79.3276071844138, 43.88519473208713, 0.0], [-79.3277098752511, 43.88499934717435, 0.0], [-79.32798788810935, 43.8847924647366, 0.0], [-79.32818618664771, 43.884654732331654, 0.0], [-79.32822623948942, 43.88461312812373, 0.0], [-79.32815203266995, 43.88448547127908, 0.0], [-79.32796160072569, 43.884342049998054, 0.0], [-79.32778903273382, 43.88425514362711, 0.0], [-79.32744429168824, 43.88406727244394, 0.0], [-79.32731059790711, 43.883980934458584, 0.0], [-79.32713842540825, 43.88387996945295, 0.0], [-79.32716258349649, 43.883711561915455, 0.0], [-79.32712882637236, 43.883528242906245, 0.0], [-79.32697727217598, 43.883385389237624, 0.0], [-79.32694036756051, 43.88331453159669, 0.0], [-79.32686655858556, 43.883172816280705, 0.0], [-79.32672390703469, 43.88201752481069, 0.0]]], &quot;type&quot;: &quot;Polygon&quot;}, &quot;id&quot;: &quot;189&quot;, &quot;properties&quot;: {&quot;Description&quot;: null, &quot;Name&quot;: &quot;F&quot;, &quot;__folium_color&quot;: &quot;#aec7e8&quot;, &quot;area_m2&quot;: 152817.7409095432, &quot;class&quot;: 16, &quot;name&quot;: &quot;Bare soil or sand&quot;}, &quot;type&quot;: &quot;Feature&quot;}, {&quot;bbox&quot;: [-79.33199741205918, 43.877254857168204, -79.32678326611162, 43.880939264196996], &quot;geometry&quot;: {&quot;coordinates&quot;: [[[-79.33199741205918, 43.87977417126906, 0.0], [-79.33121333997202, 43.880001799751696, 0.0], [-79.3310313589468, 43.88025228350962, 0.0], [-79.33079538908817, 43.88034728024203, 0.0], [-79.3302056575655, 43.88057774102787, 0.0], [-79.33008158377086, 43.880843133030154, 0.0], [-79.32992335155406, 43.880939264196996, 0.0], [-79.32957351504876, 43.8809341496799, 0.0], [-79.3293791614746, 43.880931307818955, 0.0], [-79.32919030944728, 43.88073165783107, 0.0], [-79.32907684163597, 43.88061749077465, 0.0], [-79.32873447546014, 43.880345277446196, 0.0], [-79.32863887201916, 43.88028762507028, 0.0], [-79.32842744432214, 43.88020015111844, 0.0], [-79.32765790650437, 43.87990762023228, 0.0], [-79.32744648162576, 43.87982014450329, 0.0], [-79.32716203871011, 43.879562837863055, 0.0], [-79.32708705324785, 43.87946329573042, 0.0], [-79.32703425701494, 43.879265634330125, 0.0], [-79.32698067419133, 43.87909608828087, 0.0], [-79.32703724869491, 43.87846406145704, 0.0], [-79.32696541239683, 43.878252057729064, 0.0], [-79.32681819992764, 43.8779545693494, 0.0], [-79.32678326611162, 43.87781342319932, 0.0], [-79.326787594479, 43.8776587886076, 0.0], [-79.32702041226653, 43.877676261581186, 0.0], [-79.32746992181465, 43.87828757158473, 0.0], [-79.32776379860378, 43.878207492744636, 0.0], [-79.3280977230425, 43.878085808858366, 0.0], [-79.32818489661896, 43.87774956166275, 0.0], [-79.32830897193483, 43.87748417161428, 0.0], [-79.3285651544737, 43.877361348772986, 0.0], [-79.32870276592078, 43.8773071081321, 0.0], [-79.32897641621356, 43.877254857168204, 0.0], [-79.32930679692355, 43.877259688980374, 0.0], [-79.32940121766863, 43.877359513889786, 0.0], [-79.32959006009695, 43.87755916348447, 0.0], [-79.32971824399701, 43.877842306676385, 0.0], [-79.33002133912402, 43.878128006575785, 0.0], [-79.33041886136678, 43.87851352980785, 0.0], [-79.33076318796131, 43.878715449546135, 0.0], [-79.33084014146489, 43.87874470077696, 0.0], [-79.33126181729443, 43.87896181251582, 0.0], [-79.33139629075879, 43.879020030422026, 0.0], [-79.3316461960519, 43.87912212424241, 0.0], [-79.3317612354499, 43.87918005791929, 0.0], [-79.3319544066894, 43.879225068810484, 0.0], [-79.3319544066894, 43.879225068810484, 0.0], [-79.33199741205918, 43.87977417126906, 0.0]]], &quot;type&quot;: &quot;Polygon&quot;}, &quot;id&quot;: &quot;190&quot;, &quot;properties&quot;: {&quot;Description&quot;: null, &quot;Name&quot;: &quot;F&quot;, &quot;__folium_color&quot;: &quot;#aec7e8&quot;, &quot;area_m2&quot;: 95162.4996636267, &quot;class&quot;: 16, &quot;name&quot;: &quot;Bare soil or sand&quot;}, &quot;type&quot;: &quot;Feature&quot;}, {&quot;bbox&quot;: [-79.45222187399713, 43.801947608586744, -79.44955208644045, 43.803091972533785], &quot;geometry&quot;: {&quot;coordinates&quot;: [[[-79.45222187399713, 43.80260469282288, 0.0], [-79.44978203261108, 43.803091972533785, 0.0], [-79.44955208644045, 43.802410281025765, 0.0], [-79.45199126624195, 43.801947608586744, 0.0], [-79.45222187399713, 43.80260469282288, 0.0]]], &quot;type&quot;: &quot;Polygon&quot;}, &quot;id&quot;: &quot;191&quot;, &quot;properties&quot;: {&quot;Description&quot;: null, &quot;Name&quot;: &quot;2&quot;, &quot;__folium_color&quot;: &quot;#98df8a&quot;, &quot;area_m2&quot;: 15572.035695371238, &quot;class&quot;: 2, &quot;name&quot;: &quot;Compact Mid-Rise&quot;}, &quot;type&quot;: &quot;Feature&quot;}, {&quot;bbox&quot;: [-79.36394886914748, 43.89255808680422, -79.35934919273403, 43.897097348391895], &quot;geometry&quot;: {&quot;coordinates&quot;: [[[-79.36394886914748, 43.89692949501143, 0.0], [-79.36165713651224, 43.89255808680422, 0.0], [-79.35934919273403, 43.893038281567364, 0.0], [-79.36006862932666, 43.89481357086852, 0.0], [-79.35974627126993, 43.895575399692454, 0.0], [-79.36290377319767, 43.897097348391895, 0.0], [-79.36394886914748, 43.89692949501143, 0.0]]], &quot;type&quot;: &quot;Polygon&quot;}, &quot;id&quot;: &quot;192&quot;, &quot;properties&quot;: {&quot;Description&quot;: null, &quot;Name&quot;: &quot;F&quot;, &quot;__folium_color&quot;: &quot;#aec7e8&quot;, &quot;area_m2&quot;: 99567.58358167816, &quot;class&quot;: 16, &quot;name&quot;: &quot;Bare soil or sand&quot;}, &quot;type&quot;: &quot;Feature&quot;}, {&quot;bbox&quot;: [-79.28904019409885, 43.765048232352385, -79.28592816022037, 43.76759194726635], &quot;geometry&quot;: {&quot;coordinates&quot;: [[[-79.28592816022037, 43.76548086706653, 0.0], [-79.28796214898945, 43.765048232352385, 0.0], [-79.28904019409885, 43.76709288075303, 0.0], [-79.28739164606527, 43.76759194726635, 0.0], [-79.28700128586716, 43.766643929455455, 0.0], [-79.28658606759683, 43.76674402105638, 0.0], [-79.28592816022037, 43.76548086706653, 0.0]]], &quot;type&quot;: &quot;Polygon&quot;}, &quot;id&quot;: &quot;193&quot;, &quot;properties&quot;: {&quot;Description&quot;: null, &quot;Name&quot;: &quot;2&quot;, &quot;__folium_color&quot;: &quot;#98df8a&quot;, &quot;area_m2&quot;: 39631.90371489966, &quot;class&quot;: 2, &quot;name&quot;: &quot;Compact Mid-Rise&quot;}, &quot;type&quot;: &quot;Feature&quot;}, {&quot;bbox&quot;: [-79.27362605002524, 43.76580582858129, -79.27191655006486, 43.767267876544295], &quot;geometry&quot;: {&quot;coordinates&quot;: [[[-79.27191655006486, 43.76608869073597, 0.0], [-79.27326361069896, 43.76580582858129, 0.0], [-79.27362605002524, 43.766942738359056, 0.0], [-79.27233194870918, 43.767267876544295, 0.0], [-79.27191655006486, 43.76608869073597, 0.0]]], &quot;type&quot;: &quot;Polygon&quot;}, &quot;id&quot;: &quot;194&quot;, &quot;properties&quot;: {&quot;Description&quot;: null, &quot;Name&quot;: &quot;2&quot;, &quot;__folium_color&quot;: &quot;#98df8a&quot;, &quot;area_m2&quot;: 14734.649600920095, &quot;class&quot;: 2, &quot;name&quot;: &quot;Compact Mid-Rise&quot;}, &quot;type&quot;: &quot;Feature&quot;}, {&quot;bbox&quot;: [-79.27584498020717, 43.76487539672997, -79.27313535508047, 43.76701295625687], &quot;geometry&quot;: {&quot;coordinates&quot;: [[[-79.27584498020717, 43.766541226419044, 0.0], [-79.27364843502718, 43.76701295625687, 0.0], [-79.27313535508047, 43.76540351278347, 0.0], [-79.27522484592303, 43.76487539672997, 0.0], [-79.27584498020717, 43.766541226419044, 0.0]]], &quot;type&quot;: &quot;Polygon&quot;}, &quot;id&quot;: &quot;195&quot;, &quot;properties&quot;: {&quot;Description&quot;: null, &quot;Name&quot;: &quot;2&quot;, &quot;__folium_color&quot;: &quot;#98df8a&quot;, &quot;area_m2&quot;: 33920.66252121359, &quot;class&quot;: 2, &quot;name&quot;: &quot;Compact Mid-Rise&quot;}, &quot;type&quot;: &quot;Feature&quot;}, {&quot;bbox&quot;: [-79.3170944269822, 43.90092257229313, -79.3073490598241, 43.906792423676194], &quot;geometry&quot;: {&quot;coordinates&quot;: [[[-79.3170944269822, 43.905778241855096, 0.0], [-79.31377745042542, 43.90092257229313, 0.0], [-79.3073490598241, 43.90126950937772, 0.0], [-79.30859491533475, 43.90368581607035, 0.0], [-79.31393266940631, 43.906792423676194, 0.0], [-79.3170944269822, 43.905778241855096, 0.0]]], &quot;type&quot;: &quot;Polygon&quot;}, &quot;id&quot;: &quot;196&quot;, &quot;properties&quot;: {&quot;Description&quot;: null, &quot;Name&quot;: &quot;F&quot;, &quot;__folium_color&quot;: &quot;#aec7e8&quot;, &quot;area_m2&quot;: 292368.45362155436, &quot;class&quot;: 16, &quot;name&quot;: &quot;Bare soil or sand&quot;}, &quot;type&quot;: &quot;Feature&quot;}, {&quot;bbox&quot;: [-79.33621404329807, 43.72918412133198, -79.3340469918283, 43.73083229932896], &quot;geometry&quot;: {&quot;coordinates&quot;: [[[-79.33541540841694, 43.73083229932896, 0.0], [-79.3340469918283, 43.729621683796644, 0.0], [-79.33511058080701, 43.72918412133198, 0.0], [-79.33621404329807, 43.73033285250118, 0.0], [-79.33541540841694, 43.73083229932896, 0.0]]], &quot;type&quot;: &quot;Polygon&quot;}, &quot;id&quot;: &quot;197&quot;, &quot;properties&quot;: {&quot;Description&quot;: null, &quot;Name&quot;: &quot;2&quot;, &quot;__folium_color&quot;: &quot;#98df8a&quot;, &quot;area_m2&quot;: 15010.824764623703, &quot;class&quot;: 2, &quot;name&quot;: &quot;Compact Mid-Rise&quot;}, &quot;type&quot;: &quot;Feature&quot;}, {&quot;bbox&quot;: [-79.20618834364167, 43.81276638325077, -79.19861206339166, 43.823835358902166], &quot;geometry&quot;: {&quot;coordinates&quot;: [[[-79.19861206339166, 43.813492037591985, 0.0], [-79.19958845266827, 43.81890226256388, 0.0], [-79.2016634897487, 43.821314618176174, 0.0], [-79.20289505805142, 43.823835358902166, 0.0], [-79.20526808019594, 43.82316957555088, 0.0], [-79.20618834364167, 43.82237277553073, 0.0], [-79.20588227230712, 43.82074546409423, 0.0], [-79.20522728949511, 43.81954533915514, 0.0], [-79.20498460948735, 43.81891956595958, 0.0], [-79.20461897832752, 43.81803496332219, 0.0], [-79.20406185258534, 43.81730960005987, 0.0], [-79.2037567167686, 43.8168991765009, 0.0], [-79.20356600117991, 43.816409425927176, 0.0], [-79.20352216793393, 43.81600311001221, 0.0], [-79.20272387124834, 43.81553760498985, 0.0], [-79.2025528508404, 43.815325340734724, 0.0], [-79.20252302532442, 43.815074735009354, 0.0], [-79.20249096462001, 43.8145874784809, 0.0], [-79.20252929991088, 43.81424329882704, 0.0], [-79.20255668115482, 43.813953030384965, 0.0], [-79.20255282350828, 43.81377043762081, 0.0], [-79.20255079050975, 43.813527029529894, 0.0], [-79.20258669180262, 43.813263936879245, 0.0], [-79.20258770546097, 43.81323015058699, 0.0], [-79.20231911903936, 43.81315832036095, 0.0], [-79.20189270911939, 43.81305696396349, 0.0], [-79.20115024806228, 43.81291006759467, 0.0], [-79.20059320180175, 43.81280664944133, 0.0], [-79.19989334374489, 43.81279562483226, 0.0], [-79.19932473544075, 43.81276638325077, 0.0], [-79.19902997662422, 43.812944269359065, 0.0], [-79.19866300227991, 43.81303989076794, 0.0], [-79.19861206339166, 43.813492037591985, 0.0]]], &quot;type&quot;: &quot;Polygon&quot;}, &quot;id&quot;: &quot;198&quot;, &quot;properties&quot;: {&quot;Description&quot;: null, &quot;Name&quot;: &quot;6&quot;, &quot;__folium_color&quot;: &quot;#f7b6d2&quot;, &quot;area_m2&quot;: 408405.3040190467, &quot;class&quot;: 6, &quot;name&quot;: &quot;Open Low-Rise&quot;}, &quot;type&quot;: &quot;Feature&quot;}, {&quot;bbox&quot;: [-79.25678778013821, 43.884960255740076, -79.24631024585929, 43.89489920636913], &quot;geometry&quot;: {&quot;coordinates&quot;: [[[-79.25026931153407, 43.89489920636913, 0.0], [-79.24631024585929, 43.8864556397892, 0.0], [-79.25284104443007, 43.884960255740076, 0.0], [-79.25678778013821, 43.89321412040702, 0.0], [-79.25026931153407, 43.89489920636913, 0.0]]], &quot;type&quot;: &quot;Polygon&quot;}, &quot;id&quot;: &quot;199&quot;, &quot;properties&quot;: {&quot;Description&quot;: null, &quot;Name&quot;: &quot;6&quot;, &quot;__folium_color&quot;: &quot;#f7b6d2&quot;, &quot;area_m2&quot;: 542291.2603583183, &quot;class&quot;: 6, &quot;name&quot;: &quot;Open Low-Rise&quot;}, &quot;type&quot;: &quot;Feature&quot;}, {&quot;bbox&quot;: [-79.63299876992235, 43.86926729346432, -79.6291665183929, 43.87133337550352], &quot;geometry&quot;: {&quot;coordinates&quot;: [[[-79.6296876145362, 43.87133337550352, 0.0], [-79.63299876992235, 43.87068617127832, 0.0], [-79.63275854657016, 43.86926729346432, 0.0], [-79.6291665183929, 43.86985124074627, 0.0], [-79.6296876145362, 43.87133337550352, 0.0]]], &quot;type&quot;: &quot;Polygon&quot;}, &quot;id&quot;: &quot;200&quot;, &quot;properties&quot;: {&quot;Description&quot;: null, &quot;Name&quot;: &quot;9&quot;, &quot;__folium_color&quot;: &quot;#17becf&quot;, &quot;area_m2&quot;: 46783.16665061745, &quot;class&quot;: 9, &quot;name&quot;: &quot;Sparsely built&quot;}, &quot;type&quot;: &quot;Feature&quot;}, {&quot;bbox&quot;: [-79.32371242885719, 43.92388714004031, -79.31919978806532, 43.92635812210242], &quot;geometry&quot;: {&quot;coordinates&quot;: [[[-79.32371242885719, 43.92579907507163, 0.0], [-79.32304000580882, 43.92388714004031, 0.0], [-79.31919978806532, 43.92475355832343, 0.0], [-79.31980764785224, 43.92635812210242, 0.0], [-79.32371242885719, 43.92579907507163, 0.0]]], &quot;type&quot;: &quot;Polygon&quot;}, &quot;id&quot;: &quot;201&quot;, &quot;properties&quot;: {&quot;Description&quot;: null, &quot;Name&quot;: &quot;9&quot;, &quot;__folium_color&quot;: &quot;#17becf&quot;, &quot;area_m2&quot;: 64802.993937505154, &quot;class&quot;: 9, &quot;name&quot;: &quot;Sparsely built&quot;}, &quot;type&quot;: &quot;Feature&quot;}, {&quot;bbox&quot;: [-79.34639552021244, 43.92864766129131, -79.3407222866104, 43.931246050237846], &quot;geometry&quot;: {&quot;coordinates&quot;: [[[-79.34639552021244, 43.930303638549184, 0.0], [-79.34142723469627, 43.931246050237846, 0.0], [-79.3407222866104, 43.92960496853009, 0.0], [-79.34587606001027, 43.92864766129131, 0.0], [-79.34639552021244, 43.930303638549184, 0.0]]], &quot;type&quot;: &quot;Polygon&quot;}, &quot;id&quot;: &quot;202&quot;, &quot;properties&quot;: {&quot;Description&quot;: null, &quot;Name&quot;: &quot;9&quot;, &quot;__folium_color&quot;: &quot;#17becf&quot;, &quot;area_m2&quot;: 79599.89769391112, &quot;class&quot;: 9, &quot;name&quot;: &quot;Sparsely built&quot;}, &quot;type&quot;: &quot;Feature&quot;}, {&quot;bbox&quot;: [-79.52067039349774, 43.59505660124934, -79.5188187449645, 43.59561209669385], &quot;geometry&quot;: {&quot;coordinates&quot;: [[[-79.52067039349774, 43.5953864939436, 0.0], [-79.52031984020753, 43.59505660124934, 0.0], [-79.5188187449645, 43.595384697198526, 0.0], [-79.51910567364703, 43.59561209669385, 0.0], [-79.52067039349774, 43.5953864939436, 0.0]]], &quot;type&quot;: &quot;Polygon&quot;}, &quot;id&quot;: &quot;203&quot;, &quot;properties&quot;: {&quot;Description&quot;: null, &quot;Name&quot;: &quot;E&quot;, &quot;__folium_color&quot;: &quot;#1f77b4&quot;, &quot;area_m2&quot;: 4621.7242380437865, &quot;class&quot;: 15, &quot;name&quot;: &quot;Bare rock or paved&quot;}, &quot;type&quot;: &quot;Feature&quot;}, {&quot;bbox&quot;: [-79.63123443071811, 43.64704992265447, -79.62339981740213, 43.65192678281385], &quot;geometry&quot;: {&quot;coordinates&quot;: [[[-79.63123443071811, 43.64780025830932, 0.0], [-79.62511194629276, 43.65192678281385, 0.0], [-79.62339981740213, 43.65153645486031, 0.0], [-79.6238001441739, 43.650506062297936, 0.0], [-79.62758181948831, 43.64900610822186, 0.0], [-79.63032482974945, 43.64704992265447, 0.0], [-79.63123443071811, 43.64780025830932, 0.0]]], &quot;type&quot;: &quot;Polygon&quot;}, &quot;id&quot;: &quot;204&quot;, &quot;properties&quot;: {&quot;Description&quot;: null, &quot;Name&quot;: &quot;E&quot;, &quot;__folium_color&quot;: &quot;#1f77b4&quot;, &quot;area_m2&quot;: 93124.76745778411, &quot;class&quot;: 15, &quot;name&quot;: &quot;Bare rock or paved&quot;}, &quot;type&quot;: &quot;Feature&quot;}, {&quot;bbox&quot;: [-79.59200130729452, 43.67009989921534, -79.59088717834547, 43.67158028236866], &quot;geometry&quot;: {&quot;coordinates&quot;: [[[-79.59200130729452, 43.671246301645546, 0.0], [-79.59144092341427, 43.67027073619266, 0.0], [-79.59137870540664, 43.67009989921534, 0.0], [-79.5909311302553, 43.67018126559778, 0.0], [-79.59088717834547, 43.67064471942276, 0.0], [-79.59088970786699, 43.670971950755856, 0.0], [-79.59097811513202, 43.671220751562544, 0.0], [-79.59107209596739, 43.671340219826256, 0.0], [-79.59112810312614, 43.67144997696269, 0.0], [-79.5911672828151, 43.67151700911129, 0.0], [-79.59120145702089, 43.67158028236866, 0.0], [-79.59200130729452, 43.671246301645546, 0.0]]], &quot;type&quot;: &quot;Polygon&quot;}, &quot;id&quot;: &quot;205&quot;, &quot;properties&quot;: {&quot;Description&quot;: null, &quot;Name&quot;: &quot;E&quot;, &quot;__folium_color&quot;: &quot;#1f77b4&quot;, &quot;area_m2&quot;: 9146.47758271498, &quot;class&quot;: 15, &quot;name&quot;: &quot;Bare rock or paved&quot;}, &quot;type&quot;: &quot;Feature&quot;}], &quot;type&quot;: &quot;FeatureCollection&quot;});\n",
       "\n",
       "        \n",
       "    \n",
       "    geo_json_62db4d768e9a651807cb8efe2d8f30f3.bindTooltip(\n",
       "    function(layer){\n",
       "    let div = L.DomUtil.create(&#x27;div&#x27;);\n",
       "    \n",
       "    let handleObject = feature=&gt;typeof(feature)==&#x27;object&#x27; ? JSON.stringify(feature) : feature;\n",
       "    let fields = [&quot;Name&quot;, &quot;Description&quot;, &quot;class&quot;, &quot;name&quot;, &quot;area_m2&quot;];\n",
       "    let aliases = [&quot;Name&quot;, &quot;Description&quot;, &quot;class&quot;, &quot;name&quot;, &quot;area_m2&quot;];\n",
       "    let table = &#x27;&lt;table&gt;&#x27; +\n",
       "        String(\n",
       "        fields.map(\n",
       "        (v,i)=&gt;\n",
       "        `&lt;tr&gt;\n",
       "            &lt;th&gt;${aliases[i]}&lt;/th&gt;\n",
       "            \n",
       "            &lt;td&gt;${handleObject(layer.feature.properties[v])}&lt;/td&gt;\n",
       "        &lt;/tr&gt;`).join(&#x27;&#x27;))\n",
       "    +&#x27;&lt;/table&gt;&#x27;;\n",
       "    div.innerHTML=table;\n",
       "    \n",
       "    return div\n",
       "    }\n",
       "    ,{\n",
       "  &quot;sticky&quot;: true,\n",
       "  &quot;className&quot;: &quot;foliumtooltip&quot;,\n",
       "});\n",
       "                     \n",
       "    \n",
       "            geo_json_62db4d768e9a651807cb8efe2d8f30f3.addTo(map_f7d07e573a5ed91747c25cce955b065a);\n",
       "        \n",
       "&lt;/script&gt;\n",
       "&lt;/html&gt;\" style=\"position:absolute;width:100%;height:100%;left:0;top:0;border:none !important;\" allowfullscreen webkitallowfullscreen mozallowfullscreen></iframe></div></div>"
      ],
      "text/plain": [
       "<folium.folium.Map at 0x27a72ab8710>"
      ]
     },
     "execution_count": 4,
     "metadata": {},
     "output_type": "execute_result"
    }
   ],
   "source": [
    "\n",
    "lcz_gdf=gpd.read_file(LCZ_FP)\n",
    "lcz_gdf.dropna(subset='geometry',inplace=True)\n",
    "lcz_gdf['class'] = [lcz_legend.set_index('class_id').loc[cl]['class'] for cl in lcz_gdf.Name]\n",
    "# lcz_gdf['class_id'] = [lcz_legend.set_index('class_id').loc[cl]['class_id'] for cl in lcz_gdf.Name]\n",
    "lcz_gdf['name'] = [lcz_legend.set_index('class_id').loc[cl]['name'] for cl in lcz_gdf.Name]\n",
    "lcz_gdf['area_m2']=lcz_gdf.to_crs(UTM_CRS).area\n",
    "\n",
    "lcz_gdf.explore(\n",
    "    column='name'\n",
    ")"
   ]
  },
  {
   "cell_type": "markdown",
   "id": "aa5afc82",
   "metadata": {},
   "source": [
    "### 3.2. Rasterize and Export "
   ]
  },
  {
   "cell_type": "code",
   "execution_count": 5,
   "id": "9c694f1e",
   "metadata": {},
   "outputs": [
    {
     "data": {
      "text/html": [
       "\n",
       "            <style>\n",
       "                .geemap-dark {\n",
       "                    --jp-widgets-color: white;\n",
       "                    --jp-widgets-label-color: white;\n",
       "                    --jp-ui-font-color1: white;\n",
       "                    --jp-layout-color2: #454545;\n",
       "                    background-color: #383838;\n",
       "                }\n",
       "\n",
       "                .geemap-dark .jupyter-button {\n",
       "                    --jp-layout-color3: #383838;\n",
       "                }\n",
       "\n",
       "                .geemap-colab {\n",
       "                    background-color: var(--colab-primary-surface-color, white);\n",
       "                }\n",
       "\n",
       "                .geemap-colab .jupyter-button {\n",
       "                    --jp-layout-color3: var(--colab-primary-surface-color, white);\n",
       "                }\n",
       "            </style>\n",
       "            "
      ],
      "text/plain": [
       "<IPython.core.display.HTML object>"
      ]
     },
     "metadata": {},
     "output_type": "display_data"
    }
   ],
   "source": [
    "\n",
    "\n",
    "## Train Samples Rasterization\n",
    "rasterize_vector(gdf=lcz_gdf,\n",
    "                 ref=s2_ref,\n",
    "                 attribute=\"class\",\n",
    "                 crs=s2.rio.crs,\n",
    "                 out_path=TRAIN_FP,\n",
    "                 )\n",
    "\n",
    "# ## Test Samples Rasterization\n",
    "# rasterize_vector(gdf=lcz_test,\n",
    "#                  ref=s2_ref,\n",
    "#                  attribute=\"class\",\n",
    "#                  crs=s2.rio.crs,\n",
    "#                  out_path=TEST_FP,\n",
    "#                  )\n",
    "\n"
   ]
  }
 ],
 "metadata": {
  "kernelspec": {
   "display_name": "lcz_classification",
   "language": "python",
   "name": "python3"
  },
  "language_info": {
   "codemirror_mode": {
    "name": "ipython",
    "version": 3
   },
   "file_extension": ".py",
   "mimetype": "text/x-python",
   "name": "python",
   "nbconvert_exporter": "python",
   "pygments_lexer": "ipython3",
   "version": "3.11.11"
  }
 },
 "nbformat": 4,
 "nbformat_minor": 5
}
