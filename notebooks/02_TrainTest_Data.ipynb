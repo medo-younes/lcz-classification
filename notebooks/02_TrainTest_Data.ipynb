{
 "cells": [
  {
   "cell_type": "markdown",
   "id": "af46be4a",
   "metadata": {},
   "source": [
    "# **Training Data Processing**\n",
    "\n",
    "1. Project Setup\n",
    "2. Prepare UCP Data\n",
    "3. Rasterize UCP Data\n",
    "4. T"
   ]
  },
  {
   "cell_type": "markdown",
   "id": "0d5a655e",
   "metadata": {},
   "source": [
    "# **1. Project Setup**"
   ]
  },
  {
   "cell_type": "markdown",
   "id": "d930e7dd",
   "metadata": {},
   "source": [
    "### 1.1. Import Libraries"
   ]
  },
  {
   "cell_type": "code",
   "execution_count": 1,
   "id": "f1da8abe",
   "metadata": {},
   "outputs": [
    {
     "name": "stdout",
     "output_type": "stream",
     "text": [
      "- Parent directory for Toronto already exists, retrievine folder paths...\n",
      "- Folder paths for Toronto retrieved.\n"
     ]
    }
   ],
   "source": [
    "%load_ext autoreload\n",
    "%autoreload \n",
    "\n",
    "import sys\n",
    "import os\n",
    "\n",
    "# Add the module's parent directory to sys.path\n",
    "module_path = os.path.abspath(os.path.join('..'))\n",
    "if module_path not in sys.path:\n",
    "    sys.path.append(module_path)\n",
    "\n",
    "from lcz_classification.config import * \n",
    "from lcz_classification.dataset import fetch_metadata\n",
    "from lcz_classification.util import merge_rasters, resample_da, read_lcz_legend, rasterize_vector, generate_raster, get_overlapping_tiles, meter_to_deg, kml_to_gdf\n",
    "from lcz_classification.plots import map_training_areas\n",
    "import fiona\n",
    "import rioxarray as rio\n",
    "import pandas as pd\n",
    "import rasterio as r\n",
    "from shapely.geometry import box\n",
    "import geopandas as gpd\n",
    "import xarray as xr\n",
    "from rasterio.enums import Resampling\n",
    "import numpy as np\n",
    "from sklearn.model_selection import train_test_split\n"
   ]
  },
  {
   "cell_type": "code",
   "execution_count": 2,
   "id": "08c52627",
   "metadata": {},
   "outputs": [
    {
     "data": {
      "text/html": [
       "\n",
       "            <style>\n",
       "                .geemap-dark {\n",
       "                    --jp-widgets-color: white;\n",
       "                    --jp-widgets-label-color: white;\n",
       "                    --jp-ui-font-color1: white;\n",
       "                    --jp-layout-color2: #454545;\n",
       "                    background-color: #383838;\n",
       "                }\n",
       "\n",
       "                .geemap-dark .jupyter-button {\n",
       "                    --jp-layout-color3: #383838;\n",
       "                }\n",
       "\n",
       "                .geemap-colab {\n",
       "                    background-color: var(--colab-primary-surface-color, white);\n",
       "                }\n",
       "\n",
       "                .geemap-colab .jupyter-button {\n",
       "                    --jp-layout-color3: var(--colab-primary-surface-color, white);\n",
       "                }\n",
       "            </style>\n",
       "            "
      ],
      "text/plain": [
       "<IPython.core.display.HTML object>"
      ]
     },
     "metadata": {},
     "output_type": "display_data"
    }
   ],
   "source": [
    "study_area=fetch_metadata(\"STUDY_AREA\")\n",
    "\n",
    "UTM_CRS=study_area.estimate_utm_crs()\n",
    "bounds=list(study_area.total_bounds)\n",
    "\n",
    "lcz_legend=fetch_metadata('LCZ_LEGEND')\n"
   ]
  },
  {
   "cell_type": "markdown",
   "id": "24a54c95",
   "metadata": {},
   "source": [
    "### 1.3. Setup Reference Raster"
   ]
  },
  {
   "cell_type": "code",
   "execution_count": 3,
   "id": "e46a7030",
   "metadata": {},
   "outputs": [
    {
     "data": {
      "text/html": [
       "\n",
       "            <style>\n",
       "                .geemap-dark {\n",
       "                    --jp-widgets-color: white;\n",
       "                    --jp-widgets-label-color: white;\n",
       "                    --jp-ui-font-color1: white;\n",
       "                    --jp-layout-color2: #454545;\n",
       "                    background-color: #383838;\n",
       "                }\n",
       "\n",
       "                .geemap-dark .jupyter-button {\n",
       "                    --jp-layout-color3: #383838;\n",
       "                }\n",
       "\n",
       "                .geemap-colab {\n",
       "                    background-color: var(--colab-primary-surface-color, white);\n",
       "                }\n",
       "\n",
       "                .geemap-colab .jupyter-button {\n",
       "                    --jp-layout-color3: var(--colab-primary-surface-color, white);\n",
       "                }\n",
       "            </style>\n",
       "            "
      ],
      "text/plain": [
       "<IPython.core.display.HTML object>"
      ]
     },
     "metadata": {},
     "output_type": "display_data"
    }
   ],
   "source": [
    "\n",
    "## Setup Reference Raster from Sentinel-2 Imagery\n",
    "s2=rio.open_rasterio(S2_FP)\n",
    "s2_ref=s2.isel(band=0)"
   ]
  },
  {
   "cell_type": "markdown",
   "id": "fe8490b6",
   "metadata": {},
   "source": [
    "# **2. Urban Canopy Layer Processing**"
   ]
  },
  {
   "cell_type": "markdown",
   "id": "8d516d4b",
   "metadata": {},
   "source": [
    "## 2.1. Sky View Factor"
   ]
  },
  {
   "cell_type": "markdown",
   "id": "c1ac0745",
   "metadata": {},
   "source": [
    "#### 2.1.1. Merge  DSM Layers "
   ]
  },
  {
   "cell_type": "code",
   "execution_count": 6,
   "id": "c9605953",
   "metadata": {},
   "outputs": [
    {
     "data": {
      "text/html": [
       "\n",
       "            <style>\n",
       "                .geemap-dark {\n",
       "                    --jp-widgets-color: white;\n",
       "                    --jp-widgets-label-color: white;\n",
       "                    --jp-ui-font-color1: white;\n",
       "                    --jp-layout-color2: #454545;\n",
       "                    background-color: #383838;\n",
       "                }\n",
       "\n",
       "                .geemap-dark .jupyter-button {\n",
       "                    --jp-layout-color3: #383838;\n",
       "                }\n",
       "\n",
       "                .geemap-colab {\n",
       "                    background-color: var(--colab-primary-surface-color, white);\n",
       "                }\n",
       "\n",
       "                .geemap-colab .jupyter-button {\n",
       "                    --jp-layout-color3: var(--colab-primary-surface-color, white);\n",
       "                }\n",
       "            </style>\n",
       "            "
      ],
      "text/plain": [
       "<IPython.core.display.HTML object>"
      ]
     },
     "metadata": {},
     "output_type": "display_data"
    }
   ],
   "source": [
    "dsm_files= [f\"{DSM_RAW}/{tif}\" for tif in os.listdir(DSM_RAW) if \".tif.aux.xml\" not in tif] # prepare file paths of DSM tiles\n",
    "\n",
    "\n",
    "out_path=f\"{SF_PRC}/alos_dsm_{CELL_RESOLUTION}m.tif\" \n",
    "merge_rasters(raster_paths=dsm_files,\n",
    "                        out_path=out_path,\n",
    "                        transform=None\n",
    "                        ) # merge into a single raster using merge_arrays()"
   ]
  },
  {
   "cell_type": "markdown",
   "id": "737d550a",
   "metadata": {},
   "source": [
    "#### 2.1.2. Compute Sky View Factor\n",
    "\n",
    "Run ../lcz_classification/svf_qgis.py in QGIS v3.28 Python Console\n",
    "\n",
    "ADD SCREENSHOT!"
   ]
  },
  {
   "cell_type": "markdown",
   "id": "60a4a61f",
   "metadata": {},
   "source": [
    "#### 2.1.3. Reproject Match to S2 Data [DELETE?]"
   ]
  },
  {
   "cell_type": "code",
   "execution_count": 5,
   "id": "e6b92c5f",
   "metadata": {},
   "outputs": [
    {
     "data": {
      "text/html": [
       "\n",
       "            <style>\n",
       "                .geemap-dark {\n",
       "                    --jp-widgets-color: white;\n",
       "                    --jp-widgets-label-color: white;\n",
       "                    --jp-ui-font-color1: white;\n",
       "                    --jp-layout-color2: #454545;\n",
       "                    background-color: #383838;\n",
       "                }\n",
       "\n",
       "                .geemap-dark .jupyter-button {\n",
       "                    --jp-layout-color3: #383838;\n",
       "                }\n",
       "\n",
       "                .geemap-colab {\n",
       "                    background-color: var(--colab-primary-surface-color, white);\n",
       "                }\n",
       "\n",
       "                .geemap-colab .jupyter-button {\n",
       "                    --jp-layout-color3: var(--colab-primary-surface-color, white);\n",
       "                }\n",
       "            </style>\n",
       "            "
      ],
      "text/plain": [
       "<IPython.core.display.HTML object>"
      ]
     },
     "metadata": {},
     "output_type": "display_data"
    }
   ],
   "source": [
    "# ref=rio.open_rasterio(BH_FP)\n",
    "svf=rio.open_rasterio(SVF_FP)\n",
    "svf=svf.rio.reproject_match(s2_ref,resampling=Resampling.average)\n",
    "attrs=svf.attrs\n",
    "\n",
    "svf.rio.to_raster(SF_FP)\n",
    "\n",
    "svf.close()"
   ]
  },
  {
   "cell_type": "markdown",
   "id": "2fc88c85",
   "metadata": {},
   "source": [
    "## 2.2. Impervious Surface Fraction"
   ]
  },
  {
   "cell_type": "code",
   "execution_count": 6,
   "id": "4337735f",
   "metadata": {},
   "outputs": [
    {
     "data": {
      "text/html": [
       "\n",
       "            <style>\n",
       "                .geemap-dark {\n",
       "                    --jp-widgets-color: white;\n",
       "                    --jp-widgets-label-color: white;\n",
       "                    --jp-ui-font-color1: white;\n",
       "                    --jp-layout-color2: #454545;\n",
       "                    background-color: #383838;\n",
       "                }\n",
       "\n",
       "                .geemap-dark .jupyter-button {\n",
       "                    --jp-layout-color3: #383838;\n",
       "                }\n",
       "\n",
       "                .geemap-colab {\n",
       "                    background-color: var(--colab-primary-surface-color, white);\n",
       "                }\n",
       "\n",
       "                .geemap-colab .jupyter-button {\n",
       "                    --jp-layout-color3: var(--colab-primary-surface-color, white);\n",
       "                }\n",
       "            </style>\n",
       "            "
      ],
      "text/plain": [
       "<IPython.core.display.HTML object>"
      ]
     },
     "metadata": {},
     "output_type": "display_data"
    }
   ],
   "source": [
    "# # Reproject Match to Sentinel-2 Image\n",
    "\n",
    "# Example bounding box\n",
    "if os.path.exists(IS_MERGED_FP):\n",
    "    isf=rio.open_rasterio(IS_MERGED_FP)\n",
    "    isf.values=np.float64(isf.values)\n",
    "\n",
    "    # Reproject Match to S2 Data\n",
    "    isf_matched=isf.rio.reproject_match(s2_ref,resampling=Resampling.average)\n",
    "    isf_matched.rio.to_raster(IS_FP)\n",
    "\n",
    "else:\n",
    "    tiles = get_overlapping_tiles(bounds)\n",
    "    x1,y1,x2,y2 = bounds\n",
    "\n",
    "    # Get GIS Tiles that fall within Study Area bounds\n",
    "    isf_files=[f\"{IS_RAW}/GISA-10m_{tile}.tif\" for tile in tiles]\n",
    "    isf_tiles=[rio.open_rasterio(file).sel(x=slice(x1,x2), y=slice(y2,y1)) for file in isf_files]\n",
    "    keep=[True if tile.y.size > 0 and tile.x.size > 0 else False for tile in isf_tiles ]\n",
    "    isf_files=np.array(isf_files)[keep]\n",
    "\n",
    "    # Merge Impervious Area Rasters\n",
    "    merge_rasters(\n",
    "        raster_paths=isf_files,\n",
    "        out_path=IS_MERGED_FP\n",
    "    )\n",
    "\n",
    "\n"
   ]
  },
  {
   "cell_type": "markdown",
   "id": "7844009c",
   "metadata": {},
   "source": [
    "## 2.3. Tree Canopy Height"
   ]
  },
  {
   "cell_type": "code",
   "execution_count": 7,
   "id": "812fe590",
   "metadata": {},
   "outputs": [
    {
     "data": {
      "text/html": [
       "\n",
       "            <style>\n",
       "                .geemap-dark {\n",
       "                    --jp-widgets-color: white;\n",
       "                    --jp-widgets-label-color: white;\n",
       "                    --jp-ui-font-color1: white;\n",
       "                    --jp-layout-color2: #454545;\n",
       "                    background-color: #383838;\n",
       "                }\n",
       "\n",
       "                .geemap-dark .jupyter-button {\n",
       "                    --jp-layout-color3: #383838;\n",
       "                }\n",
       "\n",
       "                .geemap-colab {\n",
       "                    background-color: var(--colab-primary-surface-color, white);\n",
       "                }\n",
       "\n",
       "                .geemap-colab .jupyter-button {\n",
       "                    --jp-layout-color3: var(--colab-primary-surface-color, white);\n",
       "                }\n",
       "            </style>\n",
       "            "
      ],
      "text/plain": [
       "<IPython.core.display.HTML object>"
      ]
     },
     "metadata": {},
     "output_type": "display_data"
    }
   ],
   "source": [
    "from lcz_classification.util import resample_da\n",
    "\n",
    "CH_MERGED=f\"{CH_PRC}/canopy_height_merged.tif\"\n",
    "\n",
    "if os.path.exists(CH_MERGED) == False:\n",
    "    \n",
    "    ch_files= [f\"{CH_RAW}/{tif}\" for tif in os.listdir(CH_RAW) if \".tif\" in tif] # prepare file paths of DSM tiles\n",
    "\n",
    "    merge_rasters(\n",
    "                raster_paths=ch_files,\n",
    "                out_path=CH_MERGED,\n",
    "                transform=None\n",
    "                ) # merge into a single raster using merge_arrays()\n",
    "\n",
    "ch=rio.open_rasterio(CH_MERGED)\n",
    "ch=ch.where(ch < 255).fillna(0)\n",
    "ch_resampled=ch.rio.reproject_match(s2_ref, resampling=Resampling.average)\n",
    "ch_resampled.rio.to_raster(CH_FP)\n",
    "\n",
    "ch.close()\n",
    "ch_resampled.close()"
   ]
  },
  {
   "cell_type": "markdown",
   "id": "994ebf30",
   "metadata": {},
   "source": [
    "## 2.4. Building Height"
   ]
  },
  {
   "cell_type": "markdown",
   "id": "7edcb879",
   "metadata": {},
   "source": [
    "#### 2.2.1. Combine Vancouver Building Layers into Single GeoParquet File"
   ]
  },
  {
   "cell_type": "code",
   "execution_count": 8,
   "id": "f096bde2",
   "metadata": {},
   "outputs": [
    {
     "data": {
      "text/html": [
       "\n",
       "            <style>\n",
       "                .geemap-dark {\n",
       "                    --jp-widgets-color: white;\n",
       "                    --jp-widgets-label-color: white;\n",
       "                    --jp-ui-font-color1: white;\n",
       "                    --jp-layout-color2: #454545;\n",
       "                    background-color: #383838;\n",
       "                }\n",
       "\n",
       "                .geemap-dark .jupyter-button {\n",
       "                    --jp-layout-color3: #383838;\n",
       "                }\n",
       "\n",
       "                .geemap-colab {\n",
       "                    background-color: var(--colab-primary-surface-color, white);\n",
       "                }\n",
       "\n",
       "                .geemap-colab .jupyter-button {\n",
       "                    --jp-layout-color3: var(--colab-primary-surface-color, white);\n",
       "                }\n",
       "            </style>\n",
       "            "
      ],
      "text/plain": [
       "<IPython.core.display.HTML object>"
      ]
     },
     "metadata": {},
     "output_type": "display_data"
    },
    {
     "name": "stdout",
     "output_type": "stream",
     "text": [
      "Build Heights Raster File Already Found\n"
     ]
    }
   ],
   "source": [
    "if os.path.exists(BH_VECTOR_FP) == False:\n",
    "    BH_FILES=[f\"{BH_RAW}/{gdb}/{gdb.replace('Autobuilding_ON_','').replace('_fgdb','.gdb')}\" for gdb in os.listdir(BH_RAW) if '.zip' not in gdb]\n",
    "\n",
    "\n",
    "    ## Get CRS of Buildings Layer and Prepare bounding box with same projection\n",
    "    with fiona.open(BH_FILES[0]) as src:\n",
    "        bh_crs =src.crs\n",
    "        bh_bbox=box(*list(study_area.to_crs(bh_crs).total_bounds))\n",
    "\n",
    "\n",
    "    bh_gdf_list=[gpd.read_file(file, bbox=bh_bbox).to_crs(bh_crs) for file in BH_FILES]\n",
    "    bh_gdf=pd.concat(bh_gdf_list).reset_index(drop=True)\n",
    "    # bh_gdf=bh_gdf[bh_gdf.datemax.str.contains(filter_out_yr)]\n",
    "    bh_gdf.to_crs(CRS).to_parquet(BH_VECTOR_FP)\n",
    "\n",
    "print(\"Build Heights Raster File Already Found\")"
   ]
  },
  {
   "cell_type": "markdown",
   "id": "660e4bd2",
   "metadata": {},
   "source": [
    "#### 2.2.2. Rasterize Building Height Data"
   ]
  },
  {
   "cell_type": "code",
   "execution_count": 9,
   "id": "8b97379c",
   "metadata": {},
   "outputs": [
    {
     "data": {
      "text/html": [
       "\n",
       "            <style>\n",
       "                .geemap-dark {\n",
       "                    --jp-widgets-color: white;\n",
       "                    --jp-widgets-label-color: white;\n",
       "                    --jp-ui-font-color1: white;\n",
       "                    --jp-layout-color2: #454545;\n",
       "                    background-color: #383838;\n",
       "                }\n",
       "\n",
       "                .geemap-dark .jupyter-button {\n",
       "                    --jp-layout-color3: #383838;\n",
       "                }\n",
       "\n",
       "                .geemap-colab {\n",
       "                    background-color: var(--colab-primary-surface-color, white);\n",
       "                }\n",
       "\n",
       "                .geemap-colab .jupyter-button {\n",
       "                    --jp-layout-color3: var(--colab-primary-surface-color, white);\n",
       "                }\n",
       "            </style>\n",
       "            "
      ],
      "text/plain": [
       "<IPython.core.display.HTML object>"
      ]
     },
     "metadata": {},
     "output_type": "display_data"
    },
    {
     "name": "stdout",
     "output_type": "stream",
     "text": [
      "-READING\n"
     ]
    }
   ],
   "source": [
    "\n",
    "if os.path.exists(BH_RASTER_FP):\n",
    "    print(\"-READING\")\n",
    "    bh=rio.open_rasterio(BH_RASTER_FP)\n",
    "else:\n",
    "    bh_gdf=gpd.read_parquet(BH_VECTOR_FP)\n",
    "    print(\"-Generating 5m raster\")\n",
    "    ref = generate_raster(study_area.total_bounds, crs=CRS, resolution=5)\n",
    "    print(\"- 5m Raster Generated\")\n",
    "    # Rasterize building heights\n",
    "    rasterize_vector(gdf=bh_gdf,\n",
    "                    ref=ref,\n",
    "                    attribute=\"heightmax\",\n",
    "                    crs=CRS,\n",
    "                    out_path=BH_RASTER_FP\n",
    "                )\n",
    "    \n",
    "    print(\"- Building Heights Rasterized\")\n",
    "    bh=rio.open_rasterio(BH_RASTER_FP)\n",
    "\n",
    "# Resample Building Heights to Match Sentinel-2 Data\n",
    "bh_resampled=bh.rio.reproject_match(s2_ref, resampling=Resampling.average)\n",
    "bh.close()\n",
    "\n",
    "# Expore 30m raster\n",
    "bh_resampled.rio.to_raster(BH_FP)\n",
    "bh_resampled.close()"
   ]
  },
  {
   "cell_type": "markdown",
   "id": "66663197",
   "metadata": {},
   "source": [
    "## 2.5. Building Surface Fraction"
   ]
  },
  {
   "cell_type": "code",
   "execution_count": 10,
   "id": "17bcbce2",
   "metadata": {},
   "outputs": [
    {
     "data": {
      "text/html": [
       "\n",
       "            <style>\n",
       "                .geemap-dark {\n",
       "                    --jp-widgets-color: white;\n",
       "                    --jp-widgets-label-color: white;\n",
       "                    --jp-ui-font-color1: white;\n",
       "                    --jp-layout-color2: #454545;\n",
       "                    background-color: #383838;\n",
       "                }\n",
       "\n",
       "                .geemap-dark .jupyter-button {\n",
       "                    --jp-layout-color3: #383838;\n",
       "                }\n",
       "\n",
       "                .geemap-colab {\n",
       "                    background-color: var(--colab-primary-surface-color, white);\n",
       "                }\n",
       "\n",
       "                .geemap-colab .jupyter-button {\n",
       "                    --jp-layout-color3: var(--colab-primary-surface-color, white);\n",
       "                }\n",
       "            </style>\n",
       "            "
      ],
      "text/plain": [
       "<IPython.core.display.HTML object>"
      ]
     },
     "metadata": {},
     "output_type": "display_data"
    }
   ],
   "source": [
    "if os.path.exists(BH_RASTER_FP):\n",
    "    bh=rio.open_rasterio(BH_RASTER_FP)\n",
    "\n",
    "    arr=bh.values\n",
    "    mask=~bh.where(bh > 0).isnull().values\n",
    "\n",
    "    arr[mask] = 1.0\n",
    "    arr[~mask] = 0.0\n",
    "\n",
    "    bh.values=arr\n",
    "    bsf=bh.rio.reproject_match(s2_ref, resampling=Resampling.average)\n",
    "    bsf.rio.to_raster(BS_FP)\n",
    "    bh.close()\n",
    "    bsf.close()\n",
    "\n",
    "else:\n",
    "    print(f\"No rasterized Building Height Data Found, rasterize {BH_VECTOR_FP} first\")"
   ]
  },
  {
   "cell_type": "markdown",
   "id": "8f3e0765",
   "metadata": {},
   "source": [
    "## 3. Train and Test Samples of Local Climate Zone (LCZ) Training Areas"
   ]
  },
  {
   "cell_type": "markdown",
   "id": "687965a5",
   "metadata": {},
   "source": [
    "### 3.1. Split LCZ Vector Data to Train / Test"
   ]
  },
  {
   "cell_type": "code",
   "execution_count": null,
   "id": "489860bf",
   "metadata": {},
   "outputs": [
    {
     "data": {
      "text/html": [
       "\n",
       "            <style>\n",
       "                .geemap-dark {\n",
       "                    --jp-widgets-color: white;\n",
       "                    --jp-widgets-label-color: white;\n",
       "                    --jp-ui-font-color1: white;\n",
       "                    --jp-layout-color2: #454545;\n",
       "                    background-color: #383838;\n",
       "                }\n",
       "\n",
       "                .geemap-dark .jupyter-button {\n",
       "                    --jp-layout-color3: #383838;\n",
       "                }\n",
       "\n",
       "                .geemap-colab {\n",
       "                    background-color: var(--colab-primary-surface-color, white);\n",
       "                }\n",
       "\n",
       "                .geemap-colab .jupyter-button {\n",
       "                    --jp-layout-color3: var(--colab-primary-surface-color, white);\n",
       "                }\n",
       "            </style>\n",
       "            "
      ],
      "text/plain": [
       "<IPython.core.display.HTML object>"
      ]
     },
     "metadata": {},
     "output_type": "display_data"
    }
   ],
   "source": [
    "# lcz_gdf=gpd.read_file(LCZ_FP)\n",
    "# lcz_gdf.dropna(subset='geometry',inplace=True)\n",
    "# lcz_gdf['class'] = [lcz_legend.set_index('class_id').loc[cl]['class'] for cl in lcz_gdf.Name]\n",
    "# # lcz_gdf['class_id'] = [lcz_legend.set_index('class_id').loc[cl]['class_id'] for cl in lcz_gdf.Name]\n",
    "# lcz_gdf['name'] = [lcz_legend.set_index('class_id').loc[cl]['name'] for cl in lcz_gdf.Name]\n",
    "# lcz_gdf['area_m2']=lcz_gdf.to_crs(UTM_CRS).area\n",
    "\n",
    "# lcz_gdf.rename(columns=dict(Name ='class_id', Description='description')).to_file(LCZ_FP.replace(\"training_areas\",'training_areas_updated'))"
   ]
  },
  {
   "cell_type": "code",
   "execution_count": 4,
   "id": "e05164a4",
   "metadata": {},
   "outputs": [
    {
     "data": {
      "text/html": [
       "\n",
       "            <style>\n",
       "                .geemap-dark {\n",
       "                    --jp-widgets-color: white;\n",
       "                    --jp-widgets-label-color: white;\n",
       "                    --jp-ui-font-color1: white;\n",
       "                    --jp-layout-color2: #454545;\n",
       "                    background-color: #383838;\n",
       "                }\n",
       "\n",
       "                .geemap-dark .jupyter-button {\n",
       "                    --jp-layout-color3: #383838;\n",
       "                }\n",
       "\n",
       "                .geemap-colab {\n",
       "                    background-color: var(--colab-primary-surface-color, white);\n",
       "                }\n",
       "\n",
       "                .geemap-colab .jupyter-button {\n",
       "                    --jp-layout-color3: var(--colab-primary-surface-color, white);\n",
       "                }\n",
       "            </style>\n",
       "            "
      ],
      "text/plain": [
       "<IPython.core.display.HTML object>"
      ]
     },
     "metadata": {},
     "output_type": "display_data"
    }
   ],
   "source": [
    "lcz_gdf=gpd.read_file(LCZ_FP)\n",
    "\n",
    "# Stratify by Area\n",
    "# lcz_train,lcz_test=train_test_split(lcz_gdf,test_size=0.3,stratify=lcz_gdf['class_id'])\n",
    "\n",
    "\n",
    "# map_training_areas(lcz_train,lcz_test,boundary=study_area)\n"
   ]
  },
  {
   "cell_type": "markdown",
   "id": "aa5afc82",
   "metadata": {},
   "source": [
    "### 3.2. Rasterize and Export "
   ]
  },
  {
   "cell_type": "code",
   "execution_count": 5,
   "id": "9c694f1e",
   "metadata": {},
   "outputs": [
    {
     "data": {
      "text/html": [
       "\n",
       "            <style>\n",
       "                .geemap-dark {\n",
       "                    --jp-widgets-color: white;\n",
       "                    --jp-widgets-label-color: white;\n",
       "                    --jp-ui-font-color1: white;\n",
       "                    --jp-layout-color2: #454545;\n",
       "                    background-color: #383838;\n",
       "                }\n",
       "\n",
       "                .geemap-dark .jupyter-button {\n",
       "                    --jp-layout-color3: #383838;\n",
       "                }\n",
       "\n",
       "                .geemap-colab {\n",
       "                    background-color: var(--colab-primary-surface-color, white);\n",
       "                }\n",
       "\n",
       "                .geemap-colab .jupyter-button {\n",
       "                    --jp-layout-color3: var(--colab-primary-surface-color, white);\n",
       "                }\n",
       "            </style>\n",
       "            "
      ],
      "text/plain": [
       "<IPython.core.display.HTML object>"
      ]
     },
     "metadata": {},
     "output_type": "display_data"
    }
   ],
   "source": [
    "\n",
    "\n",
    "## Train Samples Rasterization\n",
    "rasterize_vector(gdf=lcz_gdf,\n",
    "                 ref=s2_ref,\n",
    "                 attribute=\"class\",\n",
    "                 crs=s2.rio.crs,\n",
    "                 out_path=TRAIN_FP,\n",
    "                 )\n",
    "\n",
    "# ## Test Samples Rasterization\n",
    "# rasterize_vector(gdf=lcz_test,\n",
    "#                  ref=s2_ref,\n",
    "#                  attribute=\"class\",\n",
    "#                  crs=s2.rio.crs,\n",
    "#                  out_path=TEST_FP,\n",
    "#                  )\n",
    "\n"
   ]
  }
 ],
 "metadata": {
  "kernelspec": {
   "display_name": "lcz_classification",
   "language": "python",
   "name": "python3"
  },
  "language_info": {
   "codemirror_mode": {
    "name": "ipython",
    "version": 3
   },
   "file_extension": ".py",
   "mimetype": "text/x-python",
   "name": "python",
   "nbconvert_exporter": "python",
   "pygments_lexer": "ipython3",
   "version": "3.11.11"
  }
 },
 "nbformat": 4,
 "nbformat_minor": 5
}
