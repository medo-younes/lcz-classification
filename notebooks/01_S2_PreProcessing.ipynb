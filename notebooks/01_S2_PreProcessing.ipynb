{
 "cells": [
  {
   "cell_type": "markdown",
   "id": "af46be4a",
   "metadata": {},
   "source": [
    "# **Sentinel-2 Pre-Processing**\n",
    "\n",
    "ML-based Local Climate Zone (LCZ) classification requires all input datasets to be homogenized in terms of exten, spatial resolution and projection. This notebook prepares the Sentinel-2 data downloaded from the 01_Data_Aquisition notebook for ML model training. Here are the steps:\n",
    "\n",
    "1. Project Setup\n",
    "2. Merge tiles from each band\n",
    "3. Clip merged tiles to extent of study area\n",
    "4. Resample to 30 m Resolution, as reccomended by Absaraori et al. 2024\n"
   ]
  },
  {
   "cell_type": "markdown",
   "id": "0d5a655e",
   "metadata": {},
   "source": [
    "### **1. Project Setup**"
   ]
  },
  {
   "cell_type": "markdown",
   "id": "d930e7dd",
   "metadata": {},
   "source": [
    "#### 1.1 Import Libraries"
   ]
  },
  {
   "cell_type": "code",
   "execution_count": 1,
   "id": "f1da8abe",
   "metadata": {},
   "outputs": [
    {
     "name": "stdout",
     "output_type": "stream",
     "text": [
      "- Parent directory for Cairo already exists, retrievine folder paths...\n",
      "- Folder paths for Cairo retrieved.\n"
     ]
    }
   ],
   "source": [
    "%load_ext autoreload\n",
    "%autoreload \n",
    "\n",
    "import sys\n",
    "import os\n",
    "\n",
    "# Add the module's parent directory to sys.path\n",
    "module_path = os.path.abspath(os.path.join('..'))\n",
    "if module_path not in sys.path:\n",
    "    sys.path.append(module_path)\n",
    "\n",
    "\n",
    "## Import local LCZ Classification libraries\n",
    "from lcz_classification.config import *\n",
    "from lcz_classification.util import merge_rasters, resample_da, clip_raster, tiles_from_bbox\n",
    "from lcz_classification.dataset import fetch_metadata\n",
    "## Import required libraries\n",
    "import rioxarray as rio\n",
    "import pandas as pd\n",
    "import geopandas as gpd\n",
    "import xarray as xr\n"
   ]
  },
  {
   "cell_type": "code",
   "execution_count": 2,
   "id": "d3701a73",
   "metadata": {},
   "outputs": [
    {
     "data": {
      "text/html": [
       "\n",
       "            <style>\n",
       "                .geemap-dark {\n",
       "                    --jp-widgets-color: white;\n",
       "                    --jp-widgets-label-color: white;\n",
       "                    --jp-ui-font-color1: white;\n",
       "                    --jp-layout-color2: #454545;\n",
       "                    background-color: #383838;\n",
       "                }\n",
       "\n",
       "                .geemap-dark .jupyter-button {\n",
       "                    --jp-layout-color3: #383838;\n",
       "                }\n",
       "\n",
       "                .geemap-colab {\n",
       "                    background-color: var(--colab-primary-surface-color, white);\n",
       "                }\n",
       "\n",
       "                .geemap-colab .jupyter-button {\n",
       "                    --jp-layout-color3: var(--colab-primary-surface-color, white);\n",
       "                }\n",
       "            </style>\n",
       "            "
      ],
      "text/plain": [
       "<IPython.core.display.HTML object>"
      ]
     },
     "metadata": {},
     "output_type": "display_data"
    }
   ],
   "source": [
    "study_area = fetch_metadata('STUDY_AREA')\n",
    "\n",
    "UTM_CRS=study_area.estimate_utm_crs()\n",
    "study_area=study_area.to_crs(UTM_CRS)\n",
    "bounds=study_area.total_bounds\n",
    "\n"
   ]
  },
  {
   "cell_type": "markdown",
   "id": "8f3e0765",
   "metadata": {},
   "source": [
    "### **2. Merge Tiles from Each Band**\n",
    "    \n",
    "This section reads band data from each scene downloaded in the sentinel-2 data directory. A single tile is then created for each band using the merge_rasters() method. The band tiles are clipped to the bounding box of the study area created in section 1.2."
   ]
  },
  {
   "cell_type": "markdown",
   "id": "e7e2dd05",
   "metadata": {},
   "source": [
    "#### 2.1. Prepare DataFrame of Available Scenes"
   ]
  },
  {
   "cell_type": "code",
   "execution_count": 3,
   "id": "3698b016",
   "metadata": {},
   "outputs": [
    {
     "data": {
      "text/html": [
       "\n",
       "            <style>\n",
       "                .geemap-dark {\n",
       "                    --jp-widgets-color: white;\n",
       "                    --jp-widgets-label-color: white;\n",
       "                    --jp-ui-font-color1: white;\n",
       "                    --jp-layout-color2: #454545;\n",
       "                    background-color: #383838;\n",
       "                }\n",
       "\n",
       "                .geemap-dark .jupyter-button {\n",
       "                    --jp-layout-color3: #383838;\n",
       "                }\n",
       "\n",
       "                .geemap-colab {\n",
       "                    background-color: var(--colab-primary-surface-color, white);\n",
       "                }\n",
       "\n",
       "                .geemap-colab .jupyter-button {\n",
       "                    --jp-layout-color3: var(--colab-primary-surface-color, white);\n",
       "                }\n",
       "            </style>\n",
       "            "
      ],
      "text/plain": [
       "<IPython.core.display.HTML object>"
      ]
     },
     "metadata": {},
     "output_type": "display_data"
    },
    {
     "data": {
      "text/plain": [
       "tile_id\n",
       "TA1    9\n",
       "TA2    9\n",
       "Name: count, dtype: int64"
      ]
     },
     "execution_count": 3,
     "metadata": {},
     "output_type": "execute_result"
    }
   ],
   "source": [
    "\n",
    "\n",
    "sent2_dict=dict() # Create an empty dictionary\n",
    "\n",
    "# Retrieve Sentinel-2 scene names from the SENT2_DIR directory\n",
    "s2_tiles = [f\"{S2_RAW}/{scene}\" for scene in os.listdir(S2_RAW) if \".geojson\" not in scene] # prepare file paths of DSM tiles\n",
    "# Create a Pandas DataFrame of the available Sentinel-2 Scenes\n",
    "s2_dfs=list()\n",
    "for tile_path in s2_tiles:\n",
    "    \n",
    "    scene_df=pd.DataFrame(\n",
    "        data=dict(\n",
    "            band = [x.split(\".\")[0] for x in os.listdir(tile_path)],\n",
    "            file_path=[f\"{tile_path}/{x}\" for x in os.listdir(tile_path)]\n",
    "\n",
    "        )\n",
    "    )\n",
    "    tile_id=tile_path.split(\"/\")[-1]\n",
    "    # scene_id=tile_path.split(\"/\")[-1]\n",
    "    scene_df[\"tile_id\"] = tile_id\n",
    "    # scene_df[\"date\"] = scene_id.split(\"_\")[2]\n",
    "    s2_dfs.append(scene_df)\n",
    "\n",
    "# Create a single dataframe with pd.concat(), this results in a single data frame with required metadata to filter and read the desired tiles for the next steps.\n",
    "s2_df=pd.concat(s2_dfs)\n",
    "s2_df.tile_id.value_counts() # Quality check on number of tiles"
   ]
  },
  {
   "cell_type": "markdown",
   "id": "7f874837",
   "metadata": {},
   "source": [
    "#### 2.2. Merge tiles from all scenes into single bands and clip"
   ]
  },
  {
   "cell_type": "code",
   "execution_count": 4,
   "id": "849fe373",
   "metadata": {},
   "outputs": [
    {
     "data": {
      "text/html": [
       "\n",
       "            <style>\n",
       "                .geemap-dark {\n",
       "                    --jp-widgets-color: white;\n",
       "                    --jp-widgets-label-color: white;\n",
       "                    --jp-ui-font-color1: white;\n",
       "                    --jp-layout-color2: #454545;\n",
       "                    background-color: #383838;\n",
       "                }\n",
       "\n",
       "                .geemap-dark .jupyter-button {\n",
       "                    --jp-layout-color3: #383838;\n",
       "                }\n",
       "\n",
       "                .geemap-colab {\n",
       "                    background-color: var(--colab-primary-surface-color, white);\n",
       "                }\n",
       "\n",
       "                .geemap-colab .jupyter-button {\n",
       "                    --jp-layout-color3: var(--colab-primary-surface-color, white);\n",
       "                }\n",
       "            </style>\n",
       "            "
      ],
      "text/plain": [
       "<IPython.core.display.HTML object>"
      ]
     },
     "metadata": {},
     "output_type": "display_data"
    },
    {
     "name": "stdout",
     "output_type": "stream",
     "text": [
      "Already exists: ../data/cairo/processed/sentinel2/merged/B02_30m.tif\n",
      "Already exists: ../data/cairo/processed/sentinel2/merged/B03_30m.tif\n",
      "Already exists: ../data/cairo/processed/sentinel2/merged/B04_30m.tif\n",
      "Already exists: ../data/cairo/processed/sentinel2/merged/B05_30m.tif\n",
      "Already exists: ../data/cairo/processed/sentinel2/merged/B06_30m.tif\n",
      "Already exists: ../data/cairo/processed/sentinel2/merged/B07_30m.tif\n",
      "Already exists: ../data/cairo/processed/sentinel2/merged/B11_30m.tif\n",
      "Already exists: ../data/cairo/processed/sentinel2/merged/B12_30m.tif\n",
      "Already exists: ../data/cairo/processed/sentinel2/merged/B8A_30m.tif\n"
     ]
    }
   ],
   "source": [
    "\n",
    "# Group scene DataFrame by band and iterate over each band.\n",
    "sent2_grouped=s2_df.groupby(\"band\") \n",
    "for band in sent2_grouped:\n",
    "    raster_paths= band[-1].file_path.values # Get GeoTIFF file paths of all  tiles under this band\n",
    "   \n",
    "    out_path=f\"{S2_MERGED}/{band[0]}_{CELL_RESOLUTION}m.tif\"  # Configure output file path for merged band raster\n",
    "\n",
    "    if os.path.exists(out_path):\n",
    "        print(f\"Already exists: {out_path}\")\n",
    "    else:\n",
    "        merge_rasters(raster_paths,out_path, None) # Merge all band tiles into a single raster, pass raster file paths as a list\n",
    "        print(f\"Exported merged raster for {band[0]}.tif\")\n",
    "    "
   ]
  },
  {
   "cell_type": "markdown",
   "id": "08662282",
   "metadata": {},
   "source": [
    "### **4. Resample to 30 m and stack to a single GeoTiFF**"
   ]
  },
  {
   "cell_type": "markdown",
   "id": "dbc0a3cc",
   "metadata": {},
   "source": [
    "#### 4.1 Resample Band Rasters to 30 m "
   ]
  },
  {
   "cell_type": "code",
   "execution_count": 5,
   "id": "a390daa4",
   "metadata": {},
   "outputs": [
    {
     "data": {
      "text/html": [
       "\n",
       "            <style>\n",
       "                .geemap-dark {\n",
       "                    --jp-widgets-color: white;\n",
       "                    --jp-widgets-label-color: white;\n",
       "                    --jp-ui-font-color1: white;\n",
       "                    --jp-layout-color2: #454545;\n",
       "                    background-color: #383838;\n",
       "                }\n",
       "\n",
       "                .geemap-dark .jupyter-button {\n",
       "                    --jp-layout-color3: #383838;\n",
       "                }\n",
       "\n",
       "                .geemap-colab {\n",
       "                    background-color: var(--colab-primary-surface-color, white);\n",
       "                }\n",
       "\n",
       "                .geemap-colab .jupyter-button {\n",
       "                    --jp-layout-color3: var(--colab-primary-surface-color, white);\n",
       "                }\n",
       "            </style>\n",
       "            "
      ],
      "text/plain": [
       "<IPython.core.display.HTML object>"
      ]
     },
     "metadata": {},
     "output_type": "display_data"
    },
    {
     "name": "stdout",
     "output_type": "stream",
     "text": [
      "Bands concantenated\n",
      "Resampling input raster to 30 m resolution\n",
      "Resampling completed\n",
      "Exported multiband sentinel-2 data\n"
     ]
    }
   ],
   "source": [
    "from lcz_classification.util import get_target_shape\n",
    "from rasterio.enums import Resampling\n",
    "# Read Band Tiles\n",
    "\n",
    "band_tiles_fp =sorted([f\"{S2_MERGED}/{band}\" for band in os.listdir(S2_MERGED)]) # prepare file paths of band tiles\n",
    "band_tiles=[rio.open_rasterio(band_tile_fp).sel(band=1) for band_tile_fp in band_tiles_fp] # Read all band tiles into a list of xarray DataArrays\n",
    "\n",
    "\n",
    "# Stack all resampled bands into a single dataset\n",
    "s2=xr.concat(band_tiles, dim=\"band\")\n",
    "s2['band'] = [x.split(\"/\")[-1][:3] for x in band_tiles_fp]# update band names\n",
    "s2.attrs[\"bands\"] = [x.split(\"/\")[-1][:3] for x in band_tiles_fp]\n",
    "s2 = s2.rio.reproject(dst_crs=UTM_CRS) # reproject to project CRS - local UTM zone derived from gpd.estimate_utm_crs()\n",
    "print(\"Bands concantenated\")\n",
    "\n",
    "\n",
    "\n",
    "# Clip to PRISMA BBOX Extent\n",
    "x1,y1,x2,y2=study_area.to_crs(s2.rio.crs).total_bounds\n",
    "s2=s2.sel(x=slice(x1,x2), y=slice(y2,y1))\n",
    "\n",
    "\n",
    "target_shape = get_target_shape(s2.isel(band=0), CELL_RESOLUTION)\n",
    "## Reproject to Local UTM Zone\n",
    "\n",
    "s2_resampled = s2.rio.reproject(\n",
    "        s2.rio.crs,\n",
    "        shape=target_shape,\n",
    "        resampling=Resampling.bilinear,\n",
    "    )\n",
    "\n",
    "\n",
    "\n",
    "print(\"Resampling completed\")\n",
    "\n",
    "# Export Resampled Multiband Raster \n",
    "s2_resampled.rio.to_raster(S2_FP) # Write to GeoTIFF\n",
    "print(\"Exported multiband sentinel-2 data\")"
   ]
  }
 ],
 "metadata": {
  "kernelspec": {
   "display_name": "lcz_classification",
   "language": "python",
   "name": "python3"
  },
  "language_info": {
   "codemirror_mode": {
    "name": "ipython",
    "version": 3
   },
   "file_extension": ".py",
   "mimetype": "text/x-python",
   "name": "python",
   "nbconvert_exporter": "python",
   "pygments_lexer": "ipython3",
   "version": "3.11.11"
  }
 },
 "nbformat": 4,
 "nbformat_minor": 5
}
