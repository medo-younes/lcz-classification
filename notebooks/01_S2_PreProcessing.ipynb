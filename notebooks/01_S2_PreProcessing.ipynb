{
 "cells": [
  {
   "cell_type": "markdown",
   "id": "af46be4a",
   "metadata": {},
   "source": [
    "# **Sentinel-2 Pre-Processing**\n",
    "\n",
    "ML-based Local Climate Zone (LCZ) classification requires all input datasets to be homogenized in terms of exten, spatial resolution and projection. This notebook prepares the Sentinel-2 data downloaded from the 01_Data_Aquisition notebook for ML model training. Here are the steps:\n",
    "\n",
    "1. Project Setup\n",
    "2. Merge tiles from each band\n",
    "3. Clip merged tiles to extent of study area\n",
    "4. Resample to 30 m Resolution, as reccomended by Absaraori et al. 2024\n"
   ]
  },
  {
   "cell_type": "markdown",
   "id": "0d5a655e",
   "metadata": {},
   "source": [
    "### **1. Project Setup**"
   ]
  },
  {
   "cell_type": "markdown",
   "id": "d930e7dd",
   "metadata": {},
   "source": [
    "#### 1.1 Import Libraries"
   ]
  },
  {
   "cell_type": "code",
   "execution_count": 2,
   "id": "f1da8abe",
   "metadata": {},
   "outputs": [],
   "source": [
    "%load_ext autoreload\n",
    "%autoreload \n",
    "\n",
    "import sys\n",
    "import os\n",
    "\n",
    "# Add the module's parent directory to sys.path\n",
    "module_path = os.path.abspath(os.path.join('..'))\n",
    "if module_path not in sys.path:\n",
    "    sys.path.append(module_path)\n",
    "\n",
    "\n",
    "## Import local LCZ Classification libraries\n",
    "from lcz_classification.config import *\n",
    "from lcz_classification.util import merge_rasters, resample_da, clip_raster\n",
    "\n",
    "## Import required libraries\n",
    "import rioxarray as rio\n",
    "import pandas as pd\n",
    "import rasterio as r\n",
    "from shapely.geometry import box\n",
    "import geopandas as gpd\n",
    "import xarray as xr\n"
   ]
  },
  {
   "cell_type": "markdown",
   "id": "90bf211e",
   "metadata": {},
   "source": [
    "#### 1.2 Setup Paths"
   ]
  },
  {
   "cell_type": "code",
   "execution_count": 3,
   "id": "e46a7030",
   "metadata": {},
   "outputs": [],
   "source": [
    "\n",
    "## PROJECT CONFIGURATION ##\n",
    "# ===============================================================================================================================================================\n",
    "\n",
    "STUDY_AREA_GDF=gpd.read_file(STUDY_AREA_FP) # Read study area bounds as GeoDataFrame\n",
    "\n",
    "CRS=STUDY_AREA_GDF.estimate_utm_crs() # Retrieve local UTM CRS based on bounds of study area\n",
    "\n",
    "STUDY_AREA_GDF=STUDY_AREA_GDF.to_crs(CRS) # Reproject study area GeoDataFrame to project CRS\n",
    "\n",
    "BBOX=box(*list(STUDY_AREA_GDF.total_bounds)) # Create Bounding Box Polygon\n",
    "BBOX= BBOX.buffer(15, join_style=2) # Create 15 meter buffer for bounding box"
   ]
  },
  {
   "cell_type": "markdown",
   "id": "8f3e0765",
   "metadata": {},
   "source": [
    "### **2. Merge Tiles from Each Band**\n",
    "    \n",
    "This section reads band data from each scene downloaded in the sentinel-2 data directory. A single tile is then created for each band using the merge_rasters() method. The band tiles are clipped to the bounding box of the study area created in section 1.2."
   ]
  },
  {
   "cell_type": "markdown",
   "id": "e7e2dd05",
   "metadata": {},
   "source": [
    "#### 2.1. Prepare DataFrame of Available Scenes"
   ]
  },
  {
   "cell_type": "code",
   "execution_count": 4,
   "id": "3698b016",
   "metadata": {},
   "outputs": [],
   "source": [
    "\n",
    "\n",
    "sent2_dict=dict() # Create an empty dictionary\n",
    "\n",
    "# Retrieve Sentinel-2 scene names from the SENT2_DIR directory\n",
    "sent2_scenes = [f\"{SENT2_DIR}/{scene}\" for scene in os.listdir(SENT2_DIR) if \".geojson\" not in scene] # prepare file paths of DSM tiles\n",
    "\n",
    "# Create a Pandas DataFrame of the available Sentinel-2 Scenes\n",
    "sent2_dfs=list()\n",
    "for scene_path in sent2_scenes:\n",
    "    \n",
    "    scene_df=pd.DataFrame(\n",
    "        data=dict(\n",
    "            band = [x.split(\".\")[0] for x in os.listdir(scene_path)],\n",
    "            file_path=[f\"{scene_path}/{x}\" for x in os.listdir(scene_path)]\n",
    "\n",
    "        )\n",
    "    )\n",
    "    scene_id=scene_path.split(\"/\")[-1]\n",
    "    scene_df[\"scene\"] = scene_id\n",
    "    scene_df[\"date\"] = scene_id.split(\"_\")[2]\n",
    "    sent2_dfs.append(scene_df)\n",
    "\n",
    "# Create a single dataframe with pd.concat(), this results in a single data frame with required metadata to filter and read the desired tiles for the next steps.\n",
    "sent2_df=pd.concat(sent2_dfs)\n",
    "\n"
   ]
  },
  {
   "cell_type": "markdown",
   "id": "7f874837",
   "metadata": {},
   "source": [
    "#### 2.2. Merge tiles from all scenes into single bands and clip"
   ]
  },
  {
   "cell_type": "code",
   "execution_count": 5,
   "id": "849fe373",
   "metadata": {},
   "outputs": [
    {
     "name": "stdout",
     "output_type": "stream",
     "text": [
      "Already exists: ../data/processed/sentinel2/merged/B02.tif\n",
      "Already exists: ../data/processed/sentinel2/merged/B03.tif\n",
      "Already exists: ../data/processed/sentinel2/merged/B04.tif\n",
      "Already exists: ../data/processed/sentinel2/merged/B05.tif\n",
      "Already exists: ../data/processed/sentinel2/merged/B06.tif\n",
      "Already exists: ../data/processed/sentinel2/merged/B07.tif\n",
      "Already exists: ../data/processed/sentinel2/merged/B11.tif\n",
      "Already exists: ../data/processed/sentinel2/merged/B12.tif\n",
      "Already exists: ../data/processed/sentinel2/merged/B8A.tif\n"
     ]
    }
   ],
   "source": [
    "\n",
    "# Group scene DataFrame by band and iterate over each band.\n",
    "sent2_grouped=sent2_df.groupby(\"band\") \n",
    "for band in sent2_grouped:\n",
    "    raster_paths= band[-1].file_path.values # Get GeoTIFF file paths of all  tiles under this band\n",
    "   \n",
    "    out_path=f\"{SENT2_MERGED_DIR}/{band[0]}.tif\"  # Configure output file path for merged band raster\n",
    "\n",
    "    if os.path.exists(out_path):\n",
    "        print(f\"Already exists: {out_path}\")\n",
    "    else:\n",
    "        merge_rasters(raster_paths,out_path) # Merge all band tiles into a single raster, pass raster file paths as a list\n",
    "        print(f\"Exported merged raster for {band[0]}.tif\")\n",
    "    "
   ]
  },
  {
   "cell_type": "markdown",
   "id": "cc712152",
   "metadata": {},
   "source": [
    "#### **3. Clip Band Tiles**"
   ]
  },
  {
   "cell_type": "code",
   "execution_count": 6,
   "id": "600e0661",
   "metadata": {},
   "outputs": [
    {
     "name": "stdout",
     "output_type": "stream",
     "text": [
      "Already exists: ../data/processed/sentinel2/clipped/B02_clipped.tif\n",
      "Already exists: ../data/processed/sentinel2/clipped/B03_clipped.tif\n",
      "Already exists: ../data/processed/sentinel2/clipped/B04_clipped.tif\n",
      "Already exists: ../data/processed/sentinel2/clipped/B05_clipped.tif\n",
      "Already exists: ../data/processed/sentinel2/clipped/B06_clipped.tif\n",
      "Already exists: ../data/processed/sentinel2/clipped/B07_clipped.tif\n",
      "Already exists: ../data/processed/sentinel2/clipped/B11_clipped.tif\n",
      "Already exists: ../data/processed/sentinel2/clipped/B12_clipped.tif\n",
      "Already exists: ../data/processed/sentinel2/clipped/B8A_clipped.tif\n"
     ]
    }
   ],
   "source": [
    "\n",
    "band_tiles_fp = [f\"{SENT2_MERGED_DIR}/{band}\" for band in os.listdir(SENT2_MERGED_DIR)] # prepare file paths of merged band rasters\n",
    "\n",
    "# Iterate over each band raster\n",
    "for band_tile_fp in band_tiles_fp:\n",
    "\n",
    "    clipped_path=SENT2_CLIPPED_DIR + \"/\" + band_tile_fp.replace(\".tif\",\"_clipped.tif\").split(\"/\")[-1] # Configure output path of clipped raster (per band)\n",
    "    if os.path.exists(clipped_path):\n",
    "        print(f\"Already exists: {clipped_path}\")\n",
    "    else:\n",
    "        # Clip raster using clip_raster() method\n",
    "        clip_raster(raster_path=band_tile_fp,\n",
    "                    bbox=BBOX,\n",
    "                    out_path=clipped_path\n",
    "                    )\n",
    "   \n"
   ]
  },
  {
   "cell_type": "markdown",
   "id": "08662282",
   "metadata": {},
   "source": [
    "### **4. Resample to 30 m and stack to a single GeoTiFF**"
   ]
  },
  {
   "cell_type": "markdown",
   "id": "dbc0a3cc",
   "metadata": {},
   "source": [
    "#### 4.1 Resample Band Rasters to 30 m "
   ]
  },
  {
   "cell_type": "code",
   "execution_count": 7,
   "id": "6a17edb8",
   "metadata": {},
   "outputs": [
    {
     "name": "stdout",
     "output_type": "stream",
     "text": [
      "Resampling input raster to 30 m resolution\n"
     ]
    }
   ],
   "source": [
    "\n",
    "band_tiles_fp = [f\"{SENT2_CLIPPED_DIR}/{band}\" for band in os.listdir(SENT2_CLIPPED_DIR)] # prepare file paths of DSM tiles\n",
    "band_tiles=[rio.open_rasterio(band_tile_fp) for band_tile_fp in band_tiles_fp] # Read all band tiles into a list of xarray DataArrays\n",
    "\n",
    "ref=band_tiles.pop(0) # Set first band as reference for resampling other rasters \n",
    "ref=resample_da(ref,CELL_RESOLUTION) # Resample reference raster to 30m\n",
    "\n",
    "# Resample all band tiles to the same resolution - 20 m is reccomended for this project\n",
    "band_tiles_resampled=[band_tile.rio.reproject_match(ref) for band_tile in band_tiles]\n",
    "band_tiles_resampled.insert(0,ref)"
   ]
  },
  {
   "cell_type": "markdown",
   "id": "65e504bd",
   "metadata": {},
   "source": [
    "#### 4.2. Create Multi-band Raster with All Bands\n"
   ]
  },
  {
   "cell_type": "code",
   "execution_count": 8,
   "id": "42a8227a",
   "metadata": {},
   "outputs": [],
   "source": [
    "# Stack all resampled bands into a single dataset\n",
    "s2=xr.concat(band_tiles_resampled, dim=\"band\")\n",
    "s2= s2.assign_coords(band=[x.split(\"/\")[-1][:3] for x in band_tiles_fp] )# update band names\n",
    "s2.attrs[\"bands\"] = [x.split(\"/\")[-1][:3] for x in band_tiles_fp]\n",
    "s2 = s2.rio.reproject(dst_crs=CRS) # reproject to project CRS - local UTM zone derived from gpd.estimate_utm_crs()"
   ]
  },
  {
   "cell_type": "markdown",
   "id": "fd0ae4a8",
   "metadata": {},
   "source": [
    "#### 4.3. Write Multi-band Raster to File"
   ]
  },
  {
   "cell_type": "code",
   "execution_count": 9,
   "id": "2a5a8419",
   "metadata": {},
   "outputs": [
    {
     "name": "stdout",
     "output_type": "stream",
     "text": [
      "Exported multiband sentinel-2 data\n"
     ]
    }
   ],
   "source": [
    "out_path=f\"{SENT2_RESAMPLED_DIR}/s2_{sent2_df.date.iloc[0]}_{CELL_RESOLUTION}m.tif\" # Configure output path of multi-band raster\n",
    "\n",
    "s2.rio.to_raster(out_path) # Write to GeoTIFF\n",
    "print(\"Exported multiband sentinel-2 data\")"
   ]
  }
 ],
 "metadata": {
  "kernelspec": {
   "display_name": "lcz_classification",
   "language": "python",
   "name": "python3"
  },
  "language_info": {
   "codemirror_mode": {
    "name": "ipython",
    "version": 3
   },
   "file_extension": ".py",
   "mimetype": "text/x-python",
   "name": "python",
   "nbconvert_exporter": "python",
   "pygments_lexer": "ipython3",
   "version": "3.11.11"
  }
 },
 "nbformat": 4,
 "nbformat_minor": 5
}
