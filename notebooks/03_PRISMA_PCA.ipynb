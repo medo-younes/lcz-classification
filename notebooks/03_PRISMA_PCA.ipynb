{
 "cells": [
  {
   "cell_type": "code",
   "execution_count": null,
   "id": "af274901",
   "metadata": {},
   "outputs": [],
   "source": []
  },
  {
   "cell_type": "code",
   "execution_count": null,
   "id": "f5190892",
   "metadata": {},
   "outputs": [],
   "source": [
    "hsi_data=np.concatenate((vrf_refl,srf_refl), axis=2)\n",
    "shape=hsi_data.shape\n",
    "hsi_data=hsi_data.reshape(shape[-1], shape[0]* shape[1])\n",
    "\n",
    "mask=~np.all(hsi_data  == 0 , axis=1)\n",
    "X=hsi_data[mask].reshape(shape[0]* shape[1], shape[-1])\n",
    "\n",
    "from sklearn.preprocessing import MinMaxScaler\n",
    "n_components=10\n",
    "pca=PCA(n_components=n_components)\n",
    "\n",
    "X_transformed=pca.fit_transform(X)\n",
    "variance_ratios=pca.explained_variance_ratio_\n",
    "\n",
    "scaler = MinMaxScaler()\n",
    "scaled=scaler.fit_transform(X_transformed)\n",
    "mask = scaled == 0.0\n",
    "masked_image = np.ma.masked_array(scaled, mask=mask)\n",
    "p3=scaled[:,0:3]\n",
    "p3=p3.reshape(shape[0],shape[1],3)\n",
    "# imshow(p3, cmap='viridis')\n",
    "\n",
    "pca10=scaled.reshape(shape[0],shape[1], n_components)\n",
    "\n",
    "pca10=np.moveaxis(pca10,2,0)\n",
    "prisma_pca_fp=f'../data/cairo/processed/prisma/primsa_pca.tif'\n",
    "\n",
    "if os.path.exists(prisma_pca_fp) == False:\n",
    "    # Save raster to file\n",
    "    with r.open(\n",
    "        prisma_pca_fp, 'w', \n",
    "        driver='GTiff', \n",
    "        height=pca10.shape[1], \n",
    "        width=pca10.shape[2], \n",
    "        count=n_components, \n",
    "        dtype=pca10.dtype, \n",
    "        crs='EPSG:4326', \n",
    "        transform=transform,\n",
    "        nodata=np.nan\n",
    "\n",
    "    ) as dst:\n",
    "        dst.write(pca10)\n",
    "\n"
   ]
  },
  {
   "cell_type": "code",
   "execution_count": null,
   "id": "1d26e597",
   "metadata": {},
   "outputs": [],
   "source": [
    "import rioxarray as rio\n",
    "s2=rio.open_rasterio(S2_FP)\n",
    "pca10=rio.open_rasterio(prisma_pca_fp)\n",
    "\n",
    "\n",
    "s2=s2.rio.reproject(dst_crs='EPSG:4326')\n",
    "s2=s2.sel(x=slice(x1,x2), y= slice(y2,y1))\n",
    "\n",
    "pc10_match=pca10.rio.reproject_match(s2)\n",
    "\n",
    "pc10_match.rio.to_raster(prisma_pca_fp.replace('.tif','_matched.tif'))"
   ]
  }
 ],
 "metadata": {
  "language_info": {
   "name": "python"
  }
 },
 "nbformat": 4,
 "nbformat_minor": 5
}
