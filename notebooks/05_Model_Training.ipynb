{
 "cells": [
  {
   "cell_type": "markdown",
   "id": "af46be4a",
   "metadata": {},
   "source": [
    "# **Model Training**\n",
    "\n"
   ]
  },
  {
   "cell_type": "markdown",
   "id": "0d5a655e",
   "metadata": {},
   "source": [
    "## **1. Project Setup**"
   ]
  },
  {
   "cell_type": "markdown",
   "id": "d930e7dd",
   "metadata": {},
   "source": [
    "### 1.1 Import Libraries"
   ]
  },
  {
   "cell_type": "code",
   "execution_count": 1,
   "id": "f1da8abe",
   "metadata": {},
   "outputs": [],
   "source": [
    "%load_ext autoreload\n",
    "%autoreload \n",
    "\n",
    "import sys\n",
    "import os\n",
    "\n",
    "# Add the module's parent directory to sys.path\n",
    "module_path = os.path.abspath(os.path.join('..'))\n",
    "if module_path not in sys.path:\n",
    "    sys.path.append(module_path)\n"
   ]
  },
  {
   "cell_type": "code",
   "execution_count": null,
   "id": "c65ac155",
   "metadata": {},
   "outputs": [],
   "source": [
    "from lcz_classification.config import *\n",
    "from lcz_classification.util import read_lcz_legend, normalize_arr\n",
    "import rioxarray as rio\n",
    "\n",
    "import numpy as np\n",
    "import pandas as pd\n",
    "from shapely.geometry import box\n",
    "import geopandas as gpd\n",
    "from sklearn.model_selection import train_test_split, GridSearchCV, StratifiedKFold\n",
    "from sklearn.ensemble import RandomForestClassifier\n",
    "from sklearn.preprocessing import MinMaxScaler\n",
    "from sklearn.metrics import make_scorer, f1_score, recall_score,precision_score\n",
    "from sklearn.metrics import confusion_matrix,accuracy_score, classification_report\n",
    "import seaborn as sns\n",
    "import matplotlib.pyplot as plt\n",
    "\n"
   ]
  },
  {
   "cell_type": "markdown",
   "id": "90bf211e",
   "metadata": {},
   "source": [
    "## 1.2 Setup Paths"
   ]
  },
  {
   "cell_type": "code",
   "execution_count": 3,
   "id": "e46a7030",
   "metadata": {},
   "outputs": [],
   "source": [
    "## WORFLOW PARAMETERS\n",
    "\n",
    "## USER INPUT ##\n",
    "# ===============================================================================================================================================================\n",
    "\n",
    "SENT2_DIR =f\"{EXTERNAL}/sentinel2\"\n",
    "S2_FILE_PATH=f\"../data/processed/sentinel2/resampled/s2_20210714_{CELL_RESOLUTION}m.tif\"\n",
    "\n",
    "\n",
    "# Select Sentinel-2 Bands\n",
    "SENT2_BANDS=[\"B02\", \"B03\", \"B04\", \"B05\", \"B06\", \"B07\", \"B8A\", \"B11\", \"B12\"] #Sentinel-2, bands from B02 to B07, B8A, B11, and B12 (provided at 20 m spatial resolution by Copernicus) are exploited.\n",
    "\n",
    "\n",
    "## PROJECT CONFIGURATION ##\n",
    "# ===============================================================================================================================================================\n",
    "\n",
    "\n",
    "LCZ_CLASSES=['1', '2', '3', '4', '5', '6', '7', '8', '9', '10', 'A', 'B', 'C', 'D', 'E', 'F', 'G']\n",
    "\n",
    "\n",
    "# Establish Study Area bounds\n",
    "STUDY_AREA_GDF=gpd.read_file(f\"{STUDY_AREA}/study_area.geojson\")\n",
    "STUDY_AREA_GDF=STUDY_AREA_GDF.to_crs(STUDY_AREA_GDF.estimate_utm_crs())\n",
    "\n",
    "# Create Bounding Box Polygon\n",
    "BBOX=box(*list(STUDY_AREA_GDF.total_bounds))\n",
    "BBOX= BBOX.buffer(15, join_style=2) # Create 15 meter buffer for bounding box\n",
    "\n",
    "# Retrieve CRS Based on bounds of study area\n",
    "CRS=STUDY_AREA_GDF.estimate_utm_crs() # NAD83 / UTM zone 9N\n",
    "\n",
    "\n",
    "LCZ_LEGEND, COLOR_DICT=read_lcz_legend(LCZ_LEGEND_FP)\n",
    "label_dict=LCZ_LEGEND.set_index(\"class\")[\"name\"].to_dict()\n",
    "\n",
    "GRID_SEARCH = True"
   ]
  },
  {
   "cell_type": "markdown",
   "id": "f4f9125e",
   "metadata": {},
   "source": [
    "### Load Data"
   ]
  },
  {
   "cell_type": "code",
   "execution_count": 4,
   "id": "ec19125a",
   "metadata": {},
   "outputs": [],
   "source": [
    "s2=rio.open_rasterio(S2_FILE_PATH)\n",
    "\n",
    "## URBAN CANOPY PARAMETERS ##\n",
    "bh=rio.open_rasterio(BH_FP) # Building Height\n",
    "ch=rio.open_rasterio(CH_FP) # Tree Canopy Height\n",
    "isf=rio.open_rasterio(IS_FP) # Impervious Surface Fraction\n",
    "bsf=rio.open_rasterio(BS_FP) # Building Surface Fraction\n",
    "svf=rio.open_rasterio(SF_FP).rio.reproject_match(s2.sel(band=1)) # Building Surface Fraction\n",
    "\n",
    "\n",
    "lcz=rio.open_rasterio(LCZ_FP) # Local Climate Zones Rasterized (Target Layer)\n",
    "\n",
    "features=eval(s2.attrs['bands'])\n",
    "features.extend(['Building Height', 'Canopy Height', 'Impervious Surface Fraction', 'Building Surface Fraction', 'Sky View Factor'])\n",
    "\n",
    "s2 = s2 / 10000\n",
    "s2_arr = s2.values\n",
    "X_data=np.append(s2_arr,bh.fillna(0).values, axis=0)\n",
    "X_data=np.append(X_data,ch.fillna(0).values, axis=0)\n",
    "X_data=np.append(X_data,isf.fillna(0).values, axis=0)\n",
    "X_data=np.append(X_data,bsf.fillna(0).values, axis=0)\n",
    "X_data=np.append(X_data,svf.fillna(0).values, axis=0)\n",
    "\n",
    "\n",
    "\n",
    "scaler=MinMaxScaler()\n",
    "\n",
    "X= np.array([normalize_arr(x, scaler) for x in X_data])\n",
    "# X=X.reshape(-1, X.shape[0])  # shape becomes (512*512, 10)\n",
    "train_data=np.append(X,lcz.values, axis =0)\n",
    "\n",
    "# condition=((lcz>0) & (lcz!=11)).values[0]\n",
    "condition=(lcz>0).values[0]\n",
    "train_data_filtered=np.array([arr[condition] for arr in train_data])\n",
    "\n",
    "\n",
    "# X=np.array(train_data_filtered[0:-1]).reshape(-1,X_data.shape[0])\n",
    "# y=train_data_filtered[-1].reshape(-1)\n",
    "# y=np.int16(y)\n",
    "\n",
    "cols=features.copy()\n",
    "cols.append(\"lcz\")\n",
    "\n",
    "train_df=pd.DataFrame(train_data_filtered).T.dropna()\n",
    "train_df.columns=cols\n",
    "clean_df=train_df[~train_df.isna()]\n",
    "\n",
    "clean_df[features]\n",
    "X=clean_df[features].values.reshape(-1,X.shape[0])\n",
    "y = clean_df['lcz'].values.reshape(-1)\n",
    "\n",
    "\n",
    "X_train, X_test, y_train, y_test = train_test_split(X,y,test_size=0.2)\n",
    "\n",
    "\n",
    "\n",
    "labels=[label_dict[x] for x in np.int16(np.unique(y))]\n"
   ]
  },
  {
   "cell_type": "markdown",
   "id": "3b92e82e",
   "metadata": {},
   "source": [
    "## Train RandomForest Classifier"
   ]
  },
  {
   "cell_type": "code",
   "execution_count": 5,
   "id": "704e430a",
   "metadata": {},
   "outputs": [],
   "source": [
    "# from sklearn.model_selection import cross_validate, RepeatedStratifiedKFold\n",
    "# # from sklearn.metrics import plot_confusion_matrix\n",
    "\n",
    "\n",
    "# cl = RandomForestClassifier(n_estimators=150,random_state=42, n_jobs=-1)\n",
    "\n",
    "# cv=RepeatedStratifiedKFold(n_splits=10, n_repeats=3, random_state=1)\n",
    "# # scoring=('f1', 'recall', 'precision')\n",
    "\n",
    "# scoring = {\n",
    "#     'f1': make_scorer(f1_score, average='weighted'),\n",
    "#     'recall': make_scorer(recall_score, average='weighted'),\n",
    "#     'precision': make_scorer(precision_score, average='weighted')\n",
    "# }\n",
    "# scores=cross_validate(cl,X_train,y_train,scoring=scoring,cv=5, return_train_score=True)\n",
    "\n",
    "# #Get average evaluation metrics\n",
    "# print('Mean f1: %.3f' % np.mean(scores['test_f1']))\n",
    "# print('Mean recall: %.3f' % np.mean(scores['test_recall']))\n",
    "# print('Mean precision: %.3f' % np.mean(scores['test_precision']))\n",
    "\n"
   ]
  },
  {
   "cell_type": "code",
   "execution_count": 6,
   "id": "21971aad",
   "metadata": {},
   "outputs": [],
   "source": [
    "# from sklearn.model_selection import RandomizedSearchCV\n",
    "\n",
    "# param_grid = {\n",
    "#     'n_estimators': [100, 300, 500],\n",
    "#     'max_depth': [None, 10, 20, 30],\n",
    "#     'min_samples_split': [2, 5, 10],\n",
    "#     'min_samples_leaf': [1, 2, 4],\n",
    "#     'max_features': ['sqrt', 'log2'],\n",
    "#     'class_weight': ['balanced', None]\n",
    "# }\n",
    "# cl = RandomForestClassifier(random_state=42, n_jobs=-1)\n",
    "\n",
    "# scoring = {\n",
    "#     'f1': make_scorer(f1_score),\n",
    "#     'recall': make_scorer(recall_score),\n",
    "#     'precision': make_scorer(precision_score)\n",
    "# }\n",
    "# random_search=RandomizedSearchCV(cl, param_grid,scoring='accuracy', cv=5, return_train_score=True)\n",
    "# random_search.fit(X_train, y_train)\n"
   ]
  },
  {
   "cell_type": "code",
   "execution_count": 7,
   "id": "23836cdd",
   "metadata": {},
   "outputs": [],
   "source": [
    "\n",
    "\n",
    "# from sklearn.model_selection import learning_curve, LearningCurveDisplay\n",
    "# from sklearn.model_selection import ShuffleSplit\n",
    "# import numpy as np\n",
    "\n",
    "# train_sizes, train_scores, test_scores = learning_curve(\n",
    "#     cl, X, y, cv=5, scoring='accuracy',\n",
    "#     train_sizes=np.linspace(0.1, 1.0, 5),\n",
    "  \n",
    "# )\n",
    "# import matplotlib.pyplot as plt\n",
    "\n",
    "# plt.figure(figsize=(6,4))\n",
    "\n",
    "# plt.plot(train_sizes,train_scores.mean(axis=1))\n",
    "# plt.plot(train_sizes,test_scores.mean(axis=1))\n",
    "\n",
    "# plt.xlabel('Train Size')\n",
    "# plt.ylabel('Accuracy Score')\n"
   ]
  },
  {
   "cell_type": "code",
   "execution_count": 8,
   "id": "1fdda047",
   "metadata": {},
   "outputs": [],
   "source": [
    "\n",
    "GRID_SEARCH=False\n",
    "if GRID_SEARCH:\n",
    "    cl = RandomForestClassifier(random_state=42, n_jobs=-1)\n",
    "\n",
    "\n",
    "    param_grid = {\n",
    "        'n_estimators': [100, 150, 200, 500, 750, 1000], #[100, 150, 200, 500]\n",
    "        'max_features': ['sqrt', 'log2'], #['auto', 'sqrt', 'log2']\n",
    "        'criterion': ['gini', 'entropy'] #['gini', 'entropy']\n",
    "    }\n",
    "    grid_search=GridSearchCV(cl, param_grid, scoring='accuracy', cv=5,verbose=10, n_jobs=-1)\n",
    "    grid_search.fit(X_train,y_train)\n",
    "\n",
    "    best_params=grid_search.best_params_\n",
    "    print(best_params)\n",
    "\n",
    "    cl=RandomForestClassifier(random_state=42,n_jobs=-1, **best_params)\n",
    "\n",
    "\n",
    "else:\n",
    "    cl = RandomForestClassifier(random_state=42, n_jobs=-1, n_estimators=500)\n",
    "\n",
    "cl.feature_names_in_ = np.array(features)\n",
    "cl.classes_ = np.array(labels)\n",
    "\n",
    "cl.fit(X_train,y_train)\n",
    "y_pred=cl.predict(X_test)"
   ]
  },
  {
   "cell_type": "markdown",
   "id": "3b04d956",
   "metadata": {},
   "source": [
    "## Classification Report"
   ]
  },
  {
   "cell_type": "code",
   "execution_count": 33,
   "id": "06c8d11f",
   "metadata": {},
   "outputs": [
    {
     "name": "stdout",
     "output_type": "stream",
     "text": [
      "                   precision    recall  f1-score   support\n",
      "\n",
      "Compact High-Rise      0.876     0.801     0.837       352\n",
      "   Open High-Rise      0.726     0.390     0.507       136\n",
      "    Open Low-Rise      0.876     0.928     0.901       594\n",
      "   Large low-rise      0.908     0.966     0.936       903\n",
      "      Dense trees      0.996     1.000     0.998       278\n",
      "            Water      1.000     1.000     1.000      1741\n",
      "\n",
      "         accuracy                          0.943      4004\n",
      "        macro avg      0.897     0.847     0.863      4004\n",
      "     weighted avg      0.940     0.943     0.940      4004\n",
      "\n"
     ]
    }
   ],
   "source": [
    "print(classification_report(y_test,y_pred,digits=3,target_names=labels))"
   ]
  },
  {
   "cell_type": "markdown",
   "id": "77502063",
   "metadata": {},
   "source": [
    "## Confusion Matrix"
   ]
  },
  {
   "cell_type": "code",
   "execution_count": 1,
   "id": "28b0577a",
   "metadata": {},
   "outputs": [
    {
     "ename": "NameError",
     "evalue": "name 'confusion_matrix' is not defined",
     "output_type": "error",
     "traceback": [
      "\u001b[1;31m---------------------------------------------------------------------------\u001b[0m",
      "\u001b[1;31mNameError\u001b[0m                                 Traceback (most recent call last)",
      "Cell \u001b[1;32mIn[1], line 1\u001b[0m\n\u001b[1;32m----> 1\u001b[0m cm\u001b[38;5;241m=\u001b[39m\u001b[43mconfusion_matrix\u001b[49m(y_test,y_pred)\n\u001b[0;32m      2\u001b[0m cm_p\u001b[38;5;241m=\u001b[39m(cm \u001b[38;5;241m/\u001b[39m \u001b[38;5;28mlen\u001b[39m(y_test)) \u001b[38;5;241m*\u001b[39m \u001b[38;5;241m100\u001b[39m\n\u001b[0;32m      5\u001b[0m mask \u001b[38;5;241m=\u001b[39m cm_p \u001b[38;5;241m==\u001b[39m \u001b[38;5;241m0.0\u001b[39m\n",
      "\u001b[1;31mNameError\u001b[0m: name 'confusion_matrix' is not defined"
     ]
    }
   ],
   "source": [
    "\n",
    "\n",
    "cm=confusion_matrix(y_test,y_pred)\n",
    "cm_p=(cm / len(y_test)) * 100\n",
    "\n",
    "\n",
    "mask = cm_p == 0.0\n",
    "\n",
    "plt.figure(figsize=(10,8))\n",
    "\n",
    "# sns.heatmap(cm, annot=True, fmt=\".0f\", cmap='Blues',\n",
    "#             xticklabels=labels, yticklabels=labels, mask=mask,\n",
    "#             )\n",
    "\n",
    "sns.heatmap(cm_p, annot=True, fmt=\".1f\", cmap='Blues',\n",
    "            xticklabels=labels, yticklabels=labels, mask=mask,\n",
    "            )\n",
    "\n",
    "plt.xlabel(\"True\",  fontdict=dict(size = 20, weight ='bold'))\n",
    "plt.ylabel(\"Predicted\",  fontdict=dict(size = 20, weight ='bold'))\n",
    "plt.title('Confusion Matrix of LCZ Trainning Areas on Sentinel-2', fontdict=dict(size = 20, weight ='bold'))"
   ]
  },
  {
   "cell_type": "code",
   "execution_count": 21,
   "id": "be45b3b0",
   "metadata": {},
   "outputs": [
    {
     "name": "stdout",
     "output_type": "stream",
     "text": [
      "Elapsed time to compute the importances: 0.126 seconds\n"
     ]
    },
    {
     "name": "stderr",
     "output_type": "stream",
     "text": [
      "C:\\Users\\medo_\\AppData\\Local\\Temp\\ipykernel_5716\\3739996771.py:19: MatplotlibDeprecationWarning: The get_cmap function was deprecated in Matplotlib 3.7 and will be removed in 3.11. Use ``matplotlib.colormaps[name]`` or ``matplotlib.colormaps.get_cmap()`` or ``pyplot.get_cmap()`` instead.\n",
      "  cmap = cm.get_cmap('RdYlGn')\n"
     ]
    },
    {
     "data": {
      "image/png": "[encoded data removed]",
      "text/plain": [
       "<Figure size 640x480 with 1 Axes>"
      ]
     },
     "metadata": {},
     "output_type": "display_data"
    }
   ],
   "source": [
    "import pandas as pd\n",
    "\n",
    "import time\n",
    "\n",
    "import numpy as np\n",
    "import matplotlib.cm as cm\n",
    "import matplotlib.colors as colors\n",
    "\n",
    "start_time = time.time()\n",
    "importances = cl.feature_importances_\n",
    "std = np.std([tree.feature_importances_ for tree in cl.estimators_], axis=0)\n",
    "elapsed_time = time.time() - start_time\n",
    "\n",
    "print(f\"Elapsed time to compute the importances: {elapsed_time:.3f} seconds\")\n",
    "\n",
    "rf_i = pd.Series(cl.feature_importances_, index=features).sort_values()\n",
    "\n",
    "# Choose a colormap (e.g., 'viridis', 'plasma', 'coolwarm', etc.)\n",
    "cmap = cm.get_cmap('RdYlGn')\n",
    "\n",
    "# Normalize the series to the range 0-1\n",
    "norm = colors.Normalize(vmin=rf_i.min(), vmax=rf_i.max())\n",
    "\n",
    "# Map each value to a color\n",
    "rgba_colors = [cmap(norm(val)) for val in rf_i]\n",
    "hex_colors = [colors.to_hex(c) for c in rgba_colors]\n",
    "\n",
    "\n",
    "\n",
    "fig, ax = plt.subplots()\n",
    "rf_i.plot.barh(ax=ax, color=hex_colors)\n",
    "ax.set_title(\"Feature importances using MDI\")\n",
    "ax.set_xlabel(\"Mean decrease in impurity\")\n",
    "fig.tight_layout()"
   ]
  }
 ],
 "metadata": {
  "kernelspec": {
   "display_name": "lcz_classification",
   "language": "python",
   "name": "python3"
  },
  "language_info": {
   "codemirror_mode": {
    "name": "ipython",
    "version": 3
   },
   "file_extension": ".py",
   "mimetype": "text/x-python",
   "name": "python",
   "nbconvert_exporter": "python",
   "pygments_lexer": "ipython3",
   "version": "3.11.11"
  }
 },
 "nbformat": 4,
 "nbformat_minor": 5
}
