{
 "cells": [
  {
   "cell_type": "code",
   "execution_count": 3,
   "id": "8f296a31",
   "metadata": {},
   "outputs": [
    {
     "name": "stdout",
     "output_type": "stream",
     "text": [
      "- Parent directory for Toronto already exists, retrievine folder paths...\n",
      "- Folder paths for Toronto retrieved.\n"
     ]
    }
   ],
   "source": [
    "from lcz_classification.util import *\n",
    "from lcz_classification.config import *\n",
    "import numpy as np\n",
    "import rasterio as r\n",
    "from lcz_classification.plots import plot_pixel_counts"
   ]
  },
  {
   "cell_type": "code",
   "execution_count": 6,
   "id": "4aaac54e",
   "metadata": {},
   "outputs": [],
   "source": [
    "## Area of LCZ Classes\n"
   ]
  },
  {
   "cell_type": "code",
   "execution_count": null,
   "id": "2cf23167",
   "metadata": {},
   "outputs": [
    {
     "data": {
      "text/plain": [
       "array([ 1112.04, 11567.25,  3169.26, 45422.82, 22556.88, 10515.06,\n",
       "        9408.06,  3546.18, 19236.33,  2442.33,  1262.61, 35716.05])"
      ]
     },
     "execution_count": 26,
     "metadata": {},
     "output_type": "execute_result"
    }
   ],
   "source": [
    "classified_fp=f'../data/toronto/processed/classification/classified_{CELL_RESOLUTION}m_clip.tif'\n",
    "\n",
    "lczs=r.open(classified_fp)\n",
    "lcz_vals=lczs.read()\n",
    "\n",
    "classes, counts=np.unique(lcz_vals, return_counts=True)\n",
    "lcz_classes=classes[~(classes == -32767)]\n",
    "counts=counts[~(classes == -32767)]\n",
    "areas_m2=counts * CELL_RESOLUTION**2\n",
    "areas_km2 = areas_m2 / 10000\n"
   ]
  }
 ],
 "metadata": {
  "kernelspec": {
   "display_name": "lcz_classification",
   "language": "python",
   "name": "python3"
  },
  "language_info": {
   "codemirror_mode": {
    "name": "ipython",
    "version": 3
   },
   "file_extension": ".py",
   "mimetype": "text/x-python",
   "name": "python",
   "nbconvert_exporter": "python",
   "pygments_lexer": "ipython3",
   "version": "3.11.11"
  }
 },
 "nbformat": 4,
 "nbformat_minor": 5
}
