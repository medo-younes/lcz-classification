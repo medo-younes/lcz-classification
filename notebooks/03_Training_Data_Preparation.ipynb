{
 "cells": [
  {
   "cell_type": "markdown",
   "id": "af46be4a",
   "metadata": {},
   "source": [
    "# **Training Data Processing**\n",
    "\n",
    "1. Project Setup\n",
    "2. Prepare UCP Data\n",
    "3. Rasterize UCP Data\n",
    "4. Rasterize LCZ Data"
   ]
  },
  {
   "cell_type": "markdown",
   "id": "0d5a655e",
   "metadata": {},
   "source": [
    "# **1. Project Setup**"
   ]
  },
  {
   "cell_type": "markdown",
   "id": "d930e7dd",
   "metadata": {},
   "source": [
    "### 1.1. Import Libraries"
   ]
  },
  {
   "cell_type": "code",
   "execution_count": 1,
   "id": "f1da8abe",
   "metadata": {},
   "outputs": [],
   "source": [
    "%load_ext autoreload\n",
    "%autoreload \n",
    "\n",
    "import sys\n",
    "import os\n",
    "\n",
    "# Add the module's parent directory to sys.path\n",
    "module_path = os.path.abspath(os.path.join('..'))\n",
    "if module_path not in sys.path:\n",
    "    sys.path.append(module_path)\n",
    "\n",
    "from lcz_classification.config import * \n",
    "from lcz_classification.util import merge_rasters, resample_da, read_lcz_legend, rasterize_vector, generate_raster\n",
    "from rioxarray.merge import merge_arrays\n",
    "import rioxarray as rio\n",
    "import pandas as pd\n",
    "import rasterio as r\n",
    "from shapely.geometry import box\n",
    "import geopandas as gpd\n",
    "import xarray as xr\n",
    "from rasterio.enums import Resampling"
   ]
  },
  {
   "cell_type": "markdown",
   "id": "90bf211e",
   "metadata": {},
   "source": [
    "### 1.2. Setup Paths"
   ]
  },
  {
   "cell_type": "code",
   "execution_count": 3,
   "id": "e46a7030",
   "metadata": {},
   "outputs": [],
   "source": [
    "## WORFLOW PARAMETERS\n",
    "\n",
    "## USER INPUT ##\n",
    "# ===============================================================================================================================================================\n",
    "# CELL_RESOLUTION = 30 # desired resolution in meters\n",
    "\n",
    "S2_FILE_PATH=f\"../data/processed/sentinel2/resampled/s2_20210714_{CELL_RESOLUTION}m.tif\"\n",
    "\n",
    "\n",
    "## PROJECT CONFIGURATION ##\n",
    "# ===============================================================================================================================================================\n",
    "\n",
    "# Establish Study Area bounds\n",
    "\n",
    "STUDY_AREA_GDF=gpd.read_file(STUDY_AREA_FP)\n",
    "STUDY_AREA_GDF=STUDY_AREA_GDF.to_crs(STUDY_AREA_GDF.estimate_utm_crs())\n",
    "\n",
    "# Create Bounding Box Polygon\n",
    "BBOX=box(*list(STUDY_AREA_GDF.total_bounds))\n",
    "BBOX= BBOX.buffer(15, join_style=2) # Create 15 meter buffer for bounding box\n",
    "\n",
    "# Retrieve CRS Based on bounds of study area\n",
    "CRS=STUDY_AREA_GDF.estimate_utm_crs() # NAD83 / UTM zone 9N\n",
    "\n",
    "LCZ_LEGEND, COLOR_DICT=read_lcz_legend(LCZ_LEGEND_FP)\n"
   ]
  },
  {
   "cell_type": "markdown",
   "id": "24a54c95",
   "metadata": {},
   "source": [
    "### 1.3. Setup Reference Raster"
   ]
  },
  {
   "cell_type": "code",
   "execution_count": null,
   "id": "e297bd92",
   "metadata": {},
   "outputs": [],
   "source": [
    "s2=rio.open_rasterio(S2_FILE_PATH)\n",
    "s2_ref=s2.isel(band=0)"
   ]
  },
  {
   "cell_type": "markdown",
   "id": "fe8490b6",
   "metadata": {},
   "source": [
    "# **2. Urban Canopy Layer Processing**"
   ]
  },
  {
   "cell_type": "markdown",
   "id": "8d516d4b",
   "metadata": {},
   "source": [
    "## 2.1. Sky View Factor"
   ]
  },
  {
   "cell_type": "markdown",
   "id": "c1ac0745",
   "metadata": {},
   "source": [
    "#### 2.1.1. Merge  DSM Layers "
   ]
  },
  {
   "cell_type": "code",
   "execution_count": null,
   "id": "c9605953",
   "metadata": {},
   "outputs": [],
   "source": [
    "dsm_files= [f\"{DSM_DIR}/{tif}\" for tif in os.listdir(DSM_DIR) if \".tif\" in tif] # prepare file paths of DSM tiles\n",
    "\n",
    "# Cke\n",
    "for dsm_file in dsm_files:\n",
    "    dsm=rio.open_rasterio(dsm_file)\n",
    "    dsm=dsm.where(dsm> 0, drop=True).fillna(0)\n",
    "    dsm.rio.to_raster(f'{PROCESSED_DIR}/dsm/{dsm_file.split(\"/\")[-1]}')\n",
    "\n",
    "dsm_files= [f\"{f'{PROCESSED_DIR}/dsm'}/{tif}\" for tif in os.listdir(f'{PROCESSED_DIR}/dsm') if \".tif\" in tif] # prepare file paths of DSM tiles\n",
    "\n",
    "out_path=f\"{PROCESSED_DIR}/dsm/alos_dsm_{CELL_RESOLUTION}m.tif\" \n",
    "if out_path in dsm_files:\n",
    "    dsm_files.remove(out_path)\n",
    "\n",
    "merge_rasters(raster_paths=dsm_files,\n",
    "                        out_path=out_path\n",
    "                        ) # merge into a single raster using merge_arrays()"
   ]
  },
  {
   "cell_type": "markdown",
   "id": "737d550a",
   "metadata": {},
   "source": [
    "#### 2.1.2. Compute Sky View Factor\n",
    "\n",
    "Run ../lcz_classification/svf_qgis.py in QGIS v3.28 Python Console"
   ]
  },
  {
   "cell_type": "markdown",
   "id": "60a4a61f",
   "metadata": {},
   "source": [
    "#### 2.1.3. Reproject Match to S2 Data [DELETE?]"
   ]
  },
  {
   "cell_type": "code",
   "execution_count": null,
   "id": "e6b92c5f",
   "metadata": {},
   "outputs": [],
   "source": [
    "# ref=rio.open_rasterio(BH_FP)\n",
    "svf=rio.open_rasterio('../data/processed/svf/svf_30m_aligned.tif')\n",
    "attrs=svf.attrs\n",
    "\n",
    "svf = (svf - svf.min()) / (svf.max() - svf.min())\n",
    "# svf.values[~mask] = 0.0\n",
    "# svf.attrs=attrs\n",
    "\n",
    "svf.rio.to_raster(SF_FP)\n",
    "\n",
    "svf.close()"
   ]
  },
  {
   "cell_type": "markdown",
   "id": "2fc88c85",
   "metadata": {},
   "source": [
    "## 2.2. Impervious Surface Fraction"
   ]
  },
  {
   "cell_type": "code",
   "execution_count": null,
   "id": "c7501bbb",
   "metadata": {},
   "outputs": [],
   "source": [
    "isf_fp=\"../data/external/impervious_area/GISD30_1985_2020_b1.tif\"\n",
    "\n",
    "isf=rio.open_rasterio(isf_fp)\n",
    "\n",
    "isf = isf.rio.reproject(dst_crs=CRS)\n",
    "isf=resample_da(isf,CELL_RESOLUTION,Resampling.average)\n",
    "isf=isf.rio.reproject_match(s2_ref)\n",
    "isf.rio.to_raster(f\"../data/processed/training_data/impervious_surface_fraction_{CELL_RESOLUTION}m.tif\")\n",
    "isf.close()"
   ]
  },
  {
   "cell_type": "markdown",
   "id": "7844009c",
   "metadata": {},
   "source": [
    "## 2.3. Tree Canopy Height"
   ]
  },
  {
   "cell_type": "code",
   "execution_count": null,
   "id": "812fe590",
   "metadata": {},
   "outputs": [],
   "source": [
    "from lcz_classification.util import resample_da\n",
    "\n",
    "ch_files= [f\"{CH_DIR}/{tif}\" for tif in os.listdir(CH_DIR) if \".tif\" in tif] # prepare file paths of DSM tiles\n",
    "\n",
    "out_path=\"../data/processed/canopy_height/canopy_height.tif\" \n",
    "ch_merged=merge_rasters(raster_paths=ch_files,\n",
    "                        out_path=out_path\n",
    "                        ) # merge into a single raster using merge_arrays()\n",
    "\n",
    "ch_merged"
   ]
  },
  {
   "cell_type": "code",
   "execution_count": null,
   "id": "35681a37",
   "metadata": {},
   "outputs": [],
   "source": [
    "fp=\"../data/processed/canopy_height/canopy_height.tif\"\n",
    "out_path=f\"../data/processed/training_data/canopy_height_{CELL_RESOLUTION}m.tif\"\n",
    "\n",
    "\n",
    "ch=rio.open_rasterio(fp)\n",
    "ch=ch.where(ch < 255)\n",
    "ch_resampled=ch.rio.reproject_match(s2_ref, resampling=Resampling.average)\n",
    "ch_resampled.rio.to_raster(out_path)\n",
    "\n",
    "ch.close()\n",
    "ch_resampled.close()\n"
   ]
  },
  {
   "cell_type": "markdown",
   "id": "994ebf30",
   "metadata": {},
   "source": [
    "## 2.4. Building Height"
   ]
  },
  {
   "cell_type": "markdown",
   "id": "7edcb879",
   "metadata": {},
   "source": [
    "#### 2.2.1. Combine Vancouver Building Layers into Single GeoParquet File"
   ]
  },
  {
   "cell_type": "code",
   "execution_count": null,
   "id": "72c15a3a",
   "metadata": {},
   "outputs": [],
   "source": [
    "fp=\"../data/processed/building_height/building_heights.parquet\"\n",
    "out_path=f\"../data/processed/building_height/building_height_5m.tif\""
   ]
  },
  {
   "cell_type": "code",
   "execution_count": null,
   "id": "df219c32",
   "metadata": {},
   "outputs": [],
   "source": [
    "BH_FILES=[f\"{BH_DIR}/{gdb}/{gdb.replace('Autobuilding_BC_','').replace('_fgdb','.gdb')}\" for gdb in os.listdir(BH_DIR)]\n",
    "filter_out_yr='2016'\n",
    "BBOX=box(*list(STUDY_AREA_GDF.to_crs(4617).total_bounds))\n",
    "BBOX= BBOX.buffer(15, join_style=2) # Create 15 meter buffer for bounding box\n",
    "\n",
    "bh_gdf_list=[gpd.read_file(file, bbox=BBOX) for file in BH_FILES]\n",
    "\n",
    "bh_gdf_list=[gdf.to_crs(4617) for gdf in bh_gdf_list]\n",
    "bh_gdf=pd.concat(bh_gdf_list).reset_index(drop=True)\n",
    "\n",
    "\n",
    "\n",
    "bh_gdf=bh_gdf[bh_gdf.datemax.str.contains(filter_out_yr)]\n",
    "bh_gdf.to_parquet(fp)\n"
   ]
  },
  {
   "cell_type": "markdown",
   "id": "660e4bd2",
   "metadata": {},
   "source": [
    "#### 2.2.2. Rasterize Building Height Data"
   ]
  },
  {
   "cell_type": "code",
   "execution_count": null,
   "id": "8b97379c",
   "metadata": {},
   "outputs": [
    {
     "name": "stdout",
     "output_type": "stream",
     "text": [
      "READING\n"
     ]
    }
   ],
   "source": [
    "\n",
    "if os.path.exists(out_path):\n",
    "    print(\"READING\")\n",
    "    bh=rio.open_rasterio(out_path)\n",
    "else:\n",
    "    bh_gdf=gpd.read_parquet(fp)\n",
    "    print(\"Generating 5m raster\")\n",
    "    ref = generate_raster(STUDY_AREA_GDF.total_bounds, crs=CRS, resolution=5)\n",
    "    # Rasterize building heights\n",
    "    rasterize_vector(gdf=bh_gdf,\n",
    "                    ref=ref,\n",
    "                    attribute=\"heightmax\",\n",
    "                    crs=CRS,\n",
    "                    out_path=out_path\n",
    "                )\n",
    "    \n",
    "    bh=rio.open_rasterio(out_path)\n",
    "\n",
    "\n",
    "bh_resampled=bh.rio.reproject_match(s2_ref, resampling=Resampling.average)\n",
    "bh_resampled.rio.to_raster(f\"../data/processed/training_data/building_height_{CELL_RESOLUTION}m.tif\")\n",
    "\n",
    "bh.close()\n",
    "bh_resampled.close()"
   ]
  },
  {
   "cell_type": "markdown",
   "id": "66663197",
   "metadata": {},
   "source": [
    "## 2.5. Building Surface Fraction"
   ]
  },
  {
   "cell_type": "code",
   "execution_count": 8,
   "id": "17bcbce2",
   "metadata": {},
   "outputs": [],
   "source": [
    "fp=f\"../data/processed/building_height/building_height_5m.tif\"\n",
    "bh=rio.open_rasterio(fp)\n",
    "\n",
    "arr=bh.values\n",
    "mask=~bh.where(bh > 0).isnull().values\n",
    "\n",
    "arr[mask] = 1\n",
    "arr[~mask] = 0\n",
    "\n",
    "bh.values=arr\n",
    "bsf=bh.rio.reproject_match(s2_ref, resampling=Resampling.average)\n",
    "bsf.rio.to_raster(f\"../data/processed/training_data/building_surface_fraction_{CELL_RESOLUTION}m.tif\")\n",
    "\n",
    "bh.close()\n",
    "bsf.close()"
   ]
  },
  {
   "cell_type": "markdown",
   "id": "8f3e0765",
   "metadata": {},
   "source": [
    "## 3. Rasterize Local Climate Zone (LCZ) Training Areas"
   ]
  },
  {
   "cell_type": "code",
   "execution_count": null,
   "id": "e05164a4",
   "metadata": {},
   "outputs": [],
   "source": [
    "lcz_gdf=gpd.read_file(LCZ_TRAINING_FP)\n",
    "\n",
    "lcz_gdf=lcz_gdf.dropna(subset='geometry').reset_index(drop=True)\n",
    "\n",
    "\n",
    "lcz_gdf[\"Class ID\"] = lcz_gdf.Class.apply(lambda cl: LCZ_LEGEND.set_index(\"class\").loc[cl][\"class_id\"])\n",
    "lcz_gdf[\"Name\"] = lcz_gdf.Class.apply(lambda cl: LCZ_LEGEND.set_index(\"class\").loc[cl][\"name\"])\n",
    "\n",
    "colors=lcz_gdf.Class.apply(lambda cl: LCZ_LEGEND.set_index(\"class\").loc[cl].hex)\n",
    "\n",
    "m = lcz_gdf.explore(color=COLOR_DICT, \n",
    "                column=\"Name\", \n",
    "                legend=True, \n",
    "                tiles='https://server.arcgisonline.com/ArcGIS/rest/services/World_Imagery/MapServer/tile/{z}/{y}/{x}',\n",
    "                attr='Esri World Imagery'\n",
    "                )\n",
    "\n",
    "STUDY_AREA_GDF.explore(style={\n",
    "                \"fill\": False,\n",
    "                \"color\": \"red\"\n",
    "                },\n",
    "                m=m\n",
    ")\n",
    "m\n",
    "\n"
   ]
  },
  {
   "cell_type": "code",
   "execution_count": 11,
   "id": "972c2883",
   "metadata": {},
   "outputs": [],
   "source": [
    "lcz_version=LCZ_TRAINING_FP.split(\"/\")[-1].split(\".\")[0]\n",
    "rasterize_vector(gdf=lcz_gdf,\n",
    "                 ref=s2_ref,\n",
    "                 attribute=\"Class\",\n",
    "                 crs=CRS,\n",
    "                 out_path=f\"../data/processed/training_data/{lcz_version}_{CELL_RESOLUTION}m.tif\",\n",
    "                 )\n"
   ]
  }
 ],
 "metadata": {
  "kernelspec": {
   "display_name": "lcz_classification",
   "language": "python",
   "name": "python3"
  },
  "language_info": {
   "codemirror_mode": {
    "name": "ipython",
    "version": 3
   },
   "file_extension": ".py",
   "mimetype": "text/x-python",
   "name": "python",
   "nbconvert_exporter": "python",
   "pygments_lexer": "ipython3",
   "version": "3.11.11"
  }
 },
 "nbformat": 4,
 "nbformat_minor": 5
}
